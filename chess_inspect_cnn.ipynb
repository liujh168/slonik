{
 "cells": [
  {
   "cell_type": "code",
   "execution_count": 6,
   "metadata": {},
   "outputs": [],
   "source": [
    "import cnnfeat\n",
    "from cnnfeat import cnn_model, get_feats, cnn_encoder, cnn_decoder\n",
    "from keras.models import Model\n",
    "from keras.optimizers import Adam\n",
    "import pandas as pd\n",
    "import numpy as np\n",
    "from position import Position\n",
    "import matplotlib.pyplot as plt\n",
    "%matplotlib inline"
   ]
  },
  {
   "cell_type": "code",
   "execution_count": 2,
   "metadata": {
    "collapsed": true
   },
   "outputs": [],
   "source": [
    "def plot_multi(im, dim=(4,4), figsize=(6,6), **kwargs ):\n",
    "    plt.figure(figsize=figsize)\n",
    "    for i,img in enumerate(im):\n",
    "        plt.subplot(*((dim)+(i+1,)))\n",
    "        plt.imshow(img, **kwargs)\n",
    "        plt.axis('off')\n",
    "    plt.tight_layout()"
   ]
  },
  {
   "cell_type": "code",
   "execution_count": 9,
   "metadata": {},
   "outputs": [],
   "source": [
    "net_input, net_output = cnn_model()\n",
    "model = Model(net_input, net_output)\n",
    "# model.summary()\n",
    "model.compile(optimizer=Adam(1e-3), loss='mse')\n",
    "model.load_weights('../slonik_data/cnn_weights_epoch3.h5')"
   ]
  },
  {
   "cell_type": "code",
   "execution_count": 10,
   "metadata": {},
   "outputs": [
    {
     "name": "stdout",
     "output_type": "stream",
     "text": [
      "_________________________________________________________________\n",
      "Layer (type)                 Output Shape              Param #   \n",
      "=================================================================\n",
      "input_3 (InputLayer)         (None, 8, 8, 14)          0         \n",
      "_________________________________________________________________\n",
      "conv2d_37 (Conv2D)           (None, 8, 8, 192)         24384     \n",
      "_________________________________________________________________\n",
      "batch_normalization_39 (Batc (None, 8, 8, 192)         768       \n",
      "_________________________________________________________________\n",
      "activation_43 (Activation)   (None, 8, 8, 192)         0         \n",
      "_________________________________________________________________\n",
      "conv2d_38 (Conv2D)           (None, 8, 8, 192)         331968    \n",
      "_________________________________________________________________\n",
      "batch_normalization_40 (Batc (None, 8, 8, 192)         768       \n",
      "_________________________________________________________________\n",
      "activation_44 (Activation)   (None, 8, 8, 192)         0         \n",
      "_________________________________________________________________\n",
      "conv2d_39 (Conv2D)           (None, 8, 8, 192)         331968    \n",
      "_________________________________________________________________\n",
      "batch_normalization_41 (Batc (None, 8, 8, 192)         768       \n",
      "_________________________________________________________________\n",
      "add_17 (Add)                 (None, 8, 8, 192)         0         \n",
      "_________________________________________________________________\n",
      "activation_45 (Activation)   (None, 8, 8, 192)         0         \n",
      "_________________________________________________________________\n",
      "conv2d_40 (Conv2D)           (None, 8, 8, 192)         331968    \n",
      "_________________________________________________________________\n",
      "batch_normalization_42 (Batc (None, 8, 8, 192)         768       \n",
      "_________________________________________________________________\n",
      "activation_46 (Activation)   (None, 8, 8, 192)         0         \n",
      "_________________________________________________________________\n",
      "conv2d_41 (Conv2D)           (None, 8, 8, 192)         331968    \n",
      "_________________________________________________________________\n",
      "batch_normalization_43 (Batc (None, 8, 8, 192)         768       \n",
      "_________________________________________________________________\n",
      "add_18 (Add)                 (None, 8, 8, 192)         0         \n",
      "_________________________________________________________________\n",
      "activation_47 (Activation)   (None, 8, 8, 192)         0         \n",
      "_________________________________________________________________\n",
      "conv2d_42 (Conv2D)           (None, 8, 8, 192)         331968    \n",
      "_________________________________________________________________\n",
      "batch_normalization_44 (Batc (None, 8, 8, 192)         768       \n",
      "_________________________________________________________________\n",
      "activation_48 (Activation)   (None, 8, 8, 192)         0         \n",
      "_________________________________________________________________\n",
      "conv2d_43 (Conv2D)           (None, 8, 8, 192)         331968    \n",
      "_________________________________________________________________\n",
      "batch_normalization_45 (Batc (None, 8, 8, 192)         768       \n",
      "_________________________________________________________________\n",
      "add_19 (Add)                 (None, 8, 8, 192)         0         \n",
      "_________________________________________________________________\n",
      "activation_49 (Activation)   (None, 8, 8, 192)         0         \n",
      "_________________________________________________________________\n",
      "conv2d_44 (Conv2D)           (None, 8, 8, 192)         331968    \n",
      "_________________________________________________________________\n",
      "batch_normalization_46 (Batc (None, 8, 8, 192)         768       \n",
      "_________________________________________________________________\n",
      "activation_50 (Activation)   (None, 8, 8, 192)         0         \n",
      "_________________________________________________________________\n",
      "conv2d_45 (Conv2D)           (None, 8, 8, 192)         331968    \n",
      "_________________________________________________________________\n",
      "batch_normalization_47 (Batc (None, 8, 8, 192)         768       \n",
      "_________________________________________________________________\n",
      "add_20 (Add)                 (None, 8, 8, 192)         0         \n",
      "_________________________________________________________________\n",
      "activation_51 (Activation)   (None, 8, 8, 192)         0         \n",
      "_________________________________________________________________\n",
      "conv2d_46 (Conv2D)           (None, 8, 8, 192)         331968    \n",
      "_________________________________________________________________\n",
      "batch_normalization_48 (Batc (None, 8, 8, 192)         768       \n",
      "_________________________________________________________________\n",
      "activation_52 (Activation)   (None, 8, 8, 192)         0         \n",
      "_________________________________________________________________\n",
      "conv2d_47 (Conv2D)           (None, 8, 8, 192)         331968    \n",
      "_________________________________________________________________\n",
      "batch_normalization_49 (Batc (None, 8, 8, 192)         768       \n",
      "_________________________________________________________________\n",
      "add_21 (Add)                 (None, 8, 8, 192)         0         \n",
      "_________________________________________________________________\n",
      "activation_53 (Activation)   (None, 8, 8, 192)         0         \n",
      "_________________________________________________________________\n",
      "conv2d_48 (Conv2D)           (None, 8, 8, 192)         331968    \n",
      "_________________________________________________________________\n",
      "batch_normalization_50 (Batc (None, 8, 8, 192)         768       \n",
      "_________________________________________________________________\n",
      "activation_54 (Activation)   (None, 8, 8, 192)         0         \n",
      "_________________________________________________________________\n",
      "conv2d_49 (Conv2D)           (None, 8, 8, 192)         331968    \n",
      "_________________________________________________________________\n",
      "batch_normalization_51 (Batc (None, 8, 8, 192)         768       \n",
      "_________________________________________________________________\n",
      "add_22 (Add)                 (None, 8, 8, 192)         0         \n",
      "_________________________________________________________________\n",
      "activation_55 (Activation)   (None, 8, 8, 192)         0         \n",
      "_________________________________________________________________\n",
      "conv2d_50 (Conv2D)           (None, 8, 8, 192)         331968    \n",
      "_________________________________________________________________\n",
      "batch_normalization_52 (Batc (None, 8, 8, 192)         768       \n",
      "_________________________________________________________________\n",
      "activation_56 (Activation)   (None, 8, 8, 192)         0         \n",
      "_________________________________________________________________\n",
      "conv2d_51 (Conv2D)           (None, 8, 8, 192)         331968    \n",
      "_________________________________________________________________\n",
      "batch_normalization_53 (Batc (None, 8, 8, 192)         768       \n",
      "_________________________________________________________________\n",
      "add_23 (Add)                 (None, 8, 8, 192)         0         \n",
      "_________________________________________________________________\n",
      "activation_57 (Activation)   (None, 8, 8, 192)         0         \n",
      "_________________________________________________________________\n",
      "conv2d_52 (Conv2D)           (None, 8, 8, 192)         331968    \n",
      "_________________________________________________________________\n",
      "batch_normalization_54 (Batc (None, 8, 8, 192)         768       \n",
      "_________________________________________________________________\n",
      "activation_58 (Activation)   (None, 8, 8, 192)         0         \n",
      "_________________________________________________________________\n",
      "conv2d_53 (Conv2D)           (None, 8, 8, 192)         331968    \n",
      "_________________________________________________________________\n",
      "batch_normalization_55 (Batc (None, 8, 8, 192)         768       \n",
      "_________________________________________________________________\n",
      "add_24 (Add)                 (None, 8, 8, 192)         0         \n",
      "_________________________________________________________________\n",
      "activation_59 (Activation)   (None, 8, 8, 192)         0         \n",
      "_________________________________________________________________\n",
      "conv2d_54 (Conv2D)           (None, 8, 8, 1)           193       \n",
      "_________________________________________________________________\n",
      "batch_normalization_56 (Batc (None, 8, 8, 1)           4         \n",
      "_________________________________________________________________\n",
      "activation_60 (Activation)   (None, 8, 8, 1)           0         \n",
      "_________________________________________________________________\n",
      "batch_normalization_57 (Batc (None, 8, 8, 1)           4         \n",
      "_________________________________________________________________\n",
      "activation_61 (Activation)   (None, 8, 8, 1)           0         \n",
      "_________________________________________________________________\n",
      "flatten_3 (Flatten)          (None, 64)                0         \n",
      "_________________________________________________________________\n",
      "dense_5 (Dense)              (None, 256)               16640     \n",
      "_________________________________________________________________\n",
      "activation_62 (Activation)   (None, 256)               0         \n",
      "_________________________________________________________________\n",
      "dense_6 (Dense)              (None, 1)                 257       \n",
      "_________________________________________________________________\n",
      "activation_63 (Activation)   (None, 1)                 0         \n",
      "=================================================================\n",
      "Total params: 5,366,026.0\n",
      "Trainable params: 5,359,494.0\n",
      "Non-trainable params: 6,532.0\n",
      "_________________________________________________________________\n"
     ]
    }
   ],
   "source": [
    "model.summary()"
   ]
  },
  {
   "cell_type": "code",
   "execution_count": 70,
   "metadata": {},
   "outputs": [],
   "source": [
    "emb_layer = model.get_layer('activation_61')\n",
    "encoder = Model(net_input, emb_layer.get_output_at(0))"
   ]
  },
  {
   "cell_type": "code",
   "execution_count": 60,
   "metadata": {},
   "outputs": [],
   "source": [
    "file_name = '../slonik_data/sf_scores.pkl'\n",
    "sf_scores = pd.read_pickle(file_name)"
   ]
  },
  {
   "cell_type": "code",
   "execution_count": 61,
   "metadata": {},
   "outputs": [],
   "source": [
    "fens = sf_scores.fen.iloc[8:16]"
   ]
  },
  {
   "cell_type": "code",
   "execution_count": 62,
   "metadata": {},
   "outputs": [],
   "source": [
    "ps = [Position.from_fen(fen) for fen in fens]"
   ]
  },
  {
   "cell_type": "code",
   "execution_count": 63,
   "metadata": {},
   "outputs": [
    {
     "name": "stdout",
     "output_type": "stream",
     "text": [
      "B to move\n",
      " ·  ·  ·  ·  ·  ♗  ♜  ♚ \n",
      " ·  ·  ·  ♛  ·  ·  ·  · \n",
      " ·  ·  ·  ·  ·  ♟  ·  · \n",
      " ♟  ·  ·  ·  ♟  ♖  ·  · \n",
      " ·  ·  ·  ♝  ♕  ·  ♙  · \n",
      " ·  ♙  ·  ·  ·  ·  ·  ♙ \n",
      " ♙  ·  ·  ·  ·  ·  ♔  · \n",
      " ·  ·  ♖  ·  ·  ·  ·  · \n",
      "\n",
      "B to move\n",
      " ·  ·  ·  ♜  ·  ·  ·  ♜ \n",
      " ♟  ·  ·  ·  ·  ♚  ♟  · \n",
      " ♝  ·  ♟  ·  ♟  ·  ·  ♟ \n",
      " ·  ·  ·  ·  ·  ·  ·  · \n",
      " ·  ·  ·  ♙  ·  ·  ·  · \n",
      " ·  ·  ♙  ·  ♕  ·  ·  · \n",
      " ♙  ·  ·  ·  ·  ♙  ♙  ♙ \n",
      " ♖  ·  ·  ·  ·  ·  ♔  · \n",
      "\n",
      "B to move\n",
      " ·  ·  ·  ♛  ♜  ·  ♚  · \n",
      " ·  ♟  ·  ·  ♝  ♟  ♟  · \n",
      " ·  ·  ♟  ·  ♝  ♞  ·  ♟ \n",
      " ♜  ·  ·  ♞  ♘  ·  ·  · \n",
      " ♘  ·  ·  ♙  ·  ♙  ·  · \n",
      " ·  ♙  ·  ♕  ·  ·  ♙  · \n",
      " ♙  ♗  ·  ·  ·  ·  ♗  ♙ \n",
      " ·  ·  ♖  ·  ♖  ·  ♔  · \n",
      "\n",
      "B to move\n",
      " ♗  ·  ·  ♛  ♚  ·  ·  ♜ \n",
      " ♟  ·  ♟  ·  ♝  ♟  ·  · \n",
      " ·  ·  ·  ♟  ·  ♞  ·  ♟ \n",
      " ·  ♟  ·  ·  ♞  ♝  ·  · \n",
      " ·  ·  ·  ·  ♙  ·  ♟  · \n",
      " ·  ·  ♘  ·  ♗  ·  ·  · \n",
      " ♙  ♙  ♙  ·  ·  ♙  ♙  ♙ \n",
      " ♖  ·  ·  ♕  ♖  ·  ♔  · \n",
      "\n",
      "B to move\n",
      " ♜  ♞  ♝  ·  ·  ·  ·  ♜ \n",
      " ·  ·  ♚  ·  ·  ·  ·  ♟ \n",
      " ·  ♞  ♟  ·  ·  ♟  ♟  · \n",
      " ♟  ♟  ·  ·  ♟  ·  ·  · \n",
      " ·  ·  ·  ·  ♙  ·  ·  ♘ \n",
      " ♙  ·  ♘  ♖  ·  ♙  ♙  · \n",
      " ♗  ♙  ♙  ·  ·  ·  ·  ♙ \n",
      " ·  ·  ♔  ·  ·  ·  ·  · \n",
      "\n",
      "B to move\n",
      " ♜  ·  ·  ♛  ♚  ♝  ·  ♜ \n",
      " ♟  ♟  ·  ·  ♟  ♟  ♟  ♟ \n",
      " ·  ·  ♟  ·  ·  ♞  ·  · \n",
      " ·  ·  ·  ·  ·  ♝  ·  · \n",
      " ♙  ·  ·  ♙  ·  ♙  ·  · \n",
      " ·  ·  ♘  ·  ♗  ·  ·  · \n",
      " ·  ♙  ·  ·  ·  ·  ♙  ♙ \n",
      " ♖  ·  ·  ♕  ♔  ♗  ·  ♖ \n",
      "\n",
      "W to move\n",
      " ♜  ·  ♝  ·  ·  ·  ·  ♜ \n",
      " ♟  ·  ♛  ♟  ♞  ♟  ♚  · \n",
      " ·  ·  ♟  ·  ♟  ·  ·  ♟ \n",
      " ·  ·  ·  ·  ·  ·  ·  · \n",
      " ·  ·  ♟  ·  ♙  ·  ·  · \n",
      " ·  ·  ·  ♙  ·  ·  ·  · \n",
      " ♙  ♙  ♙  ·  ♕  ·  ♙  ♙ \n",
      " ♖  ♘  ♗  ·  ·  ♖  ♔  · \n",
      "\n",
      "B to move\n",
      " ·  ·  ·  ·  ·  ·  ·  · \n",
      " ·  ·  ·  ·  ·  ·  ♚  ♟ \n",
      " ·  ·  ·  ·  ·  ·  ♟  · \n",
      " ·  ·  ·  ♗  ·  ·  ·  · \n",
      " ·  ·  ♜  ·  ·  ·  ·  ♙ \n",
      " ·  ♟  ·  ·  ·  ·  ♙  · \n",
      " ·  ·  ·  ·  ·  ♙  ♔  · \n",
      " ·  ·  ·  ♖  ·  ·  ·  · \n",
      "\n"
     ]
    },
    {
     "data": {
      "text/plain": [
       "[None, None, None, None, None, None, None, None]"
      ]
     },
     "execution_count": 63,
     "metadata": {},
     "output_type": "execute_result"
    }
   ],
   "source": [
    "[print(p) for p in ps]"
   ]
  },
  {
   "cell_type": "code",
   "execution_count": 112,
   "metadata": {
    "scrolled": true
   },
   "outputs": [],
   "source": [
    "encodings = encoder.predict(np.stack([get_feats(p) for p in ps]))"
   ]
  },
  {
   "cell_type": "code",
   "execution_count": 113,
   "metadata": {},
   "outputs": [
    {
     "data": {
      "image/png": "[encoded data removed]",
      "text/plain": [
       "<matplotlib.figure.Figure at 0x7fba1f2c65f8>"
      ]
     },
     "metadata": {},
     "output_type": "display_data"
    }
   ],
   "source": [
    "plot_multi(encodings.squeeze(), dim=(2,4), figsize=(12,12))"
   ]
  },
  {
   "cell_type": "markdown",
   "metadata": {},
   "source": [
    "## printing predictions"
   ]
  },
  {
   "cell_type": "code",
   "execution_count": 158,
   "metadata": {
    "collapsed": true
   },
   "outputs": [],
   "source": [
    "from piece_type import PieceType as Pt\n",
    "from bb import PICTURE_PIECES\n",
    "def print_feats(feats):\n",
    "    planes_flat = np.transpose(feats, (2,0,1)).reshape(14,-1).tolist()\n",
    "    krights_plane, stm_plane, wp_plane, bp_plane, wn_plane, bn_plane, wb_plane, bb_plane, \\\n",
    "        wr_plane, br_plane, wq_plane, bq_plane, wk_plane, bk_plane = planes_flat\n",
    "        \n",
    "    ptmap = [-1, -1, Pt.P, Pt.BP, Pt.N, Pt.BN, Pt.B, Pt.BB, Pt.R, Pt.BR, Pt.Q, Pt.BQ, Pt.K, Pt.BK]\n",
    "    res = ''\n",
    "    for i in range(8):\n",
    "        res += '·' * 8 \n",
    "    res = list(res)\n",
    "    for i in range(14):\n",
    "        if i >= 2:\n",
    "            pt = ptmap[i]\n",
    "            for j in range(64):\n",
    "                if planes_flat[i][j] == 1:\n",
    "                    res[j] = PICTURE_PIECES[pt]\n",
    "    for i in range(1,8):\n",
    "        res[i*8-1] += '\\n' \n",
    "    print('  '+'  '.join(res))\n",
    "    print('{} to move'.format('W' if stm_plane[0] == 0 else 'B'))"
   ]
  },
  {
   "cell_type": "markdown",
   "metadata": {},
   "source": [
    "## autoencoder"
   ]
  },
  {
   "cell_type": "code",
   "execution_count": 39,
   "metadata": {
    "collapsed": true
   },
   "outputs": [],
   "source": [
    "import imp\n",
    "imp.reload(cnnfeat)\n",
    "from cnnfeat import cnn_decoder, cnn_encoder\n",
    "import keras"
   ]
  },
  {
   "cell_type": "code",
   "execution_count": 40,
   "metadata": {},
   "outputs": [],
   "source": [
    "enc_input, enc_output = cnn_encoder()\n",
    "encoder = Model(enc_input, enc_output)"
   ]
  },
  {
   "cell_type": "code",
   "execution_count": 41,
   "metadata": {},
   "outputs": [],
   "source": [
    "dec_input, dec_output = cnn_decoder()\n",
    "decoder = Model(dec_input, dec_output)"
   ]
  },
  {
   "cell_type": "code",
   "execution_count": 42,
   "metadata": {},
   "outputs": [
    {
     "name": "stdout",
     "output_type": "stream",
     "text": [
      "_________________________________________________________________\n",
      "Layer (type)                 Output Shape              Param #   \n",
      "=================================================================\n",
      "input_12 (InputLayer)        (None, 8, 8, 14)          0         \n",
      "_________________________________________________________________\n",
      "conv2d_43 (Conv2D)           (None, 8, 8, 64)          8128      \n",
      "_________________________________________________________________\n",
      "batch_normalization_43 (Batc (None, 8, 8, 64)          256       \n",
      "_________________________________________________________________\n",
      "activation_43 (Activation)   (None, 8, 8, 64)          0         \n",
      "_________________________________________________________________\n",
      "conv2d_44 (Conv2D)           (None, 8, 8, 64)          36928     \n",
      "_________________________________________________________________\n",
      "batch_normalization_44 (Batc (None, 8, 8, 64)          256       \n",
      "_________________________________________________________________\n",
      "activation_44 (Activation)   (None, 8, 8, 64)          0         \n",
      "_________________________________________________________________\n",
      "conv2d_45 (Conv2D)           (None, 8, 8, 64)          36928     \n",
      "_________________________________________________________________\n",
      "batch_normalization_45 (Batc (None, 8, 8, 64)          256       \n",
      "_________________________________________________________________\n",
      "add_13 (Add)                 (None, 8, 8, 64)          0         \n",
      "_________________________________________________________________\n",
      "activation_45 (Activation)   (None, 8, 8, 64)          0         \n",
      "_________________________________________________________________\n",
      "conv2d_46 (Conv2D)           (None, 4, 4, 2)           1154      \n",
      "_________________________________________________________________\n",
      "batch_normalization_46 (Batc (None, 4, 4, 2)           8         \n",
      "_________________________________________________________________\n",
      "activation_46 (Activation)   (None, 4, 4, 2)           0         \n",
      "=================================================================\n",
      "Total params: 83,914.0\n",
      "Trainable params: 83,526.0\n",
      "Non-trainable params: 388.0\n",
      "_________________________________________________________________\n"
     ]
    }
   ],
   "source": [
    "encoder.summary()"
   ]
  },
  {
   "cell_type": "code",
   "execution_count": 43,
   "metadata": {},
   "outputs": [
    {
     "name": "stdout",
     "output_type": "stream",
     "text": [
      "_________________________________________________________________\n",
      "Layer (type)                 Output Shape              Param #   \n",
      "=================================================================\n",
      "input_13 (InputLayer)        (None, 4, 4, 2)           0         \n",
      "_________________________________________________________________\n",
      "conv2d_47 (Conv2D)           (None, 4, 4, 14)          266       \n",
      "_________________________________________________________________\n",
      "batch_normalization_47 (Batc (None, 4, 4, 14)          56        \n",
      "_________________________________________________________________\n",
      "activation_47 (Activation)   (None, 4, 4, 14)          0         \n",
      "_________________________________________________________________\n",
      "up_sampling2d_5 (UpSampling2 (None, 8, 8, 14)          0         \n",
      "_________________________________________________________________\n",
      "conv2d_48 (Conv2D)           (None, 8, 8, 14)          1778      \n",
      "_________________________________________________________________\n",
      "batch_normalization_48 (Batc (None, 8, 8, 14)          56        \n",
      "_________________________________________________________________\n",
      "activation_48 (Activation)   (None, 8, 8, 14)          0         \n",
      "_________________________________________________________________\n",
      "conv2d_49 (Conv2D)           (None, 8, 8, 14)          1778      \n",
      "_________________________________________________________________\n",
      "batch_normalization_49 (Batc (None, 8, 8, 14)          56        \n",
      "_________________________________________________________________\n",
      "add_14 (Add)                 (None, 8, 8, 14)          0         \n",
      "_________________________________________________________________\n",
      "activation_49 (Activation)   (None, 8, 8, 14)          0         \n",
      "_________________________________________________________________\n",
      "conv2d_50 (Conv2D)           (None, 8, 8, 14)          1778      \n",
      "_________________________________________________________________\n",
      "batch_normalization_50 (Batc (None, 8, 8, 14)          56        \n",
      "_________________________________________________________________\n",
      "activation_50 (Activation)   (None, 8, 8, 14)          0         \n",
      "_________________________________________________________________\n",
      "conv2d_51 (Conv2D)           (None, 8, 8, 14)          1778      \n",
      "_________________________________________________________________\n",
      "batch_normalization_51 (Batc (None, 8, 8, 14)          56        \n",
      "_________________________________________________________________\n",
      "add_15 (Add)                 (None, 8, 8, 14)          0         \n",
      "_________________________________________________________________\n",
      "activation_51 (Activation)   (None, 8, 8, 14)          0         \n",
      "=================================================================\n",
      "Total params: 7,658.0\n",
      "Trainable params: 7,518.0\n",
      "Non-trainable params: 140.0\n",
      "_________________________________________________________________\n"
     ]
    }
   ],
   "source": [
    "decoder.summary()"
   ]
  },
  {
   "cell_type": "code",
   "execution_count": 44,
   "metadata": {
    "scrolled": true
   },
   "outputs": [],
   "source": [
    "autoencoder = keras.models.Sequential([encoder, decoder])"
   ]
  },
  {
   "cell_type": "code",
   "execution_count": 45,
   "metadata": {},
   "outputs": [
    {
     "name": "stdout",
     "output_type": "stream",
     "text": [
      "_________________________________________________________________\n",
      "Layer (type)                 Output Shape              Param #   \n",
      "=================================================================\n",
      "model_8 (Model)              (None, 4, 4, 2)           83914     \n",
      "_________________________________________________________________\n",
      "model_9 (Model)              (None, 8, 8, 14)          7658      \n",
      "=================================================================\n",
      "Total params: 91,572.0\n",
      "Trainable params: 91,044.0\n",
      "Non-trainable params: 528.0\n",
      "_________________________________________________________________\n"
     ]
    }
   ],
   "source": [
    "autoencoder.summary()"
   ]
  },
  {
   "cell_type": "code",
   "execution_count": 48,
   "metadata": {
    "collapsed": true
   },
   "outputs": [],
   "source": [
    "def train_data_supervised():\n",
    "    file_name = '../slonik_data/sf_scores.pkl'\n",
    "    sf_scores = pd.read_pickle(file_name)\n",
    "    valid_n = 6e4\n",
    "    train_n = int(len(sf_scores) - valid_n)\n",
    "    train_data = sf_scores[:train_n]\n",
    "    valid_data = sf_scores[train_n:]\n",
    "    return train_data, valid_data"
   ]
  },
  {
   "cell_type": "code",
   "execution_count": 46,
   "metadata": {
    "collapsed": true
   },
   "outputs": [],
   "source": [
    "def batch_generator(data, batch_size, shuffle=True):\n",
    "    while True:\n",
    "        data_ = data.sample(frac=1) if shuffle else data\n",
    "        for iteration, batch in data_.groupby(np.arange(len(data)) // batch_size):\n",
    "            fens = [f.strip() for f in batch.fen.tolist()]\n",
    "            feats = np.stack([get_feats(Position.from_fen(fen)) for fen in fens])\n",
    "            yield feats, feats"
   ]
  },
  {
   "cell_type": "code",
   "execution_count": 54,
   "metadata": {},
   "outputs": [
    {
     "name": "stdout",
     "output_type": "stream",
     "text": [
      "Epoch 1/1\n",
      "7366/7366 [==============================] - 656s - loss: 0.0206 - val_loss: 0.0099\n"
     ]
    },
    {
     "data": {
      "text/plain": [
       "<keras.callbacks.History at 0x7f8965422160>"
      ]
     },
     "execution_count": 54,
     "metadata": {},
     "output_type": "execute_result"
    }
   ],
   "source": [
    "from math import ceil\n",
    "train_data, valid_data = train_data_supervised()\n",
    "batch_size = 32\n",
    "\n",
    "train_gen = batch_generator(train_data, batch_size)\n",
    "valid_gen = batch_generator(valid_data, batch_size, shuffle=False)\n",
    "\n",
    "train_steps = ceil(len(train_data) / batch_size)\n",
    "valid_steps = ceil(len(valid_data) / batch_size)\n",
    "\n",
    "autoencoder.compile(optimizer=Adam(1e-3), loss='mse')\n",
    "autoencoder.fit_generator(train_gen, train_steps, epochs=1, \n",
    "                          validation_data=valid_gen, validation_steps=valid_steps)"
   ]
  },
  {
   "cell_type": "code",
   "execution_count": 55,
   "metadata": {
    "collapsed": true
   },
   "outputs": [],
   "source": [
    "autoencoder.save_weights('../slonik_data/autoencoder_v1.h5')"
   ]
  },
  {
   "cell_type": "code",
   "execution_count": null,
   "metadata": {
    "collapsed": true
   },
   "outputs": [],
   "source": [
    "autoencoder.load_weights('../slonik_data/autoencoder_v1.h5')"
   ]
  },
  {
   "cell_type": "code",
   "execution_count": 173,
   "metadata": {
    "collapsed": true
   },
   "outputs": [
    {
     "name": "stdout",
     "output_type": "stream",
     "text": [
      "  ·  ·  ·  ·  ·  ·  ·  ·\n",
      "  ·  ·  ·  ·  ·  ·  ·  ·\n",
      "  ·  ·  ·  ·  ·  ·  ·  ·\n",
      "  ·  ·  ·  ·  ·  ·  ·  ·\n",
      "  ·  ·  ·  ·  ·  ·  ·  ·\n",
      "  ·  ♙  ·  ·  ·  ·  ·  ♙\n",
      "  ♙  ·  ·  ·  ·  ·  ·  ·\n",
      "  ·  ·  ·  ·  ·  ·  ·  ·\n",
      "B to move\n",
      "  ·  ·  ·  ·  ·  ·  ·  ·\n",
      "  ♟  ·  ·  ·  ·  ·  ♟  ·\n",
      "  ·  ·  ·  ·  ·  ·  ·  ♟\n",
      "  ·  ·  ·  ♟  ·  ·  ·  ·\n",
      "  ·  ·  ·  ·  ·  ·  ·  ·\n",
      "  ·  ·  ♙  ·  ·  ·  ·  ·\n",
      "  ♙  ·  ·  ·  ·  ♙  ♙  ♙\n",
      "  ♖  ·  ·  ·  ·  ·  ♔  ·\n",
      "B to move\n",
      "  ·  ·  ·  ·  ·  ·  ♚  ·\n",
      "  ·  ♟  ·  ·  ·  ♟  ♟  ·\n",
      "  ·  ·  ·  ·  ·  ·  ·  ♟\n",
      "  ·  ·  ·  ♟  ·  ·  ·  ·\n",
      "  ·  ·  ·  ·  ·  ·  ·  ·\n",
      "  ·  ♙  ·  ·  ·  ·  ♙  ·\n",
      "  ♙  ·  ·  ·  ·  ·  ·  ♙\n",
      "  ·  ·  ·  ·  ·  ·  ♔  ·\n",
      "B to move\n",
      "\n",
      "\n",
      "B to move\n",
      " ·  ·  ·  ·  ·  ♗  ♜  ♚ \n",
      " ·  ·  ·  ♛  ·  ·  ·  · \n",
      " ·  ·  ·  ·  ·  ♟  ·  · \n",
      " ♟  ·  ·  ·  ♟  ♖  ·  · \n",
      " ·  ·  ·  ♝  ♕  ·  ♙  · \n",
      " ·  ♙  ·  ·  ·  ·  ·  ♙ \n",
      " ♙  ·  ·  ·  ·  ·  ♔  · \n",
      " ·  ·  ♖  ·  ·  ·  ·  · \n",
      "\n",
      "B to move\n",
      " ·  ·  ·  ♜  ·  ·  ·  ♜ \n",
      " ♟  ·  ·  ·  ·  ♚  ♟  · \n",
      " ♝  ·  ♟  ·  ♟  ·  ·  ♟ \n",
      " ·  ·  ·  ·  ·  ·  ·  · \n",
      " ·  ·  ·  ♙  ·  ·  ·  · \n",
      " ·  ·  ♙  ·  ♕  ·  ·  · \n",
      " ♙  ·  ·  ·  ·  ♙  ♙  ♙ \n",
      " ♖  ·  ·  ·  ·  ·  ♔  · \n",
      "\n",
      "B to move\n",
      " ·  ·  ·  ♛  ♜  ·  ♚  · \n",
      " ·  ♟  ·  ·  ♝  ♟  ♟  · \n",
      " ·  ·  ♟  ·  ♝  ♞  ·  ♟ \n",
      " ♜  ·  ·  ♞  ♘  ·  ·  · \n",
      " ♘  ·  ·  ♙  ·  ♙  ·  · \n",
      " ·  ♙  ·  ♕  ·  ·  ♙  · \n",
      " ♙  ♗  ·  ·  ·  ·  ♗  ♙ \n",
      " ·  ·  ♖  ·  ♖  ·  ♔  · \n",
      "\n"
     ]
    }
   ],
   "source": [
    "preds = autoencoder.predict(np.stack([get_feats(p) for p in ps[0:3]]))\n",
    "[print_feats(p) for p in np.round(preds)]\n",
    "print('\\n')\n",
    "for p in ps[0:3]:\n",
    "    print(p)"
   ]
  },
  {
   "cell_type": "code",
   "execution_count": 174,
   "metadata": {},
   "outputs": [
    {
     "data": {
      "image/png": "[encoded data removed]",
      "text/plain": [
       "<matplotlib.figure.Figure at 0x7f8964e4f588>"
      ]
     },
     "metadata": {},
     "output_type": "display_data"
    }
   ],
   "source": [
    "plot_multi(preds.mean(-1), dim=(4,4), figsize=(12,12))"
   ]
  },
  {
   "cell_type": "code",
   "execution_count": 178,
   "metadata": {},
   "outputs": [
    {
     "data": {
      "image/png": "[encoded data removed]",
      "text/plain": [
       "<matplotlib.figure.Figure at 0x7f89344c6208>"
      ]
     },
     "metadata": {},
     "output_type": "display_data"
    }
   ],
   "source": [
    "plot_multi([get_feats(p).mean(-1) for p in ps[0:3]], dim=(4,4), figsize=(12,12))"
   ]
  },
  {
   "cell_type": "code",
   "execution_count": null,
   "metadata": {
    "collapsed": true
   },
   "outputs": [],
   "source": []
  }
 ],
 "metadata": {
  "kernelspec": {
   "display_name": "Python 3",
   "language": "python",
   "name": "python3"
  },
  "language_info": {
   "codemirror_mode": {
    "name": "ipython",
    "version": 3
   },
   "file_extension": ".py",
   "mimetype": "text/x-python",
   "name": "python",
   "nbconvert_exporter": "python",
   "pygments_lexer": "ipython3",
   "version": "3.5.2"
  }
 },
 "nbformat": 4,
 "nbformat_minor": 2
}
