{
 "cells": [
  {
   "cell_type": "code",
   "execution_count": 1,
   "metadata": {},
   "outputs": [
    {
     "name": "stderr",
     "output_type": "stream",
     "text": [
      "Using TensorFlow backend.\n"
     ]
    },
    {
     "name": "stdout",
     "output_type": "stream",
     "text": [
      "Initializing Magics\n"
     ]
    }
   ],
   "source": [
    "import keras\n",
    "from keras.models import Model\n",
    "from keras.optimizers import Adam, SGD\n",
    "from keras.regularizers import l2\n",
    "from keras.layers import *\n",
    "import pandas as pd\n",
    "import numpy as np\n",
    "from position import Position\n",
    "import matplotlib.pyplot as plt\n",
    "%matplotlib inline\n",
    "import imp\n",
    "# imp.reload(cnnfeat)\n",
    "from multiprocessing import Queue\n",
    "from multiprocessing import Manager, Process, Pool\n",
    "import os\n",
    "from time import time\n",
    "import pickle\n",
    "import bcolz\n",
    "from tqdm import tqdm \n",
    "from cnnfeat import get_feats"
   ]
  },
  {
   "cell_type": "code",
   "execution_count": 2,
   "metadata": {
    "collapsed": true
   },
   "outputs": [],
   "source": [
    "from cycliclr import CyclicLR\n",
    "from math import ceil"
   ]
  },
  {
   "cell_type": "code",
   "execution_count": 28,
   "metadata": {
    "collapsed": true
   },
   "outputs": [],
   "source": [
    "def dense_model():\n",
    "    net_input = Input((8,8,14))\n",
    "    x = Flatten()(net_input)\n",
    "    x = Dense(128)(x)\n",
    "    x = Activation('relu')(x)\n",
    "    x = Dense(128)(x)\n",
    "    x = Activation('relu')(x)\n",
    "    x = Dense(1)(x)\n",
    "    output = Activation('tanh')(x)\n",
    "    # 13997 params\n",
    "    return net_input, output"
   ]
  },
  {
   "cell_type": "code",
   "execution_count": 29,
   "metadata": {
    "collapsed": true
   },
   "outputs": [],
   "source": [
    "inputs, output = dense_model()\n",
    "model = Model(inputs, output)"
   ]
  },
  {
   "cell_type": "code",
   "execution_count": 5,
   "metadata": {},
   "outputs": [
    {
     "name": "stdout",
     "output_type": "stream",
     "text": [
      "_________________________________________________________________\n",
      "Layer (type)                 Output Shape              Param #   \n",
      "=================================================================\n",
      "input_1 (InputLayer)         (None, 8, 8, 14)          0         \n",
      "_________________________________________________________________\n",
      "flatten_1 (Flatten)          (None, 896)               0         \n",
      "_________________________________________________________________\n",
      "dense_1 (Dense)              (None, 128)               114816    \n",
      "_________________________________________________________________\n",
      "activation_1 (Activation)    (None, 128)               0         \n",
      "_________________________________________________________________\n",
      "dense_2 (Dense)              (None, 128)               16512     \n",
      "_________________________________________________________________\n",
      "activation_2 (Activation)    (None, 128)               0         \n",
      "_________________________________________________________________\n",
      "dense_3 (Dense)              (None, 1)                 129       \n",
      "_________________________________________________________________\n",
      "activation_3 (Activation)    (None, 1)                 0         \n",
      "=================================================================\n",
      "Total params: 131,457\n",
      "Trainable params: 131,457\n",
      "Non-trainable params: 0\n",
      "_________________________________________________________________\n"
     ]
    }
   ],
   "source": [
    "model.summary()"
   ]
  },
  {
   "cell_type": "code",
   "execution_count": 6,
   "metadata": {
    "collapsed": true
   },
   "outputs": [],
   "source": [
    "def batch_generator_df_bcolz(dframe, bcolz_arr, batch_size, shuffle=True, yielder=lambda x: x):\n",
    "    assert(batch_size % bcolz_arr.chunklen == 0)\n",
    "    chunks_per_batch = batch_size // bcolz_arr.chunklen\n",
    "    init_bounds = bcolz_arr.partitions\n",
    "    if bcolz_arr.leftover_elements > 0:\n",
    "        init_bounds.append((init_bounds[-1][1], len(bcolz_arr)))\n",
    "    while True:\n",
    "        bounds = np.random.permutation(init_bounds) if shuffle else init_bounds\n",
    "        feats_chunks, scores_chunks = [], []\n",
    "        def return_batch():\n",
    "            feats = np.concatenate(feats_chunks, axis=0)\n",
    "            scores = np.concatenate(scores_chunks, axis=0)\n",
    "            feats_chunks.clear()\n",
    "            scores_chunks.clear()\n",
    "            return yielder((feats, scores))\n",
    "        chunks = 0\n",
    "        for start, stop in bounds:\n",
    "            feats_chunks.append(bcolz_arr[start:stop])\n",
    "            scores_chunks.append(np.array(dframe[start:stop].score, dtype='float32'))\n",
    "            chunks += 1\n",
    "            if chunks % chunks_per_batch == 0:\n",
    "                yield return_batch()\n",
    "        if len(feats_chunks) > 0:\n",
    "            yield return_batch()"
   ]
  },
  {
   "cell_type": "code",
   "execution_count": 7,
   "metadata": {
    "collapsed": true
   },
   "outputs": [],
   "source": [
    "from bcolz_array_iterator import BcolzArrayIterator\n",
    "\n",
    "def batch_generator_bcolz(data, batch_size, shuffle=True):\n",
    "    batch_generator_bcolz = BcolzArrayIterator(data, batch_size=batch_size, shuffle=shuffle)\n",
    "    while True:\n",
    "        feats = next(batch_generator_bcolz)\n",
    "        yield feats, feats"
   ]
  },
  {
   "cell_type": "code",
   "execution_count": 8,
   "metadata": {
    "collapsed": true
   },
   "outputs": [],
   "source": [
    "def batch_generator_df(data, batch_size, shuffle=True):\n",
    "    while True:\n",
    "        data_ = data.sample(frac=1) if shuffle else data\n",
    "        for iteration, batch in data_.groupby(np.arange(len(data)) // batch_size):\n",
    "            fens = [f.strip() for f in batch.fen.tolist()]\n",
    "            feats = np.stack([get_feats(Position.from_fen(fen)) for fen in fens])\n",
    "            yield feats, feats"
   ]
  },
  {
   "cell_type": "code",
   "execution_count": 9,
   "metadata": {
    "collapsed": true
   },
   "outputs": [],
   "source": [
    "model.compile(keras.optimizers.SGD(lr=.01, momentum=.99, nesterov=True), 'mse')"
   ]
  },
  {
   "cell_type": "code",
   "execution_count": 30,
   "metadata": {
    "collapsed": true
   },
   "outputs": [],
   "source": [
    "model.compile('adam', 'mse')"
   ]
  },
  {
   "cell_type": "code",
   "execution_count": 31,
   "metadata": {
    "collapsed": true
   },
   "outputs": [],
   "source": [
    "features_sf3_sample = bcolz.open(mode='r', rootdir='/ssd/slonik_data/features_sf3_sample.bc')\n",
    "features_sf3_valid_sample = bcolz.open(mode='r', rootdir='/ssd/slonik_data/features_sf3_valid_sample.bc')"
   ]
  },
  {
   "cell_type": "code",
   "execution_count": 32,
   "metadata": {
    "collapsed": true
   },
   "outputs": [],
   "source": [
    "sf_scores3 = pd.read_pickle('/ssd/slonik_data/sf_scores_3dep.pkl')"
   ]
  },
  {
   "cell_type": "code",
   "execution_count": 33,
   "metadata": {
    "collapsed": true
   },
   "outputs": [],
   "source": [
    "assert(np.allclose(features_sf3_valid_sample[0], get_feats(Position.from_fen(sf_scores3.iloc[-60000].fen))))\n",
    "assert(np.allclose(features_sf3_sample[0], get_feats(Position.from_fen(sf_scores3.iloc[0].fen))))"
   ]
  },
  {
   "cell_type": "code",
   "execution_count": 34,
   "metadata": {
    "collapsed": true
   },
   "outputs": [],
   "source": [
    "wgts = model.get_weights()"
   ]
  },
  {
   "cell_type": "code",
   "execution_count": 62,
   "metadata": {
    "collapsed": true
   },
   "outputs": [],
   "source": [
    "model.set_weights(wgts)"
   ]
  },
  {
   "cell_type": "code",
   "execution_count": 40,
   "metadata": {
    "scrolled": true
   },
   "outputs": [
    {
     "name": "stdout",
     "output_type": "stream",
     "text": [
      "Epoch 1/100\n",
      "24/24 [==============================] - 0s 12ms/step - loss: 1.3231e-04 - val_loss: 0.0026\n",
      "Epoch 2/100\n",
      "24/24 [==============================] - 0s 11ms/step - loss: 1.2524e-04 - val_loss: 0.0026\n",
      "Epoch 3/100\n",
      "24/24 [==============================] - 0s 11ms/step - loss: 1.2421e-04 - val_loss: 0.0027\n",
      "Epoch 4/100\n",
      "24/24 [==============================] - 0s 11ms/step - loss: 1.3241e-04 - val_loss: 0.0026\n",
      "Epoch 5/100\n",
      "24/24 [==============================] - 0s 11ms/step - loss: 1.7031e-04 - val_loss: 0.0027\n",
      "Epoch 6/100\n",
      "24/24 [==============================] - 0s 11ms/step - loss: 3.5659e-04 - val_loss: 0.0033\n",
      "Epoch 7/100\n",
      "24/24 [==============================] - 0s 11ms/step - loss: 0.0011 - val_loss: 0.0036\n",
      "Epoch 8/100\n",
      "24/24 [==============================] - 0s 11ms/step - loss: 8.8013e-04 - val_loss: 0.0028\n",
      "Epoch 9/100\n",
      "24/24 [==============================] - 0s 10ms/step - loss: 5.1151e-04 - val_loss: 0.0028\n",
      "Epoch 10/100\n",
      "24/24 [==============================] - 0s 10ms/step - loss: 3.1896e-04 - val_loss: 0.0027\n",
      "Epoch 11/100\n",
      "24/24 [==============================] - 0s 11ms/step - loss: 1.8769e-04 - val_loss: 0.0026\n",
      "Epoch 12/100\n",
      "24/24 [==============================] - 0s 11ms/step - loss: 1.6407e-04 - val_loss: 0.0026\n",
      "Epoch 13/100\n",
      "24/24 [==============================] - 0s 11ms/step - loss: 1.3590e-04 - val_loss: 0.0026\n",
      "Epoch 14/100\n",
      "24/24 [==============================] - 0s 11ms/step - loss: 1.5494e-04 - val_loss: 0.0028\n",
      "Epoch 15/100\n",
      "24/24 [==============================] - 0s 11ms/step - loss: 1.3880e-04 - val_loss: 0.0026\n",
      "Epoch 16/100\n",
      "24/24 [==============================] - 0s 11ms/step - loss: 1.3010e-04 - val_loss: 0.0027\n",
      "Epoch 17/100\n",
      "24/24 [==============================] - 0s 11ms/step - loss: 1.2416e-04 - val_loss: 0.0027\n",
      "Epoch 18/100\n",
      "24/24 [==============================] - 0s 11ms/step - loss: 1.1439e-04 - val_loss: 0.0027\n",
      "Epoch 19/100\n",
      "24/24 [==============================] - 0s 11ms/step - loss: 1.0369e-04 - val_loss: 0.0027\n",
      "Epoch 20/100\n",
      "24/24 [==============================] - 0s 11ms/step - loss: 8.3410e-05 - val_loss: 0.0027\n",
      "Epoch 21/100\n",
      "24/24 [==============================] - 0s 11ms/step - loss: 7.8218e-05 - val_loss: 0.0027\n",
      "Epoch 22/100\n",
      "24/24 [==============================] - 0s 11ms/step - loss: 7.9132e-05 - val_loss: 0.0027\n",
      "Epoch 23/100\n",
      "24/24 [==============================] - 0s 10ms/step - loss: 7.9737e-05 - val_loss: 0.0027\n",
      "Epoch 24/100\n",
      "24/24 [==============================] - 0s 11ms/step - loss: 7.9127e-05 - val_loss: 0.0027\n",
      "Epoch 25/100\n",
      "24/24 [==============================] - 0s 11ms/step - loss: 1.3510e-04 - val_loss: 0.0027\n",
      "Epoch 26/100\n",
      "24/24 [==============================] - 0s 11ms/step - loss: 2.1886e-04 - val_loss: 0.0027\n",
      "Epoch 27/100\n",
      "24/24 [==============================] - 0s 11ms/step - loss: 5.1882e-04 - val_loss: 0.0028\n",
      "Epoch 28/100\n",
      "24/24 [==============================] - 0s 11ms/step - loss: 6.2589e-04 - val_loss: 0.0030\n",
      "Epoch 29/100\n",
      "24/24 [==============================] - 0s 11ms/step - loss: 2.5531e-04 - val_loss: 0.0027\n",
      "Epoch 30/100\n",
      "24/24 [==============================] - 0s 10ms/step - loss: 1.2011e-04 - val_loss: 0.0027\n",
      "Epoch 31/100\n",
      "24/24 [==============================] - 0s 11ms/step - loss: 1.0301e-04 - val_loss: 0.0026\n",
      "Epoch 32/100\n",
      "24/24 [==============================] - 0s 11ms/step - loss: 1.0848e-04 - val_loss: 0.0028\n",
      "Epoch 33/100\n",
      "24/24 [==============================] - 0s 11ms/step - loss: 1.3755e-04 - val_loss: 0.0028\n",
      "Epoch 34/100\n",
      "24/24 [==============================] - 0s 11ms/step - loss: 1.3225e-04 - val_loss: 0.0027\n",
      "Epoch 35/100\n",
      "24/24 [==============================] - 0s 11ms/step - loss: 1.8083e-04 - val_loss: 0.0031\n",
      "Epoch 36/100\n",
      "24/24 [==============================] - 0s 11ms/step - loss: 6.0007e-04 - val_loss: 0.0027\n",
      "Epoch 37/100\n",
      "24/24 [==============================] - 0s 11ms/step - loss: 8.2978e-04 - val_loss: 0.0032\n",
      "Epoch 38/100\n",
      "24/24 [==============================] - 0s 11ms/step - loss: 7.5859e-04 - val_loss: 0.0027\n",
      "Epoch 39/100\n",
      "24/24 [==============================] - 0s 11ms/step - loss: 3.4076e-04 - val_loss: 0.0026\n",
      "Epoch 40/100\n",
      "24/24 [==============================] - 0s 11ms/step - loss: 1.3100e-04 - val_loss: 0.0025\n",
      "Epoch 41/100\n",
      "24/24 [==============================] - 0s 11ms/step - loss: 1.1196e-04 - val_loss: 0.0025\n",
      "Epoch 42/100\n",
      "24/24 [==============================] - 0s 11ms/step - loss: 1.0403e-04 - val_loss: 0.0025\n",
      "Epoch 43/100\n",
      "24/24 [==============================] - 0s 11ms/step - loss: 1.2343e-04 - val_loss: 0.0026\n",
      "Epoch 44/100\n",
      "24/24 [==============================] - 0s 10ms/step - loss: 9.6095e-05 - val_loss: 0.0026\n",
      "Epoch 45/100\n",
      "24/24 [==============================] - ETA: 0s - loss: 1.2901e-0 - 0s 11ms/step - loss: 1.3428e-04 - val_loss: 0.0029\n",
      "Epoch 46/100\n",
      "24/24 [==============================] - 0s 10ms/step - loss: 1.1999e-04 - val_loss: 0.0026\n",
      "Epoch 47/100\n",
      "24/24 [==============================] - 0s 11ms/step - loss: 2.0508e-04 - val_loss: 0.0026\n",
      "Epoch 48/100\n",
      "24/24 [==============================] - 0s 11ms/step - loss: 9.4334e-05 - val_loss: 0.0026\n",
      "Epoch 49/100\n",
      "24/24 [==============================] - 0s 10ms/step - loss: 7.1546e-05 - val_loss: 0.0026\n",
      "Epoch 50/100\n",
      "24/24 [==============================] - 0s 10ms/step - loss: 5.2178e-05 - val_loss: 0.0026\n",
      "Epoch 51/100\n",
      "24/24 [==============================] - 0s 11ms/step - loss: 5.0558e-05 - val_loss: 0.0026\n",
      "Epoch 52/100\n",
      "24/24 [==============================] - 0s 10ms/step - loss: 4.9570e-05 - val_loss: 0.0026\n",
      "Epoch 53/100\n",
      "24/24 [==============================] - 0s 10ms/step - loss: 5.0498e-05 - val_loss: 0.0026\n",
      "Epoch 54/100\n",
      "24/24 [==============================] - 0s 11ms/step - loss: 5.3611e-05 - val_loss: 0.0026\n",
      "Epoch 55/100\n",
      "24/24 [==============================] - 0s 11ms/step - loss: 6.5182e-05 - val_loss: 0.0027\n",
      "Epoch 56/100\n",
      "24/24 [==============================] - 0s 11ms/step - loss: 9.8918e-05 - val_loss: 0.0027\n",
      "Epoch 57/100\n",
      "24/24 [==============================] - 0s 10ms/step - loss: 2.4825e-04 - val_loss: 0.0027\n",
      "Epoch 58/100\n",
      "24/24 [==============================] - 0s 10ms/step - loss: 3.1340e-04 - val_loss: 0.0026\n",
      "Epoch 59/100\n",
      "24/24 [==============================] - 0s 10ms/step - loss: 1.3619e-04 - val_loss: 0.0026\n",
      "Epoch 60/100\n",
      "24/24 [==============================] - 0s 11ms/step - loss: 5.7990e-05 - val_loss: 0.0026\n",
      "Epoch 61/100\n",
      "24/24 [==============================] - 0s 11ms/step - loss: 4.8696e-05 - val_loss: 0.0026\n",
      "Epoch 62/100\n",
      "24/24 [==============================] - 0s 11ms/step - loss: 4.7411e-05 - val_loss: 0.0026\n",
      "Epoch 63/100\n",
      "24/24 [==============================] - 0s 10ms/step - loss: 4.2390e-05 - val_loss: 0.0026\n",
      "Epoch 64/100\n",
      "24/24 [==============================] - 0s 10ms/step - loss: 4.6983e-05 - val_loss: 0.0026\n",
      "Epoch 65/100\n",
      "24/24 [==============================] - 0s 11ms/step - loss: 6.3032e-05 - val_loss: 0.0026\n",
      "Epoch 66/100\n",
      "24/24 [==============================] - 0s 11ms/step - loss: 9.5155e-05 - val_loss: 0.0027\n",
      "Epoch 67/100\n",
      "24/24 [==============================] - 0s 11ms/step - loss: 7.0600e-05 - val_loss: 0.0026\n",
      "Epoch 68/100\n",
      "24/24 [==============================] - 0s 10ms/step - loss: 8.7547e-05 - val_loss: 0.0026\n",
      "Epoch 69/100\n",
      "24/24 [==============================] - 0s 11ms/step - loss: 6.9656e-05 - val_loss: 0.0026\n",
      "Epoch 70/100\n",
      "24/24 [==============================] - 0s 11ms/step - loss: 3.8310e-05 - val_loss: 0.0026\n",
      "Epoch 71/100\n",
      "24/24 [==============================] - 0s 11ms/step - loss: 3.2674e-05 - val_loss: 0.0026\n",
      "Epoch 72/100\n",
      "24/24 [==============================] - 0s 11ms/step - loss: 3.3224e-05 - val_loss: 0.0026\n",
      "Epoch 73/100\n",
      "24/24 [==============================] - 0s 11ms/step - loss: 3.2308e-05 - val_loss: 0.0026\n",
      "Epoch 74/100\n",
      "24/24 [==============================] - 0s 10ms/step - loss: 3.3805e-05 - val_loss: 0.0026\n",
      "Epoch 75/100\n",
      "24/24 [==============================] - 0s 11ms/step - loss: 8.3972e-05 - val_loss: 0.0027\n",
      "Epoch 76/100\n",
      "24/24 [==============================] - 0s 11ms/step - loss: 2.1084e-04 - val_loss: 0.0027\n",
      "Epoch 77/100\n",
      "24/24 [==============================] - 0s 11ms/step - loss: 1.6532e-04 - val_loss: 0.0029\n",
      "Epoch 78/100\n",
      "24/24 [==============================] - 0s 11ms/step - loss: 4.4034e-04 - val_loss: 0.0029\n"
     ]
    },
    {
     "name": "stdout",
     "output_type": "stream",
     "text": [
      "Epoch 79/100\n",
      "24/24 [==============================] - 0s 10ms/step - loss: 1.5127e-04 - val_loss: 0.0026\n",
      "Epoch 80/100\n",
      "24/24 [==============================] - 0s 11ms/step - loss: 5.8113e-05 - val_loss: 0.0026\n",
      "Epoch 81/100\n",
      "24/24 [==============================] - 0s 11ms/step - loss: 5.1320e-05 - val_loss: 0.0026\n",
      "Epoch 82/100\n",
      "24/24 [==============================] - 0s 10ms/step - loss: 4.5212e-05 - val_loss: 0.0026\n",
      "Epoch 83/100\n",
      "24/24 [==============================] - 0s 11ms/step - loss: 5.0274e-05 - val_loss: 0.0026\n",
      "Epoch 84/100\n",
      "24/24 [==============================] - 0s 10ms/step - loss: 9.8683e-05 - val_loss: 0.0026\n",
      "Epoch 85/100\n",
      "24/24 [==============================] - 0s 10ms/step - loss: 1.9247e-04 - val_loss: 0.0042\n",
      "Epoch 86/100\n",
      "24/24 [==============================] - 0s 11ms/step - loss: 0.0013 - val_loss: 0.0029\n",
      "Epoch 87/100\n",
      "24/24 [==============================] - 0s 11ms/step - loss: 5.6834e-04 - val_loss: 0.0026\n",
      "Epoch 88/100\n",
      "24/24 [==============================] - 0s 11ms/step - loss: 3.9832e-04 - val_loss: 0.0024\n",
      "Epoch 89/100\n",
      "24/24 [==============================] - 0s 11ms/step - loss: 1.9452e-04 - val_loss: 0.0025\n",
      "Epoch 90/100\n",
      "24/24 [==============================] - 0s 11ms/step - loss: 1.2855e-04 - val_loss: 0.0024\n",
      "Epoch 91/100\n",
      "24/24 [==============================] - 0s 11ms/step - loss: 9.1391e-05 - val_loss: 0.0024\n",
      "Epoch 92/100\n",
      "24/24 [==============================] - 0s 11ms/step - loss: 1.1247e-04 - val_loss: 0.0024\n",
      "Epoch 93/100\n",
      "24/24 [==============================] - 0s 11ms/step - loss: 8.7810e-05 - val_loss: 0.0024\n",
      "Epoch 94/100\n",
      "24/24 [==============================] - 0s 10ms/step - loss: 1.0850e-04 - val_loss: 0.0025\n",
      "Epoch 95/100\n",
      "24/24 [==============================] - 0s 10ms/step - loss: 1.2780e-04 - val_loss: 0.0025\n",
      "Epoch 96/100\n",
      "24/24 [==============================] - 0s 11ms/step - loss: 1.1047e-04 - val_loss: 0.0026\n",
      "Epoch 97/100\n",
      "24/24 [==============================] - 0s 10ms/step - loss: 1.6709e-04 - val_loss: 0.0026\n",
      "Epoch 98/100\n",
      "24/24 [==============================] - 0s 11ms/step - loss: 1.0157e-04 - val_loss: 0.0025\n",
      "Epoch 99/100\n",
      "24/24 [==============================] - 0s 11ms/step - loss: 8.1055e-05 - val_loss: 0.0025\n",
      "Epoch 100/100\n",
      "24/24 [==============================] - 0s 11ms/step - loss: 3.9073e-05 - val_loss: 0.0025\n"
     ]
    },
    {
     "data": {
      "text/plain": [
       "<keras.callbacks.History at 0x7fa1c443db00>"
      ]
     },
     "execution_count": 40,
     "metadata": {},
     "output_type": "execute_result"
    }
   ],
   "source": [
    "batch_size = 1024\n",
    "#nvalid = len(features_sf12_valid)\n",
    "\n",
    "x = features_sf3_sample\n",
    "x_valid = features_sf3_valid_sample\n",
    "\n",
    "# yielder = lambda f_s: (f_s[0], [f_s[0], f_s[1]]) # (feats, [feats, scores])\n",
    "train_gen = batch_generator_df_bcolz(sf_scores3, x, batch_size)\n",
    "valid_gen = batch_generator_df_bcolz(sf_scores3[-60000:], x_valid, batch_size, shuffle=False)\n",
    "\n",
    "train_steps = ceil(len(x) / batch_size)\n",
    "valid_steps = ceil(len(x_valid) / batch_size)\n",
    "\n",
    "# lr_plateau = keras.callbacks.ReduceLROnPlateau(monitor='val_loss', factor=0.05, patience=5, verbose=1)\n",
    "# checkpoint_path = '../slonik_data/weights.{epoch:03d}-{val_loss:.6f}.h5'\n",
    "checkpoint_path = '../slonik_data/weights_best.h5'\n",
    "checkpoint = keras.callbacks.ModelCheckpoint(checkpoint_path, \n",
    "                                             monitor='val_loss', save_best_only=True, save_weights_only=True, period=1)\n",
    "# stopping = keras.callbacks.EarlyStopping(monitor='val_loss', min_delta=0, patience=20, mode='auto')\n",
    "clr = CyclicLR(base_lr=1e-6, max_lr=1e-3, step_size=train_steps*5, mode='triangular')\n",
    "# clr = CyclicLR(base_lr=0, max_lr=1e-2, step_size=train_steps*5, mode='triangular')\n",
    "\n",
    "# callbacks = [clr]\n",
    "callbacks = [clr, checkpoint]\n",
    "# K.set_value(train_model.optimizer.lr, 1e-3)\n",
    "model.fit_generator(train_gen, train_steps, epochs=100, \n",
    "                          validation_data=valid_gen, validation_steps=valid_steps, callbacks=callbacks)\n",
    "\n",
    "# K.set_value(model.optimizer.lr, 1e-5)\n",
    "# model.fit_generator(train_gen, train_steps, epochs=2, validation_data=valid_gen, validation_steps=valid_steps)"
   ]
  },
  {
   "cell_type": "code",
   "execution_count": 46,
   "metadata": {
    "collapsed": true
   },
   "outputs": [
    {
     "data": {
      "text/plain": [
       "[<matplotlib.lines.Line2D at 0x7f8584f0fa58>]"
      ]
     },
     "execution_count": 46,
     "metadata": {},
     "output_type": "execute_result"
    },
    {
     "data": {
      "image/png": "[encoded data removed]",
      "text/plain": [
       "<matplotlib.figure.Figure at 0x7f85858a3668>"
      ]
     },
     "metadata": {},
     "output_type": "display_data"
    }
   ],
   "source": [
    "plt.plot(clr.history['iterations'], clr.history['lr'])"
   ]
  },
  {
   "cell_type": "code",
   "execution_count": 21,
   "metadata": {},
   "outputs": [
    {
     "data": {
      "text/plain": [
       "[<matplotlib.lines.Line2D at 0x7f9eee780908>]"
      ]
     },
     "execution_count": 21,
     "metadata": {},
     "output_type": "execute_result"
    },
    {
     "data": {
      "image/png": "[encoded data removed]",
      "text/plain": [
       "<matplotlib.figure.Figure at 0x7f9f0009a5c0>"
      ]
     },
     "metadata": {},
     "output_type": "display_data"
    }
   ],
   "source": [
    "# rng = np.s_[-140:]\n",
    "plt.plot(clr.history['lr'][rng], clr.history['loss'][rng])"
   ]
  },
  {
   "cell_type": "markdown",
   "metadata": {},
   "source": [
    "### evaluate models"
   ]
  },
  {
   "cell_type": "code",
   "execution_count": 24,
   "metadata": {},
   "outputs": [
    {
     "data": {
      "text/plain": [
       "0.0054805014319717887"
      ]
     },
     "execution_count": 24,
     "metadata": {},
     "output_type": "execute_result"
    }
   ],
   "source": [
    "batch_size = 1024 * 2\n",
    "valid_steps = ceil(len(features_sf3_valid_sample) / batch_size)\n",
    "valid_gen = batch_generator_df_bcolz(sf_scores3[-60000:], features_sf3_valid_sample, batch_size, shuffle=False)\n",
    "model.evaluate_generator(valid_gen, steps=valid_steps)\n",
    "# train_model.metrics_names\n",
    "# K.get_value(train_model.optimizer.lr)"
   ]
  },
  {
   "cell_type": "code",
   "execution_count": 41,
   "metadata": {},
   "outputs": [
    {
     "data": {
      "text/plain": [
       "[<matplotlib.lines.Line2D at 0x7f9eceae79e8>]"
      ]
     },
     "execution_count": 41,
     "metadata": {},
     "output_type": "execute_result"
    },
    {
     "data": {
      "image/png": "[encoded data removed]",
      "text/plain": [
       "<matplotlib.figure.Figure at 0x7f9eed2a0ba8>"
      ]
     },
     "metadata": {},
     "output_type": "display_data"
    }
   ],
   "source": [
    "rng = slice(0,40)\n",
    "dfrng = slice(rng.start+-60000, rng.stop+-60000)\n",
    "fens = sf_scores3[dfrng].fen\n",
    "scores = sf_scores3[dfrng].score\n",
    "# np.allclose(features_sf12_valid[rng], np.array([get_feats(Position.from_fen(f)) for f in fens]))\n",
    "# pprint(list(zip(scores, evaluator.predict(features_sf12_valid[rng]).squeeze())))\n",
    "x = np.arange(len(scores))\n",
    "plt.plot(x, scores, 'r')\n",
    "plt.plot(x, model.predict(features_sf3_valid_sample[rng]).squeeze(), 'b')"
   ]
  },
  {
   "cell_type": "code",
   "execution_count": 19,
   "metadata": {},
   "outputs": [
    {
     "data": {
      "text/plain": [
       "(40, 8, 8, 1)"
      ]
     },
     "execution_count": 19,
     "metadata": {},
     "output_type": "execute_result"
    }
   ],
   "source": [
    "model.predict(features_sf3_valid_sample[rng]).shape"
   ]
  },
  {
   "cell_type": "code",
   "execution_count": 85,
   "metadata": {},
   "outputs": [
    {
     "name": "stdout",
     "output_type": "stream",
     "text": [
      "W to move\n",
      " ·  ·  ·  ·  ·  ·  ♚  · \n",
      " ·  ·  ·  ·  ·  ♟  ·  ♟ \n",
      " ·  ·  ♟  ·  ♙  ·  ·  · \n",
      " ·  ·  ·  ♞  ·  ·  ·  · \n",
      " ·  ·  ·  ♕  ·  ♙  ·  · \n",
      " ·  ·  ·  ·  ·  ♙  ·  ♙ \n",
      " ♙  ·  ·  ·  ·  ·  ·  ♔ \n",
      " ·  ·  ·  ♝  ♛  ·  ·  · \n",
      "\n",
      "-0.0633715525256\n"
     ]
    },
    {
     "data": {
      "text/plain": [
       "array([[-0.00351094]], dtype=float32)"
      ]
     },
     "execution_count": 85,
     "metadata": {},
     "output_type": "execute_result"
    }
   ],
   "source": [
    "n = 28\n",
    "print(Position.from_fen(sf_scores3.iloc[-60000+n].fen))\n",
    "print(sf_scores3.iloc[-60000+n].score)\n",
    "model.predict(features_sf3_valid_sample[n][None])"
   ]
  }
 ],
 "metadata": {
  "kernelspec": {
   "display_name": "Python 3",
   "language": "python",
   "name": "python3"
  },
  "language_info": {
   "codemirror_mode": {
    "name": "ipython",
    "version": 3
   },
   "file_extension": ".py",
   "mimetype": "text/x-python",
   "name": "python",
   "nbconvert_exporter": "python",
   "pygments_lexer": "ipython3",
   "version": "3.6.3"
  }
 },
 "nbformat": 4,
 "nbformat_minor": 2
}
