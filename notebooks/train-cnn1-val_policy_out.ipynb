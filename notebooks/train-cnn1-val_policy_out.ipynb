{
 "cells": [
  {
   "cell_type": "code",
   "execution_count": 4,
   "metadata": {},
   "outputs": [
    {
     "name": "stderr",
     "output_type": "stream",
     "text": [
      "Using TensorFlow backend.\n"
     ]
    },
    {
     "name": "stdout",
     "output_type": "stream",
     "text": [
      "Initializing Magics\n"
     ]
    }
   ],
   "source": [
    "import sys\n",
    "sys.path.append('..')\n",
    "\n",
    "import keras\n",
    "from keras.models import Model\n",
    "from keras.optimizers import Adam, SGD\n",
    "from keras.regularizers import l2\n",
    "from keras.layers import *\n",
    "import pandas as pd\n",
    "import numpy as np\n",
    "from position import Position\n",
    "import matplotlib.pyplot as plt\n",
    "%matplotlib inline\n",
    "import imp\n",
    "# imp.reload(cnnfeat)\n",
    "from multiprocessing import Queue\n",
    "from multiprocessing import Manager, Process, Pool\n",
    "import os\n",
    "from time import time\n",
    "import pickle\n",
    "import bcolz\n",
    "from tqdm import tqdm \n",
    "from cnnfeat import get_feats\n",
    "import numpy as np"
   ]
  },
  {
   "cell_type": "code",
   "execution_count": 5,
   "metadata": {
    "collapsed": true
   },
   "outputs": [],
   "source": [
    "from tools.cycliclr import CyclicLR\n",
    "from math import ceil"
   ]
  },
  {
   "cell_type": "code",
   "execution_count": 57,
   "metadata": {},
   "outputs": [
    {
     "data": {
      "text/plain": [
       "24"
      ]
     },
     "execution_count": 57,
     "metadata": {},
     "output_type": "execute_result"
    }
   ],
   "source": [
    "88-64"
   ]
  },
  {
   "cell_type": "code",
   "execution_count": 240,
   "metadata": {
    "collapsed": true
   },
   "outputs": [],
   "source": [
    "def conv_block(x, filters, kernel_size=(2,2), bottleneck=False, **kwargs):\n",
    "    if bottleneck:\n",
    "        x = Convolution2D(filters * 2, kernel_size=(1,1), strides=(1,1), padding='same', use_bias=False)(x)\n",
    "    x = Convolution2D(filters, kernel_size, strides=(1,1), padding='same', use_bias=False)(x)\n",
    "#                      kernel_regularizer=l2(1e-6))(x)\n",
    "    x = BatchNormalization(axis=-1)(x)\n",
    "    x = Activation('relu')(x)\n",
    "    return x\n",
    "\n",
    "def dense_block(x, filters, nb_layers):\n",
    "    layers = [x]\n",
    "    for i in range(nb_layers):\n",
    "        x = conv_block(x, filters, bottleneck=(i>=1))\n",
    "        layers.append(x)\n",
    "        x = Concatenate(axis=-1)(layers)\n",
    "    return x\n",
    "\n",
    "def transition(input_tensor, out_filters):\n",
    "    x = conv_block(input_tensor, out_filters, kernel_size=(1,1))\n",
    "    x = AveragePooling2D((2,2), strides=(2,2))(x)\n",
    "    return x\n",
    "\n",
    "def cnn_model():\n",
    "    net_input = Input((8,8,14))\n",
    "    #x = conv_block(net_input, 14, kernel_size=(3,3))\n",
    "    x = Dense(64)(net_input)\n",
    "    #x = BatchNormalization(axis=-1)(x)\n",
    "    x = Activation('relu')(x)\n",
    "    \n",
    "    x = Dense(32)(x)\n",
    "    #x = BatchNormalization(axis=-1)(x)\n",
    "    x = Activation('relu')(x)\n",
    "    \n",
    "    x = dense_block(x, 4, 4)\n",
    "#     x = transition(x, 14)\n",
    "#     x = dense_block(x, 7, 4)\n",
    "    \n",
    "    value = GlobalAveragePooling2D(name='value_hidden1')(x)\n",
    "    value = Dense(1, name='value_hidden2')(value)\n",
    "    value = Activation('tanh', name='value')(value)\n",
    "    \n",
    "    # policy = dense_block(x, 4, 6)\n",
    "    #policy = transition(x, 20)\n",
    "    #policy = GlobalAveragePooling2D(name='policy_hidden1')(x)\n",
    "    policy = Flatten()(x)\n",
    "    # policy = Reshape((8*8*11*8,))(x)\n",
    "    policy = Dense(8*8*11*8, name='policy_hidden2')(policy)\n",
    "    policy = Activation('softmax', name='policy')(policy)\n",
    "    \n",
    "    return net_input, value, policy"
   ]
  },
  {
   "cell_type": "code",
   "execution_count": 241,
   "metadata": {},
   "outputs": [],
   "source": [
    "inputs, val_out, pol_out = cnn_model()\n",
    "model = Model(inputs, [val_out, pol_out])"
   ]
  },
  {
   "cell_type": "code",
   "execution_count": 242,
   "metadata": {},
   "outputs": [
    {
     "name": "stdout",
     "output_type": "stream",
     "text": [
      "__________________________________________________________________________________________________\n",
      "Layer (type)                    Output Shape         Param #     Connected to                     \n",
      "==================================================================================================\n",
      "input_47 (InputLayer)           (None, 8, 8, 14)     0                                            \n",
      "__________________________________________________________________________________________________\n",
      "dense_48 (Dense)                (None, 8, 8, 64)     960         input_47[0][0]                   \n",
      "__________________________________________________________________________________________________\n",
      "activation_581 (Activation)     (None, 8, 8, 64)     0           dense_48[0][0]                   \n",
      "__________________________________________________________________________________________________\n",
      "dense_49 (Dense)                (None, 8, 8, 32)     2080        activation_581[0][0]             \n",
      "__________________________________________________________________________________________________\n",
      "activation_582 (Activation)     (None, 8, 8, 32)     0           dense_49[0][0]                   \n",
      "__________________________________________________________________________________________________\n",
      "conv2d_994 (Conv2D)             (None, 8, 8, 4)      512         activation_582[0][0]             \n",
      "__________________________________________________________________________________________________\n",
      "batch_normalization_581 (BatchN (None, 8, 8, 4)      16          conv2d_994[0][0]                 \n",
      "__________________________________________________________________________________________________\n",
      "activation_583 (Activation)     (None, 8, 8, 4)      0           batch_normalization_581[0][0]    \n",
      "__________________________________________________________________________________________________\n",
      "concatenate_533 (Concatenate)   (None, 8, 8, 36)     0           activation_582[0][0]             \n",
      "                                                                 activation_583[0][0]             \n",
      "__________________________________________________________________________________________________\n",
      "conv2d_995 (Conv2D)             (None, 8, 8, 8)      288         concatenate_533[0][0]            \n",
      "__________________________________________________________________________________________________\n",
      "conv2d_996 (Conv2D)             (None, 8, 8, 4)      128         conv2d_995[0][0]                 \n",
      "__________________________________________________________________________________________________\n",
      "batch_normalization_582 (BatchN (None, 8, 8, 4)      16          conv2d_996[0][0]                 \n",
      "__________________________________________________________________________________________________\n",
      "activation_584 (Activation)     (None, 8, 8, 4)      0           batch_normalization_582[0][0]    \n",
      "__________________________________________________________________________________________________\n",
      "concatenate_534 (Concatenate)   (None, 8, 8, 40)     0           activation_582[0][0]             \n",
      "                                                                 activation_583[0][0]             \n",
      "                                                                 activation_584[0][0]             \n",
      "__________________________________________________________________________________________________\n",
      "conv2d_997 (Conv2D)             (None, 8, 8, 8)      320         concatenate_534[0][0]            \n",
      "__________________________________________________________________________________________________\n",
      "conv2d_998 (Conv2D)             (None, 8, 8, 4)      128         conv2d_997[0][0]                 \n",
      "__________________________________________________________________________________________________\n",
      "batch_normalization_583 (BatchN (None, 8, 8, 4)      16          conv2d_998[0][0]                 \n",
      "__________________________________________________________________________________________________\n",
      "activation_585 (Activation)     (None, 8, 8, 4)      0           batch_normalization_583[0][0]    \n",
      "__________________________________________________________________________________________________\n",
      "concatenate_535 (Concatenate)   (None, 8, 8, 44)     0           activation_582[0][0]             \n",
      "                                                                 activation_583[0][0]             \n",
      "                                                                 activation_584[0][0]             \n",
      "                                                                 activation_585[0][0]             \n",
      "__________________________________________________________________________________________________\n",
      "conv2d_999 (Conv2D)             (None, 8, 8, 8)      352         concatenate_535[0][0]            \n",
      "__________________________________________________________________________________________________\n",
      "conv2d_1000 (Conv2D)            (None, 8, 8, 4)      128         conv2d_999[0][0]                 \n",
      "__________________________________________________________________________________________________\n",
      "batch_normalization_584 (BatchN (None, 8, 8, 4)      16          conv2d_1000[0][0]                \n",
      "__________________________________________________________________________________________________\n",
      "activation_586 (Activation)     (None, 8, 8, 4)      0           batch_normalization_584[0][0]    \n",
      "__________________________________________________________________________________________________\n",
      "concatenate_536 (Concatenate)   (None, 8, 8, 48)     0           activation_582[0][0]             \n",
      "                                                                 activation_583[0][0]             \n",
      "                                                                 activation_584[0][0]             \n",
      "                                                                 activation_585[0][0]             \n",
      "                                                                 activation_586[0][0]             \n",
      "__________________________________________________________________________________________________\n",
      "value_hidden1 (GlobalAveragePoo (None, 48)           0           concatenate_536[0][0]            \n",
      "__________________________________________________________________________________________________\n",
      "flatten_18 (Flatten)            (None, 3072)         0           concatenate_536[0][0]            \n",
      "__________________________________________________________________________________________________\n",
      "value_hidden2 (Dense)           (None, 1)            49          value_hidden1[0][0]              \n",
      "__________________________________________________________________________________________________\n",
      "policy_hidden2 (Dense)          (None, 5632)         17307136    flatten_18[0][0]                 \n",
      "__________________________________________________________________________________________________\n",
      "value (Activation)              (None, 1)            0           value_hidden2[0][0]              \n",
      "__________________________________________________________________________________________________\n",
      "policy (Activation)             (None, 5632)         0           policy_hidden2[0][0]             \n",
      "==================================================================================================\n",
      "Total params: 17,312,145\n",
      "Trainable params: 17,312,113\n",
      "Non-trainable params: 32\n",
      "__________________________________________________________________________________________________\n"
     ]
    }
   ],
   "source": [
    "model.summary()"
   ]
  },
  {
   "cell_type": "code",
   "execution_count": 24,
   "metadata": {
    "collapsed": true
   },
   "outputs": [],
   "source": [
    "def san_to_label(san_move):\n",
    "    \"\"\" Return index into 8*8*11*8 possibilities of from_sq (row*col) to to_sq (row*col).\n",
    "    3 rows are added for underpromotions. \"\"\"\n",
    "    # g5 => row 5, col 7(g) => (4, 6)\n",
    "    # h6 => row 6, col 8(h) => (5, 7) \n",
    "    from_coord = [int(san_move[1:2]) - 1, ord(san_move[0:1]) - 97]\n",
    "    to_coord = [int(san_move[3:4]) - 1, ord(san_move[2:3]) - 97]\n",
    "    if len(san_move) == 5:\n",
    "        if san_move[4:5] == 'n': to_coord[0] += 1\n",
    "        elif san_move[4:5] == 'b': to_coord[0] += 2\n",
    "        elif san_move[4:5] == 'r': to_coord[0] += 3\n",
    "    return np.ravel_multi_index(from_coord + to_coord, (8,8,11,8), order='C')\n",
    "\n",
    "def sans_to_labels(san_moves):\n",
    "    return list(map(san_to_label, san_moves))"
   ]
  },
  {
   "cell_type": "code",
   "execution_count": 25,
   "metadata": {},
   "outputs": [
    {
     "data": {
      "text/plain": [
       "'e3g4'"
      ]
     },
     "execution_count": 25,
     "metadata": {},
     "output_type": "execute_result"
    }
   ],
   "source": [
    "def label_to_san(label):\n",
    "    coords = np.unravel_index(label, (8,8,11,8))\n",
    "    from_sq, to_sq = coords[0:2], coords[2:4]\n",
    "    return coord_to_san(from_sq) + coord_to_san(to_sq)\n",
    "    \n",
    "def coord_to_san(coord):\n",
    "    y, x = coord\n",
    "    promo = ''\n",
    "    if y >= 7:\n",
    "        pt = y - 7\n",
    "        y = 7\n",
    "        if pt == 0: promo = ''\n",
    "        elif pt == 1: promo = 'n'\n",
    "        elif pt == 2: promo = 'b'\n",
    "        elif pt == 3: promo = 'r'\n",
    "    return chr(x+97) + str(y+1) + promo\n",
    "\n",
    "label_to_san(san_to_label('e3g4'))"
   ]
  },
  {
   "cell_type": "code",
   "execution_count": 129,
   "metadata": {
    "collapsed": true
   },
   "outputs": [],
   "source": [
    "def batch_generator_df_bcolz(dframe, bcolz_arr, batch_size, shuffle=True, yielder=lambda x: x):\n",
    "    assert(batch_size % bcolz_arr.chunklen == 0)\n",
    "    chunks_per_batch = batch_size // bcolz_arr.chunklen\n",
    "    init_bounds = bcolz_arr.partitions\n",
    "    if bcolz_arr.leftover_elements > 0:\n",
    "        init_bounds.append((init_bounds[-1][1], len(bcolz_arr)))\n",
    "    while True:\n",
    "        bounds = np.random.permutation(init_bounds) if shuffle else init_bounds\n",
    "        # feats_chunks, scores_chunks = [], []\n",
    "        feats_chunks, move_chunks, score_chunks = [], [], []\n",
    "        def return_batch():\n",
    "            feats = np.concatenate(feats_chunks, axis=0)\n",
    "            moves = np.concatenate(move_chunks, axis=0)\n",
    "            scores = np.concatenate(score_chunks, axis=0)\n",
    "            feats_chunks.clear()\n",
    "            move_chunks.clear()\n",
    "            score_chunks.clear()\n",
    "            return yielder((feats, [scores, moves]))\n",
    "        chunks = 0\n",
    "        for start, stop in bounds:\n",
    "            feats_chunks.append(bcolz_arr[start:stop])\n",
    "            moves = np.array(dframe[start:stop].move)\n",
    "            move_chunks.append(sans_to_labels(moves))\n",
    "            score_chunks.append(np.array(dframe[start:stop].score, dtype='float32'))\n",
    "            chunks += 1\n",
    "            if chunks % chunks_per_batch == 0:\n",
    "                yield return_batch()\n",
    "        if len(feats_chunks) > 0:\n",
    "            yield return_batch()"
   ]
  },
  {
   "cell_type": "code",
   "execution_count": 7,
   "metadata": {
    "collapsed": true
   },
   "outputs": [],
   "source": [
    "from bcolz_array_iterator import BcolzArrayIterator\n",
    "\n",
    "def batch_generator_bcolz(data, batch_size, shuffle=True):\n",
    "    batch_generator_bcolz = BcolzArrayIterator(data, batch_size=batch_size, shuffle=shuffle)\n",
    "    while True:\n",
    "        feats = next(batch_generator_bcolz)\n",
    "        yield feats, feats"
   ]
  },
  {
   "cell_type": "code",
   "execution_count": 8,
   "metadata": {
    "collapsed": true
   },
   "outputs": [],
   "source": [
    "def batch_generator_df(data, batch_size, shuffle=True):\n",
    "    while True:\n",
    "        data_ = data.sample(frac=1) if shuffle else data\n",
    "        for iteration, batch in data_.groupby(np.arange(len(data)) // batch_size):\n",
    "            fens = [f.strip() for f in batch.fen.tolist()]\n",
    "            feats = np.stack([get_feats(Position.from_fen(fen)) for fen in fens])\n",
    "            yield feats, feats"
   ]
  },
  {
   "cell_type": "code",
   "execution_count": 150,
   "metadata": {
    "collapsed": true
   },
   "outputs": [],
   "source": [
    "# model.compile(keras.optimizers.SGD(lr=.01, momentum=.99, nesterov=True), 'mse')"
   ]
  },
  {
   "cell_type": "code",
   "execution_count": 234,
   "metadata": {},
   "outputs": [],
   "source": [
    "model.compile('adam', \n",
    "              loss=['mse', 'sparse_categorical_crossentropy'], \n",
    "#               loss_weights=[1.0/4.0, 1.0])\n",
    "              loss_weights=[1.0, 1.0/300])"
   ]
  },
  {
   "cell_type": "code",
   "execution_count": 15,
   "metadata": {
    "collapsed": true
   },
   "outputs": [],
   "source": [
    "features = bcolz.open(mode='r', rootdir='/ssd/slonik_data/features_move_scores_sf4_origfen.bc')\n",
    "features_valid = bcolz.open(mode='r', rootdir='/ssd/slonik_data/features_move_scores_sf4_origfen_valid.bc')"
   ]
  },
  {
   "cell_type": "code",
   "execution_count": 16,
   "metadata": {
    "collapsed": true
   },
   "outputs": [],
   "source": [
    "move_scores = pd.read_pickle('/ssd/slonik_data/sf_move_scores_4dep.pkl')"
   ]
  },
  {
   "cell_type": "code",
   "execution_count": 17,
   "metadata": {
    "collapsed": true
   },
   "outputs": [],
   "source": [
    "def get_feats_stack(fens):\n",
    "    return np.stack([get_feats(Position.from_fen(f)) for f in fens])"
   ]
  },
  {
   "cell_type": "code",
   "execution_count": 18,
   "metadata": {
    "collapsed": true
   },
   "outputs": [],
   "source": [
    "assert(np.allclose(features_valid[0], get_feats(Position.from_fen(move_scores.iloc[-60000].orig_fen))))\n",
    "assert(np.allclose(features_valid[0:100], get_feats_stack(move_scores.iloc[-60000:-60000+100].orig_fen)))\n",
    "assert(np.allclose(features[0], get_feats(Position.from_fen(move_scores.iloc[0].orig_fen))))\n",
    "assert(np.allclose(features[23470:23570], get_feats_stack(move_scores.iloc[23470:23570].orig_fen)))"
   ]
  },
  {
   "cell_type": "code",
   "execution_count": 165,
   "metadata": {
    "collapsed": true
   },
   "outputs": [],
   "source": [
    "wgts = model.get_weights()"
   ]
  },
  {
   "cell_type": "code",
   "execution_count": 146,
   "metadata": {
    "collapsed": true
   },
   "outputs": [],
   "source": [
    "model.set_weights(wgts)"
   ]
  },
  {
   "cell_type": "code",
   "execution_count": 238,
   "metadata": {
    "scrolled": true
   },
   "outputs": [
    {
     "name": "stdout",
     "output_type": "stream",
     "text": [
      "Epoch 1/10\n",
      "99/99 [==============================] - 3s 29ms/step - loss: 0.0151 - value_loss: 0.0038 - policy_loss: 3.3955 - val_loss: 0.0159 - val_value_loss: 0.0041 - val_policy_loss: 3.5536\n",
      "Epoch 2/10\n",
      "99/99 [==============================] - 3s 28ms/step - loss: 0.0152 - value_loss: 0.0040 - policy_loss: 3.3621 - val_loss: 0.0145 - val_value_loss: 0.0035 - val_policy_loss: 3.3018\n",
      "Epoch 3/10\n",
      "99/99 [==============================] - 3s 28ms/step - loss: 0.0143 - value_loss: 0.0034 - policy_loss: 3.2713 - val_loss: 0.0143 - val_value_loss: 0.0027 - val_policy_loss: 3.4823\n",
      "Epoch 4/10\n",
      "99/99 [==============================] - 3s 26ms/step - loss: 0.0145 - value_loss: 0.0037 - policy_loss: 3.2272 - val_loss: 0.0151 - val_value_loss: 0.0037 - val_policy_loss: 3.4169\n",
      "Epoch 5/10\n",
      "99/99 [==============================] - 3s 27ms/step - loss: 0.0150 - value_loss: 0.0041 - policy_loss: 3.2732 - val_loss: 0.0151 - val_value_loss: 0.0039 - val_policy_loss: 3.3481\n",
      "Epoch 6/10\n",
      "99/99 [==============================] - 3s 28ms/step - loss: 0.0141 - value_loss: 0.0037 - policy_loss: 3.1022 - val_loss: 0.0141 - val_value_loss: 0.0031 - val_policy_loss: 3.2992\n",
      "Epoch 7/10\n",
      "99/99 [==============================] - 3s 27ms/step - loss: 0.0139 - value_loss: 0.0031 - policy_loss: 3.2208 - val_loss: 0.0155 - val_value_loss: 0.0035 - val_policy_loss: 3.6152\n",
      "Epoch 8/10\n",
      "99/99 [==============================] - 3s 27ms/step - loss: 0.0147 - value_loss: 0.0039 - policy_loss: 3.2479 - val_loss: 0.0145 - val_value_loss: 0.0035 - val_policy_loss: 3.3046\n",
      "Epoch 9/10\n",
      "99/99 [==============================] - 3s 26ms/step - loss: 0.0137 - value_loss: 0.0033 - policy_loss: 3.0999 - val_loss: 0.0163 - val_value_loss: 0.0049 - val_policy_loss: 3.4269\n",
      "Epoch 10/10\n",
      "99/99 [==============================] - 3s 26ms/step - loss: 0.0145 - value_loss: 0.0037 - policy_loss: 3.2202 - val_loss: 0.0153 - val_value_loss: 0.0038 - val_policy_loss: 3.4519\n"
     ]
    },
    {
     "data": {
      "text/plain": [
       "<keras.callbacks.History at 0x7fdf372b5c50>"
      ]
     },
     "execution_count": 238,
     "metadata": {},
     "output_type": "execute_result"
    }
   ],
   "source": [
    "batch_size = 64\n",
    "#nvalid = len(features_sf12_valid)\n",
    "\n",
    "x = features\n",
    "x_valid = features_valid\n",
    "\n",
    "# yielder = lambda f_s: (f_s[0], [f_s[0], f_s[1]]) # (feats, [feats, scores])\n",
    "train_gen = batch_generator_df_bcolz(move_scores, x, batch_size)\n",
    "valid_gen = batch_generator_df_bcolz(move_scores[-60000:], x_valid, batch_size, shuffle=False)\n",
    "\n",
    "train_steps = ceil(len(x) / batch_size / 100.0)\n",
    "valid_steps = ceil(len(x_valid) / batch_size / 100.0)\n",
    "\n",
    "lr_plateau = keras.callbacks.ReduceLROnPlateau(monitor='val_loss', factor=0.05, patience=5, verbose=1)\n",
    "# checkpoint_path = '../slonik_data/weights.{epoch:03d}-{val_loss:.6f}.h5'\n",
    "checkpoint_path = '../../slonik_data/weights_best.h5'\n",
    "checkpoint = keras.callbacks.ModelCheckpoint(checkpoint_path, \n",
    "                                             monitor='val_loss', save_best_only=True, save_weights_only=True, period=1)\n",
    "stopping = keras.callbacks.EarlyStopping(monitor='val_loss', min_delta=0, patience=20, mode='auto')\n",
    "\n",
    "# clr = CyclicLR(base_lr=1e-4, max_lr=3.75e-3, step_size=train_steps*4, mode='triangular')\n",
    "\n",
    "# clr = CyclicLR(base_lr=1e-8, max_lr=2e-2, step_size=train_steps*10, mode='triangular')\n",
    "\n",
    "K.set_value(model.optimizer.lr, 1e-3)\n",
    "\n",
    "# callbacks = [clr]\n",
    "# callbacks = [clr, checkpoint]\n",
    "callbacks = [checkpoint, stopping, lr_plateau]\n",
    "\n",
    "hist = model.fit_generator(train_gen, train_steps, epochs=10, \n",
    "                          validation_data=valid_gen, validation_steps=valid_steps\n",
    "                          , callbacks=callbacks\n",
    "                   )\n",
    "hist\n",
    "# K.set_value(model.optimizer.lr, 1e-4)\n",
    "# model.fit_generator(train_gen, train_steps, epochs=2, validation_data=valid_gen, validation_steps=valid_steps)"
   ]
  },
  {
   "cell_type": "code",
   "execution_count": 124,
   "metadata": {},
   "outputs": [
    {
     "data": {
      "text/plain": [
       "0.0037499999"
      ]
     },
     "execution_count": 124,
     "metadata": {},
     "output_type": "execute_result"
    }
   ],
   "source": [
    "K.get_value(model.optimizer.lr)"
   ]
  },
  {
   "cell_type": "code",
   "execution_count": 163,
   "metadata": {},
   "outputs": [
    {
     "data": {
      "text/plain": [
       "[<matplotlib.lines.Line2D at 0x7f50f6ac7518>]"
      ]
     },
     "execution_count": 163,
     "metadata": {},
     "output_type": "execute_result"
    },
    {
     "data": {
      "image/png": "[encoded data removed]",
      "text/plain": [
       "<matplotlib.figure.Figure at 0x7f50de50e828>"
      ]
     },
     "metadata": {},
     "output_type": "display_data"
    }
   ],
   "source": [
    "plt.plot(clr.history['iterations'], clr.history['lr'])"
   ]
  },
  {
   "cell_type": "code",
   "execution_count": 121,
   "metadata": {},
   "outputs": [
    {
     "data": {
      "text/plain": [
       "dict_keys(['lr', 'iterations', 'batch', 'size', 'loss', 'val_tanh_loss', 'pol_softmax_loss'])"
      ]
     },
     "execution_count": 121,
     "metadata": {},
     "output_type": "execute_result"
    }
   ],
   "source": [
    "clr.history.keys()"
   ]
  },
  {
   "cell_type": "code",
   "execution_count": 164,
   "metadata": {},
   "outputs": [
    {
     "data": {
      "text/plain": [
       "[<matplotlib.lines.Line2D at 0x7f50da5b89e8>]"
      ]
     },
     "execution_count": 164,
     "metadata": {},
     "output_type": "execute_result"
    },
    {
     "data": {
      "image/png": "[encoded data removed]",
      "text/plain": [
       "<matplotlib.figure.Figure at 0x7f50da588dd8>"
      ]
     },
     "metadata": {},
     "output_type": "display_data"
    }
   ],
   "source": [
    "rng = np.s_[::train_steps]\n",
    "plt.plot(clr.history['iterations'][rng], clr.history['loss'][rng])"
   ]
  },
  {
   "cell_type": "code",
   "execution_count": 36,
   "metadata": {},
   "outputs": [
    {
     "data": {
      "text/plain": [
       "dict_keys(['val_loss', 'val_value_loss', 'val_policy_loss', 'loss', 'value_loss', 'policy_loss', 'lr'])"
      ]
     },
     "execution_count": 36,
     "metadata": {},
     "output_type": "execute_result"
    }
   ],
   "source": [
    "hist.history.keys()"
   ]
  },
  {
   "cell_type": "code",
   "execution_count": 239,
   "metadata": {},
   "outputs": [
    {
     "data": {
      "image/png": "[encoded data removed]",
      "text/plain": [
       "<matplotlib.figure.Figure at 0x7fdf37c4d588>"
      ]
     },
     "metadata": {},
     "output_type": "display_data"
    },
    {
     "data": {
      "image/png": "[encoded data removed]",
      "text/plain": [
       "<matplotlib.figure.Figure at 0x7fdf37a366a0>"
      ]
     },
     "metadata": {},
     "output_type": "display_data"
    },
    {
     "data": {
      "image/png": "[encoded data removed]",
      "text/plain": [
       "<matplotlib.figure.Figure at 0x7fdf37bd9668>"
      ]
     },
     "metadata": {},
     "output_type": "display_data"
    }
   ],
   "source": [
    "h = hist.history\n",
    "rng = np.s_[::]\n",
    "x = np.arange(len(h['loss']))\n",
    "plt.title('loss')\n",
    "plt.plot(x[rng], h['loss'][rng], 'r', \n",
    "         x[rng], h['val_loss'][rng], 'g'\n",
    "        )\n",
    "plt.show()\n",
    "plt.title('policy loss')\n",
    "plt.plot(x[rng], h['policy_loss'][rng], 'r', \n",
    "         x[rng], h['val_policy_loss'][rng], 'g'\n",
    "        )\n",
    "plt.show()\n",
    "plt.title('value loss')\n",
    "plt.plot(x[rng], h['value_loss'][rng], 'r', \n",
    "         x[rng], h['val_value_loss'][rng], 'g'\n",
    "        )\n",
    "plt.show()"
   ]
  },
  {
   "cell_type": "markdown",
   "metadata": {},
   "source": [
    "### evaluate models"
   ]
  },
  {
   "cell_type": "code",
   "execution_count": 135,
   "metadata": {},
   "outputs": [
    {
     "name": "stdout",
     "output_type": "stream",
     "text": [
      "['loss', 'value_loss', 'policy_loss']\n"
     ]
    },
    {
     "data": {
      "text/plain": [
       "[0.021873860079050064, 0.0029164831091960273, 5.6872129595438636]"
      ]
     },
     "execution_count": 135,
     "metadata": {},
     "output_type": "execute_result"
    }
   ],
   "source": [
    "batch_size = 64\n",
    "valid_steps = ceil(len(features_valid) / batch_size)\n",
    "valid_gen = batch_generator_df_bcolz(move_scores[-60000:], features_valid, batch_size, shuffle=False)\n",
    "print(model.metrics_names)\n",
    "model.evaluate_generator(valid_gen, steps=valid_steps)\n",
    "# [0.012284745800991852, 0.0033963700823485851, 2.6258472559611001] mlp0\n",
    "# [0.013706830607851347, 0.0025177150944868725, 3.9161904683430988]"
   ]
  },
  {
   "cell_type": "code",
   "execution_count": 177,
   "metadata": {
    "collapsed": true
   },
   "outputs": [],
   "source": [
    "model.save_weights('../../slonik_data/weights_best_mlp0_value_policy.h5')"
   ]
  },
  {
   "cell_type": "code",
   "execution_count": 173,
   "metadata": {
    "collapsed": true
   },
   "outputs": [],
   "source": [
    "model.load_weights('../../slonik_data/weights_best.h5')"
   ]
  },
  {
   "cell_type": "code",
   "execution_count": 223,
   "metadata": {},
   "outputs": [
    {
     "data": {
      "text/plain": [
       "[<matplotlib.lines.Line2D at 0x7fdf55a26fd0>]"
      ]
     },
     "execution_count": 223,
     "metadata": {},
     "output_type": "execute_result"
    },
    {
     "data": {
      "image/png": "[encoded data removed]",
      "text/plain": [
       "<matplotlib.figure.Figure at 0x7fdf5fee7d30>"
      ]
     },
     "metadata": {},
     "output_type": "display_data"
    }
   ],
   "source": [
    "rng = slice(100,140)\n",
    "dfrng = slice(rng.start+-60000, rng.stop+-60000)\n",
    "fens = move_scores[dfrng].orig_fen\n",
    "scores = move_scores[dfrng].score\n",
    "# np.allclose(features_sf12_valid[rng], np.array([get_feats(Position.from_fen(f)) for f in fens]))\n",
    "# pprint(list(zip(scores, evaluator.predict(features_sf12_valid[rng]).squeeze())))\n",
    "x = np.arange(len(scores))\n",
    "plt.plot(x, scores, 'r')\n",
    "plt.plot(x, model.predict(features_valid[rng])[0].squeeze(), 'g')"
   ]
  },
  {
   "cell_type": "code",
   "execution_count": 225,
   "metadata": {},
   "outputs": [
    {
     "name": "stdout",
     "output_type": "stream",
     "text": [
      "W to move\n",
      " ♜  ♞  ·  ·  ♚  ♝  ·  ♜ \n",
      " ♟  ♝  ♟  ·  ·  ♟  ♟  · \n",
      " ·  ♟  ·  ·  ♟  ·  ♛  · \n",
      " ·  ·  ·  ·  ♙  ·  ♘  ♟ \n",
      " ·  ·  ♙  ·  ·  ·  ·  · \n",
      " ♙  ·  ·  ·  ·  ·  ·  · \n",
      " ·  ♙  ·  ·  ·  ♙  ♙  ♙ \n",
      " ♖  ·  ♗  ♕  ♔  ♗  ·  ♖ \n",
      "\n",
      "f1d3\n"
     ]
    },
    {
     "data": {
      "text/plain": [
       "['d1f3', 'c1d2', 'd1d3', 'c1g5', 'c4d5']"
      ]
     },
     "execution_count": 225,
     "metadata": {},
     "output_type": "execute_result"
    }
   ],
   "source": [
    "n = 150\n",
    "print(Position.from_fen(move_scores.iloc[-60000+n].orig_fen))\n",
    "print(move_scores.iloc[-60000+n].move)\n",
    "preds = model.predict(features_valid[n][None])[1][0]\n",
    "label_to_san(np.argmax(preds))\n",
    "topk = np.argpartition(preds, -5)[-5:]\n",
    "topk_sorted = topk[np.argsort(preds[topk])][::-1]\n",
    "topk_sorted\n",
    "[label_to_san(k) for k in topk_sorted]"
   ]
  },
  {
   "cell_type": "code",
   "execution_count": null,
   "metadata": {
    "collapsed": true
   },
   "outputs": [],
   "source": []
  }
 ],
 "metadata": {
  "kernelspec": {
   "display_name": "Python 3",
   "language": "python",
   "name": "python3"
  },
  "language_info": {
   "codemirror_mode": {
    "name": "ipython",
    "version": 3
   },
   "file_extension": ".py",
   "mimetype": "text/x-python",
   "name": "python",
   "nbconvert_exporter": "python",
   "pygments_lexer": "ipython3",
   "version": "3.6.3"
  }
 },
 "nbformat": 4,
 "nbformat_minor": 2
}
