{
 "cells": [
  {
   "cell_type": "code",
   "execution_count": 1,
   "metadata": {},
   "outputs": [
    {
     "name": "stderr",
     "output_type": "stream",
     "text": [
      "Using TensorFlow backend.\n"
     ]
    },
    {
     "name": "stdout",
     "output_type": "stream",
     "text": [
      "Initializing Magics\n"
     ]
    }
   ],
   "source": [
    "import keras\n",
    "from keras.models import Model\n",
    "from keras.optimizers import Adam, SGD\n",
    "from keras.regularizers import l2\n",
    "from keras.layers import *\n",
    "import pandas as pd\n",
    "import numpy as np\n",
    "from position import Position\n",
    "import matplotlib.pyplot as plt\n",
    "%matplotlib inline\n",
    "import imp\n",
    "# imp.reload(cnnfeat)\n",
    "from multiprocessing import Queue\n",
    "from multiprocessing import Manager, Process, Pool\n",
    "import os\n",
    "from time import time\n",
    "import pickle\n",
    "import bcolz\n",
    "from tqdm import tqdm \n",
    "from cnnfeat import get_feats"
   ]
  },
  {
   "cell_type": "code",
   "execution_count": 2,
   "metadata": {
    "collapsed": true
   },
   "outputs": [],
   "source": [
    "from cycliclr import CyclicLR\n",
    "from math import ceil"
   ]
  },
  {
   "cell_type": "code",
   "execution_count": 3,
   "metadata": {
    "collapsed": true
   },
   "outputs": [],
   "source": [
    "def conv_block(input_tensor, filters, kernel_size=(3,3), act=True, weight_decay=1e-6):\n",
    "    # embed()\n",
    "    x = Convolution2D(filters, kernel_size, strides=(1,1), padding='same', use_bias=False,\n",
    "                      kernel_regularizer=l2(weight_decay))(input_tensor)\n",
    "    x = BatchNormalization()(x)\n",
    "    if act:\n",
    "        x = Activation('relu')(x)\n",
    "    return x\n",
    "\n",
    "def res_block(input_tensor, filters):\n",
    "    x = conv_block(input_tensor, filters)\n",
    "    # x = conv_block(x, filters)\n",
    "    x = conv_block(x, filters, act=False)\n",
    "    x = keras.layers.add([x, input_tensor])\n",
    "    x = Activation('relu')(x)\n",
    "    return x"
   ]
  },
  {
   "cell_type": "code",
   "execution_count": 4,
   "metadata": {},
   "outputs": [
    {
     "name": "stdout",
     "output_type": "stream",
     "text": [
      "__________________________________________________________________________________________________\n",
      "Layer (type)                    Output Shape         Param #     Connected to                     \n",
      "==================================================================================================\n",
      "input_1 (InputLayer)            (None, 8, 8, 14)     0                                            \n",
      "__________________________________________________________________________________________________\n",
      "conv2d_1 (Conv2D)               (None, 8, 8, 14)     1764        input_1[0][0]                    \n",
      "__________________________________________________________________________________________________\n",
      "batch_normalization_1 (BatchNor (None, 8, 8, 14)     56          conv2d_1[0][0]                   \n",
      "__________________________________________________________________________________________________\n",
      "activation_1 (Activation)       (None, 8, 8, 14)     0           batch_normalization_1[0][0]      \n",
      "__________________________________________________________________________________________________\n",
      "conv2d_2 (Conv2D)               (None, 8, 8, 14)     1764        activation_1[0][0]               \n",
      "__________________________________________________________________________________________________\n",
      "batch_normalization_2 (BatchNor (None, 8, 8, 14)     56          conv2d_2[0][0]                   \n",
      "__________________________________________________________________________________________________\n",
      "add_1 (Add)                     (None, 8, 8, 14)     0           batch_normalization_2[0][0]      \n",
      "                                                                 input_1[0][0]                    \n",
      "__________________________________________________________________________________________________\n",
      "activation_2 (Activation)       (None, 8, 8, 14)     0           add_1[0][0]                      \n",
      "__________________________________________________________________________________________________\n",
      "conv2d_3 (Conv2D)               (None, 8, 8, 14)     1764        activation_2[0][0]               \n",
      "__________________________________________________________________________________________________\n",
      "batch_normalization_3 (BatchNor (None, 8, 8, 14)     56          conv2d_3[0][0]                   \n",
      "__________________________________________________________________________________________________\n",
      "activation_3 (Activation)       (None, 8, 8, 14)     0           batch_normalization_3[0][0]      \n",
      "__________________________________________________________________________________________________\n",
      "conv2d_4 (Conv2D)               (None, 8, 8, 14)     1764        activation_3[0][0]               \n",
      "__________________________________________________________________________________________________\n",
      "batch_normalization_4 (BatchNor (None, 8, 8, 14)     56          conv2d_4[0][0]                   \n",
      "__________________________________________________________________________________________________\n",
      "add_2 (Add)                     (None, 8, 8, 14)     0           batch_normalization_4[0][0]      \n",
      "                                                                 activation_2[0][0]               \n",
      "__________________________________________________________________________________________________\n",
      "activation_4 (Activation)       (None, 8, 8, 14)     0           add_2[0][0]                      \n",
      "__________________________________________________________________________________________________\n",
      "conv2d_5 (Conv2D)               (None, 8, 8, 2)      252         activation_4[0][0]               \n",
      "__________________________________________________________________________________________________\n",
      "batch_normalization_5 (BatchNor (None, 8, 8, 2)      8           conv2d_5[0][0]                   \n",
      "__________________________________________________________________________________________________\n",
      "activation_5 (Activation)       (None, 8, 8, 2)      0           batch_normalization_5[0][0]      \n",
      "__________________________________________________________________________________________________\n",
      "conv2d_6 (Conv2D)               (None, 8, 8, 2)      36          activation_5[0][0]               \n",
      "__________________________________________________________________________________________________\n",
      "batch_normalization_6 (BatchNor (None, 8, 8, 2)      8           conv2d_6[0][0]                   \n",
      "__________________________________________________________________________________________________\n",
      "activation_6 (Activation)       (None, 8, 8, 2)      0           batch_normalization_6[0][0]      \n",
      "__________________________________________________________________________________________________\n",
      "conv2d_7 (Conv2D)               (None, 8, 8, 2)      36          activation_6[0][0]               \n",
      "__________________________________________________________________________________________________\n",
      "batch_normalization_7 (BatchNor (None, 8, 8, 2)      8           conv2d_7[0][0]                   \n",
      "__________________________________________________________________________________________________\n",
      "add_3 (Add)                     (None, 8, 8, 2)      0           batch_normalization_7[0][0]      \n",
      "                                                                 activation_5[0][0]               \n",
      "__________________________________________________________________________________________________\n",
      "activation_7 (Activation)       (None, 8, 8, 2)      0           add_3[0][0]                      \n",
      "__________________________________________________________________________________________________\n",
      "conv2d_8 (Conv2D)               (None, 8, 8, 2)      36          activation_7[0][0]               \n",
      "__________________________________________________________________________________________________\n",
      "batch_normalization_8 (BatchNor (None, 8, 8, 2)      8           conv2d_8[0][0]                   \n",
      "__________________________________________________________________________________________________\n",
      "activation_8 (Activation)       (None, 8, 8, 2)      0           batch_normalization_8[0][0]      \n",
      "__________________________________________________________________________________________________\n",
      "conv2d_9 (Conv2D)               (None, 8, 8, 2)      36          activation_8[0][0]               \n",
      "__________________________________________________________________________________________________\n",
      "batch_normalization_9 (BatchNor (None, 8, 8, 2)      8           conv2d_9[0][0]                   \n",
      "__________________________________________________________________________________________________\n",
      "add_4 (Add)                     (None, 8, 8, 2)      0           batch_normalization_9[0][0]      \n",
      "                                                                 activation_7[0][0]               \n",
      "__________________________________________________________________________________________________\n",
      "activation_9 (Activation)       (None, 8, 8, 2)      0           add_4[0][0]                      \n",
      "__________________________________________________________________________________________________\n",
      "conv2d_10 (Conv2D)              (None, 8, 8, 2)      36          activation_9[0][0]               \n",
      "__________________________________________________________________________________________________\n",
      "batch_normalization_10 (BatchNo (None, 8, 8, 2)      8           conv2d_10[0][0]                  \n",
      "__________________________________________________________________________________________________\n",
      "encoded (Activation)            (None, 8, 8, 2)      0           batch_normalization_10[0][0]     \n",
      "__________________________________________________________________________________________________\n",
      "conv2d_11 (Conv2D)              (None, 8, 8, 2)      36          encoded[0][0]                    \n",
      "__________________________________________________________________________________________________\n",
      "batch_normalization_11 (BatchNo (None, 8, 8, 2)      8           conv2d_11[0][0]                  \n",
      "__________________________________________________________________________________________________\n",
      "activation_10 (Activation)      (None, 8, 8, 2)      0           batch_normalization_11[0][0]     \n",
      "__________________________________________________________________________________________________\n",
      "conv2d_12 (Conv2D)              (None, 8, 8, 2)      36          activation_10[0][0]              \n",
      "__________________________________________________________________________________________________\n",
      "batch_normalization_12 (BatchNo (None, 8, 8, 2)      8           conv2d_12[0][0]                  \n",
      "__________________________________________________________________________________________________\n",
      "add_5 (Add)                     (None, 8, 8, 2)      0           batch_normalization_12[0][0]     \n",
      "                                                                 encoded[0][0]                    \n",
      "__________________________________________________________________________________________________\n",
      "activation_11 (Activation)      (None, 8, 8, 2)      0           add_5[0][0]                      \n",
      "__________________________________________________________________________________________________\n",
      "conv2d_13 (Conv2D)              (None, 8, 8, 2)      36          activation_11[0][0]              \n",
      "__________________________________________________________________________________________________\n",
      "batch_normalization_13 (BatchNo (None, 8, 8, 2)      8           conv2d_13[0][0]                  \n",
      "__________________________________________________________________________________________________\n",
      "activation_12 (Activation)      (None, 8, 8, 2)      0           batch_normalization_13[0][0]     \n",
      "__________________________________________________________________________________________________\n",
      "conv2d_14 (Conv2D)              (None, 8, 8, 2)      36          activation_12[0][0]              \n",
      "__________________________________________________________________________________________________\n",
      "batch_normalization_14 (BatchNo (None, 8, 8, 2)      8           conv2d_14[0][0]                  \n",
      "__________________________________________________________________________________________________\n",
      "add_6 (Add)                     (None, 8, 8, 2)      0           batch_normalization_14[0][0]     \n",
      "                                                                 activation_11[0][0]              \n",
      "__________________________________________________________________________________________________\n",
      "activation_13 (Activation)      (None, 8, 8, 2)      0           add_6[0][0]                      \n",
      "__________________________________________________________________________________________________\n",
      "conv2d_15 (Conv2D)              (None, 8, 8, 14)     252         activation_13[0][0]              \n",
      "__________________________________________________________________________________________________\n",
      "batch_normalization_15 (BatchNo (None, 8, 8, 14)     56          conv2d_15[0][0]                  \n",
      "__________________________________________________________________________________________________\n",
      "activation_14 (Activation)      (None, 8, 8, 14)     0           batch_normalization_15[0][0]     \n",
      "__________________________________________________________________________________________________\n",
      "conv2d_16 (Conv2D)              (None, 8, 8, 14)     1764        activation_14[0][0]              \n",
      "__________________________________________________________________________________________________\n",
      "batch_normalization_16 (BatchNo (None, 8, 8, 14)     56          conv2d_16[0][0]                  \n",
      "__________________________________________________________________________________________________\n",
      "activation_15 (Activation)      (None, 8, 8, 14)     0           batch_normalization_16[0][0]     \n",
      "__________________________________________________________________________________________________\n",
      "conv2d_17 (Conv2D)              (None, 8, 8, 14)     1764        activation_15[0][0]              \n",
      "__________________________________________________________________________________________________\n",
      "batch_normalization_17 (BatchNo (None, 8, 8, 14)     56          conv2d_17[0][0]                  \n",
      "__________________________________________________________________________________________________\n",
      "add_7 (Add)                     (None, 8, 8, 14)     0           batch_normalization_17[0][0]     \n",
      "                                                                 activation_14[0][0]              \n",
      "__________________________________________________________________________________________________\n",
      "activation_16 (Activation)      (None, 8, 8, 14)     0           add_7[0][0]                      \n",
      "__________________________________________________________________________________________________\n",
      "conv2d_18 (Conv2D)              (None, 8, 8, 14)     1764        activation_16[0][0]              \n",
      "__________________________________________________________________________________________________\n",
      "batch_normalization_18 (BatchNo (None, 8, 8, 14)     56          conv2d_18[0][0]                  \n",
      "__________________________________________________________________________________________________\n",
      "flatten_1 (Flatten)             (None, 128)          0           encoded[0][0]                    \n",
      "__________________________________________________________________________________________________\n",
      "activation_17 (Activation)      (None, 8, 8, 14)     0           batch_normalization_18[0][0]     \n",
      "__________________________________________________________________________________________________\n",
      "dense_1 (Dense)                 (None, 200)          25800       flatten_1[0][0]                  \n",
      "__________________________________________________________________________________________________\n",
      "conv2d_19 (Conv2D)              (None, 8, 8, 14)     1764        activation_17[0][0]              \n",
      "__________________________________________________________________________________________________\n",
      "batch_normalization_21 (BatchNo (None, 200)          800         dense_1[0][0]                    \n",
      "__________________________________________________________________________________________________\n",
      "batch_normalization_19 (BatchNo (None, 8, 8, 14)     56          conv2d_19[0][0]                  \n",
      "__________________________________________________________________________________________________\n",
      "activation_19 (Activation)      (None, 200)          0           batch_normalization_21[0][0]     \n",
      "__________________________________________________________________________________________________\n",
      "add_8 (Add)                     (None, 8, 8, 14)     0           batch_normalization_19[0][0]     \n",
      "                                                                 activation_16[0][0]              \n",
      "__________________________________________________________________________________________________\n",
      "dense_2 (Dense)                 (None, 100)          20100       activation_19[0][0]              \n",
      "__________________________________________________________________________________________________\n",
      "activation_18 (Activation)      (None, 8, 8, 14)     0           add_8[0][0]                      \n",
      "__________________________________________________________________________________________________\n",
      "batch_normalization_22 (BatchNo (None, 100)          400         dense_2[0][0]                    \n",
      "__________________________________________________________________________________________________\n",
      "conv2d_20 (Conv2D)              (None, 8, 8, 14)     1764        activation_18[0][0]              \n",
      "__________________________________________________________________________________________________\n",
      "activation_20 (Activation)      (None, 100)          0           batch_normalization_22[0][0]     \n",
      "__________________________________________________________________________________________________\n",
      "batch_normalization_20 (BatchNo (None, 8, 8, 14)     56          conv2d_20[0][0]                  \n",
      "__________________________________________________________________________________________________\n",
      "dense_3 (Dense)                 (None, 1)            101         activation_20[0][0]              \n",
      "__________________________________________________________________________________________________\n",
      "decoded (Activation)            multiple             0           batch_normalization_20[0][0]     \n",
      "__________________________________________________________________________________________________\n",
      "value (Activation)              (None, 1)            0           dense_3[0][0]                    \n",
      "==================================================================================================\n",
      "Total params: 64,545\n",
      "Trainable params: 63,625\n",
      "Non-trainable params: 920\n",
      "__________________________________________________________________________________________________\n"
     ]
    }
   ],
   "source": [
    "from keras.layers import Input\n",
    "\n",
    "# encoder\n",
    "net_input = Input((8,8,14))\n",
    "x = net_input\n",
    "for i in range(2):\n",
    "    x = res_block(x, 14)\n",
    "x = conv_block(x, 2, kernel_size=(3,3))\n",
    "for i in range(2):\n",
    "    x = res_block(x, 2)\n",
    "x = conv_block(x, 2, kernel_size=(3,3), act=False)\n",
    "encoder_t = Activation('sigmoid', name='encoded')\n",
    "encoded = encoder_t(x)\n",
    "enc_shp = (8,8,2)\n",
    "\n",
    "# decoder\n",
    "x = encoded\n",
    "for i in range(2):\n",
    "    x = res_block(x, 2)\n",
    "x = conv_block(x, 14, kernel_size=(3,3))\n",
    "for i in range(2):\n",
    "    x = res_block(x, 14)\n",
    "x = conv_block(x, 14, kernel_size=(3,3), act=False)\n",
    "decoder_t = Activation('sigmoid', name='decoded')\n",
    "decoded = decoder_t(x)\n",
    "\n",
    "# evaluator\n",
    "x = encoded\n",
    "x = Flatten()(x)\n",
    "x = Dense(200)(x)\n",
    "x = BatchNormalization()(x)\n",
    "x = Activation('relu')(x)\n",
    "x = Dense(100)(x)\n",
    "x = BatchNormalization()(x)\n",
    "x = Activation('relu')(x)\n",
    "x = Dense(1)(x)\n",
    "value_t = Activation('tanh', name='value')\n",
    "value = value_t(x)\n",
    "\n",
    "dec_input = Input(enc_shp)\n",
    "eval_input = Input(enc_shp)\n",
    "\n",
    "encoder = Model(net_input, encoded) # 7.8k params\n",
    "decoder = Model(dec_input, decoder_t(dec_input)) \n",
    "autoencoder = Model(net_input, decoded) # 17.5 params\n",
    "evaluator = Model(net_input, value) # 50k params\n",
    "train_model = Model(net_input, outputs=[decoded, value]) # 64k params\n",
    "\n",
    "train_model.summary()"
   ]
  },
  {
   "cell_type": "code",
   "execution_count": 5,
   "metadata": {
    "collapsed": true
   },
   "outputs": [],
   "source": [
    "def batch_generator_df_bcolz(dframe, bcolz_arr, batch_size, shuffle=True, yielder=lambda x: x):\n",
    "    assert(batch_size % bcolz_arr.chunklen == 0)\n",
    "    chunks_per_batch = batch_size // bcolz_arr.chunklen\n",
    "    init_bounds = bcolz_arr.partitions\n",
    "    if bcolz_arr.leftover_elements > 0:\n",
    "        init_bounds.append((init_bounds[-1][1], len(bcolz_arr)))\n",
    "    while True:\n",
    "        bounds = np.random.permutation(init_bounds) if shuffle else init_bounds\n",
    "        feats_chunks, scores_chunks = [], []\n",
    "        def return_batch():\n",
    "            feats = np.concatenate(feats_chunks, axis=0)\n",
    "            scores = np.concatenate(scores_chunks, axis=0)\n",
    "            feats_chunks.clear()\n",
    "            scores_chunks.clear()\n",
    "            return yielder((feats, scores))\n",
    "        chunks = 0\n",
    "        for start, stop in bounds:\n",
    "            feats_chunks.append(bcolz_arr[start:stop])\n",
    "            scores_chunks.append(np.array(dframe[start:stop].score, dtype='float32'))\n",
    "            chunks += 1\n",
    "            if chunks % chunks_per_batch == 0:\n",
    "                yield return_batch()\n",
    "        if len(feats_chunks) > 0:\n",
    "            yield return_batch()"
   ]
  },
  {
   "cell_type": "code",
   "execution_count": 6,
   "metadata": {
    "collapsed": true
   },
   "outputs": [],
   "source": [
    "from bcolz_array_iterator import BcolzArrayIterator\n",
    "\n",
    "def batch_generator_bcolz(data, batch_size, shuffle=True):\n",
    "    batch_generator_bcolz = BcolzArrayIterator(data, batch_size=batch_size, shuffle=shuffle)\n",
    "    while True:\n",
    "        feats = next(batch_generator_bcolz)\n",
    "        yield feats, feats"
   ]
  },
  {
   "cell_type": "code",
   "execution_count": 7,
   "metadata": {
    "collapsed": true
   },
   "outputs": [],
   "source": [
    "def batch_generator_df(data, batch_size, shuffle=True):\n",
    "    while True:\n",
    "        data_ = data.sample(frac=1) if shuffle else data\n",
    "        for iteration, batch in data_.groupby(np.arange(len(data)) // batch_size):\n",
    "            fens = [f.strip() for f in batch.fen.tolist()]\n",
    "            feats = np.stack([get_feats(Position.from_fen(fen)) for fen in fens])\n",
    "            yield feats, feats"
   ]
  },
  {
   "cell_type": "code",
   "execution_count": 64,
   "metadata": {
    "collapsed": true
   },
   "outputs": [],
   "source": [
    "train_model.compile(keras.optimizers.SGD(lr=.01, momentum=.99, nesterov=True), 'mse', loss_weights=[1e-5, 1.])"
   ]
  },
  {
   "cell_type": "code",
   "execution_count": 45,
   "metadata": {
    "collapsed": true
   },
   "outputs": [],
   "source": [
    "features_sf3_sample = bcolz.open(mode='r', rootdir='/ssd/slonik_data/features_sf3_sample.bc')\n",
    "features_sf3_valid_sample = bcolz.open(mode='r', rootdir='/ssd/slonik_data/features_sf3_valid_sample.bc')"
   ]
  },
  {
   "cell_type": "code",
   "execution_count": 46,
   "metadata": {
    "collapsed": true
   },
   "outputs": [],
   "source": [
    "sf_scores3 = pd.read_pickle('/ssd/slonik_data/sf_scores_3dep.pkl')"
   ]
  },
  {
   "cell_type": "code",
   "execution_count": 47,
   "metadata": {
    "collapsed": true
   },
   "outputs": [],
   "source": [
    "assert(np.allclose(features_sf3_valid_sample[0], get_feats(Position.from_fen(sf_scores3.iloc[-60000].fen))))\n",
    "assert(np.allclose(features_sf3_sample[0], get_feats(Position.from_fen(sf_scores3.iloc[0].fen))))"
   ]
  },
  {
   "cell_type": "code",
   "execution_count": 86,
   "metadata": {
    "collapsed": true
   },
   "outputs": [],
   "source": [
    "wgts = train_model.get_weights()"
   ]
  },
  {
   "cell_type": "code",
   "execution_count": 78,
   "metadata": {
    "collapsed": true
   },
   "outputs": [],
   "source": [
    "train_model.set_weights(wgts)"
   ]
  },
  {
   "cell_type": "code",
   "execution_count": 114,
   "metadata": {},
   "outputs": [
    {
     "name": "stdout",
     "output_type": "stream",
     "text": [
      "Epoch 1/100\n",
      "24/24 [==============================] - 1s 44ms/step - loss: 0.0071 - decoded_loss: 0.2779 - value_loss: 0.0070 - val_loss: 0.0098 - val_decoded_loss: 0.2529 - val_value_loss: 0.0096\n",
      "Epoch 2/100\n",
      "24/24 [==============================] - 1s 44ms/step - loss: 0.0070 - decoded_loss: 0.2779 - value_loss: 0.0069 - val_loss: 0.0107 - val_decoded_loss: 0.2573 - val_value_loss: 0.0106\n",
      "Epoch 3/100\n",
      "24/24 [==============================] - 1s 43ms/step - loss: 0.0067 - decoded_loss: 0.2780 - value_loss: 0.0066 - val_loss: 0.0112 - val_decoded_loss: 0.2613 - val_value_loss: 0.0111\n",
      "Epoch 4/100\n",
      "24/24 [==============================] - 1s 42ms/step - loss: 0.0064 - decoded_loss: 0.2781 - value_loss: 0.0063 - val_loss: 0.0085 - val_decoded_loss: 0.2649 - val_value_loss: 0.0083\n",
      "Epoch 5/100\n",
      "24/24 [==============================] - 1s 43ms/step - loss: 0.0062 - decoded_loss: 0.2782 - value_loss: 0.0060 - val_loss: 0.0077 - val_decoded_loss: 0.2683 - val_value_loss: 0.0075\n",
      "Epoch 6/100\n",
      "24/24 [==============================] - 1s 43ms/step - loss: 0.0060 - decoded_loss: 0.2782 - value_loss: 0.0058 - val_loss: 0.0068 - val_decoded_loss: 0.2712 - val_value_loss: 0.0067\n",
      "Epoch 7/100\n",
      "24/24 [==============================] - 1s 43ms/step - loss: 0.0058 - decoded_loss: 0.2782 - value_loss: 0.0057 - val_loss: 0.0064 - val_decoded_loss: 0.2735 - val_value_loss: 0.0063\n",
      "Epoch 8/100\n",
      "24/24 [==============================] - 1s 44ms/step - loss: 0.0058 - decoded_loss: 0.2782 - value_loss: 0.0056 - val_loss: 0.0062 - val_decoded_loss: 0.2751 - val_value_loss: 0.0060\n",
      "Epoch 9/100\n",
      "24/24 [==============================] - 1s 44ms/step - loss: 0.0057 - decoded_loss: 0.2782 - value_loss: 0.0056 - val_loss: 0.0061 - val_decoded_loss: 0.2763 - val_value_loss: 0.0059\n",
      "Epoch 10/100\n",
      "24/24 [==============================] - 1s 44ms/step - loss: 0.0057 - decoded_loss: 0.2783 - value_loss: 0.0055 - val_loss: 0.0059 - val_decoded_loss: 0.2771 - val_value_loss: 0.0057\n",
      "Epoch 11/100\n",
      "24/24 [==============================] - 1s 44ms/step - loss: 0.0057 - decoded_loss: 0.2783 - value_loss: 0.0055 - val_loss: 0.0058 - val_decoded_loss: 0.2777 - val_value_loss: 0.0056\n",
      "Epoch 12/100\n",
      "24/24 [==============================] - 1s 44ms/step - loss: 0.0057 - decoded_loss: 0.2783 - value_loss: 0.0055 - val_loss: 0.0057 - val_decoded_loss: 0.2782 - val_value_loss: 0.0056\n",
      "Epoch 13/100\n",
      "24/24 [==============================] - 1s 44ms/step - loss: 0.0056 - decoded_loss: 0.2783 - value_loss: 0.0055 - val_loss: 0.0057 - val_decoded_loss: 0.2785 - val_value_loss: 0.0055\n",
      "Epoch 14/100\n",
      "24/24 [==============================] - 1s 43ms/step - loss: 0.0056 - decoded_loss: 0.2783 - value_loss: 0.0054 - val_loss: 0.0057 - val_decoded_loss: 0.2786 - val_value_loss: 0.0055\n",
      "Epoch 15/100\n",
      "24/24 [==============================] - 1s 44ms/step - loss: 0.0056 - decoded_loss: 0.2783 - value_loss: 0.0054 - val_loss: 0.0057 - val_decoded_loss: 0.2786 - val_value_loss: 0.0055\n",
      "Epoch 16/100\n",
      "24/24 [==============================] - 1s 44ms/step - loss: 0.0056 - decoded_loss: 0.2783 - value_loss: 0.0054 - val_loss: 0.0056 - val_decoded_loss: 0.2784 - val_value_loss: 0.0055\n",
      "Epoch 17/100\n",
      "24/24 [==============================] - 1s 43ms/step - loss: 0.0056 - decoded_loss: 0.2783 - value_loss: 0.0054 - val_loss: 0.0056 - val_decoded_loss: 0.2782 - val_value_loss: 0.0054\n",
      "Epoch 18/100\n",
      "24/24 [==============================] - 1s 43ms/step - loss: 0.0055 - decoded_loss: 0.2783 - value_loss: 0.0054 - val_loss: 0.0056 - val_decoded_loss: 0.2781 - val_value_loss: 0.0054\n",
      "Epoch 19/100\n",
      "24/24 [==============================] - 1s 43ms/step - loss: 0.0055 - decoded_loss: 0.2783 - value_loss: 0.0054 - val_loss: 0.0056 - val_decoded_loss: 0.2781 - val_value_loss: 0.0054\n",
      "Epoch 20/100\n",
      "24/24 [==============================] - 1s 43ms/step - loss: 0.0055 - decoded_loss: 0.2782 - value_loss: 0.0054 - val_loss: 0.0056 - val_decoded_loss: 0.2781 - val_value_loss: 0.0054\n",
      "Epoch 21/100\n",
      "24/24 [==============================] - 1s 44ms/step - loss: 0.0055 - decoded_loss: 0.2782 - value_loss: 0.0054 - val_loss: 0.0056 - val_decoded_loss: 0.2782 - val_value_loss: 0.0054\n",
      "Epoch 22/100\n",
      "24/24 [==============================] - 1s 45ms/step - loss: 0.0055 - decoded_loss: 0.2782 - value_loss: 0.0053 - val_loss: 0.0055 - val_decoded_loss: 0.2783 - val_value_loss: 0.0054\n",
      "Epoch 23/100\n",
      "24/24 [==============================] - 1s 44ms/step - loss: 0.0055 - decoded_loss: 0.2782 - value_loss: 0.0053 - val_loss: 0.0055 - val_decoded_loss: 0.2784 - val_value_loss: 0.0054\n",
      "Epoch 24/100\n",
      "24/24 [==============================] - 1s 44ms/step - loss: 0.0055 - decoded_loss: 0.2782 - value_loss: 0.0053 - val_loss: 0.0056 - val_decoded_loss: 0.2786 - val_value_loss: 0.0054\n",
      "Epoch 25/100\n",
      "24/24 [==============================] - 1s 44ms/step - loss: 0.0055 - decoded_loss: 0.2782 - value_loss: 0.0053 - val_loss: 0.0056 - val_decoded_loss: 0.2788 - val_value_loss: 0.0054\n",
      "Epoch 26/100\n",
      "24/24 [==============================] - 1s 45ms/step - loss: 0.0055 - decoded_loss: 0.2782 - value_loss: 0.0053 - val_loss: 0.0055 - val_decoded_loss: 0.2788 - val_value_loss: 0.0054\n",
      "Epoch 27/100\n",
      "24/24 [==============================] - 1s 43ms/step - loss: 0.0055 - decoded_loss: 0.2782 - value_loss: 0.0053 - val_loss: 0.0056 - val_decoded_loss: 0.2788 - val_value_loss: 0.0054\n",
      "Epoch 28/100\n",
      "24/24 [==============================] - 1s 43ms/step - loss: 0.0055 - decoded_loss: 0.2782 - value_loss: 0.0053 - val_loss: 0.0056 - val_decoded_loss: 0.2788 - val_value_loss: 0.0054\n",
      "Epoch 29/100\n",
      "24/24 [==============================] - 1s 43ms/step - loss: 0.0055 - decoded_loss: 0.2782 - value_loss: 0.0053 - val_loss: 0.0055 - val_decoded_loss: 0.2789 - val_value_loss: 0.0054\n",
      "Epoch 30/100\n",
      "24/24 [==============================] - 1s 44ms/step - loss: 0.0055 - decoded_loss: 0.2782 - value_loss: 0.0053 - val_loss: 0.0056 - val_decoded_loss: 0.2789 - val_value_loss: 0.0054\n",
      "Epoch 31/100\n",
      "24/24 [==============================] - 1s 43ms/step - loss: 0.0055 - decoded_loss: 0.2782 - value_loss: 0.0053 - val_loss: 0.0056 - val_decoded_loss: 0.2789 - val_value_loss: 0.0054\n",
      "Epoch 32/100\n",
      "24/24 [==============================] - 1s 44ms/step - loss: 0.0055 - decoded_loss: 0.2782 - value_loss: 0.0053 - val_loss: 0.0056 - val_decoded_loss: 0.2789 - val_value_loss: 0.0054\n",
      "Epoch 33/100\n",
      "24/24 [==============================] - 1s 45ms/step - loss: 0.0055 - decoded_loss: 0.2782 - value_loss: 0.0053 - val_loss: 0.0055 - val_decoded_loss: 0.2788 - val_value_loss: 0.0054\n",
      "Epoch 34/100\n",
      "24/24 [==============================] - 1s 44ms/step - loss: 0.0055 - decoded_loss: 0.2782 - value_loss: 0.0053 - val_loss: 0.0056 - val_decoded_loss: 0.2788 - val_value_loss: 0.0054\n",
      "Epoch 35/100\n",
      "24/24 [==============================] - 1s 44ms/step - loss: 0.0055 - decoded_loss: 0.2782 - value_loss: 0.0053 - val_loss: 0.0056 - val_decoded_loss: 0.2788 - val_value_loss: 0.0054\n",
      "Epoch 36/100\n",
      "24/24 [==============================] - 1s 45ms/step - loss: 0.0055 - decoded_loss: 0.2782 - value_loss: 0.0053 - val_loss: 0.0055 - val_decoded_loss: 0.2787 - val_value_loss: 0.0054\n",
      "Epoch 37/100\n",
      "24/24 [==============================] - 1s 45ms/step - loss: 0.0054 - decoded_loss: 0.2782 - value_loss: 0.0053 - val_loss: 0.0056 - val_decoded_loss: 0.2788 - val_value_loss: 0.0054\n",
      "Epoch 38/100\n",
      "24/24 [==============================] - 1s 45ms/step - loss: 0.0054 - decoded_loss: 0.2782 - value_loss: 0.0053 - val_loss: 0.0056 - val_decoded_loss: 0.2788 - val_value_loss: 0.0054\n",
      "Epoch 39/100\n",
      "24/24 [==============================] - 1s 44ms/step - loss: 0.0054 - decoded_loss: 0.2782 - value_loss: 0.0053 - val_loss: 0.0056 - val_decoded_loss: 0.2788 - val_value_loss: 0.0054\n",
      "Epoch 40/100\n",
      "24/24 [==============================] - 1s 44ms/step - loss: 0.0054 - decoded_loss: 0.2782 - value_loss: 0.0053 - val_loss: 0.0056 - val_decoded_loss: 0.2788 - val_value_loss: 0.0054\n",
      "Epoch 41/100\n",
      "24/24 [==============================] - 1s 44ms/step - loss: 0.0054 - decoded_loss: 0.2782 - value_loss: 0.0053 - val_loss: 0.0056 - val_decoded_loss: 0.2788 - val_value_loss: 0.0054\n",
      "Epoch 42/100\n",
      "24/24 [==============================] - 1s 44ms/step - loss: 0.0054 - decoded_loss: 0.2782 - value_loss: 0.0053 - val_loss: 0.0055 - val_decoded_loss: 0.2788 - val_value_loss: 0.0054\n"
     ]
    },
    {
     "name": "stdout",
     "output_type": "stream",
     "text": [
      "Epoch 43/100\n",
      "24/24 [==============================] - 1s 44ms/step - loss: 0.0054 - decoded_loss: 0.2782 - value_loss: 0.0053 - val_loss: 0.0056 - val_decoded_loss: 0.2788 - val_value_loss: 0.0054\n",
      "Epoch 44/100\n",
      "24/24 [==============================] - 1s 44ms/step - loss: 0.0054 - decoded_loss: 0.2782 - value_loss: 0.0053 - val_loss: 0.0056 - val_decoded_loss: 0.2788 - val_value_loss: 0.0054\n",
      "Epoch 45/100\n",
      "24/24 [==============================] - 1s 44ms/step - loss: 0.0054 - decoded_loss: 0.2782 - value_loss: 0.0053 - val_loss: 0.0056 - val_decoded_loss: 0.2788 - val_value_loss: 0.0054\n",
      "Epoch 46/100\n",
      "24/24 [==============================] - 1s 44ms/step - loss: 0.0054 - decoded_loss: 0.2782 - value_loss: 0.0053 - val_loss: 0.0056 - val_decoded_loss: 0.2788 - val_value_loss: 0.0054\n",
      "Epoch 47/100\n",
      "24/24 [==============================] - 1s 44ms/step - loss: 0.0054 - decoded_loss: 0.2782 - value_loss: 0.0052 - val_loss: 0.0056 - val_decoded_loss: 0.2788 - val_value_loss: 0.0054\n",
      "Epoch 48/100\n",
      "24/24 [==============================] - 1s 43ms/step - loss: 0.0054 - decoded_loss: 0.2782 - value_loss: 0.0052 - val_loss: 0.0056 - val_decoded_loss: 0.2788 - val_value_loss: 0.0054\n",
      "Epoch 49/100\n",
      "24/24 [==============================] - 1s 44ms/step - loss: 0.0054 - decoded_loss: 0.2782 - value_loss: 0.0052 - val_loss: 0.0056 - val_decoded_loss: 0.2788 - val_value_loss: 0.0054\n",
      "Epoch 50/100\n",
      "24/24 [==============================] - 1s 44ms/step - loss: 0.0054 - decoded_loss: 0.2782 - value_loss: 0.0052 - val_loss: 0.0056 - val_decoded_loss: 0.2788 - val_value_loss: 0.0054\n",
      "Epoch 51/100\n",
      "24/24 [==============================] - 1s 43ms/step - loss: 0.0054 - decoded_loss: 0.2782 - value_loss: 0.0052 - val_loss: 0.0056 - val_decoded_loss: 0.2788 - val_value_loss: 0.0054\n",
      "Epoch 52/100\n",
      "24/24 [==============================] - 1s 43ms/step - loss: 0.0054 - decoded_loss: 0.2782 - value_loss: 0.0052 - val_loss: 0.0055 - val_decoded_loss: 0.2789 - val_value_loss: 0.0054\n",
      "Epoch 53/100\n",
      "24/24 [==============================] - 1s 44ms/step - loss: 0.0054 - decoded_loss: 0.2782 - value_loss: 0.0052 - val_loss: 0.0055 - val_decoded_loss: 0.2789 - val_value_loss: 0.0054\n",
      "Epoch 54/100\n",
      "24/24 [==============================] - 1s 43ms/step - loss: 0.0054 - decoded_loss: 0.2782 - value_loss: 0.0052 - val_loss: 0.0056 - val_decoded_loss: 0.2790 - val_value_loss: 0.0054\n",
      "Epoch 55/100\n",
      "24/24 [==============================] - 1s 44ms/step - loss: 0.0054 - decoded_loss: 0.2782 - value_loss: 0.0052 - val_loss: 0.0056 - val_decoded_loss: 0.2790 - val_value_loss: 0.0054\n",
      "Epoch 56/100\n",
      "24/24 [==============================] - 1s 44ms/step - loss: 0.0054 - decoded_loss: 0.2782 - value_loss: 0.0052 - val_loss: 0.0056 - val_decoded_loss: 0.2789 - val_value_loss: 0.0054\n",
      "Epoch 57/100\n",
      "24/24 [==============================] - 1s 44ms/step - loss: 0.0054 - decoded_loss: 0.2782 - value_loss: 0.0052 - val_loss: 0.0056 - val_decoded_loss: 0.2789 - val_value_loss: 0.0054\n",
      "Epoch 58/100\n",
      "24/24 [==============================] - 1s 44ms/step - loss: 0.0054 - decoded_loss: 0.2782 - value_loss: 0.0052 - val_loss: 0.0056 - val_decoded_loss: 0.2789 - val_value_loss: 0.0054\n",
      "Epoch 59/100\n",
      "24/24 [==============================] - 1s 44ms/step - loss: 0.0054 - decoded_loss: 0.2782 - value_loss: 0.0052 - val_loss: 0.0056 - val_decoded_loss: 0.2789 - val_value_loss: 0.0054\n",
      "Epoch 60/100\n",
      "24/24 [==============================] - 1s 45ms/step - loss: 0.0054 - decoded_loss: 0.2782 - value_loss: 0.0052 - val_loss: 0.0056 - val_decoded_loss: 0.2789 - val_value_loss: 0.0054\n",
      "Epoch 61/100\n",
      "24/24 [==============================] - 1s 44ms/step - loss: 0.0054 - decoded_loss: 0.2782 - value_loss: 0.0052 - val_loss: 0.0056 - val_decoded_loss: 0.2789 - val_value_loss: 0.0054\n",
      "Epoch 62/100\n",
      "24/24 [==============================] - 1s 44ms/step - loss: 0.0054 - decoded_loss: 0.2782 - value_loss: 0.0052 - val_loss: 0.0056 - val_decoded_loss: 0.2789 - val_value_loss: 0.0054\n",
      "Epoch 63/100\n",
      "24/24 [==============================] - 1s 43ms/step - loss: 0.0053 - decoded_loss: 0.2782 - value_loss: 0.0052 - val_loss: 0.0056 - val_decoded_loss: 0.2789 - val_value_loss: 0.0054\n",
      "Epoch 64/100\n",
      "24/24 [==============================] - 1s 43ms/step - loss: 0.0053 - decoded_loss: 0.2782 - value_loss: 0.0052 - val_loss: 0.0056 - val_decoded_loss: 0.2789 - val_value_loss: 0.0054\n",
      "Epoch 65/100\n",
      "24/24 [==============================] - 1s 44ms/step - loss: 0.0053 - decoded_loss: 0.2782 - value_loss: 0.0052 - val_loss: 0.0056 - val_decoded_loss: 0.2788 - val_value_loss: 0.0054\n",
      "Epoch 66/100\n",
      "24/24 [==============================] - 1s 44ms/step - loss: 0.0053 - decoded_loss: 0.2782 - value_loss: 0.0052 - val_loss: 0.0056 - val_decoded_loss: 0.2788 - val_value_loss: 0.0054\n",
      "Epoch 67/100\n",
      "24/24 [==============================] - 1s 44ms/step - loss: 0.0054 - decoded_loss: 0.2782 - value_loss: 0.0052 - val_loss: 0.0056 - val_decoded_loss: 0.2787 - val_value_loss: 0.0054\n",
      "Epoch 68/100\n",
      "24/24 [==============================] - 1s 44ms/step - loss: 0.0053 - decoded_loss: 0.2782 - value_loss: 0.0052 - val_loss: 0.0056 - val_decoded_loss: 0.2787 - val_value_loss: 0.0054\n",
      "Epoch 69/100\n",
      "24/24 [==============================] - 1s 44ms/step - loss: 0.0053 - decoded_loss: 0.2782 - value_loss: 0.0052 - val_loss: 0.0056 - val_decoded_loss: 0.2787 - val_value_loss: 0.0054\n",
      "Epoch 70/100\n",
      "24/24 [==============================] - 1s 44ms/step - loss: 0.0053 - decoded_loss: 0.2782 - value_loss: 0.0052 - val_loss: 0.0056 - val_decoded_loss: 0.2788 - val_value_loss: 0.0054\n",
      "Epoch 71/100\n",
      "24/24 [==============================] - 1s 44ms/step - loss: 0.0053 - decoded_loss: 0.2782 - value_loss: 0.0052 - val_loss: 0.0056 - val_decoded_loss: 0.2788 - val_value_loss: 0.0054\n",
      "Epoch 72/100\n",
      "24/24 [==============================] - 1s 44ms/step - loss: 0.0053 - decoded_loss: 0.2782 - value_loss: 0.0052 - val_loss: 0.0056 - val_decoded_loss: 0.2787 - val_value_loss: 0.0054\n",
      "Epoch 73/100\n",
      "24/24 [==============================] - 1s 44ms/step - loss: 0.0053 - decoded_loss: 0.2782 - value_loss: 0.0052 - val_loss: 0.0056 - val_decoded_loss: 0.2787 - val_value_loss: 0.0054\n",
      "Epoch 74/100\n",
      "24/24 [==============================] - 1s 44ms/step - loss: 0.0053 - decoded_loss: 0.2782 - value_loss: 0.0052 - val_loss: 0.0056 - val_decoded_loss: 0.2787 - val_value_loss: 0.0054\n",
      "Epoch 75/100\n",
      "24/24 [==============================] - 1s 44ms/step - loss: 0.0053 - decoded_loss: 0.2782 - value_loss: 0.0052 - val_loss: 0.0056 - val_decoded_loss: 0.2788 - val_value_loss: 0.0054\n",
      "Epoch 76/100\n",
      "24/24 [==============================] - 1s 43ms/step - loss: 0.0053 - decoded_loss: 0.2782 - value_loss: 0.0052 - val_loss: 0.0056 - val_decoded_loss: 0.2788 - val_value_loss: 0.0054\n",
      "Epoch 77/100\n",
      "24/24 [==============================] - 1s 43ms/step - loss: 0.0053 - decoded_loss: 0.2782 - value_loss: 0.0051 - val_loss: 0.0056 - val_decoded_loss: 0.2787 - val_value_loss: 0.0054\n",
      "Epoch 78/100\n",
      "24/24 [==============================] - 1s 43ms/step - loss: 0.0053 - decoded_loss: 0.2782 - value_loss: 0.0051 - val_loss: 0.0056 - val_decoded_loss: 0.2787 - val_value_loss: 0.0054\n",
      "Epoch 79/100\n",
      "24/24 [==============================] - 1s 44ms/step - loss: 0.0053 - decoded_loss: 0.2782 - value_loss: 0.0051 - val_loss: 0.0056 - val_decoded_loss: 0.2787 - val_value_loss: 0.0054\n",
      "Epoch 80/100\n",
      "24/24 [==============================] - 1s 43ms/step - loss: 0.0053 - decoded_loss: 0.2782 - value_loss: 0.0051 - val_loss: 0.0056 - val_decoded_loss: 0.2787 - val_value_loss: 0.0054\n",
      "Epoch 81/100\n",
      "24/24 [==============================] - 1s 43ms/step - loss: 0.0053 - decoded_loss: 0.2782 - value_loss: 0.0051 - val_loss: 0.0056 - val_decoded_loss: 0.2788 - val_value_loss: 0.0054\n",
      "Epoch 82/100\n",
      "24/24 [==============================] - 1s 44ms/step - loss: 0.0053 - decoded_loss: 0.2781 - value_loss: 0.0051 - val_loss: 0.0056 - val_decoded_loss: 0.2788 - val_value_loss: 0.0054\n",
      "Epoch 83/100\n",
      "24/24 [==============================] - 1s 43ms/step - loss: 0.0053 - decoded_loss: 0.2781 - value_loss: 0.0051 - val_loss: 0.0056 - val_decoded_loss: 0.2789 - val_value_loss: 0.0054\n",
      "Epoch 84/100\n",
      "24/24 [==============================] - 1s 44ms/step - loss: 0.0053 - decoded_loss: 0.2781 - value_loss: 0.0051 - val_loss: 0.0056 - val_decoded_loss: 0.2789 - val_value_loss: 0.0054\n",
      "Epoch 85/100\n",
      "24/24 [==============================] - 1s 44ms/step - loss: 0.0053 - decoded_loss: 0.2781 - value_loss: 0.0051 - val_loss: 0.0056 - val_decoded_loss: 0.2789 - val_value_loss: 0.0054\n",
      "Epoch 86/100\n",
      "24/24 [==============================] - 1s 44ms/step - loss: 0.0053 - decoded_loss: 0.2781 - value_loss: 0.0051 - val_loss: 0.0056 - val_decoded_loss: 0.2789 - val_value_loss: 0.0054\n",
      "Epoch 87/100\n",
      "24/24 [==============================] - 1s 43ms/step - loss: 0.0053 - decoded_loss: 0.2781 - value_loss: 0.0051 - val_loss: 0.0056 - val_decoded_loss: 0.2788 - val_value_loss: 0.0055\n",
      "Epoch 88/100\n",
      "24/24 [==============================] - 1s 44ms/step - loss: 0.0053 - decoded_loss: 0.2781 - value_loss: 0.0051 - val_loss: 0.0056 - val_decoded_loss: 0.2788 - val_value_loss: 0.0054\n",
      "Epoch 89/100\n",
      "24/24 [==============================] - 1s 44ms/step - loss: 0.0053 - decoded_loss: 0.2781 - value_loss: 0.0051 - val_loss: 0.0056 - val_decoded_loss: 0.2789 - val_value_loss: 0.0054\n",
      "Epoch 90/100\n",
      "24/24 [==============================] - 1s 45ms/step - loss: 0.0053 - decoded_loss: 0.2781 - value_loss: 0.0051 - val_loss: 0.0056 - val_decoded_loss: 0.2789 - val_value_loss: 0.0054\n",
      "Epoch 91/100\n",
      "24/24 [==============================] - 1s 43ms/step - loss: 0.0053 - decoded_loss: 0.2781 - value_loss: 0.0051 - val_loss: 0.0056 - val_decoded_loss: 0.2789 - val_value_loss: 0.0054\n",
      "Epoch 92/100\n",
      "24/24 [==============================] - 1s 44ms/step - loss: 0.0052 - decoded_loss: 0.2781 - value_loss: 0.0051 - val_loss: 0.0056 - val_decoded_loss: 0.2789 - val_value_loss: 0.0054\n",
      "Epoch 93/100\n",
      "24/24 [==============================] - 1s 44ms/step - loss: 0.0052 - decoded_loss: 0.2781 - value_loss: 0.0051 - val_loss: 0.0056 - val_decoded_loss: 0.2789 - val_value_loss: 0.0054\n",
      "Epoch 94/100\n",
      "24/24 [==============================] - 1s 44ms/step - loss: 0.0052 - decoded_loss: 0.2781 - value_loss: 0.0051 - val_loss: 0.0056 - val_decoded_loss: 0.2789 - val_value_loss: 0.0054\n",
      "Epoch 95/100\n",
      "24/24 [==============================] - 1s 45ms/step - loss: 0.0052 - decoded_loss: 0.2781 - value_loss: 0.0051 - val_loss: 0.0056 - val_decoded_loss: 0.2789 - val_value_loss: 0.0055\n",
      "Epoch 96/100\n",
      "24/24 [==============================] - 1s 43ms/step - loss: 0.0052 - decoded_loss: 0.2781 - value_loss: 0.0051 - val_loss: 0.0056 - val_decoded_loss: 0.2789 - val_value_loss: 0.0054\n",
      "Epoch 97/100\n",
      "24/24 [==============================] - 1s 43ms/step - loss: 0.0052 - decoded_loss: 0.2781 - value_loss: 0.0051 - val_loss: 0.0056 - val_decoded_loss: 0.2789 - val_value_loss: 0.0055\n",
      "Epoch 98/100\n",
      "24/24 [==============================] - 1s 44ms/step - loss: 0.0052 - decoded_loss: 0.2781 - value_loss: 0.0051 - val_loss: 0.0056 - val_decoded_loss: 0.2788 - val_value_loss: 0.0054\n",
      "Epoch 99/100\n",
      "24/24 [==============================] - 1s 44ms/step - loss: 0.0052 - decoded_loss: 0.2781 - value_loss: 0.0051 - val_loss: 0.0056 - val_decoded_loss: 0.2788 - val_value_loss: 0.0055\n",
      "Epoch 100/100\n",
      "24/24 [==============================] - 1s 44ms/step - loss: 0.0052 - decoded_loss: 0.2781 - value_loss: 0.0051 - val_loss: 0.0056 - val_decoded_loss: 0.2788 - val_value_loss: 0.0054\n"
     ]
    },
    {
     "data": {
      "text/plain": [
       "<keras.callbacks.History at 0x7f9f62e197f0>"
      ]
     },
     "execution_count": 114,
     "metadata": {},
     "output_type": "execute_result"
    }
   ],
   "source": [
    "batch_size = 1024\n",
    "#nvalid = len(features_sf12_valid)\n",
    "\n",
    "x = features_sf3_sample\n",
    "x_valid = features_sf3_valid_sample\n",
    "\n",
    "yielder = lambda f_s: (f_s[0], [f_s[0], f_s[1]]) # (feats, [feats, scores])\n",
    "train_gen = batch_generator_df_bcolz(sf_scores3, x, batch_size, yielder=yielder)\n",
    "valid_gen = batch_generator_df_bcolz(sf_scores3[-60000:], x_valid, batch_size, shuffle=False, yielder=yielder)\n",
    "\n",
    "train_steps = ceil(len(x) / batch_size)\n",
    "valid_steps = ceil(len(x_valid) / batch_size)\n",
    "\n",
    "# lr_plateau = keras.callbacks.ReduceLROnPlateau(monitor='val_loss', factor=0.05, patience=5, verbose=1)\n",
    "checkpoint = keras.callbacks.ModelCheckpoint('../slonik_data/weights.{epoch:03d}-{val_loss:.6f}.h5', \n",
    "                                             monitor='val_loss', save_best_only=True, save_weights_only=True, period=1)\n",
    "# stopping = keras.callbacks.EarlyStopping(monitor='val_loss', min_delta=0, patience=20, mode='auto')\n",
    "clr = CyclicLR(base_lr=8e-4, max_lr=1e-2, step_size=train_steps*5, mode='triangular')\n",
    "# clr = CyclicLR(base_lr=0, max_lr=1e-2, step_size=train_steps*5, mode='triangular')\n",
    "\n",
    "callbacks = [clr]\n",
    "# callbacks = [clr, checkpoint]\n",
    "# K.set_value(train_model.optimizer.lr, 1e-3)\n",
    "train_model.fit_generator(train_gen, train_steps, epochs=100, \n",
    "                          validation_data=valid_gen, validation_steps=valid_steps, callbacks=callbacks)\n",
    "\n",
    "# K.set_value(train_model.optimizer.lr, 1e-5)\n",
    "# train_model.fit_generator(train_gen, train_steps, epochs=2, validation_data=valid_gen, validation_steps=valid_steps)"
   ]
  },
  {
   "cell_type": "code",
   "execution_count": 88,
   "metadata": {
    "collapsed": true
   },
   "outputs": [
    {
     "data": {
      "text/plain": [
       "[<matplotlib.lines.Line2D at 0x7f9f62da2c18>]"
      ]
     },
     "execution_count": 88,
     "metadata": {},
     "output_type": "execute_result"
    },
    {
     "data": {
      "image/png": "[encoded data removed]",
      "text/plain": [
       "<matplotlib.figure.Figure at 0x7f9f62e121d0>"
      ]
     },
     "metadata": {},
     "output_type": "display_data"
    }
   ],
   "source": [
    "plt.plot(clr.history['iterations'], clr.history['lr'])"
   ]
  },
  {
   "cell_type": "code",
   "execution_count": 116,
   "metadata": {},
   "outputs": [
    {
     "data": {
      "text/plain": [
       "[<matplotlib.lines.Line2D at 0x7f9f61ee7d30>]"
      ]
     },
     "execution_count": 116,
     "metadata": {},
     "output_type": "execute_result"
    },
    {
     "data": {
      "image/png": "[encoded data removed]",
      "text/plain": [
       "<matplotlib.figure.Figure at 0x7f9f61f5a278>"
      ]
     },
     "metadata": {},
     "output_type": "display_data"
    }
   ],
   "source": [
    "# rng = np.s_[-140:]\n",
    "plt.plot(clr.history['iterations'][rng], clr.history['loss'][rng])"
   ]
  },
  {
   "cell_type": "markdown",
   "metadata": {},
   "source": [
    "### evaluate models"
   ]
  },
  {
   "cell_type": "code",
   "execution_count": 85,
   "metadata": {},
   "outputs": [
    {
     "data": {
      "text/plain": [
       "[0.010914361697932085, 0.23725561400254566, 0.010763831712305546]"
      ]
     },
     "execution_count": 85,
     "metadata": {},
     "output_type": "execute_result"
    }
   ],
   "source": [
    "batch_size = 1024 * 2\n",
    "valid_steps = ceil(len(features_sf3_valid_sample) / batch_size)\n",
    "valid_gen = batch_generator_df_bcolz(sf_scores3, features_sf3_valid_sample, batch_size, shuffle=False, \n",
    "                                     yielder=lambda f_s: (f_s[0], [f_s[0], f_s[1]]))\n",
    "train_model.evaluate_generator(valid_gen, steps=valid_steps)\n",
    "# train_model.metrics_names\n",
    "# K.get_value(train_model.optimizer.lr)"
   ]
  },
  {
   "cell_type": "code",
   "execution_count": 117,
   "metadata": {},
   "outputs": [
    {
     "data": {
      "text/plain": [
       "[<matplotlib.lines.Line2D at 0x7f9f61ef1630>]"
      ]
     },
     "execution_count": 117,
     "metadata": {},
     "output_type": "execute_result"
    },
    {
     "data": {
      "image/png": "[encoded data removed]",
      "text/plain": [
       "<matplotlib.figure.Figure at 0x7f9f6216b208>"
      ]
     },
     "metadata": {},
     "output_type": "display_data"
    }
   ],
   "source": [
    "rng = slice(0,40)\n",
    "dfrng = slice(rng.start+-60000, rng.stop+-60000)\n",
    "fens = sf_scores3[dfrng].fen\n",
    "scores = sf_scores3[dfrng].score\n",
    "# np.allclose(features_sf12_valid[rng], np.array([get_feats(Position.from_fen(f)) for f in fens]))\n",
    "# pprint(list(zip(scores, evaluator.predict(features_sf12_valid[rng]).squeeze())))\n",
    "x = np.arange(len(scores))\n",
    "plt.plot(x, scores, 'r')\n",
    "plt.plot(x, train_model.predict(features_sf3_valid_sample[rng])[1].squeeze(), 'b')"
   ]
  }
 ],
 "metadata": {
  "kernelspec": {
   "display_name": "Python 3",
   "language": "python",
   "name": "python3"
  },
  "language_info": {
   "codemirror_mode": {
    "name": "ipython",
    "version": 3
   },
   "file_extension": ".py",
   "mimetype": "text/x-python",
   "name": "python",
   "nbconvert_exporter": "python",
   "pygments_lexer": "ipython3",
   "version": "3.5.2"
  }
 },
 "nbformat": 4,
 "nbformat_minor": 2
}
