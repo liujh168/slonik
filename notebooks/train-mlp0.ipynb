{
 "cells": [
  {
   "cell_type": "code",
   "execution_count": 1,
   "metadata": {},
   "outputs": [
    {
     "name": "stderr",
     "output_type": "stream",
     "text": [
      "Using TensorFlow backend.\n"
     ]
    },
    {
     "name": "stdout",
     "output_type": "stream",
     "text": [
      "Initializing Magics\n"
     ]
    }
   ],
   "source": [
    "import keras\n",
    "from keras.models import Model\n",
    "from keras.optimizers import Adam, SGD\n",
    "from keras.regularizers import l2\n",
    "from keras.layers import *\n",
    "import pandas as pd\n",
    "import numpy as np\n",
    "from position import Position\n",
    "import matplotlib.pyplot as plt\n",
    "%matplotlib inline\n",
    "import imp\n",
    "# imp.reload(cnnfeat)\n",
    "from multiprocessing import Queue\n",
    "from multiprocessing import Manager, Process, Pool\n",
    "import os\n",
    "from time import time\n",
    "import pickle\n",
    "import bcolz\n",
    "from tqdm import tqdm \n",
    "from cnnfeat import get_feats"
   ]
  },
  {
   "cell_type": "code",
   "execution_count": 2,
   "metadata": {
    "collapsed": true
   },
   "outputs": [],
   "source": [
    "from cycliclr import CyclicLR\n",
    "from math import ceil"
   ]
  },
  {
   "cell_type": "code",
   "execution_count": 136,
   "metadata": {
    "collapsed": true
   },
   "outputs": [],
   "source": [
    "def dense_model():\n",
    "    net_input = Input((8,8,14))\n",
    "    x = Dense(64)(net_input)\n",
    "    x = Activation('relu')(x)\n",
    "    x = Dense(32)(x)\n",
    "    x = Activation('relu')(x)\n",
    "    x = Flatten()(x)\n",
    "    x = Dense(1)(x)\n",
    "    output = Activation('tanh')(x)\n",
    "    # 13997 params\n",
    "    return net_input, output"
   ]
  },
  {
   "cell_type": "code",
   "execution_count": 137,
   "metadata": {
    "collapsed": true
   },
   "outputs": [],
   "source": [
    "inputs, output = dense_model()\n",
    "model = Model(inputs, output)"
   ]
  },
  {
   "cell_type": "code",
   "execution_count": 138,
   "metadata": {},
   "outputs": [
    {
     "name": "stdout",
     "output_type": "stream",
     "text": [
      "_________________________________________________________________\n",
      "Layer (type)                 Output Shape              Param #   \n",
      "=================================================================\n",
      "input_12 (InputLayer)        (None, 8, 8, 14)          0         \n",
      "_________________________________________________________________\n",
      "dense_34 (Dense)             (None, 8, 8, 64)          960       \n",
      "_________________________________________________________________\n",
      "activation_34 (Activation)   (None, 8, 8, 64)          0         \n",
      "_________________________________________________________________\n",
      "dense_35 (Dense)             (None, 8, 8, 32)          2080      \n",
      "_________________________________________________________________\n",
      "activation_35 (Activation)   (None, 8, 8, 32)          0         \n",
      "_________________________________________________________________\n",
      "flatten_12 (Flatten)         (None, 2048)              0         \n",
      "_________________________________________________________________\n",
      "dense_36 (Dense)             (None, 1)                 2049      \n",
      "_________________________________________________________________\n",
      "activation_36 (Activation)   (None, 1)                 0         \n",
      "=================================================================\n",
      "Total params: 5,089\n",
      "Trainable params: 5,089\n",
      "Non-trainable params: 0\n",
      "_________________________________________________________________\n"
     ]
    }
   ],
   "source": [
    "model.summary()"
   ]
  },
  {
   "cell_type": "code",
   "execution_count": 6,
   "metadata": {
    "collapsed": true
   },
   "outputs": [],
   "source": [
    "def batch_generator_df_bcolz(dframe, bcolz_arr, batch_size, shuffle=True, yielder=lambda x: x):\n",
    "    assert(batch_size % bcolz_arr.chunklen == 0)\n",
    "    chunks_per_batch = batch_size // bcolz_arr.chunklen\n",
    "    init_bounds = bcolz_arr.partitions\n",
    "    if bcolz_arr.leftover_elements > 0:\n",
    "        init_bounds.append((init_bounds[-1][1], len(bcolz_arr)))\n",
    "    while True:\n",
    "        bounds = np.random.permutation(init_bounds) if shuffle else init_bounds\n",
    "        feats_chunks, scores_chunks = [], []\n",
    "        def return_batch():\n",
    "            feats = np.concatenate(feats_chunks, axis=0)\n",
    "            scores = np.concatenate(scores_chunks, axis=0)\n",
    "            feats_chunks.clear()\n",
    "            scores_chunks.clear()\n",
    "            return yielder((feats, scores))\n",
    "        chunks = 0\n",
    "        for start, stop in bounds:\n",
    "            feats_chunks.append(bcolz_arr[start:stop])\n",
    "            scores_chunks.append(np.array(dframe[start:stop].score, dtype='float32'))\n",
    "            chunks += 1\n",
    "            if chunks % chunks_per_batch == 0:\n",
    "                yield return_batch()\n",
    "        if len(feats_chunks) > 0:\n",
    "            yield return_batch()"
   ]
  },
  {
   "cell_type": "code",
   "execution_count": 7,
   "metadata": {
    "collapsed": true
   },
   "outputs": [],
   "source": [
    "from bcolz_array_iterator import BcolzArrayIterator\n",
    "\n",
    "def batch_generator_bcolz(data, batch_size, shuffle=True):\n",
    "    batch_generator_bcolz = BcolzArrayIterator(data, batch_size=batch_size, shuffle=shuffle)\n",
    "    while True:\n",
    "        feats = next(batch_generator_bcolz)\n",
    "        yield feats, feats"
   ]
  },
  {
   "cell_type": "code",
   "execution_count": 8,
   "metadata": {
    "collapsed": true
   },
   "outputs": [],
   "source": [
    "def batch_generator_df(data, batch_size, shuffle=True):\n",
    "    while True:\n",
    "        data_ = data.sample(frac=1) if shuffle else data\n",
    "        for iteration, batch in data_.groupby(np.arange(len(data)) // batch_size):\n",
    "            fens = [f.strip() for f in batch.fen.tolist()]\n",
    "            feats = np.stack([get_feats(Position.from_fen(fen)) for fen in fens])\n",
    "            yield feats, feats"
   ]
  },
  {
   "cell_type": "code",
   "execution_count": 150,
   "metadata": {
    "collapsed": true
   },
   "outputs": [],
   "source": [
    "model.compile(keras.optimizers.SGD(lr=.01, momentum=.99, nesterov=True), 'mse')"
   ]
  },
  {
   "cell_type": "code",
   "execution_count": 139,
   "metadata": {
    "collapsed": true
   },
   "outputs": [],
   "source": [
    "model.compile('adam', 'mse')"
   ]
  },
  {
   "cell_type": "code",
   "execution_count": 140,
   "metadata": {
    "collapsed": true
   },
   "outputs": [],
   "source": [
    "features = bcolz.open(mode='r', rootdir='/ssd/slonik_data/features_sf3.bc')\n",
    "features_valid = bcolz.open(mode='r', rootdir='/ssd/slonik_data/features_sf3_valid.bc')"
   ]
  },
  {
   "cell_type": "code",
   "execution_count": 141,
   "metadata": {
    "collapsed": true
   },
   "outputs": [],
   "source": [
    "sf_scores3 = pd.read_pickle('/ssd/slonik_data/sf_scores_3dep.pkl')"
   ]
  },
  {
   "cell_type": "code",
   "execution_count": 142,
   "metadata": {},
   "outputs": [],
   "source": [
    "def get_feats_stack(fens):\n",
    "    return np.stack([get_feats(Position.from_fen(f)) for f in fens])"
   ]
  },
  {
   "cell_type": "code",
   "execution_count": 143,
   "metadata": {},
   "outputs": [],
   "source": [
    "assert(np.allclose(features_valid[0], get_feats(Position.from_fen(sf_scores3.iloc[-60000].fen))))\n",
    "assert(np.allclose(features_valid[0:100], get_feats_stack(sf_scores3.iloc[-60000:-60000+100].fen)))\n",
    "assert(np.allclose(features[0], get_feats(Position.from_fen(sf_scores3.iloc[0].fen))))\n",
    "assert(np.allclose(features[23470:23570], get_feats_stack(sf_scores3.iloc[23470:23570].fen)))"
   ]
  },
  {
   "cell_type": "code",
   "execution_count": 144,
   "metadata": {
    "collapsed": true
   },
   "outputs": [],
   "source": [
    "wgts = model.get_weights()"
   ]
  },
  {
   "cell_type": "code",
   "execution_count": 159,
   "metadata": {
    "collapsed": true
   },
   "outputs": [],
   "source": [
    "model.set_weights(wgts)"
   ]
  },
  {
   "cell_type": "code",
   "execution_count": 168,
   "metadata": {
    "scrolled": true
   },
   "outputs": [
    {
     "name": "stdout",
     "output_type": "stream",
     "text": [
      "Epoch 1/300\n",
      "231/231 [==============================] - 3s 12ms/step - loss: 0.0012 - val_loss: 9.7549e-04\n",
      "Epoch 2/300\n",
      "231/231 [==============================] - 3s 12ms/step - loss: 0.0012 - val_loss: 9.8118e-04\n",
      "Epoch 3/300\n",
      "231/231 [==============================] - 3s 12ms/step - loss: 0.0012 - val_loss: 9.7817e-04\n",
      "Epoch 4/300\n",
      "231/231 [==============================] - 3s 12ms/step - loss: 0.0012 - val_loss: 9.7564e-04\n",
      "Epoch 5/300\n",
      "231/231 [==============================] - 3s 12ms/step - loss: 0.0012 - val_loss: 9.7545e-04\n",
      "Epoch 6/300\n",
      "231/231 [==============================] - 3s 12ms/step - loss: 0.0012 - val_loss: 9.8575e-04\n",
      "Epoch 7/300\n",
      "231/231 [==============================] - 3s 12ms/step - loss: 0.0012 - val_loss: 9.7644e-04\n",
      "Epoch 8/300\n",
      "231/231 [==============================] - 3s 12ms/step - loss: 0.0012 - val_loss: 0.0010\n",
      "Epoch 9/300\n",
      "231/231 [==============================] - 3s 12ms/step - loss: 0.0012 - val_loss: 9.7966e-04\n",
      "Epoch 10/300\n",
      "231/231 [==============================] - 3s 12ms/step - loss: 0.0012 - val_loss: 9.8791e-04\n",
      "Epoch 11/300\n",
      "231/231 [==============================] - 3s 12ms/step - loss: 0.0012 - val_loss: 9.7918e-04\n",
      "Epoch 12/300\n",
      "231/231 [==============================] - 3s 12ms/step - loss: 0.0012 - val_loss: 9.8303e-04\n",
      "Epoch 13/300\n",
      "231/231 [==============================] - 3s 12ms/step - loss: 0.0012 - val_loss: 0.0010\n",
      "Epoch 14/300\n",
      "231/231 [==============================] - 3s 12ms/step - loss: 0.0012 - val_loss: 9.8559e-04\n",
      "Epoch 15/300\n",
      "231/231 [==============================] - 3s 12ms/step - loss: 0.0012 - val_loss: 9.7556e-04\n",
      "Epoch 16/300\n",
      "231/231 [==============================] - 3s 13ms/step - loss: 0.0012 - val_loss: 9.7498e-04\n",
      "Epoch 17/300\n",
      "231/231 [==============================] - 3s 12ms/step - loss: 0.0012 - val_loss: 9.8219e-04\n",
      "Epoch 18/300\n",
      "231/231 [==============================] - 3s 12ms/step - loss: 0.0012 - val_loss: 9.7545e-04\n",
      "Epoch 19/300\n",
      "231/231 [==============================] - 3s 12ms/step - loss: 0.0012 - val_loss: 9.7580e-04\n",
      "Epoch 20/300\n",
      "231/231 [==============================] - 3s 12ms/step - loss: 0.0012 - val_loss: 9.7573e-04\n",
      "Epoch 21/300\n",
      "231/231 [==============================] - 3s 12ms/step - loss: 0.0012 - val_loss: 9.7575e-04\n",
      "Epoch 22/300\n",
      "231/231 [==============================] - 3s 12ms/step - loss: 0.0012 - val_loss: 9.7527e-04\n",
      "Epoch 23/300\n",
      "231/231 [==============================] - 3s 12ms/step - loss: 0.0012 - val_loss: 9.7670e-04\n",
      "Epoch 24/300\n",
      "231/231 [==============================] - 3s 12ms/step - loss: 0.0012 - val_loss: 9.7657e-04\n",
      "Epoch 25/300\n",
      "231/231 [==============================] - 3s 12ms/step - loss: 0.0012 - val_loss: 9.8028e-04\n",
      "Epoch 26/300\n",
      "231/231 [==============================] - 3s 12ms/step - loss: 0.0012 - val_loss: 9.8198e-04\n",
      "Epoch 27/300\n",
      "231/231 [==============================] - 3s 12ms/step - loss: 0.0012 - val_loss: 9.8319e-04\n",
      "Epoch 28/300\n",
      "231/231 [==============================] - 3s 12ms/step - loss: 0.0012 - val_loss: 9.7640e-04\n",
      "Epoch 29/300\n",
      "231/231 [==============================] - 3s 12ms/step - loss: 0.0012 - val_loss: 9.8461e-04\n",
      "Epoch 30/300\n",
      "231/231 [==============================] - 3s 12ms/step - loss: 0.0012 - val_loss: 9.8968e-04\n",
      "Epoch 31/300\n",
      "231/231 [==============================] - 3s 12ms/step - loss: 0.0012 - val_loss: 9.8130e-04\n",
      "Epoch 32/300\n",
      "231/231 [==============================] - 3s 12ms/step - loss: 0.0012 - val_loss: 9.8582e-04\n",
      "Epoch 33/300\n",
      "231/231 [==============================] - 3s 12ms/step - loss: 0.0012 - val_loss: 9.8521e-04\n",
      "Epoch 34/300\n",
      "231/231 [==============================] - 3s 12ms/step - loss: 0.0012 - val_loss: 9.7904e-04\n",
      "Epoch 35/300\n",
      "231/231 [==============================] - 3s 12ms/step - loss: 0.0012 - val_loss: 9.7796e-04\n",
      "Epoch 36/300\n",
      "231/231 [==============================] - 3s 12ms/step - loss: 0.0012 - val_loss: 9.7952e-04\n",
      "Epoch 37/300\n",
      "231/231 [==============================] - 3s 12ms/step - loss: 0.0012 - val_loss: 9.7529e-04\n",
      "Epoch 38/300\n",
      "231/231 [==============================] - 3s 12ms/step - loss: 0.0012 - val_loss: 9.7520e-04\n",
      "Epoch 39/300\n",
      "231/231 [==============================] - 3s 12ms/step - loss: 0.0012 - val_loss: 9.8004e-04\n",
      "Epoch 40/300\n",
      "231/231 [==============================] - 3s 12ms/step - loss: 0.0012 - val_loss: 9.7668e-04\n",
      "Epoch 41/300\n",
      "231/231 [==============================] - 3s 12ms/step - loss: 0.0012 - val_loss: 9.7835e-04\n",
      "Epoch 42/300\n",
      "231/231 [==============================] - 3s 12ms/step - loss: 0.0012 - val_loss: 9.7818e-04\n",
      "Epoch 43/300\n",
      "231/231 [==============================] - 3s 12ms/step - loss: 0.0012 - val_loss: 9.7511e-04\n",
      "Epoch 44/300\n",
      "231/231 [==============================] - 3s 12ms/step - loss: 0.0012 - val_loss: 9.8159e-04\n",
      "Epoch 45/300\n",
      "231/231 [==============================] - 3s 12ms/step - loss: 0.0012 - val_loss: 9.7627e-04\n",
      "Epoch 46/300\n",
      "231/231 [==============================] - 3s 12ms/step - loss: 0.0012 - val_loss: 9.7723e-04\n",
      "Epoch 47/300\n",
      "231/231 [==============================] - 3s 12ms/step - loss: 0.0012 - val_loss: 9.8254e-04\n",
      "Epoch 48/300\n",
      "231/231 [==============================] - 3s 12ms/step - loss: 0.0012 - val_loss: 9.8641e-04\n",
      "Epoch 49/300\n",
      "231/231 [==============================] - 3s 12ms/step - loss: 0.0012 - val_loss: 9.9924e-04\n",
      "Epoch 50/300\n",
      "231/231 [==============================] - 3s 12ms/step - loss: 0.0012 - val_loss: 9.8750e-04\n",
      "Epoch 51/300\n",
      "231/231 [==============================] - 3s 12ms/step - loss: 0.0012 - val_loss: 0.0010\n",
      "Epoch 52/300\n",
      "231/231 [==============================] - 3s 12ms/step - loss: 0.0012 - val_loss: 9.7578e-04\n",
      "Epoch 53/300\n",
      "231/231 [==============================] - 3s 12ms/step - loss: 0.0012 - val_loss: 9.7879e-04\n",
      "Epoch 54/300\n",
      "231/231 [==============================] - 3s 12ms/step - loss: 0.0012 - val_loss: 9.7642e-04\n",
      "Epoch 55/300\n",
      "231/231 [==============================] - 3s 12ms/step - loss: 0.0012 - val_loss: 9.8359e-04\n",
      "Epoch 56/300\n",
      "231/231 [==============================] - 3s 12ms/step - loss: 0.0012 - val_loss: 9.8305e-04\n",
      "Epoch 57/300\n",
      "231/231 [==============================] - 3s 12ms/step - loss: 0.0012 - val_loss: 9.7876e-04\n",
      "Epoch 58/300\n",
      "231/231 [==============================] - 3s 12ms/step - loss: 0.0012 - val_loss: 9.7449e-04\n",
      "Epoch 59/300\n",
      "231/231 [==============================] - 3s 12ms/step - loss: 0.0012 - val_loss: 9.7474e-04\n",
      "Epoch 60/300\n",
      "231/231 [==============================] - 3s 12ms/step - loss: 0.0012 - val_loss: 9.7743e-04\n",
      "Epoch 61/300\n",
      "231/231 [==============================] - 3s 12ms/step - loss: 0.0012 - val_loss: 9.7452e-04\n",
      "Epoch 62/300\n",
      "231/231 [==============================] - 3s 12ms/step - loss: 0.0012 - val_loss: 9.7485e-04\n",
      "Epoch 63/300\n",
      "231/231 [==============================] - 3s 12ms/step - loss: 0.0012 - val_loss: 9.7486e-04\n",
      "Epoch 64/300\n",
      "231/231 [==============================] - 3s 12ms/step - loss: 0.0012 - val_loss: 9.7549e-04\n",
      "Epoch 65/300\n",
      "231/231 [==============================] - 3s 12ms/step - loss: 0.0012 - val_loss: 9.7624e-04\n",
      "Epoch 66/300\n",
      "231/231 [==============================] - 3s 12ms/step - loss: 0.0012 - val_loss: 9.8713e-04\n",
      "Epoch 67/300\n",
      "231/231 [==============================] - 3s 12ms/step - loss: 0.0012 - val_loss: 9.7812e-04\n",
      "Epoch 68/300\n",
      "231/231 [==============================] - 3s 12ms/step - loss: 0.0012 - val_loss: 9.7542e-04\n",
      "Epoch 69/300\n",
      "231/231 [==============================] - 3s 12ms/step - loss: 0.0012 - val_loss: 0.0010\n",
      "Epoch 70/300\n",
      "231/231 [==============================] - 3s 12ms/step - loss: 0.0012 - val_loss: 9.9282e-04\n",
      "Epoch 71/300\n",
      "231/231 [==============================] - 3s 12ms/step - loss: 0.0012 - val_loss: 0.0010\n",
      "Epoch 72/300\n",
      "231/231 [==============================] - 3s 12ms/step - loss: 0.0012 - val_loss: 9.7881e-04\n",
      "Epoch 73/300\n",
      "231/231 [==============================] - 3s 12ms/step - loss: 0.0012 - val_loss: 9.8741e-04\n",
      "Epoch 74/300\n",
      "231/231 [==============================] - 3s 12ms/step - loss: 0.0012 - val_loss: 9.8480e-04\n",
      "Epoch 75/300\n",
      "231/231 [==============================] - 3s 12ms/step - loss: 0.0012 - val_loss: 9.7913e-04\n",
      "Epoch 76/300\n",
      "231/231 [==============================] - 3s 12ms/step - loss: 0.0012 - val_loss: 9.7673e-04\n",
      "Epoch 77/300\n",
      "231/231 [==============================] - 3s 12ms/step - loss: 0.0012 - val_loss: 9.7498e-04\n"
     ]
    },
    {
     "name": "stdout",
     "output_type": "stream",
     "text": [
      "Epoch 78/300\n",
      "231/231 [==============================] - 3s 12ms/step - loss: 0.0012 - val_loss: 9.7908e-04\n",
      "Epoch 79/300\n",
      "231/231 [==============================] - 3s 12ms/step - loss: 0.0012 - val_loss: 9.7532e-04\n",
      "Epoch 80/300\n",
      "231/231 [==============================] - 3s 12ms/step - loss: 0.0012 - val_loss: 9.7476e-04\n",
      "Epoch 81/300\n",
      "231/231 [==============================] - 3s 12ms/step - loss: 0.0012 - val_loss: 9.7797e-04\n",
      "Epoch 82/300\n",
      "231/231 [==============================] - 3s 12ms/step - loss: 0.0012 - val_loss: 9.7863e-04\n",
      "Epoch 83/300\n",
      "231/231 [==============================] - 3s 12ms/step - loss: 0.0012 - val_loss: 9.7684e-04\n",
      "Epoch 84/300\n",
      "231/231 [==============================] - 3s 12ms/step - loss: 0.0012 - val_loss: 9.7589e-04\n",
      "Epoch 85/300\n",
      "231/231 [==============================] - 3s 12ms/step - loss: 0.0012 - val_loss: 9.8338e-04\n",
      "Epoch 86/300\n",
      "231/231 [==============================] - 3s 12ms/step - loss: 0.0012 - val_loss: 9.8113e-04\n",
      "Epoch 87/300\n",
      "231/231 [==============================] - 3s 12ms/step - loss: 0.0012 - val_loss: 9.7658e-04\n",
      "Epoch 88/300\n",
      "231/231 [==============================] - 3s 12ms/step - loss: 0.0012 - val_loss: 9.7710e-04\n",
      "Epoch 89/300\n",
      "231/231 [==============================] - 3s 12ms/step - loss: 0.0012 - val_loss: 9.8394e-04\n",
      "Epoch 90/300\n",
      "231/231 [==============================] - 3s 12ms/step - loss: 0.0012 - val_loss: 0.0010\n",
      "Epoch 91/300\n",
      "231/231 [==============================] - 3s 12ms/step - loss: 0.0012 - val_loss: 9.8449e-04\n",
      "Epoch 92/300\n",
      "231/231 [==============================] - 3s 12ms/step - loss: 0.0012 - val_loss: 9.7559e-04\n",
      "Epoch 93/300\n",
      "231/231 [==============================] - 3s 12ms/step - loss: 0.0012 - val_loss: 9.8941e-04\n",
      "Epoch 94/300\n",
      "231/231 [==============================] - 3s 12ms/step - loss: 0.0012 - val_loss: 9.8249e-04\n",
      "Epoch 95/300\n",
      "231/231 [==============================] - 3s 12ms/step - loss: 0.0012 - val_loss: 9.8161e-04\n",
      "Epoch 96/300\n",
      "231/231 [==============================] - 3s 12ms/step - loss: 0.0012 - val_loss: 9.7679e-04\n",
      "Epoch 97/300\n",
      "231/231 [==============================] - 3s 12ms/step - loss: 0.0012 - val_loss: 9.7570e-04\n",
      "Epoch 98/300\n",
      "231/231 [==============================] - 3s 12ms/step - loss: 0.0012 - val_loss: 9.8110e-04\n",
      "Epoch 99/300\n",
      "231/231 [==============================] - 3s 12ms/step - loss: 0.0012 - val_loss: 9.7528e-04\n",
      "Epoch 100/300\n",
      "231/231 [==============================] - 3s 12ms/step - loss: 0.0012 - val_loss: 9.7688e-04\n",
      "Epoch 101/300\n",
      "231/231 [==============================] - 3s 12ms/step - loss: 0.0012 - val_loss: 9.7444e-04\n",
      "Epoch 102/300\n",
      "231/231 [==============================] - 3s 12ms/step - loss: 0.0012 - val_loss: 9.7451e-04\n",
      "Epoch 103/300\n",
      "231/231 [==============================] - 3s 12ms/step - loss: 0.0012 - val_loss: 9.7609e-04\n",
      "Epoch 104/300\n",
      "231/231 [==============================] - 3s 12ms/step - loss: 0.0012 - val_loss: 9.8043e-04\n",
      "Epoch 105/300\n",
      "231/231 [==============================] - 3s 12ms/step - loss: 0.0012 - val_loss: 9.7470e-04\n",
      "Epoch 106/300\n",
      "231/231 [==============================] - 3s 12ms/step - loss: 0.0012 - val_loss: 9.7629e-04\n",
      "Epoch 107/300\n",
      "231/231 [==============================] - 3s 12ms/step - loss: 0.0012 - val_loss: 9.8106e-04\n",
      "Epoch 108/300\n",
      "231/231 [==============================] - 3s 12ms/step - loss: 0.0012 - val_loss: 9.8305e-04\n",
      "Epoch 109/300\n",
      "231/231 [==============================] - 3s 12ms/step - loss: 0.0012 - val_loss: 0.0010\n",
      "Epoch 110/300\n",
      "231/231 [==============================] - 3s 12ms/step - loss: 0.0012 - val_loss: 9.8806e-04\n",
      "Epoch 111/300\n",
      "231/231 [==============================] - 3s 12ms/step - loss: 0.0012 - val_loss: 9.9285e-04\n",
      "Epoch 112/300\n",
      "231/231 [==============================] - 3s 12ms/step - loss: 0.0012 - val_loss: 0.0010\n",
      "Epoch 113/300\n",
      "231/231 [==============================] - 3s 12ms/step - loss: 0.0012 - val_loss: 9.7827e-04\n",
      "Epoch 114/300\n",
      "231/231 [==============================] - 3s 12ms/step - loss: 0.0012 - val_loss: 9.8036e-04\n",
      "Epoch 115/300\n",
      "231/231 [==============================] - 3s 12ms/step - loss: 0.0012 - val_loss: 9.7613e-04\n",
      "Epoch 116/300\n",
      "231/231 [==============================] - 3s 12ms/step - loss: 0.0012 - val_loss: 9.7574e-04\n",
      "Epoch 117/300\n",
      "231/231 [==============================] - 3s 12ms/step - loss: 0.0012 - val_loss: 9.7706e-04\n",
      "Epoch 118/300\n",
      "231/231 [==============================] - 3s 12ms/step - loss: 0.0012 - val_loss: 9.7477e-04\n",
      "Epoch 119/300\n",
      "231/231 [==============================] - 3s 12ms/step - loss: 0.0012 - val_loss: 9.7519e-04\n",
      "Epoch 120/300\n",
      "231/231 [==============================] - 3s 12ms/step - loss: 0.0012 - val_loss: 9.7501e-04\n",
      "Epoch 121/300\n",
      "231/231 [==============================] - 3s 12ms/step - loss: 0.0012 - val_loss: 9.7411e-04\n",
      "Epoch 122/300\n",
      "231/231 [==============================] - 3s 12ms/step - loss: 0.0012 - val_loss: 9.7583e-04\n",
      "Epoch 123/300\n",
      "231/231 [==============================] - 3s 12ms/step - loss: 0.0012 - val_loss: 9.8088e-04\n",
      "Epoch 124/300\n",
      "231/231 [==============================] - 3s 12ms/step - loss: 0.0012 - val_loss: 9.7477e-04\n",
      "Epoch 125/300\n",
      "231/231 [==============================] - 3s 12ms/step - loss: 0.0012 - val_loss: 9.7519e-04\n",
      "Epoch 126/300\n",
      "231/231 [==============================] - 3s 12ms/step - loss: 0.0012 - val_loss: 9.7568e-04\n",
      "Epoch 127/300\n",
      "231/231 [==============================] - 3s 12ms/step - loss: 0.0012 - val_loss: 9.7959e-04\n",
      "Epoch 128/300\n",
      "231/231 [==============================] - 3s 12ms/step - loss: 0.0012 - val_loss: 9.8593e-04\n",
      "Epoch 129/300\n",
      "231/231 [==============================] - 3s 12ms/step - loss: 0.0012 - val_loss: 9.7548e-04\n",
      "Epoch 130/300\n",
      "231/231 [==============================] - 3s 12ms/step - loss: 0.0012 - val_loss: 0.0011\n",
      "Epoch 131/300\n",
      "231/231 [==============================] - 3s 12ms/step - loss: 0.0012 - val_loss: 9.7673e-04\n",
      "Epoch 132/300\n",
      "231/231 [==============================] - 3s 12ms/step - loss: 0.0012 - val_loss: 9.7946e-04\n",
      "Epoch 133/300\n",
      "231/231 [==============================] - 3s 12ms/step - loss: 0.0012 - val_loss: 9.8880e-04\n",
      "Epoch 134/300\n",
      "231/231 [==============================] - 3s 12ms/step - loss: 0.0012 - val_loss: 9.7864e-04\n",
      "Epoch 135/300\n",
      "231/231 [==============================] - 3s 12ms/step - loss: 0.0012 - val_loss: 9.7650e-04\n",
      "Epoch 136/300\n",
      "231/231 [==============================] - 3s 12ms/step - loss: 0.0012 - val_loss: 9.7504e-04\n",
      "Epoch 137/300\n",
      "231/231 [==============================] - 3s 12ms/step - loss: 0.0012 - val_loss: 9.8136e-04\n",
      "Epoch 138/300\n",
      "231/231 [==============================] - 3s 12ms/step - loss: 0.0012 - val_loss: 9.7782e-04\n",
      "Epoch 139/300\n",
      "231/231 [==============================] - 3s 12ms/step - loss: 0.0012 - val_loss: 9.7502e-04\n",
      "Epoch 140/300\n",
      "231/231 [==============================] - 3s 12ms/step - loss: 0.0012 - val_loss: 9.7854e-04\n",
      "Epoch 141/300\n",
      "231/231 [==============================] - 3s 12ms/step - loss: 0.0012 - val_loss: 9.7702e-04\n",
      "Epoch 142/300\n",
      "231/231 [==============================] - 3s 12ms/step - loss: 0.0012 - val_loss: 9.7726e-04\n",
      "Epoch 143/300\n",
      "231/231 [==============================] - 3s 12ms/step - loss: 0.0012 - val_loss: 9.7453e-04\n",
      "Epoch 144/300\n",
      "231/231 [==============================] - 3s 12ms/step - loss: 0.0012 - val_loss: 9.7649e-04\n",
      "Epoch 145/300\n",
      "231/231 [==============================] - 3s 12ms/step - loss: 0.0012 - val_loss: 9.7748e-04\n",
      "Epoch 146/300\n",
      "231/231 [==============================] - 3s 12ms/step - loss: 0.0012 - val_loss: 9.7698e-04\n",
      "Epoch 147/300\n",
      "231/231 [==============================] - 3s 12ms/step - loss: 0.0012 - val_loss: 9.8558e-04\n",
      "Epoch 148/300\n",
      "231/231 [==============================] - 3s 12ms/step - loss: 0.0012 - val_loss: 9.8042e-04\n",
      "Epoch 149/300\n",
      "231/231 [==============================] - 3s 12ms/step - loss: 0.0012 - val_loss: 9.8244e-04\n",
      "Epoch 150/300\n",
      "231/231 [==============================] - 3s 12ms/step - loss: 0.0012 - val_loss: 9.7837e-04\n",
      "Epoch 151/300\n",
      "231/231 [==============================] - 3s 12ms/step - loss: 0.0012 - val_loss: 9.7580e-04\n",
      "Epoch 152/300\n",
      "231/231 [==============================] - 3s 12ms/step - loss: 0.0012 - val_loss: 9.7600e-04\n",
      "Epoch 153/300\n",
      "231/231 [==============================] - 3s 12ms/step - loss: 0.0012 - val_loss: 9.7845e-04\n",
      "Epoch 154/300\n"
     ]
    },
    {
     "name": "stdout",
     "output_type": "stream",
     "text": [
      "231/231 [==============================] - 3s 12ms/step - loss: 0.0012 - val_loss: 9.7762e-04\n",
      "Epoch 155/300\n",
      "231/231 [==============================] - 3s 12ms/step - loss: 0.0012 - val_loss: 9.7879e-04\n",
      "Epoch 156/300\n",
      "231/231 [==============================] - 3s 12ms/step - loss: 0.0012 - val_loss: 9.7704e-04\n",
      "Epoch 157/300\n",
      "231/231 [==============================] - 3s 12ms/step - loss: 0.0012 - val_loss: 9.7874e-04\n",
      "Epoch 158/300\n",
      "231/231 [==============================] - 3s 12ms/step - loss: 0.0012 - val_loss: 9.7575e-04\n",
      "Epoch 159/300\n",
      "231/231 [==============================] - 3s 12ms/step - loss: 0.0012 - val_loss: 9.7698e-04\n",
      "Epoch 160/300\n",
      "231/231 [==============================] - 3s 12ms/step - loss: 0.0012 - val_loss: 9.8281e-04\n",
      "Epoch 161/300\n",
      "231/231 [==============================] - 3s 12ms/step - loss: 0.0012 - val_loss: 9.7472e-04\n",
      "Epoch 162/300\n",
      "231/231 [==============================] - 3s 12ms/step - loss: 0.0012 - val_loss: 9.7658e-04\n",
      "Epoch 163/300\n",
      "231/231 [==============================] - 3s 12ms/step - loss: 0.0012 - val_loss: 9.7936e-04\n",
      "Epoch 164/300\n",
      "231/231 [==============================] - 3s 12ms/step - loss: 0.0012 - val_loss: 9.7529e-04\n",
      "Epoch 165/300\n",
      "231/231 [==============================] - 3s 12ms/step - loss: 0.0012 - val_loss: 9.8240e-04\n",
      "Epoch 166/300\n",
      "231/231 [==============================] - 3s 12ms/step - loss: 0.0012 - val_loss: 9.7898e-04\n",
      "Epoch 167/300\n",
      "231/231 [==============================] - 3s 12ms/step - loss: 0.0012 - val_loss: 9.7580e-04\n",
      "Epoch 168/300\n",
      "231/231 [==============================] - 3s 12ms/step - loss: 0.0012 - val_loss: 9.7580e-04\n",
      "Epoch 169/300\n",
      "231/231 [==============================] - 3s 12ms/step - loss: 0.0012 - val_loss: 9.7605e-04\n",
      "Epoch 170/300\n",
      "231/231 [==============================] - 3s 12ms/step - loss: 0.0012 - val_loss: 9.9042e-04\n",
      "Epoch 171/300\n",
      "231/231 [==============================] - 3s 12ms/step - loss: 0.0012 - val_loss: 9.7946e-04\n",
      "Epoch 172/300\n",
      "231/231 [==============================] - 3s 12ms/step - loss: 0.0012 - val_loss: 9.7653e-04\n",
      "Epoch 173/300\n",
      "231/231 [==============================] - 3s 12ms/step - loss: 0.0012 - val_loss: 9.7674e-04\n",
      "Epoch 174/300\n",
      "231/231 [==============================] - 3s 12ms/step - loss: 0.0012 - val_loss: 9.7769e-04\n",
      "Epoch 175/300\n",
      "231/231 [==============================] - 3s 12ms/step - loss: 0.0012 - val_loss: 9.7450e-04\n",
      "Epoch 176/300\n",
      "231/231 [==============================] - 3s 12ms/step - loss: 0.0012 - val_loss: 9.7679e-04\n",
      "Epoch 177/300\n",
      "231/231 [==============================] - 3s 12ms/step - loss: 0.0012 - val_loss: 9.7593e-04\n",
      "Epoch 178/300\n",
      "231/231 [==============================] - 3s 12ms/step - loss: 0.0012 - val_loss: 9.7556e-04\n",
      "Epoch 179/300\n",
      "231/231 [==============================] - 3s 12ms/step - loss: 0.0012 - val_loss: 9.7556e-04\n",
      "Epoch 180/300\n",
      "231/231 [==============================] - 3s 12ms/step - loss: 0.0012 - val_loss: 9.7476e-04\n",
      "Epoch 181/300\n",
      "231/231 [==============================] - 3s 12ms/step - loss: 0.0012 - val_loss: 9.7561e-04\n",
      "Epoch 182/300\n",
      "231/231 [==============================] - 3s 12ms/step - loss: 0.0012 - val_loss: 9.7728e-04\n",
      "Epoch 183/300\n",
      "231/231 [==============================] - 3s 12ms/step - loss: 0.0012 - val_loss: 9.8286e-04\n",
      "Epoch 184/300\n",
      "231/231 [==============================] - 3s 12ms/step - loss: 0.0012 - val_loss: 9.7509e-04\n",
      "Epoch 185/300\n",
      "231/231 [==============================] - 3s 12ms/step - loss: 0.0012 - val_loss: 9.7934e-04\n",
      "Epoch 186/300\n",
      "231/231 [==============================] - 3s 12ms/step - loss: 0.0012 - val_loss: 9.7482e-04\n",
      "Epoch 187/300\n",
      "231/231 [==============================] - 3s 12ms/step - loss: 0.0012 - val_loss: 9.7684e-04\n",
      "Epoch 188/300\n",
      "231/231 [==============================] - 3s 12ms/step - loss: 0.0012 - val_loss: 9.8313e-04\n",
      "Epoch 189/300\n",
      "231/231 [==============================] - 3s 12ms/step - loss: 0.0012 - val_loss: 9.7963e-04\n",
      "Epoch 190/300\n",
      "231/231 [==============================] - 3s 12ms/step - loss: 0.0012 - val_loss: 9.7643e-04\n",
      "Epoch 191/300\n",
      "231/231 [==============================] - 3s 12ms/step - loss: 0.0012 - val_loss: 0.0010\n",
      "Epoch 192/300\n",
      "231/231 [==============================] - 3s 12ms/step - loss: 0.0012 - val_loss: 9.8313e-04\n",
      "Epoch 193/300\n",
      "231/231 [==============================] - 3s 12ms/step - loss: 0.0012 - val_loss: 9.8819e-04\n",
      "Epoch 194/300\n",
      "231/231 [==============================] - 3s 12ms/step - loss: 0.0012 - val_loss: 9.7668e-04\n",
      "Epoch 195/300\n",
      "231/231 [==============================] - 3s 12ms/step - loss: 0.0012 - val_loss: 9.7948e-04\n",
      "Epoch 196/300\n",
      "231/231 [==============================] - 3s 12ms/step - loss: 0.0012 - val_loss: 9.8011e-04\n",
      "Epoch 197/300\n",
      "231/231 [==============================] - 3s 12ms/step - loss: 0.0012 - val_loss: 9.7754e-04\n",
      "Epoch 198/300\n",
      "231/231 [==============================] - 3s 12ms/step - loss: 0.0012 - val_loss: 9.7422e-04\n",
      "Epoch 199/300\n",
      "231/231 [==============================] - 3s 12ms/step - loss: 0.0012 - val_loss: 9.7492e-04\n",
      "Epoch 200/300\n",
      "231/231 [==============================] - 3s 12ms/step - loss: 0.0012 - val_loss: 9.7512e-04\n",
      "Epoch 201/300\n",
      "231/231 [==============================] - 3s 12ms/step - loss: 0.0012 - val_loss: 9.7448e-04\n",
      "Epoch 202/300\n",
      "231/231 [==============================] - 3s 12ms/step - loss: 0.0012 - val_loss: 9.7557e-04\n",
      "Epoch 203/300\n",
      "231/231 [==============================] - 3s 12ms/step - loss: 0.0012 - val_loss: 9.7985e-04\n",
      "Epoch 204/300\n",
      "231/231 [==============================] - 3s 12ms/step - loss: 0.0012 - val_loss: 9.8267e-04\n",
      "Epoch 205/300\n",
      "231/231 [==============================] - 3s 12ms/step - loss: 0.0012 - val_loss: 9.7591e-04\n",
      "Epoch 206/300\n",
      "231/231 [==============================] - 3s 12ms/step - loss: 0.0012 - val_loss: 9.7670e-04\n",
      "Epoch 207/300\n",
      "231/231 [==============================] - 3s 12ms/step - loss: 0.0012 - val_loss: 9.7519e-04\n",
      "Epoch 208/300\n",
      "231/231 [==============================] - 3s 12ms/step - loss: 0.0012 - val_loss: 9.8947e-04\n",
      "Epoch 209/300\n",
      "231/231 [==============================] - 3s 12ms/step - loss: 0.0012 - val_loss: 9.7651e-04\n",
      "Epoch 210/300\n",
      "231/231 [==============================] - 3s 12ms/step - loss: 0.0012 - val_loss: 9.8139e-04\n",
      "Epoch 211/300\n",
      "231/231 [==============================] - 3s 12ms/step - loss: 0.0012 - val_loss: 9.7780e-04\n",
      "Epoch 212/300\n",
      "231/231 [==============================] - 3s 12ms/step - loss: 0.0012 - val_loss: 9.7672e-04\n",
      "Epoch 213/300\n",
      "231/231 [==============================] - 3s 12ms/step - loss: 0.0012 - val_loss: 9.8115e-04\n",
      "Epoch 214/300\n",
      "231/231 [==============================] - 3s 12ms/step - loss: 0.0012 - val_loss: 9.8751e-04\n",
      "Epoch 215/300\n",
      "231/231 [==============================] - 3s 12ms/step - loss: 0.0012 - val_loss: 9.7748e-04\n",
      "Epoch 216/300\n",
      "231/231 [==============================] - 3s 12ms/step - loss: 0.0012 - val_loss: 9.7484e-04\n",
      "Epoch 217/300\n",
      "231/231 [==============================] - 3s 12ms/step - loss: 0.0012 - val_loss: 9.7489e-04\n",
      "Epoch 218/300\n",
      "231/231 [==============================] - 3s 12ms/step - loss: 0.0012 - val_loss: 9.7752e-04\n",
      "Epoch 219/300\n",
      "231/231 [==============================] - 3s 12ms/step - loss: 0.0012 - val_loss: 9.7473e-04\n",
      "Epoch 220/300\n",
      "231/231 [==============================] - 3s 12ms/step - loss: 0.0012 - val_loss: 9.7747e-04\n",
      "Epoch 221/300\n",
      "231/231 [==============================] - 3s 12ms/step - loss: 0.0012 - val_loss: 9.7936e-04\n",
      "Epoch 222/300\n",
      "231/231 [==============================] - 3s 12ms/step - loss: 0.0012 - val_loss: 9.7848e-04\n",
      "Epoch 223/300\n",
      "231/231 [==============================] - 3s 12ms/step - loss: 0.0012 - val_loss: 9.7532e-04\n",
      "Epoch 224/300\n",
      "231/231 [==============================] - 3s 12ms/step - loss: 0.0012 - val_loss: 9.7573e-04\n",
      "Epoch 225/300\n",
      "231/231 [==============================] - 3s 12ms/step - loss: 0.0012 - val_loss: 9.7690e-04\n",
      "Epoch 226/300\n",
      "231/231 [==============================] - 3s 12ms/step - loss: 0.0012 - val_loss: 9.7762e-04\n",
      "Epoch 227/300\n",
      "231/231 [==============================] - 3s 12ms/step - loss: 0.0012 - val_loss: 9.7610e-04\n",
      "Epoch 228/300\n",
      "231/231 [==============================] - 3s 12ms/step - loss: 0.0012 - val_loss: 9.8400e-04\n",
      "Epoch 229/300\n",
      "231/231 [==============================] - 3s 12ms/step - loss: 0.0012 - val_loss: 9.8064e-04\n",
      "Epoch 230/300\n"
     ]
    },
    {
     "name": "stdout",
     "output_type": "stream",
     "text": [
      "231/231 [==============================] - 3s 12ms/step - loss: 0.0012 - val_loss: 9.7881e-04\n",
      "Epoch 231/300\n",
      "231/231 [==============================] - 3s 12ms/step - loss: 0.0012 - val_loss: 9.7985e-04\n",
      "Epoch 232/300\n",
      "231/231 [==============================] - 3s 12ms/step - loss: 0.0012 - val_loss: 9.7722e-04\n",
      "Epoch 233/300\n",
      "231/231 [==============================] - 3s 12ms/step - loss: 0.0012 - val_loss: 9.7782e-04\n",
      "Epoch 234/300\n",
      "231/231 [==============================] - 3s 12ms/step - loss: 0.0012 - val_loss: 9.7761e-04\n",
      "Epoch 235/300\n",
      "231/231 [==============================] - 3s 12ms/step - loss: 0.0012 - val_loss: 9.7938e-04\n",
      "Epoch 236/300\n",
      "231/231 [==============================] - 3s 12ms/step - loss: 0.0012 - val_loss: 9.7650e-04\n",
      "Epoch 237/300\n",
      "231/231 [==============================] - 3s 12ms/step - loss: 0.0012 - val_loss: 9.7588e-04\n",
      "Epoch 238/300\n",
      "231/231 [==============================] - 3s 12ms/step - loss: 0.0012 - val_loss: 9.7658e-04\n",
      "Epoch 239/300\n",
      "231/231 [==============================] - 3s 12ms/step - loss: 0.0012 - val_loss: 9.7619e-04\n",
      "Epoch 240/300\n",
      "231/231 [==============================] - 3s 12ms/step - loss: 0.0012 - val_loss: 9.7849e-04\n",
      "Epoch 241/300\n",
      "231/231 [==============================] - 3s 12ms/step - loss: 0.0012 - val_loss: 9.7968e-04\n",
      "Epoch 242/300\n",
      "231/231 [==============================] - 3s 12ms/step - loss: 0.0012 - val_loss: 9.7533e-04\n",
      "Epoch 243/300\n",
      "231/231 [==============================] - 3s 12ms/step - loss: 0.0012 - val_loss: 9.7441e-04\n",
      "Epoch 244/300\n",
      "231/231 [==============================] - 3s 12ms/step - loss: 0.0012 - val_loss: 9.7543e-04\n",
      "Epoch 245/300\n",
      "231/231 [==============================] - 3s 12ms/step - loss: 0.0012 - val_loss: 9.7604e-04\n",
      "Epoch 246/300\n",
      "231/231 [==============================] - 3s 12ms/step - loss: 0.0012 - val_loss: 9.7568e-04\n",
      "Epoch 247/300\n",
      "231/231 [==============================] - 3s 12ms/step - loss: 0.0012 - val_loss: 9.8040e-04\n",
      "Epoch 248/300\n",
      "231/231 [==============================] - 3s 12ms/step - loss: 0.0012 - val_loss: 9.8232e-04\n",
      "Epoch 249/300\n",
      "231/231 [==============================] - 3s 12ms/step - loss: 0.0012 - val_loss: 9.7824e-04\n",
      "Epoch 250/300\n",
      "231/231 [==============================] - 3s 12ms/step - loss: 0.0012 - val_loss: 9.8965e-04\n",
      "Epoch 251/300\n",
      "231/231 [==============================] - 3s 12ms/step - loss: 0.0012 - val_loss: 9.8147e-04\n",
      "Epoch 252/300\n",
      "231/231 [==============================] - 3s 12ms/step - loss: 0.0012 - val_loss: 9.8255e-04\n",
      "Epoch 253/300\n",
      "231/231 [==============================] - 3s 12ms/step - loss: 0.0012 - val_loss: 9.7789e-04\n",
      "Epoch 254/300\n",
      "231/231 [==============================] - 3s 12ms/step - loss: 0.0012 - val_loss: 9.8253e-04\n",
      "Epoch 255/300\n",
      "231/231 [==============================] - 3s 12ms/step - loss: 0.0012 - val_loss: 9.7520e-04\n",
      "Epoch 256/300\n",
      "231/231 [==============================] - 3s 12ms/step - loss: 0.0012 - val_loss: 9.7607e-04\n",
      "Epoch 257/300\n",
      "231/231 [==============================] - 3s 12ms/step - loss: 0.0012 - val_loss: 9.7645e-04\n",
      "Epoch 258/300\n",
      "231/231 [==============================] - 3s 12ms/step - loss: 0.0012 - val_loss: 9.7530e-04\n",
      "Epoch 259/300\n",
      "231/231 [==============================] - 3s 12ms/step - loss: 0.0012 - val_loss: 9.7689e-04\n",
      "Epoch 260/300\n",
      "231/231 [==============================] - 3s 12ms/step - loss: 0.0012 - val_loss: 9.7594e-04\n",
      "Epoch 261/300\n",
      "231/231 [==============================] - 3s 12ms/step - loss: 0.0012 - val_loss: 9.7529e-04\n",
      "Epoch 262/300\n",
      "231/231 [==============================] - 3s 12ms/step - loss: 0.0012 - val_loss: 9.7692e-04\n",
      "Epoch 263/300\n",
      "231/231 [==============================] - 3s 12ms/step - loss: 0.0012 - val_loss: 9.7527e-04\n",
      "Epoch 264/300\n",
      "231/231 [==============================] - 3s 12ms/step - loss: 0.0012 - val_loss: 9.8101e-04\n",
      "Epoch 265/300\n",
      "231/231 [==============================] - 3s 12ms/step - loss: 0.0012 - val_loss: 9.7640e-04\n",
      "Epoch 266/300\n",
      "231/231 [==============================] - 3s 12ms/step - loss: 0.0012 - val_loss: 9.8281e-04\n",
      "Epoch 267/300\n",
      "231/231 [==============================] - 3s 12ms/step - loss: 0.0012 - val_loss: 9.7836e-04\n",
      "Epoch 268/300\n",
      "231/231 [==============================] - 3s 12ms/step - loss: 0.0012 - val_loss: 0.0010\n",
      "Epoch 269/300\n",
      "231/231 [==============================] - 3s 12ms/step - loss: 0.0012 - val_loss: 9.7703e-04\n",
      "Epoch 270/300\n",
      "231/231 [==============================] - 3s 12ms/step - loss: 0.0012 - val_loss: 9.9853e-04\n",
      "Epoch 271/300\n",
      "231/231 [==============================] - 3s 12ms/step - loss: 0.0012 - val_loss: 9.9001e-04\n",
      "Epoch 272/300\n",
      "231/231 [==============================] - 3s 12ms/step - loss: 0.0012 - val_loss: 9.7824e-04\n",
      "Epoch 273/300\n",
      "231/231 [==============================] - 3s 12ms/step - loss: 0.0012 - val_loss: 9.8020e-04\n",
      "Epoch 274/300\n",
      "231/231 [==============================] - 3s 12ms/step - loss: 0.0012 - val_loss: 9.8374e-04\n",
      "Epoch 275/300\n",
      "231/231 [==============================] - 3s 12ms/step - loss: 0.0012 - val_loss: 9.7579e-04\n",
      "Epoch 276/300\n",
      "231/231 [==============================] - 3s 12ms/step - loss: 0.0012 - val_loss: 9.8148e-04\n",
      "Epoch 277/300\n",
      "231/231 [==============================] - 3s 12ms/step - loss: 0.0012 - val_loss: 9.7560e-04\n",
      "Epoch 278/300\n",
      "231/231 [==============================] - 3s 12ms/step - loss: 0.0012 - val_loss: 9.7480e-04\n",
      "Epoch 279/300\n",
      "231/231 [==============================] - 3s 12ms/step - loss: 0.0012 - val_loss: 9.7519e-04\n",
      "Epoch 280/300\n",
      "231/231 [==============================] - 3s 12ms/step - loss: 0.0012 - val_loss: 9.7453e-04\n",
      "Epoch 281/300\n",
      "231/231 [==============================] - 3s 12ms/step - loss: 0.0012 - val_loss: 9.7485e-04\n",
      "Epoch 282/300\n",
      "231/231 [==============================] - 3s 12ms/step - loss: 0.0012 - val_loss: 9.7458e-04\n",
      "Epoch 283/300\n",
      "231/231 [==============================] - 3s 12ms/step - loss: 0.0012 - val_loss: 9.7441e-04\n",
      "Epoch 284/300\n",
      "231/231 [==============================] - 3s 12ms/step - loss: 0.0012 - val_loss: 9.8301e-04\n",
      "Epoch 285/300\n",
      "231/231 [==============================] - 3s 12ms/step - loss: 0.0012 - val_loss: 9.8637e-04\n",
      "Epoch 286/300\n",
      "231/231 [==============================] - 3s 12ms/step - loss: 0.0012 - val_loss: 9.8117e-04\n",
      "Epoch 287/300\n",
      "231/231 [==============================] - 3s 12ms/step - loss: 0.0012 - val_loss: 9.8123e-04\n",
      "Epoch 288/300\n",
      "231/231 [==============================] - 3s 12ms/step - loss: 0.0012 - val_loss: 9.7571e-04\n",
      "Epoch 289/300\n",
      "231/231 [==============================] - 3s 12ms/step - loss: 0.0012 - val_loss: 9.8742e-04\n",
      "Epoch 290/300\n",
      "231/231 [==============================] - 3s 12ms/step - loss: 0.0012 - val_loss: 0.0010\n",
      "Epoch 291/300\n",
      "231/231 [==============================] - 3s 12ms/step - loss: 0.0012 - val_loss: 9.7668e-04\n",
      "Epoch 292/300\n",
      "231/231 [==============================] - 3s 12ms/step - loss: 0.0012 - val_loss: 9.8235e-04\n",
      "Epoch 293/300\n",
      "231/231 [==============================] - 3s 12ms/step - loss: 0.0012 - val_loss: 9.7692e-04\n",
      "Epoch 294/300\n",
      "231/231 [==============================] - 3s 12ms/step - loss: 0.0012 - val_loss: 9.7723e-04\n",
      "Epoch 295/300\n",
      "231/231 [==============================] - 3s 12ms/step - loss: 0.0012 - val_loss: 9.7776e-04\n",
      "Epoch 296/300\n",
      "231/231 [==============================] - 3s 12ms/step - loss: 0.0012 - val_loss: 9.7509e-04\n",
      "Epoch 297/300\n",
      "231/231 [==============================] - 3s 12ms/step - loss: 0.0012 - val_loss: 9.7496e-04\n",
      "Epoch 298/300\n",
      "231/231 [==============================] - 3s 12ms/step - loss: 0.0012 - val_loss: 9.7598e-04\n",
      "Epoch 299/300\n",
      "231/231 [==============================] - 3s 12ms/step - loss: 0.0012 - val_loss: 9.7506e-04\n",
      "Epoch 300/300\n",
      "231/231 [==============================] - 3s 12ms/step - loss: 0.0012 - val_loss: 9.7575e-04\n"
     ]
    },
    {
     "data": {
      "text/plain": [
       "<keras.callbacks.History at 0x7f6468df7588>"
      ]
     },
     "execution_count": 168,
     "metadata": {},
     "output_type": "execute_result"
    }
   ],
   "source": [
    "batch_size = 1024\n",
    "#nvalid = len(features_sf12_valid)\n",
    "\n",
    "x = features\n",
    "x_valid = features_valid\n",
    "\n",
    "# yielder = lambda f_s: (f_s[0], [f_s[0], f_s[1]]) # (feats, [feats, scores])\n",
    "train_gen = batch_generator_df_bcolz(sf_scores3, x, batch_size)\n",
    "valid_gen = batch_generator_df_bcolz(sf_scores3[-60000:], x_valid, batch_size, shuffle=False)\n",
    "\n",
    "train_steps = ceil(len(x) / batch_size)\n",
    "valid_steps = ceil(len(x_valid) / batch_size)\n",
    "\n",
    "# lr_plateau = keras.callbacks.ReduceLROnPlateau(monitor='val_loss', factor=0.05, patience=5, verbose=1)\n",
    "# checkpoint_path = '../slonik_data/weights.{epoch:03d}-{val_loss:.6f}.h5'\n",
    "checkpoint_path = '../slonik_data/weights_best.h5'\n",
    "checkpoint = keras.callbacks.ModelCheckpoint(checkpoint_path, \n",
    "                                             monitor='val_loss', save_best_only=True, save_weights_only=True, period=1)\n",
    "# stopping = keras.callbacks.EarlyStopping(monitor='val_loss', min_delta=0, patience=20, mode='auto')\n",
    "clr = CyclicLR(base_lr=5e-6, max_lr=4e-3, step_size=train_steps*10, mode='triangular')\n",
    "# clr = CyclicLR(base_lr=0, max_lr=1e-2, step_size=train_steps*5, mode='triangular')\n",
    "\n",
    "# callbacks = [clr]\n",
    "callbacks = [clr, checkpoint]\n",
    "# K.set_value(train_model.optimizer.lr, 1e-3)\n",
    "model.fit_generator(train_gen, train_steps, epochs=300, \n",
    "                          validation_data=valid_gen, validation_steps=valid_steps, callbacks=callbacks)\n",
    "\n",
    "# K.set_value(model.optimizer.lr, 1e-5)\n",
    "# model.fit_generator(train_gen, train_steps, epochs=2, validation_data=valid_gen, validation_steps=valid_steps)"
   ]
  },
  {
   "cell_type": "code",
   "execution_count": 153,
   "metadata": {
    "collapsed": true
   },
   "outputs": [
    {
     "data": {
      "text/plain": [
       "[<matplotlib.lines.Line2D at 0x7f643b2b30b8>]"
      ]
     },
     "execution_count": 153,
     "metadata": {},
     "output_type": "execute_result"
    },
    {
     "data": {
      "image/png": "[encoded data removed]",
      "text/plain": [
       "<matplotlib.figure.Figure at 0x7f643b6e5278>"
      ]
     },
     "metadata": {},
     "output_type": "display_data"
    }
   ],
   "source": [
    "plt.plot(clr.history['iterations'], clr.history['lr'])"
   ]
  },
  {
   "cell_type": "code",
   "execution_count": 172,
   "metadata": {},
   "outputs": [
    {
     "data": {
      "text/plain": [
       "[<matplotlib.lines.Line2D at 0x7f66687a7828>]"
      ]
     },
     "execution_count": 172,
     "metadata": {},
     "output_type": "execute_result"
    },
    {
     "data": {
      "image/png": "[encoded data removed]",
      "text/plain": [
       "<matplotlib.figure.Figure at 0x7f66688238d0>"
      ]
     },
     "metadata": {},
     "output_type": "display_data"
    }
   ],
   "source": [
    "rng = np.s_[::train_steps*10]\n",
    "plt.plot(clr.history['iterations'][rng], clr.history['loss'][rng])"
   ]
  },
  {
   "cell_type": "markdown",
   "metadata": {},
   "source": [
    "### evaluate models"
   ]
  },
  {
   "cell_type": "code",
   "execution_count": 176,
   "metadata": {},
   "outputs": [
    {
     "data": {
      "text/plain": [
       "0.00094776093975330389"
      ]
     },
     "execution_count": 176,
     "metadata": {},
     "output_type": "execute_result"
    }
   ],
   "source": [
    "batch_size = 1024 * 2\n",
    "valid_steps = ceil(len(features_sf3_valid_sample) / batch_size)\n",
    "valid_gen = batch_generator_df_bcolz(sf_scores3[-60000:], features_sf3_valid_sample, batch_size, shuffle=False)\n",
    "model.evaluate_generator(valid_gen, steps=valid_steps)\n",
    "# train_model.metrics_names\n",
    "# K.get_value(train_model.optimizer.lr)\n",
    "# 0.0010100496762121718 adam clr"
   ]
  },
  {
   "cell_type": "code",
   "execution_count": 175,
   "metadata": {},
   "outputs": [],
   "source": [
    "model.load_weights('../slonik_data/weights_best.h5')"
   ]
  },
  {
   "cell_type": "code",
   "execution_count": 177,
   "metadata": {},
   "outputs": [
    {
     "data": {
      "text/plain": [
       "[<matplotlib.lines.Line2D at 0x7f66687790b8>]"
      ]
     },
     "execution_count": 177,
     "metadata": {},
     "output_type": "execute_result"
    },
    {
     "data": {
      "image/png": "[encoded data removed]",
      "text/plain": [
       "<matplotlib.figure.Figure at 0x7f666880e2e8>"
      ]
     },
     "metadata": {},
     "output_type": "display_data"
    }
   ],
   "source": [
    "rng = slice(100,140)\n",
    "dfrng = slice(rng.start+-60000, rng.stop+-60000)\n",
    "fens = sf_scores3[dfrng].fen\n",
    "scores = sf_scores3[dfrng].score\n",
    "# np.allclose(features_sf12_valid[rng], np.array([get_feats(Position.from_fen(f)) for f in fens]))\n",
    "# pprint(list(zip(scores, evaluator.predict(features_sf12_valid[rng]).squeeze())))\n",
    "x = np.arange(len(scores))\n",
    "plt.plot(x, scores, 'r')\n",
    "plt.plot(x, model.predict(features_sf3_valid_sample[rng]).squeeze(), 'b')"
   ]
  },
  {
   "cell_type": "code",
   "execution_count": 19,
   "metadata": {},
   "outputs": [
    {
     "data": {
      "text/plain": [
       "(40, 8, 8, 1)"
      ]
     },
     "execution_count": 19,
     "metadata": {},
     "output_type": "execute_result"
    }
   ],
   "source": [
    "model.predict(features_sf3_valid_sample[rng]).shape"
   ]
  },
  {
   "cell_type": "code",
   "execution_count": 85,
   "metadata": {},
   "outputs": [
    {
     "name": "stdout",
     "output_type": "stream",
     "text": [
      "W to move\n",
      " ·  ·  ·  ·  ·  ·  ♚  · \n",
      " ·  ·  ·  ·  ·  ♟  ·  ♟ \n",
      " ·  ·  ♟  ·  ♙  ·  ·  · \n",
      " ·  ·  ·  ♞  ·  ·  ·  · \n",
      " ·  ·  ·  ♕  ·  ♙  ·  · \n",
      " ·  ·  ·  ·  ·  ♙  ·  ♙ \n",
      " ♙  ·  ·  ·  ·  ·  ·  ♔ \n",
      " ·  ·  ·  ♝  ♛  ·  ·  · \n",
      "\n",
      "-0.0633715525256\n"
     ]
    },
    {
     "data": {
      "text/plain": [
       "array([[-0.00351094]], dtype=float32)"
      ]
     },
     "execution_count": 85,
     "metadata": {},
     "output_type": "execute_result"
    }
   ],
   "source": [
    "n = 28\n",
    "print(Position.from_fen(sf_scores3.iloc[-60000+n].fen))\n",
    "print(sf_scores3.iloc[-60000+n].score)\n",
    "model.predict(features_sf3_valid_sample[n][None])"
   ]
  }
 ],
 "metadata": {
  "kernelspec": {
   "display_name": "Python 3",
   "language": "python",
   "name": "python3"
  },
  "language_info": {
   "codemirror_mode": {
    "name": "ipython",
    "version": 3
   },
   "file_extension": ".py",
   "mimetype": "text/x-python",
   "name": "python",
   "nbconvert_exporter": "python",
   "pygments_lexer": "ipython3",
   "version": "3.6.3"
  }
 },
 "nbformat": 4,
 "nbformat_minor": 2
}
