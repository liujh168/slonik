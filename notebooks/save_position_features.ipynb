{
 "cells": [
  {
   "cell_type": "code",
   "execution_count": 2,
   "metadata": {
    "collapsed": true
   },
   "outputs": [],
   "source": [
    "import sys\n",
    "sys.path.append('..')"
   ]
  },
  {
   "cell_type": "code",
   "execution_count": 3,
   "metadata": {},
   "outputs": [
    {
     "name": "stdout",
     "output_type": "stream",
     "text": [
      "Initializing Magics\n"
     ]
    },
    {
     "name": "stderr",
     "output_type": "stream",
     "text": [
      "Using TensorFlow backend.\n"
     ]
    }
   ],
   "source": [
    "from cnnfeat import get_feats\n",
    "import keras\n",
    "from keras.models import Model\n",
    "from keras.optimizers import Adam, SGD\n",
    "from keras.regularizers import l2\n",
    "from keras.layers import *\n",
    "import pandas as pd\n",
    "import numpy as np\n",
    "from position import Position\n",
    "import matplotlib.pyplot as plt\n",
    "%matplotlib inline\n",
    "import imp\n",
    "# imp.reload(cnnfeat)\n",
    "from multiprocessing import Queue\n",
    "from multiprocessing import Manager, Process, Pool\n",
    "import os\n",
    "from time import time\n",
    "import pickle\n",
    "import bcolz\n",
    "from tqdm import tqdm "
   ]
  },
  {
   "cell_type": "code",
   "execution_count": 4,
   "metadata": {
    "collapsed": true
   },
   "outputs": [],
   "source": [
    "import bcolz\n",
    "from concurrent.futures import ThreadPoolExecutor, ProcessPoolExecutor\n",
    "from tqdm import tqdm\n",
    "from time import time"
   ]
  },
  {
   "cell_type": "code",
   "execution_count": 5,
   "metadata": {
    "collapsed": true
   },
   "outputs": [],
   "source": [
    "# file_name1 = '../slonik_data/positions.pkl'\n",
    "# file_name2 = '../slonik_data/sf_scores.pkl'\n",
    "# data = pd.concat([pd.read_pickle(file_name1), pd.read_pickle(file_name2)])\n",
    "file_name = '/ssd/slonik_data/sf_move_scores_4dep.pkl'\n",
    "data = pd.read_pickle(file_name)"
   ]
  },
  {
   "cell_type": "code",
   "execution_count": 12,
   "metadata": {
    "collapsed": true
   },
   "outputs": [],
   "source": [
    "def fen_to_feats(i):\n",
    "    return get_feats(Position.from_fen(data.iloc[i].fen))"
   ]
  },
  {
   "cell_type": "code",
   "execution_count": 13,
   "metadata": {},
   "outputs": [
    {
     "data": {
      "text/plain": [
       "690435"
      ]
     },
     "execution_count": 13,
     "metadata": {},
     "output_type": "execute_result"
    }
   ],
   "source": [
    "len(data)"
   ]
  },
  {
   "cell_type": "code",
   "execution_count": null,
   "metadata": {
    "collapsed": true
   },
   "outputs": [],
   "source": [
    "now = time()\n",
    "n = len(data)\n",
    "n_train = len(data) - 60000\n",
    "n_valid = 60000\n",
    "step=1000000\n",
    "for i in range(0, n_train, step):\n",
    "    for j in range(i, min(i+step, n_train)):\n",
    "        features.append(fen_to_feats(j))\n",
    "    features.flush()\n",
    "for i in range(n_train, n, step):\n",
    "    for j in range(i, min(i+step, n)):\n",
    "        features_valid.append(fen_to_feats(j))\n",
    "    features_valid.flush()    \n",
    "print((time() - now) / 60, 'm')"
   ]
  },
  {
   "cell_type": "code",
   "execution_count": 14,
   "metadata": {},
   "outputs": [
    {
     "name": "stderr",
     "output_type": "stream",
     "text": [
      "100%|██████████| 77/77 [01:23<00:00,  1.08s/it]\n",
      "100%|██████████| 8/8 [00:08<00:00,  1.06s/it]\n"
     ]
    }
   ],
   "source": [
    "move_scores = pd.read_pickle('/ssd/slonik_data/sf_move_scores_4dep.pkl')\n",
    "\n",
    "# for num_workers in range(1,11):\n",
    "features = bcolz.carray(np.empty((0,8,8,14)), rootdir='/ssd/slonik_data/features_move_scores_sf4_origfen.bc', chunklen=64, mode='w')\n",
    "features_valid = bcolz.carray(np.empty((0,8,8,14)), rootdir='/ssd/slonik_data/features_move_scores_sf4_origfen_valid.bc', chunklen=64, mode='w')\n",
    "\n",
    "n = len(move_scores)\n",
    "n_valid = 60000\n",
    "n_train = n - n_valid\n",
    "step = 1024 * 8\n",
    "\n",
    "#now = time()\n",
    "\n",
    "def do_work(i):\n",
    "    return get_feats(Position.from_fen(move_scores.iloc[i].orig_fen))\n",
    "\n",
    "for s in tqdm(range(0, n_train, step)):\n",
    "    num_workers = 7\n",
    "\n",
    "    with Pool(num_workers) as p:\n",
    "        res = p.map(do_work, range(s, min(s + step, n_train)))\n",
    "\n",
    "    features.append(np.stack(res))\n",
    "    features.flush()\n",
    "    \n",
    "for s in tqdm(range(n_train, n, step)):\n",
    "    num_workers = 7\n",
    "\n",
    "    with Pool(num_workers) as p:\n",
    "        res = p.map(do_work, range(s, min(s + step, n)))\n",
    "\n",
    "    features_valid.append(np.stack(res))\n",
    "    features_valid.flush()\n",
    "\n",
    "# print(num_workers, \"workers\", len(features_sf12), \"results\", (time() - now), 's')"
   ]
  },
  {
   "cell_type": "code",
   "execution_count": 15,
   "metadata": {},
   "outputs": [
    {
     "name": "stdout",
     "output_type": "stream",
     "text": [
      "630435\n",
      "60000\n"
     ]
    },
    {
     "data": {
      "text/plain": [
       "690435"
      ]
     },
     "execution_count": 15,
     "metadata": {},
     "output_type": "execute_result"
    }
   ],
   "source": [
    "features = bcolz.open(rootdir='/ssd/slonik_data/features_move_scores_sf4_origfen.bc', mode='r')\n",
    "print(len(features))\n",
    "features_valid = bcolz.open(rootdir='/ssd/slonik_data/features_move_scores_sf4_origfen_valid.bc', mode='r')\n",
    "print(len(features_valid))\n",
    "move_scores = pd.read_pickle('/ssd/slonik_data/sf_move_scores_4dep.pkl')\n",
    "len(move_scores)\n",
    "# features_positions_sf3 = bcolz.open(rootdir='/ssd/slonik_data/features_positions+sf3.bc', mode='r')"
   ]
  },
  {
   "cell_type": "code",
   "execution_count": 16,
   "metadata": {},
   "outputs": [
    {
     "data": {
      "text/plain": [
       "True"
      ]
     },
     "execution_count": 16,
     "metadata": {},
     "output_type": "execute_result"
    }
   ],
   "source": [
    "np.allclose(get_feats(Position.from_fen(move_scores.iloc[-60000 + 20].orig_fen)), features_valid[20])"
   ]
  },
  {
   "cell_type": "code",
   "execution_count": 17,
   "metadata": {},
   "outputs": [
    {
     "data": {
      "text/plain": [
       "True"
      ]
     },
     "execution_count": 17,
     "metadata": {},
     "output_type": "execute_result"
    }
   ],
   "source": [
    "np.allclose(get_feats(Position.from_fen(move_scores.iloc[1000].orig_fen)), features[1000])"
   ]
  }
 ],
 "metadata": {
  "kernelspec": {
   "display_name": "Python 3",
   "language": "python",
   "name": "python3"
  },
  "language_info": {
   "codemirror_mode": {
    "name": "ipython",
    "version": 3
   },
   "file_extension": ".py",
   "mimetype": "text/x-python",
   "name": "python",
   "nbconvert_exporter": "python",
   "pygments_lexer": "ipython3",
   "version": "3.6.3"
  }
 },
 "nbformat": 4,
 "nbformat_minor": 2
}
