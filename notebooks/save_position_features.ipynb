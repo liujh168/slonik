{
 "cells": [
  {
   "cell_type": "code",
   "execution_count": null,
   "metadata": {
    "collapsed": true
   },
   "outputs": [],
   "source": [
    "from cnnfeat import get_feats\n",
    "import keras\n",
    "from keras.models import Model\n",
    "from keras.optimizers import Adam, SGD\n",
    "from keras.regularizers import l2\n",
    "from keras.layers import *\n",
    "import pandas as pd\n",
    "import numpy as np\n",
    "from position import Position\n",
    "import matplotlib.pyplot as plt\n",
    "%matplotlib inline\n",
    "import imp\n",
    "# imp.reload(cnnfeat)\n",
    "from multiprocessing import Queue\n",
    "from multiprocessing import Manager, Process, Pool\n",
    "import os\n",
    "from time import time\n",
    "import pickle\n",
    "import bcolz\n",
    "from tqdm import tqdm "
   ]
  },
  {
   "cell_type": "code",
   "execution_count": null,
   "metadata": {
    "collapsed": true
   },
   "outputs": [],
   "source": [
    "import bcolz\n",
    "from concurrent.futures import ThreadPoolExecutor, ProcessPoolExecutor\n",
    "from tqdm import tqdm\n",
    "from time import time"
   ]
  },
  {
   "cell_type": "code",
   "execution_count": null,
   "metadata": {
    "collapsed": true
   },
   "outputs": [],
   "source": [
    "# file_name1 = '../slonik_data/positions.pkl'\n",
    "# file_name2 = '../slonik_data/sf_scores.pkl'\n",
    "# data = pd.concat([pd.read_pickle(file_name1), pd.read_pickle(file_name2)])\n",
    "file_name = '/ssd/slonik_data/sf_scores_12dep.pkl'\n",
    "data = pd.read_pickle(file_name)"
   ]
  },
  {
   "cell_type": "code",
   "execution_count": null,
   "metadata": {
    "collapsed": true
   },
   "outputs": [],
   "source": [
    "def fen_to_feats(i):\n",
    "    return get_feats(Position.from_fen(data.iloc[i].fen))"
   ]
  },
  {
   "cell_type": "code",
   "execution_count": null,
   "metadata": {
    "collapsed": true
   },
   "outputs": [],
   "source": [
    "now = time()\n",
    "n = len(data)\n",
    "n_train = len(data) - 60000\n",
    "n_valid = 60000\n",
    "step=1000000\n",
    "for i in range(0, n_train, step):\n",
    "    for j in range(i, min(i+step, n_train)):\n",
    "        features.append(fen_to_feats(j))\n",
    "    features.flush()\n",
    "for i in range(n_train, n, step):\n",
    "    for j in range(i, min(i+step, n)):\n",
    "        features_valid.append(fen_to_feats(j))\n",
    "    features_valid.flush()    \n",
    "print((time() - now) / 60, 'm')"
   ]
  },
  {
   "cell_type": "code",
   "execution_count": null,
   "metadata": {
    "collapsed": true
   },
   "outputs": [],
   "source": [
    "sf_scores12 = pd.read_pickle('/ssd/slonik_data/sf_scores_12dep.pkl')\n",
    "\n",
    "# for num_workers in range(1,11):\n",
    "# features_sf12 = bcolz.carray(np.empty((0,8,8,14)), rootdir='/ssd/slonik_data/features_sf12_origfen.bc', chunklen=1024, mode='w')\n",
    "features_sf12_valid = bcolz.carray(np.empty((0,8,8,14)), rootdir='/ssd/slonik_data/features_sf12_origfen_valid.bc', chunklen=1024, mode='w')\n",
    "\n",
    "n_valid = 60000\n",
    "n = len(sf_scores12) - n_valid\n",
    "step = 1024 * 8\n",
    "\n",
    "now = time()\n",
    "\n",
    "def do_work(i):\n",
    "    return get_feats(Position.from_fen(sf_scores12.iloc[i].orig_fen))\n",
    "\n",
    "for s in tqdm(range(n, n + n_valid, step)):\n",
    "    num_workers = 7\n",
    "\n",
    "    with Pool(num_workers) as p:\n",
    "        res = p.map(do_work, range(s, min(s + step, n + n_valid)))\n",
    "\n",
    "    features_sf12_valid.append(np.stack(res))\n",
    "    features_sf12_valid.flush()\n",
    "\n",
    "# print(num_workers, \"workers\", len(features_sf12), \"results\", (time() - now), 's')"
   ]
  },
  {
   "cell_type": "code",
   "execution_count": null,
   "metadata": {
    "collapsed": true
   },
   "outputs": [],
   "source": [
    "features_sf12 = bcolz.open(rootdir='/ssd/slonik_data/features_sf12_origfen.bc', mode='r')\n",
    "print(len(features_sf12))\n",
    "features_sf12_valid = bcolz.open(rootdir='/ssd/slonik_data/features_sf12_origfen_valid.bc', mode='r')\n",
    "print(len(features_sf12_valid))\n",
    "sf_scores12 = pd.read_pickle('/ssd/slonik_data/sf_scores_12dep.pkl')\n",
    "len(sf_scores12)\n",
    "# features_positions_sf3 = bcolz.open(rootdir='/ssd/slonik_data/features_positions+sf3.bc', mode='r')"
   ]
  },
  {
   "cell_type": "code",
   "execution_count": null,
   "metadata": {
    "collapsed": true
   },
   "outputs": [],
   "source": [
    "np.allclose(get_feats(Position.from_fen(sf_scores12.iloc[-60000 + 20].orig_fen)), features_sf12_valid[20])"
   ]
  },
  {
   "cell_type": "code",
   "execution_count": null,
   "metadata": {
    "collapsed": true
   },
   "outputs": [],
   "source": [
    "np.allclose(get_feats(Position.from_fen(sf_scores12.iloc[1000].orig_fen)), features_sf12[1000])"
   ]
  }
 ],
 "metadata": {
  "kernelspec": {
   "display_name": "Python 3",
   "language": "python",
   "name": "python3"
  },
  "language_info": {
   "codemirror_mode": {
    "name": "ipython",
    "version": 3
   },
   "file_extension": ".py",
   "mimetype": "text/x-python",
   "name": "python",
   "nbconvert_exporter": "python",
   "pygments_lexer": "ipython3",
   "version": "3.6.3"
  }
 },
 "nbformat": 4,
 "nbformat_minor": 2
}
