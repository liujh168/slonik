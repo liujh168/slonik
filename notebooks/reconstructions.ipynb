{
 "cells": [
  {
   "cell_type": "code",
   "execution_count": null,
   "metadata": {
    "collapsed": true
   },
   "outputs": [],
   "source": [
    "preds = autoencoder.predict(np.stack([get_feats(p) for p in ps[0:1]]))\n",
    "[print_feats(p) for p in np.round(preds)]\n",
    "print('\\n')\n",
    "for p in ps[0:1]:\n",
    "    print(p)\n",
    "preds[0][:,:,11]"
   ]
  },
  {
   "cell_type": "code",
   "execution_count": null,
   "metadata": {
    "collapsed": true
   },
   "outputs": [],
   "source": [
    "encoded_10k = encoder.predict(np.stack([get_feats(Position.from_fen(i)) for i in list(data[:10000].fen)]))"
   ]
  },
  {
   "cell_type": "code",
   "execution_count": null,
   "metadata": {
    "collapsed": true
   },
   "outputs": [],
   "source": [
    "### find similar positions\n",
    "\n",
    "from sklearn.neighbors import NearestNeighbors, LSHForest\n",
    "\n",
    "nn = LSHForest(20, n_neighbors=3).fit(encoded_10k.reshape(encoded_10k.shape[0], -1))\n",
    "\n",
    "n = 9001\n",
    "pos = Position.from_fen(data.iloc[n].fen)\n",
    "feats = get_feats(pos)\n",
    "\n",
    "print(pos)\n",
    "\n",
    "dist, idxs = nn.kneighbors(encoder.predict(feats[None]).reshape(1, -1))\n",
    "print(dist)\n",
    "\n",
    "if idxs[0][0] != n: print('no self match')\n",
    "for i in idxs[0]:\n",
    "    if i != n: print(Position.from_fen(data.iloc[i].fen))"
   ]
  }
 ],
 "metadata": {
  "kernelspec": {
   "display_name": "Python 3",
   "language": "python",
   "name": "python3"
  },
  "language_info": {
   "codemirror_mode": {
    "name": "ipython",
    "version": 3
   },
   "file_extension": ".py",
   "mimetype": "text/x-python",
   "name": "python",
   "nbconvert_exporter": "python",
   "pygments_lexer": "ipython3",
   "version": "3.6.3"
  }
 },
 "nbformat": 4,
 "nbformat_minor": 2
}
