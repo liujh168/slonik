{
 "cells": [
  {
   "cell_type": "code",
   "execution_count": null,
   "metadata": {
    "collapsed": true
   },
   "outputs": [],
   "source": [
    "import cnnfeat\n",
    "from cnnfeat import cnn_model, get_feats\n",
    "from keras.models import Model\n",
    "from keras.optimizers import Adam\n",
    "import pandas as pd\n",
    "import numpy as np\n",
    "from position import Position\n",
    "import matplotlib.pyplot as plt\n",
    "%matplotlib inline\n",
    "\n",
    "from keras.layers import *"
   ]
  },
  {
   "cell_type": "code",
   "execution_count": 3,
   "metadata": {
    "collapsed": true
   },
   "outputs": [],
   "source": [
    "def plot_multi(im, dim=(4,4), figsize=(6,6), **kwargs ):\n",
    "    plt.figure(figsize=figsize)\n",
    "    for i,img in enumerate(im):\n",
    "        plt.subplot(*((dim)+(i+1,)))\n",
    "        plt.imshow(img, **kwargs)\n",
    "        plt.axis('off')\n",
    "    plt.tight_layout()"
   ]
  },
  {
   "cell_type": "markdown",
   "metadata": {},
   "source": [
    "### v0"
   ]
  },
  {
   "cell_type": "code",
   "execution_count": 35,
   "metadata": {
    "collapsed": true
   },
   "outputs": [],
   "source": [
    "from keras.regularizers import l2"
   ]
  },
  {
   "cell_type": "code",
   "execution_count": 85,
   "metadata": {
    "collapsed": true
   },
   "outputs": [],
   "source": [
    "def conv_block(input_tensor, filters, kernel_size=(3,3), act=True, weight_decay=1e-6):\n",
    "    # embed()\n",
    "    x = Convolution2D(filters, kernel_size, strides=(1,1), padding='same', use_bias=False,\n",
    "                      kernel_regularizer=l2(weight_decay))(input_tensor)\n",
    "    x = BatchNormalization()(x)\n",
    "    if act:\n",
    "        x = Activation('relu')(x)\n",
    "    return x\n",
    "\n",
    "def res_block(input_tensor, filters):\n",
    "    x = conv_block(input_tensor, filters)\n",
    "    # x = conv_block(x, filters)\n",
    "    x = conv_block(x, filters, act=False)\n",
    "    x = keras.layers.add([x, input_tensor])\n",
    "    x = Activation('relu')(x)\n",
    "    return x"
   ]
  },
  {
   "cell_type": "code",
   "execution_count": 86,
   "metadata": {
    "collapsed": true
   },
   "outputs": [],
   "source": [
    "def cnn_model():\n",
    "    k = 192\n",
    "    net_input = Input((8,8,14))\n",
    "    x = conv_block(net_input, k, kernel_size=(3,3))\n",
    "    for i in range(8):\n",
    "        x = res_block(x, k)\n",
    "    x = conv_block(x, 1, kernel_size=(1,1))\n",
    "    x = BatchNormalization()(x)\n",
    "    x = Activation('relu')(x)\n",
    "    x = Flatten()(x)\n",
    "    x = Dense(256)(x)\n",
    "    x = Dropout(.5)(x)\n",
    "    x = Activation('relu')(x)\n",
    "    x = Dense(1)(x)\n",
    "    net_output = Activation('tanh')(x)\n",
    "    # 5,359,494 params\n",
    "    return net_input, net_output"
   ]
  },
  {
   "cell_type": "code",
   "execution_count": 87,
   "metadata": {
    "collapsed": true
   },
   "outputs": [],
   "source": [
    "net_input, net_output = cnn_model()\n",
    "model = Model(net_input, net_output)\n",
    "# model.summary()"
   ]
  },
  {
   "cell_type": "code",
   "execution_count": 88,
   "metadata": {
    "collapsed": true
   },
   "outputs": [],
   "source": [
    "# model.load_weights('../slonik_data/cnn_weights_epoch3.h5')\n",
    "model.compile(optimizer=Adam(1e-3), loss='mse')\n",
    "train_model = model"
   ]
  },
  {
   "cell_type": "code",
   "execution_count": 89,
   "metadata": {
    "collapsed": true
   },
   "outputs": [],
   "source": [
    "init_weights = model.get_weights()"
   ]
  },
  {
   "cell_type": "code",
   "execution_count": 49,
   "metadata": {},
   "outputs": [
    {
     "data": {
      "text/plain": [
       "0.31883998043062345"
      ]
     },
     "execution_count": 49,
     "metadata": {},
     "output_type": "execute_result"
    }
   ],
   "source": [
    "batch_size = 1024 * 2\n",
    "valid_gen = batch_generator_df_bcolz(sf_scores12[-60000:], features_sf12_valid, batch_size, shuffle=False)\n",
    "# np.allclose(get_feats(Position.from_fen(sf_scores12.iloc[-60000 + 20].orig_fen)), features_sf12_valid[20])\n",
    "model.evaluate_generator(valid_gen, steps=valid_steps)\n",
    "# 0.04357 => 5.151884e-09"
   ]
  },
  {
   "cell_type": "code",
   "execution_count": 217,
   "metadata": {},
   "outputs": [
    {
     "name": "stdout",
     "output_type": "stream",
     "text": [
      "200/200 [==============================] - 0s 403us/step\n"
     ]
    },
    {
     "data": {
      "text/plain": [
       "0.00050171763636171814"
      ]
     },
     "execution_count": 217,
     "metadata": {},
     "output_type": "execute_result"
    }
   ],
   "source": [
    "feats = [get_feats(Position.from_fen(f)) for f in sf_scores3[-60000:-60000+200].fen]\n",
    "model.evaluate(np.stack(feats), sf_scores3[-60000:-60000+200].stockfish_score)"
   ]
  },
  {
   "cell_type": "code",
   "execution_count": 207,
   "metadata": {
    "collapsed": true
   },
   "outputs": [],
   "source": [
    "sf_scores3 = pd.read_pickle('/ssd/slonik_data/sf_scores_3dep.pkl')"
   ]
  },
  {
   "cell_type": "code",
   "execution_count": 10,
   "metadata": {
    "collapsed": true
   },
   "outputs": [
    {
     "name": "stdout",
     "output_type": "stream",
     "text": [
      "_________________________________________________________________\n",
      "Layer (type)                 Output Shape              Param #   \n",
      "=================================================================\n",
      "input_3 (InputLayer)         (None, 8, 8, 14)          0         \n",
      "_________________________________________________________________\n",
      "conv2d_37 (Conv2D)           (None, 8, 8, 192)         24384     \n",
      "_________________________________________________________________\n",
      "batch_normalization_39 (Batc (None, 8, 8, 192)         768       \n",
      "_________________________________________________________________\n",
      "activation_43 (Activation)   (None, 8, 8, 192)         0         \n",
      "_________________________________________________________________\n",
      "conv2d_38 (Conv2D)           (None, 8, 8, 192)         331968    \n",
      "_________________________________________________________________\n",
      "batch_normalization_40 (Batc (None, 8, 8, 192)         768       \n",
      "_________________________________________________________________\n",
      "activation_44 (Activation)   (None, 8, 8, 192)         0         \n",
      "_________________________________________________________________\n",
      "conv2d_39 (Conv2D)           (None, 8, 8, 192)         331968    \n",
      "_________________________________________________________________\n",
      "batch_normalization_41 (Batc (None, 8, 8, 192)         768       \n",
      "_________________________________________________________________\n",
      "add_17 (Add)                 (None, 8, 8, 192)         0         \n",
      "_________________________________________________________________\n",
      "activation_45 (Activation)   (None, 8, 8, 192)         0         \n",
      "_________________________________________________________________\n",
      "conv2d_40 (Conv2D)           (None, 8, 8, 192)         331968    \n",
      "_________________________________________________________________\n",
      "batch_normalization_42 (Batc (None, 8, 8, 192)         768       \n",
      "_________________________________________________________________\n",
      "activation_46 (Activation)   (None, 8, 8, 192)         0         \n",
      "_________________________________________________________________\n",
      "conv2d_41 (Conv2D)           (None, 8, 8, 192)         331968    \n",
      "_________________________________________________________________\n",
      "batch_normalization_43 (Batc (None, 8, 8, 192)         768       \n",
      "_________________________________________________________________\n",
      "add_18 (Add)                 (None, 8, 8, 192)         0         \n",
      "_________________________________________________________________\n",
      "activation_47 (Activation)   (None, 8, 8, 192)         0         \n",
      "_________________________________________________________________\n",
      "conv2d_42 (Conv2D)           (None, 8, 8, 192)         331968    \n",
      "_________________________________________________________________\n",
      "batch_normalization_44 (Batc (None, 8, 8, 192)         768       \n",
      "_________________________________________________________________\n",
      "activation_48 (Activation)   (None, 8, 8, 192)         0         \n",
      "_________________________________________________________________\n",
      "conv2d_43 (Conv2D)           (None, 8, 8, 192)         331968    \n",
      "_________________________________________________________________\n",
      "batch_normalization_45 (Batc (None, 8, 8, 192)         768       \n",
      "_________________________________________________________________\n",
      "add_19 (Add)                 (None, 8, 8, 192)         0         \n",
      "_________________________________________________________________\n",
      "activation_49 (Activation)   (None, 8, 8, 192)         0         \n",
      "_________________________________________________________________\n",
      "conv2d_44 (Conv2D)           (None, 8, 8, 192)         331968    \n",
      "_________________________________________________________________\n",
      "batch_normalization_46 (Batc (None, 8, 8, 192)         768       \n",
      "_________________________________________________________________\n",
      "activation_50 (Activation)   (None, 8, 8, 192)         0         \n",
      "_________________________________________________________________\n",
      "conv2d_45 (Conv2D)           (None, 8, 8, 192)         331968    \n",
      "_________________________________________________________________\n",
      "batch_normalization_47 (Batc (None, 8, 8, 192)         768       \n",
      "_________________________________________________________________\n",
      "add_20 (Add)                 (None, 8, 8, 192)         0         \n",
      "_________________________________________________________________\n",
      "activation_51 (Activation)   (None, 8, 8, 192)         0         \n",
      "_________________________________________________________________\n",
      "conv2d_46 (Conv2D)           (None, 8, 8, 192)         331968    \n",
      "_________________________________________________________________\n",
      "batch_normalization_48 (Batc (None, 8, 8, 192)         768       \n",
      "_________________________________________________________________\n",
      "activation_52 (Activation)   (None, 8, 8, 192)         0         \n",
      "_________________________________________________________________\n",
      "conv2d_47 (Conv2D)           (None, 8, 8, 192)         331968    \n",
      "_________________________________________________________________\n",
      "batch_normalization_49 (Batc (None, 8, 8, 192)         768       \n",
      "_________________________________________________________________\n",
      "add_21 (Add)                 (None, 8, 8, 192)         0         \n",
      "_________________________________________________________________\n",
      "activation_53 (Activation)   (None, 8, 8, 192)         0         \n",
      "_________________________________________________________________\n",
      "conv2d_48 (Conv2D)           (None, 8, 8, 192)         331968    \n",
      "_________________________________________________________________\n",
      "batch_normalization_50 (Batc (None, 8, 8, 192)         768       \n",
      "_________________________________________________________________\n",
      "activation_54 (Activation)   (None, 8, 8, 192)         0         \n",
      "_________________________________________________________________\n",
      "conv2d_49 (Conv2D)           (None, 8, 8, 192)         331968    \n",
      "_________________________________________________________________\n",
      "batch_normalization_51 (Batc (None, 8, 8, 192)         768       \n",
      "_________________________________________________________________\n",
      "add_22 (Add)                 (None, 8, 8, 192)         0         \n",
      "_________________________________________________________________\n",
      "activation_55 (Activation)   (None, 8, 8, 192)         0         \n",
      "_________________________________________________________________\n",
      "conv2d_50 (Conv2D)           (None, 8, 8, 192)         331968    \n",
      "_________________________________________________________________\n",
      "batch_normalization_52 (Batc (None, 8, 8, 192)         768       \n",
      "_________________________________________________________________\n",
      "activation_56 (Activation)   (None, 8, 8, 192)         0         \n",
      "_________________________________________________________________\n",
      "conv2d_51 (Conv2D)           (None, 8, 8, 192)         331968    \n",
      "_________________________________________________________________\n",
      "batch_normalization_53 (Batc (None, 8, 8, 192)         768       \n",
      "_________________________________________________________________\n",
      "add_23 (Add)                 (None, 8, 8, 192)         0         \n",
      "_________________________________________________________________\n",
      "activation_57 (Activation)   (None, 8, 8, 192)         0         \n",
      "_________________________________________________________________\n",
      "conv2d_52 (Conv2D)           (None, 8, 8, 192)         331968    \n",
      "_________________________________________________________________\n",
      "batch_normalization_54 (Batc (None, 8, 8, 192)         768       \n",
      "_________________________________________________________________\n",
      "activation_58 (Activation)   (None, 8, 8, 192)         0         \n",
      "_________________________________________________________________\n",
      "conv2d_53 (Conv2D)           (None, 8, 8, 192)         331968    \n",
      "_________________________________________________________________\n",
      "batch_normalization_55 (Batc (None, 8, 8, 192)         768       \n",
      "_________________________________________________________________\n",
      "add_24 (Add)                 (None, 8, 8, 192)         0         \n",
      "_________________________________________________________________\n",
      "activation_59 (Activation)   (None, 8, 8, 192)         0         \n",
      "_________________________________________________________________\n",
      "conv2d_54 (Conv2D)           (None, 8, 8, 1)           193       \n",
      "_________________________________________________________________\n",
      "batch_normalization_56 (Batc (None, 8, 8, 1)           4         \n",
      "_________________________________________________________________\n",
      "activation_60 (Activation)   (None, 8, 8, 1)           0         \n",
      "_________________________________________________________________\n",
      "batch_normalization_57 (Batc (None, 8, 8, 1)           4         \n",
      "_________________________________________________________________\n",
      "activation_61 (Activation)   (None, 8, 8, 1)           0         \n",
      "_________________________________________________________________\n",
      "flatten_3 (Flatten)          (None, 64)                0         \n",
      "_________________________________________________________________\n",
      "dense_5 (Dense)              (None, 256)               16640     \n",
      "_________________________________________________________________\n",
      "activation_62 (Activation)   (None, 256)               0         \n",
      "_________________________________________________________________\n",
      "dense_6 (Dense)              (None, 1)                 257       \n",
      "_________________________________________________________________\n",
      "activation_63 (Activation)   (None, 1)                 0         \n",
      "=================================================================\n",
      "Total params: 5,366,026.0\n",
      "Trainable params: 5,359,494.0\n",
      "Non-trainable params: 6,532.0\n",
      "_________________________________________________________________\n"
     ]
    }
   ],
   "source": [
    "model.summary()"
   ]
  },
  {
   "cell_type": "code",
   "execution_count": 70,
   "metadata": {
    "collapsed": true
   },
   "outputs": [],
   "source": [
    "emb_layer = model.get_layer('activation_61')\n",
    "encoder = Model(net_input, emb_layer.get_output_at(0))"
   ]
  },
  {
   "cell_type": "code",
   "execution_count": 114,
   "metadata": {
    "collapsed": true
   },
   "outputs": [],
   "source": [
    "file_name = '../slonik_data/sf_scores.pkl'\n",
    "sf_scores = pd.read_pickle(file_name)"
   ]
  },
  {
   "cell_type": "markdown",
   "metadata": {},
   "source": [
    "## printing predictions"
   ]
  },
  {
   "cell_type": "code",
   "execution_count": 13,
   "metadata": {
    "collapsed": true
   },
   "outputs": [],
   "source": [
    "from piece_type import PieceType as Pt\n",
    "from bb import PICTURE_PIECES\n",
    "def print_feats(feats):\n",
    "    planes_flat = np.transpose(feats, (2,0,1)).reshape(14,-1).tolist()\n",
    "    krights_plane, stm_plane, wp_plane, bp_plane, wn_plane, bn_plane, wb_plane, bb_plane, \\\n",
    "        wr_plane, br_plane, wq_plane, bq_plane, wk_plane, bk_plane = planes_flat\n",
    "        \n",
    "    ptmap = [-1, -1, Pt.P, Pt.BP, Pt.N, Pt.BN, Pt.B, Pt.BB, Pt.R, Pt.BR, Pt.Q, Pt.BQ, Pt.K, Pt.BK]\n",
    "    res = ''\n",
    "    for i in range(8):\n",
    "        res += '·' * 8 \n",
    "    res = list(res)\n",
    "    for i in range(14):\n",
    "        if i >= 2:\n",
    "            pt = ptmap[i]\n",
    "            for j in range(64):\n",
    "                if planes_flat[i][j] == 1:\n",
    "                    res[j] = PICTURE_PIECES[pt]\n",
    "    for i in range(1,8):\n",
    "        res[i*8-1] += '\\n' \n",
    "    print('  '+'  '.join(res))\n",
    "    print('{} to move'.format('W' if stm_plane[0] == 0 else 'B'))"
   ]
  },
  {
   "cell_type": "markdown",
   "metadata": {},
   "source": [
    "## autoencoder"
   ]
  },
  {
   "cell_type": "code",
   "execution_count": 12,
   "metadata": {
    "collapsed": true,
    "scrolled": true
   },
   "outputs": [],
   "source": [
    "import imp\n",
    "# imp.reload(cnnfeat)\n",
    "# from cnnfeat import cnn_decoder, cnn_encoder\n",
    "import keras\n",
    "from keras.layers import *"
   ]
  },
  {
   "cell_type": "code",
   "execution_count": 11,
   "metadata": {
    "collapsed": true
   },
   "outputs": [],
   "source": [
    "def conv_block(input_tensor, filters, kernel_size=(3,3), strides=(1,1), act=True):\n",
    "    # embed()\n",
    "    x = Convolution2D(filters, kernel_size, strides=strides, padding='same')(input_tensor)\n",
    "    x = BatchNormalization()(x)\n",
    "    if act:\n",
    "        x = Activation('relu')(x)\n",
    "    return x\n",
    "\n",
    "def res_block(input_tensor, filters):\n",
    "    x = conv_block(input_tensor, filters)\n",
    "    # x = conv_block(x, filters)\n",
    "    x = conv_block(x, filters, act=False)\n",
    "    x = keras.layers.add([x, input_tensor])\n",
    "    x = Activation('relu')(x)\n",
    "    return x"
   ]
  },
  {
   "cell_type": "markdown",
   "metadata": {},
   "source": [
    "### v1"
   ]
  },
  {
   "cell_type": "code",
   "execution_count": 174,
   "metadata": {
    "collapsed": true
   },
   "outputs": [],
   "source": [
    "def cnn_encoder():\n",
    "    net_input = Input((8,8,14))\n",
    "    x = conv_block(net_input, 64, kernel_size=(3,3))\n",
    "    x = res_block(x, 64)\n",
    "    x = conv_block(x, 2, kernel_size=(3,3), strides=(2,2))\n",
    "    return net_input, x\n",
    "\n",
    "def cnn_decoder():\n",
    "    net_input = Input((4,4,2))\n",
    "    x = conv_block(net_input, 14, kernel_size=(3,3))\n",
    "    x = UpSampling2D()(x)\n",
    "    for i in range(2):\n",
    "        x = res_block(x, 14)\n",
    "    return net_input, x"
   ]
  },
  {
   "cell_type": "code",
   "execution_count": 20,
   "metadata": {
    "collapsed": true
   },
   "outputs": [],
   "source": [
    "enc_input, enc_output = cnn_encoder()\n",
    "encoder = Model(enc_input, enc_output)\n",
    "\n",
    "dec_input, dec_output = cnn_decoder()\n",
    "decoder = Model(dec_input, dec_output)"
   ]
  },
  {
   "cell_type": "code",
   "execution_count": 22,
   "metadata": {
    "collapsed": true
   },
   "outputs": [
    {
     "name": "stdout",
     "output_type": "stream",
     "text": [
      "__________________________________________________________________________________________________\n",
      "Layer (type)                    Output Shape         Param #     Connected to                     \n",
      "==================================================================================================\n",
      "input_5 (InputLayer)            (None, 8, 8, 14)     0                                            \n",
      "__________________________________________________________________________________________________\n",
      "conv2d_40 (Conv2D)              (None, 8, 8, 64)     8128        input_5[0][0]                    \n",
      "__________________________________________________________________________________________________\n",
      "batch_normalization_42 (BatchNo (None, 8, 8, 64)     256         conv2d_40[0][0]                  \n",
      "__________________________________________________________________________________________________\n",
      "activation_46 (Activation)      (None, 8, 8, 64)     0           batch_normalization_42[0][0]     \n",
      "__________________________________________________________________________________________________\n",
      "conv2d_41 (Conv2D)              (None, 8, 8, 64)     36928       activation_46[0][0]              \n",
      "__________________________________________________________________________________________________\n",
      "batch_normalization_43 (BatchNo (None, 8, 8, 64)     256         conv2d_41[0][0]                  \n",
      "__________________________________________________________________________________________________\n",
      "activation_47 (Activation)      (None, 8, 8, 64)     0           batch_normalization_43[0][0]     \n",
      "__________________________________________________________________________________________________\n",
      "conv2d_42 (Conv2D)              (None, 8, 8, 64)     36928       activation_47[0][0]              \n",
      "__________________________________________________________________________________________________\n",
      "batch_normalization_44 (BatchNo (None, 8, 8, 64)     256         conv2d_42[0][0]                  \n",
      "__________________________________________________________________________________________________\n",
      "add_18 (Add)                    (None, 8, 8, 64)     0           batch_normalization_44[0][0]     \n",
      "                                                                 activation_46[0][0]              \n",
      "__________________________________________________________________________________________________\n",
      "activation_48 (Activation)      (None, 8, 8, 64)     0           add_18[0][0]                     \n",
      "__________________________________________________________________________________________________\n",
      "conv2d_43 (Conv2D)              (None, 4, 4, 2)      1154        activation_48[0][0]              \n",
      "__________________________________________________________________________________________________\n",
      "batch_normalization_45 (BatchNo (None, 4, 4, 2)      8           conv2d_43[0][0]                  \n",
      "__________________________________________________________________________________________________\n",
      "activation_49 (Activation)      (None, 4, 4, 2)      0           batch_normalization_45[0][0]     \n",
      "==================================================================================================\n",
      "Total params: 83,914\n",
      "Trainable params: 83,526\n",
      "Non-trainable params: 388\n",
      "__________________________________________________________________________________________________\n"
     ]
    }
   ],
   "source": [
    "encoder.summary()"
   ]
  },
  {
   "cell_type": "code",
   "execution_count": 23,
   "metadata": {
    "collapsed": true
   },
   "outputs": [
    {
     "name": "stdout",
     "output_type": "stream",
     "text": [
      "__________________________________________________________________________________________________\n",
      "Layer (type)                    Output Shape         Param #     Connected to                     \n",
      "==================================================================================================\n",
      "input_6 (InputLayer)            (None, 4, 4, 2)      0                                            \n",
      "__________________________________________________________________________________________________\n",
      "conv2d_44 (Conv2D)              (None, 4, 4, 14)     266         input_6[0][0]                    \n",
      "__________________________________________________________________________________________________\n",
      "batch_normalization_46 (BatchNo (None, 4, 4, 14)     56          conv2d_44[0][0]                  \n",
      "__________________________________________________________________________________________________\n",
      "activation_50 (Activation)      (None, 4, 4, 14)     0           batch_normalization_46[0][0]     \n",
      "__________________________________________________________________________________________________\n",
      "up_sampling2d_1 (UpSampling2D)  (None, 8, 8, 14)     0           activation_50[0][0]              \n",
      "__________________________________________________________________________________________________\n",
      "conv2d_45 (Conv2D)              (None, 8, 8, 14)     1778        up_sampling2d_1[0][0]            \n",
      "__________________________________________________________________________________________________\n",
      "batch_normalization_47 (BatchNo (None, 8, 8, 14)     56          conv2d_45[0][0]                  \n",
      "__________________________________________________________________________________________________\n",
      "activation_51 (Activation)      (None, 8, 8, 14)     0           batch_normalization_47[0][0]     \n",
      "__________________________________________________________________________________________________\n",
      "conv2d_46 (Conv2D)              (None, 8, 8, 14)     1778        activation_51[0][0]              \n",
      "__________________________________________________________________________________________________\n",
      "batch_normalization_48 (BatchNo (None, 8, 8, 14)     56          conv2d_46[0][0]                  \n",
      "__________________________________________________________________________________________________\n",
      "add_19 (Add)                    (None, 8, 8, 14)     0           batch_normalization_48[0][0]     \n",
      "                                                                 up_sampling2d_1[0][0]            \n",
      "__________________________________________________________________________________________________\n",
      "activation_52 (Activation)      (None, 8, 8, 14)     0           add_19[0][0]                     \n",
      "__________________________________________________________________________________________________\n",
      "conv2d_47 (Conv2D)              (None, 8, 8, 14)     1778        activation_52[0][0]              \n",
      "__________________________________________________________________________________________________\n",
      "batch_normalization_49 (BatchNo (None, 8, 8, 14)     56          conv2d_47[0][0]                  \n",
      "__________________________________________________________________________________________________\n",
      "activation_53 (Activation)      (None, 8, 8, 14)     0           batch_normalization_49[0][0]     \n",
      "__________________________________________________________________________________________________\n",
      "conv2d_48 (Conv2D)              (None, 8, 8, 14)     1778        activation_53[0][0]              \n",
      "__________________________________________________________________________________________________\n",
      "batch_normalization_50 (BatchNo (None, 8, 8, 14)     56          conv2d_48[0][0]                  \n",
      "__________________________________________________________________________________________________\n",
      "add_20 (Add)                    (None, 8, 8, 14)     0           batch_normalization_50[0][0]     \n",
      "                                                                 activation_52[0][0]              \n",
      "__________________________________________________________________________________________________\n",
      "activation_54 (Activation)      (None, 8, 8, 14)     0           add_20[0][0]                     \n",
      "==================================================================================================\n",
      "Total params: 7,658\n",
      "Trainable params: 7,518\n",
      "Non-trainable params: 140\n",
      "__________________________________________________________________________________________________\n"
     ]
    }
   ],
   "source": [
    "decoder.summary()"
   ]
  },
  {
   "cell_type": "code",
   "execution_count": 24,
   "metadata": {
    "collapsed": true,
    "scrolled": true
   },
   "outputs": [],
   "source": [
    "autoencoder = keras.models.Sequential([encoder, decoder])\n",
    "autoencoder.compile(optimizer=Adam(1e-3), loss='mse')"
   ]
  },
  {
   "cell_type": "code",
   "execution_count": 25,
   "metadata": {},
   "outputs": [
    {
     "name": "stdout",
     "output_type": "stream",
     "text": [
      "_________________________________________________________________\n",
      "Layer (type)                 Output Shape              Param #   \n",
      "=================================================================\n",
      "model_3 (Model)              (None, 4, 4, 2)           83914     \n",
      "_________________________________________________________________\n",
      "model_4 (Model)              (None, 8, 8, 14)          7658      \n",
      "=================================================================\n",
      "Total params: 91,572\n",
      "Trainable params: 91,044\n",
      "Non-trainable params: 528\n",
      "_________________________________________________________________\n"
     ]
    }
   ],
   "source": [
    "autoencoder.summary()"
   ]
  },
  {
   "cell_type": "markdown",
   "metadata": {},
   "source": [
    "### v2"
   ]
  },
  {
   "cell_type": "code",
   "execution_count": 6,
   "metadata": {
    "collapsed": true
   },
   "outputs": [],
   "source": [
    "def cnn_encoder():\n",
    "    net_input = Input((8,8,14))\n",
    "    x = conv_block(net_input, 14, kernel_size=(1,1))\n",
    "    for i in range(2):\n",
    "        x = res_block(x, 14)\n",
    "    x = conv_block(x, 8, kernel_size=(3,3), strides=(1,1))\n",
    "    for i in range(2):\n",
    "        x = res_block(x, 8)\n",
    "    x = conv_block(x, 2, kernel_size=(3,3), strides=(2,2), act=False)\n",
    "    x = Activation('sigmoid')(x)\n",
    "    return net_input, x\n",
    "\n",
    "def cnn_decoder():\n",
    "    net_input = Input((4,4,2))\n",
    "    x = UpSampling2D()(net_input)\n",
    "    x = conv_block(x, 8, kernel_size=(3,3))\n",
    "    for i in range(2):\n",
    "        x = res_block(x, 8)\n",
    "    x = conv_block(x, 14, kernel_size=(3,3))\n",
    "    for i in range(2):\n",
    "        x = res_block(x, 14)\n",
    "    x = conv_block(x, 14, kernel_size=(1,1), act=False)\n",
    "    x = Activation('sigmoid')(x)\n",
    "    return net_input, x"
   ]
  },
  {
   "cell_type": "code",
   "execution_count": 7,
   "metadata": {
    "collapsed": true
   },
   "outputs": [],
   "source": [
    "enc_input, enc_output = cnn_encoder()\n",
    "encoder = Model(enc_input, enc_output)\n",
    "\n",
    "dec_input, dec_output = cnn_decoder()\n",
    "decoder = Model(dec_input, dec_output)"
   ]
  },
  {
   "cell_type": "code",
   "execution_count": 40,
   "metadata": {
    "collapsed": true
   },
   "outputs": [
    {
     "name": "stdout",
     "output_type": "stream",
     "text": [
      "__________________________________________________________________________________________________\n",
      "Layer (type)                    Output Shape         Param #     Connected to                     \n",
      "==================================================================================================\n",
      "input_7 (InputLayer)            (None, 8, 8, 14)     0                                            \n",
      "__________________________________________________________________________________________________\n",
      "conv2d_49 (Conv2D)              (None, 8, 8, 14)     210         input_7[0][0]                    \n",
      "__________________________________________________________________________________________________\n",
      "batch_normalization_51 (BatchNo (None, 8, 8, 14)     56          conv2d_49[0][0]                  \n",
      "__________________________________________________________________________________________________\n",
      "activation_55 (Activation)      (None, 8, 8, 14)     0           batch_normalization_51[0][0]     \n",
      "__________________________________________________________________________________________________\n",
      "conv2d_50 (Conv2D)              (None, 8, 8, 14)     1778        activation_55[0][0]              \n",
      "__________________________________________________________________________________________________\n",
      "batch_normalization_52 (BatchNo (None, 8, 8, 14)     56          conv2d_50[0][0]                  \n",
      "__________________________________________________________________________________________________\n",
      "activation_56 (Activation)      (None, 8, 8, 14)     0           batch_normalization_52[0][0]     \n",
      "__________________________________________________________________________________________________\n",
      "conv2d_51 (Conv2D)              (None, 8, 8, 14)     1778        activation_56[0][0]              \n",
      "__________________________________________________________________________________________________\n",
      "batch_normalization_53 (BatchNo (None, 8, 8, 14)     56          conv2d_51[0][0]                  \n",
      "__________________________________________________________________________________________________\n",
      "add_21 (Add)                    (None, 8, 8, 14)     0           batch_normalization_53[0][0]     \n",
      "                                                                 activation_55[0][0]              \n",
      "__________________________________________________________________________________________________\n",
      "activation_57 (Activation)      (None, 8, 8, 14)     0           add_21[0][0]                     \n",
      "__________________________________________________________________________________________________\n",
      "conv2d_52 (Conv2D)              (None, 8, 8, 14)     1778        activation_57[0][0]              \n",
      "__________________________________________________________________________________________________\n",
      "batch_normalization_54 (BatchNo (None, 8, 8, 14)     56          conv2d_52[0][0]                  \n",
      "__________________________________________________________________________________________________\n",
      "activation_58 (Activation)      (None, 8, 8, 14)     0           batch_normalization_54[0][0]     \n",
      "__________________________________________________________________________________________________\n",
      "conv2d_53 (Conv2D)              (None, 8, 8, 14)     1778        activation_58[0][0]              \n",
      "__________________________________________________________________________________________________\n",
      "batch_normalization_55 (BatchNo (None, 8, 8, 14)     56          conv2d_53[0][0]                  \n",
      "__________________________________________________________________________________________________\n",
      "add_22 (Add)                    (None, 8, 8, 14)     0           batch_normalization_55[0][0]     \n",
      "                                                                 activation_57[0][0]              \n",
      "__________________________________________________________________________________________________\n",
      "activation_59 (Activation)      (None, 8, 8, 14)     0           add_22[0][0]                     \n",
      "__________________________________________________________________________________________________\n",
      "conv2d_54 (Conv2D)              (None, 8, 8, 8)      1016        activation_59[0][0]              \n",
      "__________________________________________________________________________________________________\n",
      "batch_normalization_56 (BatchNo (None, 8, 8, 8)      32          conv2d_54[0][0]                  \n",
      "__________________________________________________________________________________________________\n",
      "activation_60 (Activation)      (None, 8, 8, 8)      0           batch_normalization_56[0][0]     \n",
      "__________________________________________________________________________________________________\n",
      "conv2d_55 (Conv2D)              (None, 8, 8, 8)      584         activation_60[0][0]              \n",
      "__________________________________________________________________________________________________\n",
      "batch_normalization_57 (BatchNo (None, 8, 8, 8)      32          conv2d_55[0][0]                  \n",
      "__________________________________________________________________________________________________\n",
      "activation_61 (Activation)      (None, 8, 8, 8)      0           batch_normalization_57[0][0]     \n",
      "__________________________________________________________________________________________________\n",
      "conv2d_56 (Conv2D)              (None, 8, 8, 8)      584         activation_61[0][0]              \n",
      "__________________________________________________________________________________________________\n",
      "batch_normalization_58 (BatchNo (None, 8, 8, 8)      32          conv2d_56[0][0]                  \n",
      "__________________________________________________________________________________________________\n",
      "add_23 (Add)                    (None, 8, 8, 8)      0           batch_normalization_58[0][0]     \n",
      "                                                                 activation_60[0][0]              \n",
      "__________________________________________________________________________________________________\n",
      "activation_62 (Activation)      (None, 8, 8, 8)      0           add_23[0][0]                     \n",
      "__________________________________________________________________________________________________\n",
      "conv2d_57 (Conv2D)              (None, 8, 8, 8)      584         activation_62[0][0]              \n",
      "__________________________________________________________________________________________________\n",
      "batch_normalization_59 (BatchNo (None, 8, 8, 8)      32          conv2d_57[0][0]                  \n",
      "__________________________________________________________________________________________________\n",
      "activation_63 (Activation)      (None, 8, 8, 8)      0           batch_normalization_59[0][0]     \n",
      "__________________________________________________________________________________________________\n",
      "conv2d_58 (Conv2D)              (None, 8, 8, 8)      584         activation_63[0][0]              \n",
      "__________________________________________________________________________________________________\n",
      "batch_normalization_60 (BatchNo (None, 8, 8, 8)      32          conv2d_58[0][0]                  \n",
      "__________________________________________________________________________________________________\n",
      "add_24 (Add)                    (None, 8, 8, 8)      0           batch_normalization_60[0][0]     \n",
      "                                                                 activation_62[0][0]              \n",
      "__________________________________________________________________________________________________\n",
      "activation_64 (Activation)      (None, 8, 8, 8)      0           add_24[0][0]                     \n",
      "__________________________________________________________________________________________________\n",
      "conv2d_59 (Conv2D)              (None, 4, 4, 2)      146         activation_64[0][0]              \n",
      "__________________________________________________________________________________________________\n",
      "batch_normalization_61 (BatchNo (None, 4, 4, 2)      8           conv2d_59[0][0]                  \n",
      "__________________________________________________________________________________________________\n",
      "activation_65 (Activation)      (None, 4, 4, 2)      0           batch_normalization_61[0][0]     \n",
      "==================================================================================================\n",
      "Total params: 11,268\n",
      "Trainable params: 11,044\n",
      "Non-trainable params: 224\n",
      "__________________________________________________________________________________________________\n"
     ]
    }
   ],
   "source": [
    "encoder.summary()"
   ]
  },
  {
   "cell_type": "code",
   "execution_count": 41,
   "metadata": {
    "collapsed": true
   },
   "outputs": [
    {
     "name": "stdout",
     "output_type": "stream",
     "text": [
      "__________________________________________________________________________________________________\n",
      "Layer (type)                    Output Shape         Param #     Connected to                     \n",
      "==================================================================================================\n",
      "input_8 (InputLayer)            (None, 4, 4, 2)      0                                            \n",
      "__________________________________________________________________________________________________\n",
      "up_sampling2d_2 (UpSampling2D)  (None, 8, 8, 2)      0           input_8[0][0]                    \n",
      "__________________________________________________________________________________________________\n",
      "conv2d_60 (Conv2D)              (None, 8, 8, 8)      152         up_sampling2d_2[0][0]            \n",
      "__________________________________________________________________________________________________\n",
      "batch_normalization_62 (BatchNo (None, 8, 8, 8)      32          conv2d_60[0][0]                  \n",
      "__________________________________________________________________________________________________\n",
      "activation_66 (Activation)      (None, 8, 8, 8)      0           batch_normalization_62[0][0]     \n",
      "__________________________________________________________________________________________________\n",
      "conv2d_61 (Conv2D)              (None, 8, 8, 8)      584         activation_66[0][0]              \n",
      "__________________________________________________________________________________________________\n",
      "batch_normalization_63 (BatchNo (None, 8, 8, 8)      32          conv2d_61[0][0]                  \n",
      "__________________________________________________________________________________________________\n",
      "activation_67 (Activation)      (None, 8, 8, 8)      0           batch_normalization_63[0][0]     \n",
      "__________________________________________________________________________________________________\n",
      "conv2d_62 (Conv2D)              (None, 8, 8, 8)      584         activation_67[0][0]              \n",
      "__________________________________________________________________________________________________\n",
      "batch_normalization_64 (BatchNo (None, 8, 8, 8)      32          conv2d_62[0][0]                  \n",
      "__________________________________________________________________________________________________\n",
      "add_25 (Add)                    (None, 8, 8, 8)      0           batch_normalization_64[0][0]     \n",
      "                                                                 activation_66[0][0]              \n",
      "__________________________________________________________________________________________________\n",
      "activation_68 (Activation)      (None, 8, 8, 8)      0           add_25[0][0]                     \n",
      "__________________________________________________________________________________________________\n",
      "conv2d_63 (Conv2D)              (None, 8, 8, 8)      584         activation_68[0][0]              \n",
      "__________________________________________________________________________________________________\n",
      "batch_normalization_65 (BatchNo (None, 8, 8, 8)      32          conv2d_63[0][0]                  \n",
      "__________________________________________________________________________________________________\n",
      "activation_69 (Activation)      (None, 8, 8, 8)      0           batch_normalization_65[0][0]     \n",
      "__________________________________________________________________________________________________\n",
      "conv2d_64 (Conv2D)              (None, 8, 8, 8)      584         activation_69[0][0]              \n",
      "__________________________________________________________________________________________________\n",
      "batch_normalization_66 (BatchNo (None, 8, 8, 8)      32          conv2d_64[0][0]                  \n",
      "__________________________________________________________________________________________________\n",
      "add_26 (Add)                    (None, 8, 8, 8)      0           batch_normalization_66[0][0]     \n",
      "                                                                 activation_68[0][0]              \n",
      "__________________________________________________________________________________________________\n",
      "activation_70 (Activation)      (None, 8, 8, 8)      0           add_26[0][0]                     \n",
      "__________________________________________________________________________________________________\n",
      "conv2d_65 (Conv2D)              (None, 8, 8, 14)     1022        activation_70[0][0]              \n",
      "__________________________________________________________________________________________________\n",
      "batch_normalization_67 (BatchNo (None, 8, 8, 14)     56          conv2d_65[0][0]                  \n",
      "__________________________________________________________________________________________________\n",
      "activation_71 (Activation)      (None, 8, 8, 14)     0           batch_normalization_67[0][0]     \n",
      "__________________________________________________________________________________________________\n",
      "conv2d_66 (Conv2D)              (None, 8, 8, 14)     1778        activation_71[0][0]              \n",
      "__________________________________________________________________________________________________\n",
      "batch_normalization_68 (BatchNo (None, 8, 8, 14)     56          conv2d_66[0][0]                  \n",
      "__________________________________________________________________________________________________\n",
      "activation_72 (Activation)      (None, 8, 8, 14)     0           batch_normalization_68[0][0]     \n",
      "__________________________________________________________________________________________________\n",
      "conv2d_67 (Conv2D)              (None, 8, 8, 14)     1778        activation_72[0][0]              \n",
      "__________________________________________________________________________________________________\n",
      "batch_normalization_69 (BatchNo (None, 8, 8, 14)     56          conv2d_67[0][0]                  \n",
      "__________________________________________________________________________________________________\n",
      "add_27 (Add)                    (None, 8, 8, 14)     0           batch_normalization_69[0][0]     \n",
      "                                                                 activation_71[0][0]              \n",
      "__________________________________________________________________________________________________\n",
      "activation_73 (Activation)      (None, 8, 8, 14)     0           add_27[0][0]                     \n",
      "__________________________________________________________________________________________________\n",
      "conv2d_68 (Conv2D)              (None, 8, 8, 14)     1778        activation_73[0][0]              \n",
      "__________________________________________________________________________________________________\n",
      "batch_normalization_70 (BatchNo (None, 8, 8, 14)     56          conv2d_68[0][0]                  \n",
      "__________________________________________________________________________________________________\n",
      "activation_74 (Activation)      (None, 8, 8, 14)     0           batch_normalization_70[0][0]     \n",
      "__________________________________________________________________________________________________\n",
      "conv2d_69 (Conv2D)              (None, 8, 8, 14)     1778        activation_74[0][0]              \n",
      "__________________________________________________________________________________________________\n",
      "batch_normalization_71 (BatchNo (None, 8, 8, 14)     56          conv2d_69[0][0]                  \n",
      "__________________________________________________________________________________________________\n",
      "add_28 (Add)                    (None, 8, 8, 14)     0           batch_normalization_71[0][0]     \n",
      "                                                                 activation_73[0][0]              \n",
      "__________________________________________________________________________________________________\n",
      "activation_75 (Activation)      (None, 8, 8, 14)     0           add_28[0][0]                     \n",
      "__________________________________________________________________________________________________\n",
      "conv2d_70 (Conv2D)              (None, 8, 8, 14)     210         activation_75[0][0]              \n",
      "__________________________________________________________________________________________________\n",
      "batch_normalization_72 (BatchNo (None, 8, 8, 14)     56          conv2d_70[0][0]                  \n",
      "__________________________________________________________________________________________________\n",
      "activation_76 (Activation)      (None, 8, 8, 14)     0           batch_normalization_72[0][0]     \n",
      "==================================================================================================\n",
      "Total params: 11,328\n",
      "Trainable params: 11,080\n",
      "Non-trainable params: 248\n",
      "__________________________________________________________________________________________________\n"
     ]
    }
   ],
   "source": [
    "decoder.summary()"
   ]
  },
  {
   "cell_type": "code",
   "execution_count": 8,
   "metadata": {
    "collapsed": true
   },
   "outputs": [],
   "source": [
    "autoencoder = keras.models.Sequential([encoder, decoder])\n",
    "autoencoder.compile(optimizer=Adam(1e-3), loss='mse')"
   ]
  },
  {
   "cell_type": "code",
   "execution_count": 53,
   "metadata": {
    "collapsed": true
   },
   "outputs": [
    {
     "name": "stdout",
     "output_type": "stream",
     "text": [
      "_________________________________________________________________\n",
      "Layer (type)                 Output Shape              Param #   \n",
      "=================================================================\n",
      "model_5 (Model)              (None, 4, 4, 2)           11268     \n",
      "_________________________________________________________________\n",
      "model_6 (Model)              (None, 8, 8, 14)          11328     \n",
      "=================================================================\n",
      "Total params: 22,596\n",
      "Trainable params: 22,124\n",
      "Non-trainable params: 472\n",
      "_________________________________________________________________\n"
     ]
    }
   ],
   "source": [
    "autoencoder.summary()"
   ]
  },
  {
   "cell_type": "markdown",
   "metadata": {},
   "source": [
    "### v3"
   ]
  },
  {
   "cell_type": "code",
   "execution_count": 84,
   "metadata": {
    "collapsed": true
   },
   "outputs": [],
   "source": [
    "from keras.layers import Input"
   ]
  },
  {
   "cell_type": "code",
   "execution_count": 175,
   "metadata": {
    "collapsed": true
   },
   "outputs": [],
   "source": [
    "# encoder\n",
    "net_input = Input((8,8,14))\n",
    "x = net_input\n",
    "for i in range(2):\n",
    "    x = res_block(x, 14)\n",
    "x = conv_block(x, 2, kernel_size=(3,3))\n",
    "for i in range(2):\n",
    "    x = res_block(x, 2)\n",
    "x = conv_block(x, 2, kernel_size=(3,3), act=False)\n",
    "encoder_t = Activation('sigmoid', name='encoded')\n",
    "encoded = encoder_t(x)\n",
    "enc_shp = (8,8,2)\n",
    "\n",
    "# decoder\n",
    "x = encoded\n",
    "for i in range(2):\n",
    "    x = res_block(x, 2)\n",
    "x = conv_block(x, 14, kernel_size=(3,3))\n",
    "for i in range(2):\n",
    "    x = res_block(x, 14)\n",
    "x = conv_block(x, 14, kernel_size=(3,3), act=False)\n",
    "decoder_t = Activation('sigmoid', name='decoded')\n",
    "decoded = decoder_t(x)\n",
    "\n",
    "# evaluator\n",
    "x = encoded\n",
    "x = Flatten()(x)\n",
    "x = Dense(200)(x)\n",
    "x = BatchNormalization()(x)\n",
    "x = Activation('relu')(x)\n",
    "x = Dense(100)(x)\n",
    "x = BatchNormalization()(x)\n",
    "x = Activation('relu')(x)\n",
    "x = Dense(1)(x)\n",
    "value_t = Activation('tanh', name='value')\n",
    "value = value_t(x)"
   ]
  },
  {
   "cell_type": "code",
   "execution_count": 177,
   "metadata": {
    "collapsed": true
   },
   "outputs": [],
   "source": [
    "dec_input = Input(enc_shp)\n",
    "eval_input = Input(enc_shp)\n",
    "\n",
    "encoder = Model(net_input, encoded) # 7.8k params\n",
    "decoder = Model(dec_input, decoder_t(dec_input)) \n",
    "autoencoder = Model(net_input, decoded) # 17.5 params\n",
    "evaluator = Model(net_input, value) # 50k params\n",
    "train_model = Model(net_input, outputs=[decoded, value]) # 64k params"
   ]
  },
  {
   "cell_type": "code",
   "execution_count": 231,
   "metadata": {
    "collapsed": true
   },
   "outputs": [
    {
     "name": "stdout",
     "output_type": "stream",
     "text": [
      "__________________________________________________________________________________________________\n",
      "Layer (type)                    Output Shape         Param #     Connected to                     \n",
      "==================================================================================================\n",
      "input_16 (InputLayer)           (None, 8, 8, 14)     0                                            \n",
      "__________________________________________________________________________________________________\n",
      "conv2d_131 (Conv2D)             (None, 8, 8, 14)     1778        input_16[0][0]                   \n",
      "__________________________________________________________________________________________________\n",
      "batch_normalization_140 (BatchN (None, 8, 8, 14)     56          conv2d_131[0][0]                 \n",
      "__________________________________________________________________________________________________\n",
      "activation_152 (Activation)     (None, 8, 8, 14)     0           batch_normalization_140[0][0]    \n",
      "__________________________________________________________________________________________________\n",
      "conv2d_132 (Conv2D)             (None, 8, 8, 14)     1778        activation_152[0][0]             \n",
      "__________________________________________________________________________________________________\n",
      "batch_normalization_141 (BatchN (None, 8, 8, 14)     56          conv2d_132[0][0]                 \n",
      "__________________________________________________________________________________________________\n",
      "add_57 (Add)                    (None, 8, 8, 14)     0           batch_normalization_141[0][0]    \n",
      "                                                                 input_16[0][0]                   \n",
      "__________________________________________________________________________________________________\n",
      "activation_153 (Activation)     (None, 8, 8, 14)     0           add_57[0][0]                     \n",
      "__________________________________________________________________________________________________\n",
      "conv2d_133 (Conv2D)             (None, 8, 8, 14)     1778        activation_153[0][0]             \n",
      "__________________________________________________________________________________________________\n",
      "batch_normalization_142 (BatchN (None, 8, 8, 14)     56          conv2d_133[0][0]                 \n",
      "__________________________________________________________________________________________________\n",
      "activation_154 (Activation)     (None, 8, 8, 14)     0           batch_normalization_142[0][0]    \n",
      "__________________________________________________________________________________________________\n",
      "conv2d_134 (Conv2D)             (None, 8, 8, 14)     1778        activation_154[0][0]             \n",
      "__________________________________________________________________________________________________\n",
      "batch_normalization_143 (BatchN (None, 8, 8, 14)     56          conv2d_134[0][0]                 \n",
      "__________________________________________________________________________________________________\n",
      "add_58 (Add)                    (None, 8, 8, 14)     0           batch_normalization_143[0][0]    \n",
      "                                                                 activation_153[0][0]             \n",
      "__________________________________________________________________________________________________\n",
      "activation_155 (Activation)     (None, 8, 8, 14)     0           add_58[0][0]                     \n",
      "__________________________________________________________________________________________________\n",
      "conv2d_135 (Conv2D)             (None, 8, 8, 2)      254         activation_155[0][0]             \n",
      "__________________________________________________________________________________________________\n",
      "batch_normalization_144 (BatchN (None, 8, 8, 2)      8           conv2d_135[0][0]                 \n",
      "__________________________________________________________________________________________________\n",
      "activation_156 (Activation)     (None, 8, 8, 2)      0           batch_normalization_144[0][0]    \n",
      "__________________________________________________________________________________________________\n",
      "conv2d_136 (Conv2D)             (None, 8, 8, 2)      38          activation_156[0][0]             \n",
      "__________________________________________________________________________________________________\n",
      "batch_normalization_145 (BatchN (None, 8, 8, 2)      8           conv2d_136[0][0]                 \n",
      "__________________________________________________________________________________________________\n",
      "activation_157 (Activation)     (None, 8, 8, 2)      0           batch_normalization_145[0][0]    \n",
      "__________________________________________________________________________________________________\n",
      "conv2d_137 (Conv2D)             (None, 8, 8, 2)      38          activation_157[0][0]             \n",
      "__________________________________________________________________________________________________\n",
      "batch_normalization_146 (BatchN (None, 8, 8, 2)      8           conv2d_137[0][0]                 \n",
      "__________________________________________________________________________________________________\n",
      "add_59 (Add)                    (None, 8, 8, 2)      0           batch_normalization_146[0][0]    \n",
      "                                                                 activation_156[0][0]             \n",
      "__________________________________________________________________________________________________\n",
      "activation_158 (Activation)     (None, 8, 8, 2)      0           add_59[0][0]                     \n",
      "__________________________________________________________________________________________________\n",
      "conv2d_138 (Conv2D)             (None, 8, 8, 2)      38          activation_158[0][0]             \n",
      "__________________________________________________________________________________________________\n",
      "batch_normalization_147 (BatchN (None, 8, 8, 2)      8           conv2d_138[0][0]                 \n",
      "__________________________________________________________________________________________________\n",
      "activation_159 (Activation)     (None, 8, 8, 2)      0           batch_normalization_147[0][0]    \n",
      "__________________________________________________________________________________________________\n",
      "conv2d_139 (Conv2D)             (None, 8, 8, 2)      38          activation_159[0][0]             \n",
      "__________________________________________________________________________________________________\n",
      "batch_normalization_148 (BatchN (None, 8, 8, 2)      8           conv2d_139[0][0]                 \n",
      "__________________________________________________________________________________________________\n",
      "add_60 (Add)                    (None, 8, 8, 2)      0           batch_normalization_148[0][0]    \n",
      "                                                                 activation_158[0][0]             \n",
      "__________________________________________________________________________________________________\n",
      "activation_160 (Activation)     (None, 8, 8, 2)      0           add_60[0][0]                     \n",
      "__________________________________________________________________________________________________\n",
      "conv2d_140 (Conv2D)             (None, 8, 8, 2)      38          activation_160[0][0]             \n",
      "__________________________________________________________________________________________________\n",
      "batch_normalization_149 (BatchN (None, 8, 8, 2)      8           conv2d_140[0][0]                 \n",
      "__________________________________________________________________________________________________\n",
      "encoded (Activation)            (None, 8, 8, 2)      0           batch_normalization_149[0][0]    \n",
      "__________________________________________________________________________________________________\n",
      "conv2d_141 (Conv2D)             (None, 8, 8, 2)      38          encoded[0][0]                    \n",
      "__________________________________________________________________________________________________\n",
      "batch_normalization_150 (BatchN (None, 8, 8, 2)      8           conv2d_141[0][0]                 \n",
      "__________________________________________________________________________________________________\n",
      "activation_161 (Activation)     (None, 8, 8, 2)      0           batch_normalization_150[0][0]    \n",
      "__________________________________________________________________________________________________\n",
      "conv2d_142 (Conv2D)             (None, 8, 8, 2)      38          activation_161[0][0]             \n",
      "__________________________________________________________________________________________________\n",
      "batch_normalization_151 (BatchN (None, 8, 8, 2)      8           conv2d_142[0][0]                 \n",
      "__________________________________________________________________________________________________\n",
      "add_61 (Add)                    (None, 8, 8, 2)      0           batch_normalization_151[0][0]    \n",
      "                                                                 encoded[0][0]                    \n",
      "__________________________________________________________________________________________________\n",
      "activation_162 (Activation)     (None, 8, 8, 2)      0           add_61[0][0]                     \n",
      "__________________________________________________________________________________________________\n",
      "conv2d_143 (Conv2D)             (None, 8, 8, 2)      38          activation_162[0][0]             \n",
      "__________________________________________________________________________________________________\n",
      "batch_normalization_152 (BatchN (None, 8, 8, 2)      8           conv2d_143[0][0]                 \n",
      "__________________________________________________________________________________________________\n",
      "activation_163 (Activation)     (None, 8, 8, 2)      0           batch_normalization_152[0][0]    \n",
      "__________________________________________________________________________________________________\n",
      "conv2d_144 (Conv2D)             (None, 8, 8, 2)      38          activation_163[0][0]             \n",
      "__________________________________________________________________________________________________\n",
      "batch_normalization_153 (BatchN (None, 8, 8, 2)      8           conv2d_144[0][0]                 \n",
      "__________________________________________________________________________________________________\n",
      "add_62 (Add)                    (None, 8, 8, 2)      0           batch_normalization_153[0][0]    \n",
      "                                                                 activation_162[0][0]             \n",
      "__________________________________________________________________________________________________\n",
      "activation_164 (Activation)     (None, 8, 8, 2)      0           add_62[0][0]                     \n",
      "__________________________________________________________________________________________________\n",
      "conv2d_145 (Conv2D)             (None, 8, 8, 14)     266         activation_164[0][0]             \n",
      "__________________________________________________________________________________________________\n",
      "batch_normalization_154 (BatchN (None, 8, 8, 14)     56          conv2d_145[0][0]                 \n",
      "__________________________________________________________________________________________________\n",
      "activation_165 (Activation)     (None, 8, 8, 14)     0           batch_normalization_154[0][0]    \n",
      "__________________________________________________________________________________________________\n",
      "conv2d_146 (Conv2D)             (None, 8, 8, 14)     1778        activation_165[0][0]             \n",
      "__________________________________________________________________________________________________\n",
      "batch_normalization_155 (BatchN (None, 8, 8, 14)     56          conv2d_146[0][0]                 \n",
      "__________________________________________________________________________________________________\n",
      "activation_166 (Activation)     (None, 8, 8, 14)     0           batch_normalization_155[0][0]    \n",
      "__________________________________________________________________________________________________\n",
      "conv2d_147 (Conv2D)             (None, 8, 8, 14)     1778        activation_166[0][0]             \n",
      "__________________________________________________________________________________________________\n",
      "batch_normalization_156 (BatchN (None, 8, 8, 14)     56          conv2d_147[0][0]                 \n",
      "__________________________________________________________________________________________________\n",
      "add_63 (Add)                    (None, 8, 8, 14)     0           batch_normalization_156[0][0]    \n",
      "                                                                 activation_165[0][0]             \n",
      "__________________________________________________________________________________________________\n",
      "activation_167 (Activation)     (None, 8, 8, 14)     0           add_63[0][0]                     \n",
      "__________________________________________________________________________________________________\n",
      "conv2d_148 (Conv2D)             (None, 8, 8, 14)     1778        activation_167[0][0]             \n",
      "__________________________________________________________________________________________________\n",
      "batch_normalization_157 (BatchN (None, 8, 8, 14)     56          conv2d_148[0][0]                 \n",
      "__________________________________________________________________________________________________\n",
      "flatten_8 (Flatten)             (None, 128)          0           encoded[0][0]                    \n",
      "__________________________________________________________________________________________________\n",
      "activation_168 (Activation)     (None, 8, 8, 14)     0           batch_normalization_157[0][0]    \n",
      "__________________________________________________________________________________________________\n",
      "dense_23 (Dense)                (None, 200)          25800       flatten_8[0][0]                  \n",
      "__________________________________________________________________________________________________\n",
      "conv2d_149 (Conv2D)             (None, 8, 8, 14)     1778        activation_168[0][0]             \n",
      "__________________________________________________________________________________________________\n",
      "batch_normalization_160 (BatchN (None, 200)          800         dense_23[0][0]                   \n",
      "__________________________________________________________________________________________________\n",
      "batch_normalization_158 (BatchN (None, 8, 8, 14)     56          conv2d_149[0][0]                 \n",
      "__________________________________________________________________________________________________\n",
      "activation_170 (Activation)     (None, 200)          0           batch_normalization_160[0][0]    \n",
      "__________________________________________________________________________________________________\n",
      "add_64 (Add)                    (None, 8, 8, 14)     0           batch_normalization_158[0][0]    \n",
      "                                                                 activation_167[0][0]             \n",
      "__________________________________________________________________________________________________\n",
      "dense_24 (Dense)                (None, 100)          20100       activation_170[0][0]             \n",
      "__________________________________________________________________________________________________\n",
      "activation_169 (Activation)     (None, 8, 8, 14)     0           add_64[0][0]                     \n",
      "__________________________________________________________________________________________________\n",
      "batch_normalization_161 (BatchN (None, 100)          400         dense_24[0][0]                   \n",
      "__________________________________________________________________________________________________\n",
      "conv2d_150 (Conv2D)             (None, 8, 8, 14)     1778        activation_169[0][0]             \n",
      "__________________________________________________________________________________________________\n",
      "activation_171 (Activation)     (None, 100)          0           batch_normalization_161[0][0]    \n",
      "__________________________________________________________________________________________________\n",
      "batch_normalization_159 (BatchN (None, 8, 8, 14)     56          conv2d_150[0][0]                 \n",
      "__________________________________________________________________________________________________\n",
      "dense_25 (Dense)                (None, 1)            101         activation_171[0][0]             \n",
      "__________________________________________________________________________________________________\n",
      "decoded (Activation)            multiple             0           batch_normalization_159[0][0]    \n",
      "__________________________________________________________________________________________________\n",
      "value (Activation)              (None, 1)            0           dense_25[0][0]                   \n",
      "==================================================================================================\n",
      "Total params: 64,705\n",
      "Trainable params: 63,785\n",
      "Non-trainable params: 920\n",
      "__________________________________________________________________________________________________\n"
     ]
    }
   ],
   "source": [
    "train_model.summary()"
   ]
  },
  {
   "cell_type": "markdown",
   "metadata": {},
   "source": [
    "### v4"
   ]
  },
  {
   "cell_type": "code",
   "execution_count": 6,
   "metadata": {
    "collapsed": true
   },
   "outputs": [],
   "source": [
    "# encoder\n",
    "net_input = Input((8,8,14))\n",
    "x = net_input\n",
    "x = conv_block(x, 64, kernel_size=(1,1))\n",
    "for i in range(2):\n",
    "    x = res_block(x, 64)\n",
    "x = conv_block(x, 2, kernel_size=(3,3))\n",
    "for i in range(2):\n",
    "    x = res_block(x, 2)\n",
    "x = conv_block(x, 2, kernel_size=(3,3), act=False)\n",
    "encoder_t = Activation('sigmoid', name='encoded')\n",
    "encoded = encoder_t(x)\n",
    "enc_shp = (8,8,2)\n",
    "\n",
    "# decoder\n",
    "x = encoded\n",
    "for i in range(2):\n",
    "    x = res_block(x, 2)\n",
    "x = conv_block(x, 64, kernel_size=(3,3))\n",
    "for i in range(2):\n",
    "    x = res_block(x, 64)\n",
    "x = conv_block(x, 14, kernel_size=(3,3), act=False)\n",
    "decoder_t = Activation('sigmoid', name='decoded')\n",
    "decoded = decoder_t(x)\n",
    "\n",
    "# evaluator\n",
    "x = encoded\n",
    "x = Flatten()(x)\n",
    "x = Dense(200)(x)\n",
    "x = BatchNormalization()(x)\n",
    "x = Activation('relu')(x)\n",
    "x = Dense(100)(x)\n",
    "x = BatchNormalization()(x)\n",
    "x = Activation('relu')(x)\n",
    "x = Dense(1)(x)\n",
    "value_t = Activation('tanh', name='value')\n",
    "value = value_t(x)"
   ]
  },
  {
   "cell_type": "code",
   "execution_count": 7,
   "metadata": {
    "collapsed": true
   },
   "outputs": [],
   "source": [
    "dec_input = Input(enc_shp)\n",
    "eval_input = Input(enc_shp)\n",
    "\n",
    "encoder = Model(net_input, encoded)\n",
    "decoder = Model(dec_input, decoder_t(dec_input))\n",
    "autoencoder = Model(net_input, decoded)\n",
    "evaluator = Model(net_input, value) # 50k params\n",
    "train_model = Model(net_input, outputs=[decoded, value])"
   ]
  },
  {
   "cell_type": "code",
   "execution_count": 234,
   "metadata": {
    "collapsed": true
   },
   "outputs": [
    {
     "name": "stdout",
     "output_type": "stream",
     "text": [
      "__________________________________________________________________________________________________\n",
      "Layer (type)                    Output Shape         Param #     Connected to                     \n",
      "==================================================================================================\n",
      "input_25 (InputLayer)           (None, 8, 8, 14)     0                                            \n",
      "__________________________________________________________________________________________________\n",
      "conv2d_151 (Conv2D)             (None, 8, 8, 64)     960         input_25[0][0]                   \n",
      "__________________________________________________________________________________________________\n",
      "batch_normalization_162 (BatchN (None, 8, 8, 64)     256         conv2d_151[0][0]                 \n",
      "__________________________________________________________________________________________________\n",
      "activation_172 (Activation)     (None, 8, 8, 64)     0           batch_normalization_162[0][0]    \n",
      "__________________________________________________________________________________________________\n",
      "conv2d_152 (Conv2D)             (None, 8, 8, 64)     36928       activation_172[0][0]             \n",
      "__________________________________________________________________________________________________\n",
      "batch_normalization_163 (BatchN (None, 8, 8, 64)     256         conv2d_152[0][0]                 \n",
      "__________________________________________________________________________________________________\n",
      "activation_173 (Activation)     (None, 8, 8, 64)     0           batch_normalization_163[0][0]    \n",
      "__________________________________________________________________________________________________\n",
      "conv2d_153 (Conv2D)             (None, 8, 8, 64)     36928       activation_173[0][0]             \n",
      "__________________________________________________________________________________________________\n",
      "batch_normalization_164 (BatchN (None, 8, 8, 64)     256         conv2d_153[0][0]                 \n",
      "__________________________________________________________________________________________________\n",
      "add_65 (Add)                    (None, 8, 8, 64)     0           batch_normalization_164[0][0]    \n",
      "                                                                 activation_172[0][0]             \n",
      "__________________________________________________________________________________________________\n",
      "activation_174 (Activation)     (None, 8, 8, 64)     0           add_65[0][0]                     \n",
      "__________________________________________________________________________________________________\n",
      "conv2d_154 (Conv2D)             (None, 8, 8, 64)     36928       activation_174[0][0]             \n",
      "__________________________________________________________________________________________________\n",
      "batch_normalization_165 (BatchN (None, 8, 8, 64)     256         conv2d_154[0][0]                 \n",
      "__________________________________________________________________________________________________\n",
      "activation_175 (Activation)     (None, 8, 8, 64)     0           batch_normalization_165[0][0]    \n",
      "__________________________________________________________________________________________________\n",
      "conv2d_155 (Conv2D)             (None, 8, 8, 64)     36928       activation_175[0][0]             \n",
      "__________________________________________________________________________________________________\n",
      "batch_normalization_166 (BatchN (None, 8, 8, 64)     256         conv2d_155[0][0]                 \n",
      "__________________________________________________________________________________________________\n",
      "add_66 (Add)                    (None, 8, 8, 64)     0           batch_normalization_166[0][0]    \n",
      "                                                                 activation_174[0][0]             \n",
      "__________________________________________________________________________________________________\n",
      "activation_176 (Activation)     (None, 8, 8, 64)     0           add_66[0][0]                     \n",
      "__________________________________________________________________________________________________\n",
      "conv2d_156 (Conv2D)             (None, 8, 8, 2)      1154        activation_176[0][0]             \n",
      "__________________________________________________________________________________________________\n",
      "batch_normalization_167 (BatchN (None, 8, 8, 2)      8           conv2d_156[0][0]                 \n",
      "__________________________________________________________________________________________________\n",
      "activation_177 (Activation)     (None, 8, 8, 2)      0           batch_normalization_167[0][0]    \n",
      "__________________________________________________________________________________________________\n",
      "conv2d_157 (Conv2D)             (None, 8, 8, 2)      38          activation_177[0][0]             \n",
      "__________________________________________________________________________________________________\n",
      "batch_normalization_168 (BatchN (None, 8, 8, 2)      8           conv2d_157[0][0]                 \n",
      "__________________________________________________________________________________________________\n",
      "activation_178 (Activation)     (None, 8, 8, 2)      0           batch_normalization_168[0][0]    \n",
      "__________________________________________________________________________________________________\n",
      "conv2d_158 (Conv2D)             (None, 8, 8, 2)      38          activation_178[0][0]             \n",
      "__________________________________________________________________________________________________\n",
      "batch_normalization_169 (BatchN (None, 8, 8, 2)      8           conv2d_158[0][0]                 \n",
      "__________________________________________________________________________________________________\n",
      "add_67 (Add)                    (None, 8, 8, 2)      0           batch_normalization_169[0][0]    \n",
      "                                                                 activation_177[0][0]             \n",
      "__________________________________________________________________________________________________\n",
      "activation_179 (Activation)     (None, 8, 8, 2)      0           add_67[0][0]                     \n",
      "__________________________________________________________________________________________________\n",
      "conv2d_159 (Conv2D)             (None, 8, 8, 2)      38          activation_179[0][0]             \n",
      "__________________________________________________________________________________________________\n",
      "batch_normalization_170 (BatchN (None, 8, 8, 2)      8           conv2d_159[0][0]                 \n",
      "__________________________________________________________________________________________________\n",
      "activation_180 (Activation)     (None, 8, 8, 2)      0           batch_normalization_170[0][0]    \n",
      "__________________________________________________________________________________________________\n",
      "conv2d_160 (Conv2D)             (None, 8, 8, 2)      38          activation_180[0][0]             \n",
      "__________________________________________________________________________________________________\n",
      "batch_normalization_171 (BatchN (None, 8, 8, 2)      8           conv2d_160[0][0]                 \n",
      "__________________________________________________________________________________________________\n",
      "add_68 (Add)                    (None, 8, 8, 2)      0           batch_normalization_171[0][0]    \n",
      "                                                                 activation_179[0][0]             \n",
      "__________________________________________________________________________________________________\n",
      "activation_181 (Activation)     (None, 8, 8, 2)      0           add_68[0][0]                     \n",
      "__________________________________________________________________________________________________\n",
      "conv2d_161 (Conv2D)             (None, 8, 8, 2)      38          activation_181[0][0]             \n",
      "__________________________________________________________________________________________________\n",
      "batch_normalization_172 (BatchN (None, 8, 8, 2)      8           conv2d_161[0][0]                 \n",
      "__________________________________________________________________________________________________\n",
      "encoded (Activation)            (None, 8, 8, 2)      0           batch_normalization_172[0][0]    \n",
      "__________________________________________________________________________________________________\n",
      "conv2d_162 (Conv2D)             (None, 8, 8, 2)      38          encoded[0][0]                    \n",
      "__________________________________________________________________________________________________\n",
      "batch_normalization_173 (BatchN (None, 8, 8, 2)      8           conv2d_162[0][0]                 \n",
      "__________________________________________________________________________________________________\n",
      "activation_182 (Activation)     (None, 8, 8, 2)      0           batch_normalization_173[0][0]    \n",
      "__________________________________________________________________________________________________\n",
      "conv2d_163 (Conv2D)             (None, 8, 8, 2)      38          activation_182[0][0]             \n",
      "__________________________________________________________________________________________________\n",
      "batch_normalization_174 (BatchN (None, 8, 8, 2)      8           conv2d_163[0][0]                 \n",
      "__________________________________________________________________________________________________\n",
      "add_69 (Add)                    (None, 8, 8, 2)      0           batch_normalization_174[0][0]    \n",
      "                                                                 encoded[0][0]                    \n",
      "__________________________________________________________________________________________________\n",
      "activation_183 (Activation)     (None, 8, 8, 2)      0           add_69[0][0]                     \n",
      "__________________________________________________________________________________________________\n",
      "conv2d_164 (Conv2D)             (None, 8, 8, 2)      38          activation_183[0][0]             \n",
      "__________________________________________________________________________________________________\n",
      "batch_normalization_175 (BatchN (None, 8, 8, 2)      8           conv2d_164[0][0]                 \n",
      "__________________________________________________________________________________________________\n",
      "activation_184 (Activation)     (None, 8, 8, 2)      0           batch_normalization_175[0][0]    \n",
      "__________________________________________________________________________________________________\n",
      "conv2d_165 (Conv2D)             (None, 8, 8, 2)      38          activation_184[0][0]             \n",
      "__________________________________________________________________________________________________\n",
      "batch_normalization_176 (BatchN (None, 8, 8, 2)      8           conv2d_165[0][0]                 \n",
      "__________________________________________________________________________________________________\n",
      "add_70 (Add)                    (None, 8, 8, 2)      0           batch_normalization_176[0][0]    \n",
      "                                                                 activation_183[0][0]             \n",
      "__________________________________________________________________________________________________\n",
      "activation_185 (Activation)     (None, 8, 8, 2)      0           add_70[0][0]                     \n",
      "__________________________________________________________________________________________________\n",
      "conv2d_166 (Conv2D)             (None, 8, 8, 64)     1216        activation_185[0][0]             \n",
      "__________________________________________________________________________________________________\n",
      "batch_normalization_177 (BatchN (None, 8, 8, 64)     256         conv2d_166[0][0]                 \n",
      "__________________________________________________________________________________________________\n",
      "activation_186 (Activation)     (None, 8, 8, 64)     0           batch_normalization_177[0][0]    \n",
      "__________________________________________________________________________________________________\n",
      "conv2d_167 (Conv2D)             (None, 8, 8, 64)     36928       activation_186[0][0]             \n",
      "__________________________________________________________________________________________________\n",
      "batch_normalization_178 (BatchN (None, 8, 8, 64)     256         conv2d_167[0][0]                 \n",
      "__________________________________________________________________________________________________\n",
      "activation_187 (Activation)     (None, 8, 8, 64)     0           batch_normalization_178[0][0]    \n",
      "__________________________________________________________________________________________________\n",
      "conv2d_168 (Conv2D)             (None, 8, 8, 64)     36928       activation_187[0][0]             \n",
      "__________________________________________________________________________________________________\n",
      "batch_normalization_179 (BatchN (None, 8, 8, 64)     256         conv2d_168[0][0]                 \n",
      "__________________________________________________________________________________________________\n",
      "add_71 (Add)                    (None, 8, 8, 64)     0           batch_normalization_179[0][0]    \n",
      "                                                                 activation_186[0][0]             \n",
      "__________________________________________________________________________________________________\n",
      "activation_188 (Activation)     (None, 8, 8, 64)     0           add_71[0][0]                     \n",
      "__________________________________________________________________________________________________\n",
      "conv2d_169 (Conv2D)             (None, 8, 8, 64)     36928       activation_188[0][0]             \n",
      "__________________________________________________________________________________________________\n",
      "batch_normalization_180 (BatchN (None, 8, 8, 64)     256         conv2d_169[0][0]                 \n",
      "__________________________________________________________________________________________________\n",
      "flatten_9 (Flatten)             (None, 128)          0           encoded[0][0]                    \n",
      "__________________________________________________________________________________________________\n",
      "activation_189 (Activation)     (None, 8, 8, 64)     0           batch_normalization_180[0][0]    \n",
      "__________________________________________________________________________________________________\n",
      "dense_26 (Dense)                (None, 200)          25800       flatten_9[0][0]                  \n",
      "__________________________________________________________________________________________________\n",
      "conv2d_170 (Conv2D)             (None, 8, 8, 64)     36928       activation_189[0][0]             \n",
      "__________________________________________________________________________________________________\n",
      "batch_normalization_183 (BatchN (None, 200)          800         dense_26[0][0]                   \n",
      "__________________________________________________________________________________________________\n",
      "batch_normalization_181 (BatchN (None, 8, 8, 64)     256         conv2d_170[0][0]                 \n",
      "__________________________________________________________________________________________________\n",
      "activation_191 (Activation)     (None, 200)          0           batch_normalization_183[0][0]    \n",
      "__________________________________________________________________________________________________\n",
      "add_72 (Add)                    (None, 8, 8, 64)     0           batch_normalization_181[0][0]    \n",
      "                                                                 activation_188[0][0]             \n",
      "__________________________________________________________________________________________________\n",
      "dense_27 (Dense)                (None, 100)          20100       activation_191[0][0]             \n",
      "__________________________________________________________________________________________________\n",
      "activation_190 (Activation)     (None, 8, 8, 64)     0           add_72[0][0]                     \n",
      "__________________________________________________________________________________________________\n",
      "batch_normalization_184 (BatchN (None, 100)          400         dense_27[0][0]                   \n",
      "__________________________________________________________________________________________________\n",
      "conv2d_171 (Conv2D)             (None, 8, 8, 14)     8078        activation_190[0][0]             \n",
      "__________________________________________________________________________________________________\n",
      "activation_192 (Activation)     (None, 100)          0           batch_normalization_184[0][0]    \n",
      "__________________________________________________________________________________________________\n",
      "batch_normalization_182 (BatchN (None, 8, 8, 14)     56          conv2d_171[0][0]                 \n",
      "__________________________________________________________________________________________________\n",
      "dense_28 (Dense)                (None, 1)            101         activation_192[0][0]             \n",
      "__________________________________________________________________________________________________\n",
      "decoded (Activation)            multiple             0           batch_normalization_182[0][0]    \n",
      "__________________________________________________________________________________________________\n",
      "value (Activation)              (None, 1)            0           dense_28[0][0]                   \n",
      "==================================================================================================\n",
      "Total params: 357,071\n",
      "Trainable params: 355,123\n",
      "Non-trainable params: 1,948\n",
      "__________________________________________________________________________________________________\n"
     ]
    }
   ],
   "source": [
    "train_model.summary()"
   ]
  },
  {
   "cell_type": "markdown",
   "metadata": {},
   "source": [
    "### v5"
   ]
  },
  {
   "cell_type": "code",
   "execution_count": null,
   "metadata": {
    "collapsed": true
   },
   "outputs": [],
   "source": [
    "def dense_block(x, k):\n",
    "    "
   ]
  },
  {
   "cell_type": "code",
   "execution_count": null,
   "metadata": {
    "collapsed": true
   },
   "outputs": [],
   "source": [
    "def cnn_model():\n",
    "    k = 192\n",
    "    net_input = Input((8,8,14))\n",
    "    x = conv_block(net_input, k, kernel_size=(3,3))\n",
    "    for i in range(8):\n",
    "        x = res_block(x, k)\n",
    "    x = conv_block(x, 1, kernel_size=(1,1))\n",
    "    x = BatchNormalization()(x)\n",
    "    x = Activation('relu')(x)\n",
    "    x = Flatten()(x)\n",
    "    x = Dense(256)(x)\n",
    "    x = Activation('relu')(x)\n",
    "    x = Dense(1)(x)\n",
    "    net_output = Activation('tanh')(x)\n",
    "    # 5,359,494 params\n",
    "    return net_input, net_output"
   ]
  },
  {
   "cell_type": "markdown",
   "metadata": {},
   "source": [
    "#### train"
   ]
  },
  {
   "cell_type": "code",
   "execution_count": 22,
   "metadata": {
    "collapsed": true
   },
   "outputs": [],
   "source": [
    "def train_data_supervised():\n",
    "    #file_name1 = '../slonik_data/sf_scores.pkl'\n",
    "    #file_name2 = '../slonik_data/positions.pkl'\n",
    "    #sf_scores = pd.read_pickle(file_name1)\n",
    "    #positions = pd.read_pickle(file_name2)\n",
    "    valid_n = 6e4\n",
    "    train_n = int(len(features) - valid_n)\n",
    "    #train_data = sf_scores[:train_n]\n",
    "    #valid_data = sf_scores[train_n:]\n",
    "    #train_data = pd.concat([positions, sf_scores[:train_n]])\n",
    "    train_data = features[:train_n]\n",
    "    valid_data = features[train_n:]\n",
    "    return train_data, valid_data"
   ]
  },
  {
   "cell_type": "code",
   "execution_count": 54,
   "metadata": {},
   "outputs": [
    {
     "data": {
      "text/plain": [
       "[1024, 1024, 1024]"
      ]
     },
     "execution_count": 54,
     "metadata": {},
     "output_type": "execute_result"
    }
   ],
   "source": [
    "[b - a for (a,b) in [(56320, 57344),\n",
    " (57344, 58368),\n",
    " (58368, 59392)]]"
   ]
  },
  {
   "cell_type": "code",
   "execution_count": 62,
   "metadata": {
    "collapsed": true
   },
   "outputs": [
    {
     "data": {
      "text/plain": [
       "[(0, 1024),\n",
       " (1024, 2048),\n",
       " (2048, 3072),\n",
       " (3072, 4096),\n",
       " (4096, 5120),\n",
       " (5120, 6144),\n",
       " (6144, 7168),\n",
       " (7168, 8192),\n",
       " (8192, 9216),\n",
       " (9216, 10240),\n",
       " (10240, 11264),\n",
       " (11264, 12288),\n",
       " (12288, 13312),\n",
       " (13312, 14336),\n",
       " (14336, 15360),\n",
       " (15360, 16384),\n",
       " (16384, 17408),\n",
       " (17408, 18432),\n",
       " (18432, 19456),\n",
       " (19456, 20480),\n",
       " (20480, 21504),\n",
       " (21504, 22528),\n",
       " (22528, 23552),\n",
       " (23552, 24576),\n",
       " (24576, 25600),\n",
       " (25600, 26624),\n",
       " (26624, 27648),\n",
       " (27648, 28672),\n",
       " (28672, 29696),\n",
       " (29696, 30720),\n",
       " (30720, 31744),\n",
       " (31744, 32768),\n",
       " (32768, 33792),\n",
       " (33792, 34816),\n",
       " (34816, 35840),\n",
       " (35840, 36864),\n",
       " (36864, 37888),\n",
       " (37888, 38912),\n",
       " (38912, 39936),\n",
       " (39936, 40960),\n",
       " (40960, 41984),\n",
       " (41984, 43008),\n",
       " (43008, 44032),\n",
       " (44032, 45056),\n",
       " (45056, 46080),\n",
       " (46080, 47104),\n",
       " (47104, 48128),\n",
       " (48128, 49152),\n",
       " (49152, 50176),\n",
       " (50176, 51200),\n",
       " (51200, 52224),\n",
       " (52224, 53248),\n",
       " (53248, 54272),\n",
       " (54272, 55296),\n",
       " (55296, 56320),\n",
       " (56320, 57344),\n",
       " (57344, 58368),\n",
       " (58368, 59392)]"
      ]
     },
     "execution_count": 62,
     "metadata": {},
     "output_type": "execute_result"
    }
   ],
   "source": [
    "# np.random.permutation(features_sf12_valid.partitions)\n",
    "features_sf12_valid.partitions\n",
    "#features_sf12_valid.leftover_elements + 59392\n",
    "# len(features_sf12_valid.partitions) * 1024\n",
    "# features_sf12[1024:2048]"
   ]
  },
  {
   "cell_type": "code",
   "execution_count": 75,
   "metadata": {},
   "outputs": [
    {
     "data": {
      "text/plain": [
       "array([  193, -1901, -1556,     0,     4], dtype=int32)"
      ]
     },
     "execution_count": 75,
     "metadata": {},
     "output_type": "execute_result"
    }
   ],
   "source": [
    "np.array(sf_scores12[0:5].score, dtype='int32')"
   ]
  },
  {
   "cell_type": "code",
   "execution_count": 133,
   "metadata": {},
   "outputs": [
    {
     "data": {
      "text/plain": [
       "(-1.0, 0.027449547324851029, 1.0)"
      ]
     },
     "execution_count": 133,
     "metadata": {},
     "output_type": "execute_result"
    }
   ],
   "source": [
    "sf_scores3 = pd.read_pickle('/ssd/slonik_data/sf_scores_3dep.pkl')\n",
    "s = np.array(sf_scores3.stockfish_score)\n",
    "s.min(), s.mean(), s.max()"
   ]
  },
  {
   "cell_type": "code",
   "execution_count": 113,
   "metadata": {},
   "outputs": [
    {
     "data": {
      "text/plain": [
       "<module 'numpy' from '/usr/lib/python3.6/site-packages/numpy/__init__.py'>"
      ]
     },
     "execution_count": 113,
     "metadata": {},
     "output_type": "execute_result"
    }
   ],
   "source": [
    "np"
   ]
  },
  {
   "cell_type": "code",
   "execution_count": 137,
   "metadata": {
    "collapsed": true
   },
   "outputs": [],
   "source": []
  },
  {
   "cell_type": "code",
   "execution_count": 139,
   "metadata": {},
   "outputs": [
    {
     "data": {
      "text/plain": [
       "0.015116376857587148"
      ]
     },
     "execution_count": 139,
     "metadata": {},
     "output_type": "execute_result"
    }
   ],
   "source": [
    "sf_scores12.score.mean()"
   ]
  },
  {
   "cell_type": "code",
   "execution_count": 128,
   "metadata": {
    "collapsed": true
   },
   "outputs": [],
   "source": [
    "def batch_generator_df_bcolz(dframe, bcolz_arr, batch_size, shuffle=True, yielder=lambda x: x):\n",
    "    assert(batch_size % bcolz_arr.chunklen == 0)\n",
    "    chunks_per_batch = batch_size // bcolz_arr.chunklen\n",
    "    init_bounds = bcolz_arr.partitions\n",
    "    if bcolz_arr.leftover_elements > 0:\n",
    "        init_bounds.append((init_bounds[-1][1], len(bcolz_arr)))\n",
    "    while True:\n",
    "        bounds = np.random.permutation(init_bounds) if shuffle else init_bounds\n",
    "        feats_chunks, scores_chunks = [], []\n",
    "        def return_batch():\n",
    "            feats = np.concatenate(feats_chunks, axis=0)\n",
    "            scores = np.concatenate(scores_chunks, axis=0)\n",
    "            feats_chunks.clear()\n",
    "            scores_chunks.clear()\n",
    "            return yielder((feats, scores))\n",
    "        chunks = 0\n",
    "        for start, stop in bounds:\n",
    "            feats_chunks.append(bcolz_arr[start:stop])\n",
    "            scores_chunks.append(np.array(dframe[start:stop].score, dtype='float32'))\n",
    "            chunks += 1\n",
    "            if chunks % chunks_per_batch == 0:\n",
    "                yield return_batch()\n",
    "        if len(feats_chunks) > 0:\n",
    "            yield return_batch()"
   ]
  },
  {
   "cell_type": "code",
   "execution_count": 24,
   "metadata": {
    "collapsed": true
   },
   "outputs": [],
   "source": [
    "from bcolz_array_iterator import BcolzArrayIterator\n",
    "\n",
    "def batch_generator_bcolz(data, batch_size, shuffle=True):\n",
    "    batch_generator_bcolz = BcolzArrayIterator(data, batch_size=batch_size, shuffle=shuffle)\n",
    "    while True:\n",
    "        feats = next(batch_generator_bcolz)\n",
    "        yield feats, feats"
   ]
  },
  {
   "cell_type": "code",
   "execution_count": 25,
   "metadata": {
    "collapsed": true
   },
   "outputs": [],
   "source": [
    "def batch_generator_df(data, batch_size, shuffle=True):\n",
    "    while True:\n",
    "        data_ = data.sample(frac=1) if shuffle else data\n",
    "        for iteration, batch in data_.groupby(np.arange(len(data)) // batch_size):\n",
    "            fens = [f.strip() for f in batch.fen.tolist()]\n",
    "            feats = np.stack([get_feats(Position.from_fen(fen)) for fen in fens])\n",
    "            yield feats, feats"
   ]
  },
  {
   "cell_type": "code",
   "execution_count": null,
   "metadata": {
    "collapsed": true
   },
   "outputs": [],
   "source": [
    "# train_model = Model(net_input, outputs=[decoded, value])"
   ]
  },
  {
   "cell_type": "code",
   "execution_count": 69,
   "metadata": {
    "collapsed": true
   },
   "outputs": [],
   "source": [
    "train_model = model"
   ]
  },
  {
   "cell_type": "code",
   "execution_count": 178,
   "metadata": {
    "collapsed": true
   },
   "outputs": [],
   "source": [
    "train_model.compile(optimizer='adam', loss=['mse', 'mse'], loss_weights=[5e-4, 1.])\n",
    "autoencoder.compile('adam', loss='mse')\n",
    "evaluator.compile('adam', loss='mse')"
   ]
  },
  {
   "cell_type": "code",
   "execution_count": 287,
   "metadata": {
    "collapsed": true
   },
   "outputs": [],
   "source": [
    "train_model.compile(optimizer='adam', loss=['mse', 'mse'], loss_weights=[1., 5e-4])"
   ]
  },
  {
   "cell_type": "code",
   "execution_count": 42,
   "metadata": {
    "collapsed": true
   },
   "outputs": [],
   "source": [
    "train_model.compile(optimizer='adam', loss=['mse', 'mse'], loss_weights=[5e-4, 1.])"
   ]
  },
  {
   "cell_type": "code",
   "execution_count": 186,
   "metadata": {
    "collapsed": true
   },
   "outputs": [],
   "source": [
    "train_model.compile(optimizer='adam', loss=['mse', 'mse'], loss_weights=[5e-4, 1.], metrics='accuracy')"
   ]
  },
  {
   "cell_type": "code",
   "execution_count": 238,
   "metadata": {
    "collapsed": true
   },
   "outputs": [],
   "source": [
    "init_weights = train_model.get_weights()"
   ]
  },
  {
   "cell_type": "code",
   "execution_count": 83,
   "metadata": {
    "collapsed": true
   },
   "outputs": [],
   "source": [
    "train_model.set_weights(init_weights)"
   ]
  },
  {
   "cell_type": "code",
   "execution_count": 179,
   "metadata": {},
   "outputs": [
    {
     "ename": "ValueError",
     "evalue": "Layer #0 (named \"conv2d_109\" in the current model) was found to correspond to layer conv2d_19 in the save file. However the new layer conv2d_109 expects 1 weights, but the saved weights have 2 elements.",
     "output_type": "error",
     "traceback": [
      "\u001b[0;31m---------------------------------------------------------------------------\u001b[0m",
      "\u001b[0;31mValueError\u001b[0m                                Traceback (most recent call last)",
      "\u001b[0;32m<ipython-input-179-c7d261f18654>\u001b[0m in \u001b[0;36m<module>\u001b[0;34m()\u001b[0m\n\u001b[0;32m----> 1\u001b[0;31m \u001b[0mtrain_model\u001b[0m\u001b[0;34m.\u001b[0m\u001b[0mload_weights\u001b[0m\u001b[0;34m(\u001b[0m\u001b[0;34m'/ssd/slonik_data/autoencoder_sf_v3.h5'\u001b[0m\u001b[0;34m)\u001b[0m\u001b[0;34m\u001b[0m\u001b[0m\n\u001b[0m",
      "\u001b[0;32m/usr/lib/python3.6/site-packages/keras/engine/topology.py\u001b[0m in \u001b[0;36mload_weights\u001b[0;34m(self, filepath, by_name)\u001b[0m\n\u001b[1;32m   2620\u001b[0m             \u001b[0mload_weights_from_hdf5_group_by_name\u001b[0m\u001b[0;34m(\u001b[0m\u001b[0mf\u001b[0m\u001b[0;34m,\u001b[0m \u001b[0mself\u001b[0m\u001b[0;34m.\u001b[0m\u001b[0mlayers\u001b[0m\u001b[0;34m)\u001b[0m\u001b[0;34m\u001b[0m\u001b[0m\n\u001b[1;32m   2621\u001b[0m         \u001b[0;32melse\u001b[0m\u001b[0;34m:\u001b[0m\u001b[0;34m\u001b[0m\u001b[0m\n\u001b[0;32m-> 2622\u001b[0;31m             \u001b[0mload_weights_from_hdf5_group\u001b[0m\u001b[0;34m(\u001b[0m\u001b[0mf\u001b[0m\u001b[0;34m,\u001b[0m \u001b[0mself\u001b[0m\u001b[0;34m.\u001b[0m\u001b[0mlayers\u001b[0m\u001b[0;34m)\u001b[0m\u001b[0;34m\u001b[0m\u001b[0m\n\u001b[0m\u001b[1;32m   2623\u001b[0m \u001b[0;34m\u001b[0m\u001b[0m\n\u001b[1;32m   2624\u001b[0m         \u001b[0;32mif\u001b[0m \u001b[0mhasattr\u001b[0m\u001b[0;34m(\u001b[0m\u001b[0mf\u001b[0m\u001b[0;34m,\u001b[0m \u001b[0;34m'close'\u001b[0m\u001b[0;34m)\u001b[0m\u001b[0;34m:\u001b[0m\u001b[0;34m\u001b[0m\u001b[0m\n",
      "\u001b[0;32m/usr/lib/python3.6/site-packages/keras/engine/topology.py\u001b[0m in \u001b[0;36mload_weights_from_hdf5_group\u001b[0;34m(f, layers)\u001b[0m\n\u001b[1;32m   3138\u001b[0m                              \u001b[0;34m' weights, but the saved weights have '\u001b[0m \u001b[0;34m+\u001b[0m\u001b[0;34m\u001b[0m\u001b[0m\n\u001b[1;32m   3139\u001b[0m                              \u001b[0mstr\u001b[0m\u001b[0;34m(\u001b[0m\u001b[0mlen\u001b[0m\u001b[0;34m(\u001b[0m\u001b[0mweight_values\u001b[0m\u001b[0;34m)\u001b[0m\u001b[0;34m)\u001b[0m \u001b[0;34m+\u001b[0m\u001b[0;34m\u001b[0m\u001b[0m\n\u001b[0;32m-> 3140\u001b[0;31m                              ' elements.')\n\u001b[0m\u001b[1;32m   3141\u001b[0m         \u001b[0mweight_value_tuples\u001b[0m \u001b[0;34m+=\u001b[0m \u001b[0mzip\u001b[0m\u001b[0;34m(\u001b[0m\u001b[0msymbolic_weights\u001b[0m\u001b[0;34m,\u001b[0m \u001b[0mweight_values\u001b[0m\u001b[0;34m)\u001b[0m\u001b[0;34m\u001b[0m\u001b[0m\n\u001b[1;32m   3142\u001b[0m     \u001b[0mK\u001b[0m\u001b[0;34m.\u001b[0m\u001b[0mbatch_set_value\u001b[0m\u001b[0;34m(\u001b[0m\u001b[0mweight_value_tuples\u001b[0m\u001b[0;34m)\u001b[0m\u001b[0;34m\u001b[0m\u001b[0m\n",
      "\u001b[0;31mValueError\u001b[0m: Layer #0 (named \"conv2d_109\" in the current model) was found to correspond to layer conv2d_19 in the save file. However the new layer conv2d_109 expects 1 weights, but the saved weights have 2 elements."
     ]
    }
   ],
   "source": [
    "train_model.load_weights('/ssd/slonik_data/autoencoder_sf_v3.h5')"
   ]
  },
  {
   "cell_type": "code",
   "execution_count": 50,
   "metadata": {
    "collapsed": true
   },
   "outputs": [],
   "source": [
    "from cycliclr import CyclicLR"
   ]
  },
  {
   "cell_type": "code",
   "execution_count": 158,
   "metadata": {
    "collapsed": true
   },
   "outputs": [],
   "source": [
    "train_model.compile(keras.optimizers.SGD(lr=.01, momentum=.95, nesterov=True), 'mse')"
   ]
  },
  {
   "cell_type": "code",
   "execution_count": 159,
   "metadata": {},
   "outputs": [
    {
     "name": "stdout",
     "output_type": "stream",
     "text": [
      "Epoch 1/10\n",
      "10/10 [==============================] - 5s 532ms/step - loss: 0.0079 - val_loss: 0.0089\n",
      "Epoch 2/10\n",
      "10/10 [==============================] - 4s 391ms/step - loss: 0.0078 - val_loss: 0.0089\n",
      "Epoch 3/10\n",
      "10/10 [==============================] - 4s 376ms/step - loss: 0.0078 - val_loss: 0.0089\n",
      "Epoch 4/10\n",
      "10/10 [==============================] - 4s 378ms/step - loss: 0.0079 - val_loss: 0.0089\n",
      "Epoch 5/10\n",
      "10/10 [==============================] - 4s 378ms/step - loss: 0.0079 - val_loss: 0.0089\n",
      "Epoch 6/10\n",
      "10/10 [==============================] - 4s 376ms/step - loss: 0.0080 - val_loss: 0.0097\n",
      "Epoch 7/10\n",
      "10/10 [==============================] - 4s 378ms/step - loss: 0.0593 - val_loss: 0.1897\n",
      "Epoch 8/10\n",
      "10/10 [==============================] - 4s 377ms/step - loss: 0.2169 - val_loss: 0.2877\n",
      "Epoch 9/10\n",
      "10/10 [==============================] - 4s 378ms/step - loss: 0.2769 - val_loss: 0.3957\n",
      "Epoch 10/10\n",
      "10/10 [==============================] - 4s 378ms/step - loss: 0.3203 - val_loss: 0.4467\n"
     ]
    },
    {
     "data": {
      "text/plain": [
       "<keras.callbacks.History at 0x7f08112f2b70>"
      ]
     },
     "execution_count": 159,
     "metadata": {},
     "output_type": "execute_result"
    }
   ],
   "source": [
    "from math import ceil\n",
    "\n",
    "# train_data, valid_data = train_data_supervised()\n",
    "batch_size = 1024\n",
    "#nvalid = len(features_sf12_valid)\n",
    "\n",
    "x = features_sf12_sample\n",
    "x_valid = features_sf12_valid_sample\n",
    "\n",
    "# yielder = lambda f_s: (f_s[0], [f_s[0], f_s[1]]) # (feats, [feats, scores])\n",
    "train_gen = batch_generator_df_bcolz(sf_scores12, x, batch_size)\n",
    "valid_gen = batch_generator_df_bcolz(sf_scores12[-60000:], x_valid, batch_size, shuffle=False)\n",
    "\n",
    "train_steps = ceil(len(x) / batch_size)\n",
    "valid_steps = ceil(len(x_valid) / batch_size)\n",
    "\n",
    "# lr_plateau = keras.callbacks.ReduceLROnPlateau(monitor='val_loss', factor=0.05, patience=5, verbose=1)\n",
    "checkpoint = keras.callbacks.ModelCheckpoint('../slonik_data/autoencoder_v0_weights.{epoch:03d}-{val_loss:.6f}.h5', \n",
    "                                             monitor='val_loss', save_best_only=True, save_weights_only=True, period=1)\n",
    "# stopping = keras.callbacks.EarlyStopping(monitor='val_loss', min_delta=0, patience=20, mode='auto')\n",
    "clr = CyclicLR(base_lr=0., max_lr=2, step_size=train_steps*10, mode='triangular')\n",
    "# clr = CyclicLR(base_lr=0, max_lr=1e-2, step_size=train_steps*5, mode='triangular')\n",
    "\n",
    "callbacks = [clr]\n",
    "# callbacks = [clr, checkpoint]\n",
    "# K.set_value(train_model.optimizer.lr, 1e-3)\n",
    "train_model.fit_generator(train_gen, train_steps, epochs=10, \n",
    "                          validation_data=valid_gen, validation_steps=valid_steps, callbacks=callbacks)"
   ]
  },
  {
   "cell_type": "code",
   "execution_count": 45,
   "metadata": {
    "collapsed": true
   },
   "outputs": [],
   "source": [
    "hist = Out[44].history"
   ]
  },
  {
   "cell_type": "code",
   "execution_count": 75,
   "metadata": {
    "collapsed": true
   },
   "outputs": [
    {
     "data": {
      "text/plain": [
       "[<matplotlib.lines.Line2D at 0x7f0f5f3a12e8>]"
      ]
     },
     "execution_count": 75,
     "metadata": {},
     "output_type": "execute_result"
    },
    {
     "data": {
      "image/png": "[encoded data removed]",
      "text/plain": [
       "<matplotlib.figure.Figure at 0x7f0f5f454ac8>"
      ]
     },
     "metadata": {},
     "output_type": "display_data"
    }
   ],
   "source": [
    "y = hist['val_value_loss'][25:]\n",
    "plt.plot(np.arange(len(y)), y)"
   ]
  },
  {
   "cell_type": "code",
   "execution_count": null,
   "metadata": {
    "collapsed": true
   },
   "outputs": [],
   "source": [
    "clr.history.keys()"
   ]
  },
  {
   "cell_type": "code",
   "execution_count": 152,
   "metadata": {},
   "outputs": [
    {
     "data": {
      "text/plain": [
       "1.25"
      ]
     },
     "execution_count": 152,
     "metadata": {},
     "output_type": "execute_result"
    }
   ],
   "source": [
    "clr.history['lr'][-1]"
   ]
  },
  {
   "cell_type": "code",
   "execution_count": 151,
   "metadata": {
    "collapsed": true
   },
   "outputs": [
    {
     "data": {
      "text/plain": [
       "[<matplotlib.lines.Line2D at 0x7f0814c513c8>]"
      ]
     },
     "execution_count": 151,
     "metadata": {},
     "output_type": "execute_result"
    },
    {
     "data": {
      "image/png": "[encoded data removed]",
      "text/plain": [
       "<matplotlib.figure.Figure at 0x7f0814d159e8>"
      ]
     },
     "metadata": {},
     "output_type": "display_data"
    }
   ],
   "source": [
    "plt.plot(clr.history['iterations'], clr.history['lr'])"
   ]
  },
  {
   "cell_type": "code",
   "execution_count": 167,
   "metadata": {},
   "outputs": [
    {
     "data": {
      "text/plain": [
       "[<matplotlib.lines.Line2D at 0x7f0810264c18>]"
      ]
     },
     "execution_count": 167,
     "metadata": {},
     "output_type": "execute_result"
    },
    {
     "data": {
      "image/png": "[encoded data removed]",
      "text/plain": [
       "<matplotlib.figure.Figure at 0x7f0810435518>"
      ]
     },
     "metadata": {},
     "output_type": "display_data"
    }
   ],
   "source": [
    "rng = np.s_[:60]\n",
    "plt.plot(clr.history['lr'][rng], clr.history['loss'][rng])"
   ]
  },
  {
   "cell_type": "code",
   "execution_count": 154,
   "metadata": {},
   "outputs": [
    {
     "data": {
      "text/plain": [
       "[<matplotlib.lines.Line2D at 0x7f0814b4c518>]"
      ]
     },
     "execution_count": 154,
     "metadata": {},
     "output_type": "execute_result"
    },
    {
     "data": {
      "image/png": "[encoded data removed]",
      "text/plain": [
       "<matplotlib.figure.Figure at 0x7f0814d0bfd0>"
      ]
     },
     "metadata": {},
     "output_type": "display_data"
    }
   ],
   "source": [
    "plt.plot(clr.history['iterations'], clr.history['loss'])"
   ]
  },
  {
   "cell_type": "code",
   "execution_count": 68,
   "metadata": {
    "collapsed": true
   },
   "outputs": [],
   "source": [
    "hist2 = Out[65]"
   ]
  },
  {
   "cell_type": "code",
   "execution_count": 33,
   "metadata": {
    "collapsed": true
   },
   "outputs": [],
   "source": [
    "train_model.save_weights('/ssd/slonik_data/autoencoder_sf_v0.h5')"
   ]
  },
  {
   "cell_type": "code",
   "execution_count": 169,
   "metadata": {
    "collapsed": true
   },
   "outputs": [],
   "source": [
    "train_model.load_weights('../slonik_data/autoencoder_v0.h5')"
   ]
  },
  {
   "cell_type": "code",
   "execution_count": null,
   "metadata": {
    "collapsed": true
   },
   "outputs": [],
   "source": [
    "train_model.evaluate()"
   ]
  },
  {
   "cell_type": "markdown",
   "metadata": {},
   "source": [
    "### evaluate models"
   ]
  },
  {
   "cell_type": "code",
   "execution_count": 20,
   "metadata": {
    "collapsed": true
   },
   "outputs": [],
   "source": [
    "from math import ceil"
   ]
  },
  {
   "cell_type": "code",
   "execution_count": 76,
   "metadata": {},
   "outputs": [
    {
     "data": {
      "text/plain": [
       "0.0032881421451767287"
      ]
     },
     "execution_count": 76,
     "metadata": {},
     "output_type": "execute_result"
    }
   ],
   "source": [
    "batch_size = 1024 * 2\n",
    "valid_steps = ceil(len(features_sf12_valid) / batch_size)\n",
    "valid_gen = batch_generator_bcolz(features_sf12_valid, batch_size, shuffle=False)\n",
    "autoencoder.evaluate_generator(valid_gen, steps=valid_steps)\n",
    "# 0.25 => 0.00328"
   ]
  },
  {
   "cell_type": "code",
   "execution_count": 77,
   "metadata": {},
   "outputs": [
    {
     "data": {
      "text/plain": [
       "5.1518849744525145e-09"
      ]
     },
     "execution_count": 77,
     "metadata": {},
     "output_type": "execute_result"
    }
   ],
   "source": [
    "batch_size = 1024 * 2\n",
    "valid_gen = batch_generator_df_bcolz(sf_scores12, features_sf12_valid, batch_size, shuffle=False)\n",
    "evaluator.evaluate_generator(valid_gen, steps=valid_steps)\n",
    "# 0.04357 => 5.151884e-09"
   ]
  },
  {
   "cell_type": "code",
   "execution_count": 173,
   "metadata": {},
   "outputs": [
    {
     "data": {
      "text/plain": [
       "0.0091104071517785386"
      ]
     },
     "execution_count": 173,
     "metadata": {},
     "output_type": "execute_result"
    }
   ],
   "source": [
    "from math import ceil\n",
    "batch_size = 1024 * 2\n",
    "valid_steps = ceil(len(features_sf12_valid) / batch_size)\n",
    "valid_gen = batch_generator_df_bcolz(sf_scores12[-60000:], features_sf12_valid, batch_size, shuffle=False)\n",
    "                                    #yielder=lambda f_s: (f_s[0], [f_s[0], f_s[1]]))\n",
    "train_model.evaluate_generator(valid_gen, steps=valid_steps)\n",
    "# [0.0037449617413183051, 0.0088122262507677081, 0.0037405556129912537]\n",
    "\n",
    "# [0.0064739205973843731, 0.0015579963417723774, 0.0064731416421631976]"
   ]
  },
  {
   "cell_type": "code",
   "execution_count": 22,
   "metadata": {},
   "outputs": [
    {
     "data": {
      "text/plain": [
       "['loss', 'decoded_loss', 'value_loss', 'decoded_acc', 'value_acc']"
      ]
     },
     "execution_count": 22,
     "metadata": {},
     "output_type": "execute_result"
    }
   ],
   "source": [
    "train_model.metrics_names"
   ]
  },
  {
   "cell_type": "code",
   "execution_count": 167,
   "metadata": {},
   "outputs": [
    {
     "data": {
      "text/plain": [
       "0.001"
      ]
     },
     "execution_count": 167,
     "metadata": {},
     "output_type": "execute_result"
    }
   ],
   "source": [
    "K.get_value(train_model.optimizer.lr)"
   ]
  },
  {
   "cell_type": "markdown",
   "metadata": {},
   "source": [
    "#### see some results of evaluator"
   ]
  },
  {
   "cell_type": "code",
   "execution_count": null,
   "metadata": {
    "collapsed": true
   },
   "outputs": [],
   "source": [
    "train_mod"
   ]
  },
  {
   "cell_type": "code",
   "execution_count": 61,
   "metadata": {
    "collapsed": true
   },
   "outputs": [],
   "source": [
    "from pprint import pprint"
   ]
  },
  {
   "cell_type": "code",
   "execution_count": 172,
   "metadata": {},
   "outputs": [
    {
     "data": {
      "text/plain": [
       "[<matplotlib.lines.Line2D at 0x7f080bdca898>]"
      ]
     },
     "execution_count": 172,
     "metadata": {},
     "output_type": "execute_result"
    },
    {
     "data": {
      "image/png": "[encoded data removed]",
      "text/plain": [
       "<matplotlib.figure.Figure at 0x7f0810158c18>"
      ]
     },
     "metadata": {},
     "output_type": "display_data"
    }
   ],
   "source": [
    "rng = slice(0,40)\n",
    "dfrng = slice(rng.start+-60000, rng.stop+-60000)\n",
    "fens = sf_scores12[dfrng].orig_fen\n",
    "scores = sf_scores12[dfrng].score\n",
    "# np.allclose(features_sf12_valid[rng], np.array([get_feats(Position.from_fen(f)) for f in fens]))\n",
    "# pprint(list(zip(scores, evaluator.predict(features_sf12_valid[rng]).squeeze())))\n",
    "x = np.arange(len(scores))\n",
    "plt.plot(x, scores, 'r')\n",
    "plt.plot(x, model.predict(features_sf12_valid[rng]).squeeze(), 'b')"
   ]
  },
  {
   "cell_type": "code",
   "execution_count": 84,
   "metadata": {},
   "outputs": [
    {
     "data": {
      "text/plain": [
       "0.012302580172725733"
      ]
     },
     "execution_count": 84,
     "metadata": {},
     "output_type": "execute_result"
    }
   ],
   "source": [
    "np.mean(np.square(np.array(scores) - evaluator.predict(features_sf12_valid[rng]).squeeze()))"
   ]
  },
  {
   "cell_type": "code",
   "execution_count": 67,
   "metadata": {},
   "outputs": [
    {
     "data": {
      "text/plain": [
       "(-1.0, 0.015116376857587148, 1.0, 0.091561853816979275)"
      ]
     },
     "execution_count": 67,
     "metadata": {},
     "output_type": "execute_result"
    }
   ],
   "source": [
    "sf_scores12.score.min(), sf_scores12.score.mean(), sf_scores12.score.max(), sf_scores12.score.std()"
   ]
  },
  {
   "cell_type": "markdown",
   "metadata": {},
   "source": [
    "#### visualize"
   ]
  },
  {
   "cell_type": "code",
   "execution_count": 118,
   "metadata": {
    "collapsed": true
   },
   "outputs": [
    {
     "name": "stdout",
     "output_type": "stream",
     "text": [
      "  ·  ·  ·  ·  ·  ·  ·  ♚\n",
      "  ·  ·  ·  ·  ·  ·  ·  ·\n",
      "  ·  ·  ·  ·  ·  ♟  ·  ·\n",
      "  ♟  ·  ·  ·  ♟  ·  ·  ·\n",
      "  ·  ·  ·  ·  ·  ·  ♙  ·\n",
      "  ·  ♙  ·  ·  ·  ·  ·  ♙\n",
      "  ♙  ·  ·  ·  ·  ·  ♔  ·\n",
      "  ·  ·  ♖  ·  ·  ·  ·  ·\n",
      "B to move\n",
      "\n",
      "\n",
      "B to move\n",
      " ·  ·  ·  ·  ·  ♗  ♜  ♚ \n",
      " ·  ·  ·  ♛  ·  ·  ·  · \n",
      " ·  ·  ·  ·  ·  ♟  ·  · \n",
      " ♟  ·  ·  ·  ♟  ♖  ·  · \n",
      " ·  ·  ·  ♝  ♕  ·  ♙  · \n",
      " ·  ♙  ·  ·  ·  ·  ·  ♙ \n",
      " ♙  ·  ·  ·  ·  ·  ♔  · \n",
      " ·  ·  ♖  ·  ·  ·  ·  · \n",
      "\n"
     ]
    },
    {
     "data": {
      "text/plain": [
       "array([[  1.62972242e-03,   4.52090008e-03,   5.87424776e-03,\n",
       "          5.01511211e-04,   1.34247937e-03,   5.91424992e-03,\n",
       "          2.57249223e-03,   5.02845542e-05],\n",
       "       [  1.09640986e-03,   6.15964690e-03,   3.96589860e-02,\n",
       "          2.18044128e-02,   5.58355562e-02,   2.52539497e-02,\n",
       "          9.89863370e-03,   5.07101696e-03],\n",
       "       [  3.99631681e-03,   8.75882525e-03,   1.62292235e-02,\n",
       "          2.51737796e-02,   1.70903318e-02,   3.83307692e-04,\n",
       "          8.38182867e-03,   1.07366836e-03],\n",
       "       [  4.22662357e-03,   4.84171370e-03,   1.13326721e-02,\n",
       "          2.72452645e-03,   2.10633059e-03,   7.61086820e-04,\n",
       "          2.27976101e-03,   4.19372227e-03],\n",
       "       [  6.94604591e-04,   6.78371114e-04,   9.11953510e-04,\n",
       "          2.76113348e-03,   1.91220432e-03,   4.98773821e-04,\n",
       "          7.69313101e-06,   2.69613578e-04],\n",
       "       [  5.71762724e-03,   9.91462798e-07,   4.38794727e-04,\n",
       "          2.32832297e-03,   1.31268264e-03,   1.69869151e-03,\n",
       "          4.06783819e-03,   6.30287544e-10],\n",
       "       [  3.03222521e-07,   1.26699149e-03,   1.93649175e-04,\n",
       "          1.37734890e-03,   3.88885895e-03,   5.56901796e-04,\n",
       "          9.99165233e-03,   1.51004037e-02],\n",
       "       [  9.89700420e-05,   3.10643367e-03,   2.86672002e-04,\n",
       "          3.03463949e-05,   2.21168646e-03,   1.18178781e-03,\n",
       "          5.65109961e-03,   1.94320071e-03]], dtype=float32)"
      ]
     },
     "execution_count": 118,
     "metadata": {},
     "output_type": "execute_result"
    }
   ],
   "source": [
    "preds = autoencoder.predict(np.stack([get_feats(p) for p in ps[0:1]]))\n",
    "[print_feats(p) for p in np.round(preds)]\n",
    "print('\\n')\n",
    "for p in ps[0:1]:\n",
    "    print(p)\n",
    "preds[0][:,:,11]"
   ]
  },
  {
   "cell_type": "code",
   "execution_count": 119,
   "metadata": {
    "collapsed": true
   },
   "outputs": [
    {
     "data": {
      "image/png": "[encoded data removed]",
      "text/plain": [
       "<matplotlib.figure.Figure at 0x7fc63f95fbe0>"
      ]
     },
     "metadata": {},
     "output_type": "display_data"
    }
   ],
   "source": [
    "plot_multi(preds.mean(-1), dim=(4,4), figsize=(12,12))"
   ]
  },
  {
   "cell_type": "code",
   "execution_count": 120,
   "metadata": {
    "collapsed": true
   },
   "outputs": [
    {
     "data": {
      "image/png": "[encoded data removed]",
      "text/plain": [
       "<matplotlib.figure.Figure at 0x7fc5f66fe710>"
      ]
     },
     "metadata": {},
     "output_type": "display_data"
    }
   ],
   "source": [
    "plot_multi([get_feats(p).mean(-1) for p in ps[0:3]], dim=(4,4), figsize=(12,12))"
   ]
  },
  {
   "cell_type": "markdown",
   "metadata": {},
   "source": [
    "### save encoded versions for nearest neighbors"
   ]
  },
  {
   "cell_type": "code",
   "execution_count": 181,
   "metadata": {
    "collapsed": true
   },
   "outputs": [],
   "source": [
    "encoded_10k = encoder.predict(np.stack([get_feats(Position.from_fen(i)) for i in list(data[:10000].fen)]))"
   ]
  },
  {
   "cell_type": "code",
   "execution_count": 182,
   "metadata": {},
   "outputs": [
    {
     "data": {
      "text/plain": [
       "(10000, 4, 4, 2)"
      ]
     },
     "execution_count": 182,
     "metadata": {},
     "output_type": "execute_result"
    }
   ],
   "source": [
    "encoded_10k.shape"
   ]
  },
  {
   "cell_type": "markdown",
   "metadata": {
    "collapsed": true
   },
   "source": [
    "### find similar positions"
   ]
  },
  {
   "cell_type": "code",
   "execution_count": 131,
   "metadata": {
    "collapsed": true
   },
   "outputs": [],
   "source": [
    "from sklearn.neighbors import NearestNeighbors, LSHForest"
   ]
  },
  {
   "cell_type": "code",
   "execution_count": 183,
   "metadata": {},
   "outputs": [
    {
     "name": "stderr",
     "output_type": "stream",
     "text": [
      "/usr/lib/python3.6/site-packages/sklearn/neighbors/approximate.py:220: DeprecationWarning: LSHForest has poor performance and has been deprecated in 0.19. It will be removed in version 0.21.\n",
      "  DeprecationWarning)\n"
     ]
    }
   ],
   "source": [
    "nn = LSHForest(20, n_neighbors=3).fit(encoded_10k.reshape(encoded_10k.shape[0], -1))"
   ]
  },
  {
   "cell_type": "code",
   "execution_count": 218,
   "metadata": {
    "collapsed": true
   },
   "outputs": [
    {
     "name": "stdout",
     "output_type": "stream",
     "text": [
      "W to move\n",
      " ·  ·  ·  ·  ♖  ·  ·  · \n",
      " ·  ·  ·  ·  ·  ·  ·  · \n",
      " ·  ·  ♟  ·  ·  ·  ♟  ♞ \n",
      " ·  ·  ·  ♝  ·  ·  ·  ♟ \n",
      " ·  ·  ·  ♚  ♟  ·  ·  ♙ \n",
      " ·  ·  ·  ·  ·  ·  ♙  · \n",
      " ·  ♙  ·  ·  ♔  ♙  ·  · \n",
      " ·  ·  ·  ·  ·  ·  ·  · \n",
      "\n",
      "[[  1.19209290e-07   7.56382942e-05   1.27911568e-04]]\n",
      "W to move\n",
      " ·  ·  ·  ·  ·  ·  ·  · \n",
      " ·  ·  ·  ·  ·  ·  ♚  · \n",
      " ·  ·  ♟  ♖  ·  ·  ♟  ♟ \n",
      " ·  ·  ·  ·  ·  ·  ·  · \n",
      " ·  ·  ·  ·  ·  ·  ·  ♙ \n",
      " ·  ·  ·  ·  ♙  ·  ♙  · \n",
      " ·  ·  ·  ·  ·  ♙  ·  · \n",
      " ♜  ·  ·  ·  ·  ♔  ·  · \n",
      "\n",
      "W to move\n",
      " ·  ·  ·  ·  ·  ·  ·  · \n",
      " ·  ·  ·  ·  ♚  ·  ·  · \n",
      " ·  ·  ·  ·  ·  ♞  ♟  · \n",
      " ·  ·  ·  ·  ·  ·  ·  ♟ \n",
      " ·  ·  ·  ·  ♟  ·  ·  ♙ \n",
      " ·  ·  ·  ·  ♙  ·  ♙  ♗ \n",
      " ·  ·  ·  ·  ·  ♙  ·  · \n",
      " ·  ·  ·  ·  ·  ♔  ·  · \n",
      "\n"
     ]
    }
   ],
   "source": [
    "n = 9001\n",
    "pos = Position.from_fen(data.iloc[n].fen)\n",
    "feats = get_feats(pos)\n",
    "\n",
    "print(pos)\n",
    "\n",
    "dist, idxs = nn.kneighbors(encoder.predict(feats[None]).reshape(1, -1))\n",
    "print(dist)\n",
    "\n",
    "if idxs[0][0] != n: print('no self match')\n",
    "for i in idxs[0]:\n",
    "    if i != n: print(Position.from_fen(data.iloc[i].fen))"
   ]
  },
  {
   "cell_type": "code",
   "execution_count": 134,
   "metadata": {
    "collapsed": true
   },
   "outputs": [],
   "source": [
    "sf_scores = pd.read_pickle('/ssd/slonik_data/sf_scores.pkl')"
   ]
  },
  {
   "cell_type": "code",
   "execution_count": 135,
   "metadata": {},
   "outputs": [
    {
     "data": {
      "text/plain": [
       "295705"
      ]
     },
     "execution_count": 135,
     "metadata": {},
     "output_type": "execute_result"
    }
   ],
   "source": [
    "len(sf_scores)"
   ]
  },
  {
   "cell_type": "code",
   "execution_count": 136,
   "metadata": {},
   "outputs": [
    {
     "data": {
      "text/plain": [
       "295705.0"
      ]
     },
     "execution_count": 136,
     "metadata": {},
     "output_type": "execute_result"
    }
   ],
   "source": [
    "591410/2"
   ]
  },
  {
   "cell_type": "markdown",
   "metadata": {},
   "source": [
    "### transfer to smaller model"
   ]
  },
  {
   "cell_type": "code",
   "execution_count": null,
   "metadata": {
    "collapsed": true
   },
   "outputs": [],
   "source": [
    "# try to copy encoding\n",
    "tinp = Input((8,8,14))\n",
    "x = Flatten()(tinp)\n",
    "x = Dense(128, activation='relu')(x)\n",
    "x = Dense(128)(x)\n",
    "tout = Reshape((8,8,4))\n",
    "tmodel = Model(tinp, tout)\n",
    "tmodel.compile('adam', 'mse')"
   ]
  },
  {
   "cell_type": "code",
   "execution_count": 174,
   "metadata": {
    "collapsed": true
   },
   "outputs": [
    {
     "name": "stdout",
     "output_type": "stream",
     "text": [
      "__________________________________________________________________________________________________\n",
      "Layer (type)                    Output Shape         Param #     Connected to                     \n",
      "==================================================================================================\n",
      "input_8 (InputLayer)            (None, 26)           0                                            \n",
      "__________________________________________________________________________________________________\n",
      "input_9 (InputLayer)            (None, 18)           0                                            \n",
      "__________________________________________________________________________________________________\n",
      "input_10 (InputLayer)           (None, 68)           0                                            \n",
      "__________________________________________________________________________________________________\n",
      "input_11 (InputLayer)           (None, 148)          0                                            \n",
      "__________________________________________________________________________________________________\n",
      "dense_9 (Dense)                 (None, 26)           702         input_8[0][0]                    \n",
      "__________________________________________________________________________________________________\n",
      "dense_10 (Dense)                (None, 18)           342         input_9[0][0]                    \n",
      "__________________________________________________________________________________________________\n",
      "dense_11 (Dense)                (None, 24)           1656        input_10[0][0]                   \n",
      "__________________________________________________________________________________________________\n",
      "dense_12 (Dense)                (None, 32)           4768        input_11[0][0]                   \n",
      "__________________________________________________________________________________________________\n",
      "activation_62 (Activation)      (None, 26)           0           dense_9[0][0]                    \n",
      "__________________________________________________________________________________________________\n",
      "activation_63 (Activation)      (None, 18)           0           dense_10[0][0]                   \n",
      "__________________________________________________________________________________________________\n",
      "activation_64 (Activation)      (None, 24)           0           dense_11[0][0]                   \n",
      "__________________________________________________________________________________________________\n",
      "activation_65 (Activation)      (None, 32)           0           dense_12[0][0]                   \n",
      "__________________________________________________________________________________________________\n",
      "concatenate_1 (Concatenate)     (None, 100)          0           activation_62[0][0]              \n",
      "                                                                 activation_63[0][0]              \n",
      "                                                                 activation_64[0][0]              \n",
      "                                                                 activation_65[0][0]              \n",
      "__________________________________________________________________________________________________\n",
      "dense_13 (Dense)                (None, 64)           6464        concatenate_1[0][0]              \n",
      "__________________________________________________________________________________________________\n",
      "activation_66 (Activation)      (None, 64)           0           dense_13[0][0]                   \n",
      "__________________________________________________________________________________________________\n",
      "dense_14 (Dense)                (None, 1)            65          activation_66[0][0]              \n",
      "__________________________________________________________________________________________________\n",
      "activation_67 (Activation)      (None, 1)            0           dense_14[0][0]                   \n",
      "==================================================================================================\n",
      "Total params: 13,997\n",
      "Trainable params: 13,997\n",
      "Non-trainable params: 0\n",
      "__________________________________________________________________________________________________\n"
     ]
    }
   ],
   "source": [
    "def dense_model():\n",
    "    input_global = Input((26,))\n",
    "    input_pawn = Input((18,))\n",
    "    input_piece = Input((68,))\n",
    "    input_square = Input((148,))\n",
    "    g = Dense(26)(input_global)\n",
    "    g = Activation('relu')(g)\n",
    "    pwn = Dense(18)(input_pawn)\n",
    "    pwn = Activation('relu')(pwn)\n",
    "    pc = Dense(24)(input_piece)\n",
    "    pc = Activation('relu')(pc)\n",
    "    sq = Dense(32)(input_square)\n",
    "    sq = Activation('relu')(sq)\n",
    "    merged = keras.layers.concatenate([g, pwn, pc, sq])\n",
    "    shared = Dense(64)(merged)\n",
    "    shared = Activation('relu')(shared)\n",
    "    output = Dense(1)(shared)\n",
    "    output = Activation('tanh')(output)\n",
    "    return [input_global, input_pawn, input_piece, input_square], output\n",
    "dinputs, doutp = dense_model()\n",
    "dmodel = Model(dinputs, doutp)\n",
    "dmodel.summary()"
   ]
  },
  {
   "cell_type": "code",
   "execution_count": 248,
   "metadata": {
    "collapsed": true
   },
   "outputs": [],
   "source": [
    "inp = Input(shape=(15,))                \n",
    "x = Dense(10, activation='relu')(inp)\n",
    "x = Dense(1, activation='sigmoid')(x)\n",
    "\n",
    "model = Model(inp, x)\n",
    "X = np.random.rand(2000000,15)\n",
    "Y = np.random.randint(0,2,size=2000000)"
   ]
  },
  {
   "cell_type": "code",
   "execution_count": 252,
   "metadata": {},
   "outputs": [
    {
     "name": "stderr",
     "output_type": "stream",
     "text": [
      "/usr/lib/python3.6/site-packages/ipykernel/__main__.py:5: UserWarning: The `nb_epoch` argument in `fit` has been renamed `epochs`.\n",
      "/usr/lib/python3.6/site-packages/keras/callbacks.py:116: UserWarning: Method on_batch_end() is slow compared to the batch update (0.150463). Check your callbacks.\n",
      "  % delta_t_median)\n"
     ]
    },
    {
     "data": {
      "text/plain": [
       "[<matplotlib.lines.Line2D at 0x7fae29f31da0>]"
      ]
     },
     "execution_count": 252,
     "metadata": {},
     "output_type": "execute_result"
    },
    {
     "data": {
      "image/png": "[encoded data removed]",
      "text/plain": [
       "<matplotlib.figure.Figure at 0x7fae3a365240>"
      ]
     },
     "metadata": {},
     "output_type": "display_data"
    }
   ],
   "source": [
    "clr_triangular = CyclicLR(mode='triangular')\n",
    "\n",
    "model.compile(optimizer=Adam(0.1), loss='binary_crossentropy')\n",
    "\n",
    "model.fit(X, Y, batch_size=2000, nb_epoch=10, callbacks=[clr_triangular], verbose=0)\n",
    "\n",
    "plt.xlabel('Training Iterations')\n",
    "plt.ylabel('Learning Rate')\n",
    "plt.title(\"CLR - 'triangular' Policy\")\n",
    "plt.plot(clr_triangular.history['iterations'], clr_triangular.history['lr'])\n"
   ]
  },
  {
   "cell_type": "code",
   "execution_count": 251,
   "metadata": {},
   "outputs": [
    {
     "data": {
      "text/plain": [
       "dict_keys(['lr', 'iterations', 'batch', 'size', 'loss', 'acc'])"
      ]
     },
     "execution_count": 251,
     "metadata": {},
     "output_type": "execute_result"
    }
   ],
   "source": [
    "clr_triangular.history.keys()"
   ]
  }
 ],
 "metadata": {
  "kernelspec": {
   "display_name": "Python 3",
   "language": "python",
   "name": "python3"
  },
  "language_info": {
   "codemirror_mode": {
    "name": "ipython",
    "version": 3
   },
   "file_extension": ".py",
   "mimetype": "text/x-python",
   "name": "python",
   "nbconvert_exporter": "python",
   "pygments_lexer": "ipython3",
   "version": "3.6.3"
  }
 },
 "nbformat": 4,
 "nbformat_minor": 2
}
