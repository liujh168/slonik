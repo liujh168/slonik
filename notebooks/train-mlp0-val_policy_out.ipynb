{
 "cells": [
  {
   "cell_type": "code",
   "execution_count": 1,
   "metadata": {},
   "outputs": [
    {
     "name": "stderr",
     "output_type": "stream",
     "text": [
      "Using TensorFlow backend.\n"
     ]
    },
    {
     "name": "stdout",
     "output_type": "stream",
     "text": [
      "Initializing Magics\n"
     ]
    }
   ],
   "source": [
    "import sys\n",
    "sys.path.append('..')\n",
    "\n",
    "import keras\n",
    "from keras.models import Model\n",
    "from keras.optimizers import Adam, SGD\n",
    "from keras.regularizers import l2\n",
    "from keras.layers import *\n",
    "import pandas as pd\n",
    "import numpy as np\n",
    "from position import Position\n",
    "import matplotlib.pyplot as plt\n",
    "%matplotlib inline\n",
    "import imp\n",
    "# imp.reload(cnnfeat)\n",
    "from multiprocessing import Queue\n",
    "from multiprocessing import Manager, Process, Pool\n",
    "import os\n",
    "from time import time\n",
    "import pickle\n",
    "import bcolz\n",
    "from tqdm import tqdm \n",
    "from cnnfeat import get_feats\n",
    "import numpy as np"
   ]
  },
  {
   "cell_type": "code",
   "execution_count": 2,
   "metadata": {
    "collapsed": true
   },
   "outputs": [],
   "source": [
    "from tools.cycliclr import CyclicLR\n",
    "from math import ceil"
   ]
  },
  {
   "cell_type": "code",
   "execution_count": 47,
   "metadata": {
    "collapsed": true
   },
   "outputs": [],
   "source": [
    "def dense_block(x, filters, nb_layers):\n",
    "    layers = [x]\n",
    "    for i in range(nb_layers):\n",
    "        x = conv_block(x, filters, bottleneck=(i>=2))\n",
    "        layers.append(x)\n",
    "        x = Concatenate(axis=-1)(layers)\n",
    "    return x"
   ]
  },
  {
   "cell_type": "code",
   "execution_count": 200,
   "metadata": {
    "collapsed": true
   },
   "outputs": [],
   "source": [
    "def conv_block(x, filters, kernel_size=(2,2), bottleneck=False, **kwargs):\n",
    "    if bottleneck:\n",
    "        x = Convolution2D(filters * 2, kernel_size=(1,1), strides=(1,1), padding='same', use_bias=False)(x)\n",
    "    x = Convolution2D(filters, kernel_size, strides=(1,1), padding='same', use_bias=False#)(x)\n",
    "                      ,kernel_regularizer=l2(1e-5))(x)\n",
    "    x = BatchNormalization(axis=-1)(x)\n",
    "    x = Activation('relu')(x)\n",
    "    return x"
   ]
  },
  {
   "cell_type": "code",
   "execution_count": 201,
   "metadata": {
    "collapsed": true
   },
   "outputs": [],
   "source": [
    "def dense_model():\n",
    "    net_input = Input((8,8,14), name='feats_input')\n",
    "    x = Dense(64, name='dense1')(net_input)\n",
    "    x = BatchNormalization(axis=-1)(x)\n",
    "    x = Activation('relu', name='dense1_act')(x)\n",
    "    x = Dropout(.5)(x)\n",
    "    \n",
    "    x = Dense(32, name='dense2')(x)\n",
    "    x = BatchNormalization(axis=-1)(x)\n",
    "    x = Activation('relu', name='dense2_act')(x)\n",
    "    x = Dropout(.5)(x)\n",
    "    \n",
    "    val = GlobalAveragePooling2D(name='value_hidden1')(x)\n",
    "    val = Dense(1, name='value_hidden')(val) #, kernel_regularizer=regularizers.l2(1e-4)\n",
    "    val = Activation('tanh', name='value_tanh')(val)\n",
    "    \n",
    "    #pol = conv_block(x, 128)\n",
    "    pol = Flatten(name='flatten')(x)\n",
    "    pol = Dense(8*8*11*8, name='pol_hidden')(pol)\n",
    "    pol = Activation('softmax', name='pol_softmax')(pol)\n",
    "\n",
    "    return net_input, val, pol"
   ]
  },
  {
   "cell_type": "code",
   "execution_count": 246,
   "metadata": {},
   "outputs": [],
   "source": [
    "# experimental\n",
    "def dense_model():\n",
    "    net_input = Input((8,8,14), name='feats_input')\n",
    "    \n",
    "    x = net_input\n",
    "    x = dense_block(x, 192, 3)\n",
    "\n",
    "    val = Convolution2D(1, (2,2), strides=(1,1), padding='same', use_bias=False, name='final1')(x)\n",
    "    val = GlobalAveragePooling2D()(val)\n",
    "    val = Activation('tanh', name='value_tanh')(val)\n",
    "    \n",
    "    pol = Dense(32, name='dense2')(x) # on filters!\n",
    "    pol = BatchNormalization(axis=-1)(pol)\n",
    "    pol = Activation('relu', name='dense2_act')(pol)   \n",
    "    # Similar performance instead of Dense/BN/ReLU\n",
    "    # pol = Convolution2D(32, (2,2), strides=(1,1), padding='same', use_bias=False, name='final2')(x)\n",
    "\n",
    "    pol = Flatten(name='flatten')(pol)\n",
    "    pol = Dense(8*8*11*8, name='pol_hidden')(pol)\n",
    "    pol = Activation('softmax', name='pol_softmax')(pol)\n",
    "\n",
    "    return net_input, val, pol"
   ]
  },
  {
   "cell_type": "code",
   "execution_count": 247,
   "metadata": {},
   "outputs": [],
   "source": [
    "inputs, val_out, pol_out = dense_model()\n",
    "model = Model(inputs, [val_out, pol_out])"
   ]
  },
  {
   "cell_type": "code",
   "execution_count": 248,
   "metadata": {},
   "outputs": [
    {
     "name": "stdout",
     "output_type": "stream",
     "text": [
      "__________________________________________________________________________________________________\n",
      "Layer (type)                    Output Shape         Param #     Connected to                     \n",
      "==================================================================================================\n",
      "feats_input (InputLayer)        (None, 8, 8, 14)     0                                            \n",
      "__________________________________________________________________________________________________\n",
      "conv2d_196 (Conv2D)             (None, 8, 8, 192)    10752       feats_input[0][0]                \n",
      "__________________________________________________________________________________________________\n",
      "batch_normalization_176 (BatchN (None, 8, 8, 192)    768         conv2d_196[0][0]                 \n",
      "__________________________________________________________________________________________________\n",
      "activation_158 (Activation)     (None, 8, 8, 192)    0           batch_normalization_176[0][0]    \n",
      "__________________________________________________________________________________________________\n",
      "concatenate_127 (Concatenate)   (None, 8, 8, 206)    0           feats_input[0][0]                \n",
      "                                                                 activation_158[0][0]             \n",
      "__________________________________________________________________________________________________\n",
      "conv2d_197 (Conv2D)             (None, 8, 8, 192)    158208      concatenate_127[0][0]            \n",
      "__________________________________________________________________________________________________\n",
      "batch_normalization_177 (BatchN (None, 8, 8, 192)    768         conv2d_197[0][0]                 \n",
      "__________________________________________________________________________________________________\n",
      "activation_159 (Activation)     (None, 8, 8, 192)    0           batch_normalization_177[0][0]    \n",
      "__________________________________________________________________________________________________\n",
      "concatenate_128 (Concatenate)   (None, 8, 8, 398)    0           feats_input[0][0]                \n",
      "                                                                 activation_158[0][0]             \n",
      "                                                                 activation_159[0][0]             \n",
      "__________________________________________________________________________________________________\n",
      "conv2d_198 (Conv2D)             (None, 8, 8, 384)    152832      concatenate_128[0][0]            \n",
      "__________________________________________________________________________________________________\n",
      "conv2d_199 (Conv2D)             (None, 8, 8, 192)    294912      conv2d_198[0][0]                 \n",
      "__________________________________________________________________________________________________\n",
      "batch_normalization_178 (BatchN (None, 8, 8, 192)    768         conv2d_199[0][0]                 \n",
      "__________________________________________________________________________________________________\n",
      "activation_160 (Activation)     (None, 8, 8, 192)    0           batch_normalization_178[0][0]    \n",
      "__________________________________________________________________________________________________\n",
      "concatenate_129 (Concatenate)   (None, 8, 8, 590)    0           feats_input[0][0]                \n",
      "                                                                 activation_158[0][0]             \n",
      "                                                                 activation_159[0][0]             \n",
      "                                                                 activation_160[0][0]             \n",
      "__________________________________________________________________________________________________\n",
      "dense2 (Dense)                  (None, 8, 8, 32)     18912       concatenate_129[0][0]            \n",
      "__________________________________________________________________________________________________\n",
      "batch_normalization_179 (BatchN (None, 8, 8, 32)     128         dense2[0][0]                     \n",
      "__________________________________________________________________________________________________\n",
      "dense2_act (Activation)         (None, 8, 8, 32)     0           batch_normalization_179[0][0]    \n",
      "__________________________________________________________________________________________________\n",
      "final1 (Conv2D)                 (None, 8, 8, 1)      2360        concatenate_129[0][0]            \n",
      "__________________________________________________________________________________________________\n",
      "flatten (Flatten)               (None, 2048)         0           dense2_act[0][0]                 \n",
      "__________________________________________________________________________________________________\n",
      "global_average_pooling2d_17 (Gl (None, 1)            0           final1[0][0]                     \n",
      "__________________________________________________________________________________________________\n",
      "pol_hidden (Dense)              (None, 5632)         11539968    flatten[0][0]                    \n",
      "__________________________________________________________________________________________________\n",
      "value_tanh (Activation)         (None, 1)            0           global_average_pooling2d_17[0][0]\n",
      "__________________________________________________________________________________________________\n",
      "pol_softmax (Activation)        (None, 5632)         0           pol_hidden[0][0]                 \n",
      "==================================================================================================\n",
      "Total params: 12,180,376\n",
      "Trainable params: 12,179,160\n",
      "Non-trainable params: 1,216\n",
      "__________________________________________________________________________________________________\n"
     ]
    }
   ],
   "source": [
    "model.summary()"
   ]
  },
  {
   "cell_type": "code",
   "execution_count": 7,
   "metadata": {
    "collapsed": true
   },
   "outputs": [],
   "source": [
    "def san_to_label(san_move):\n",
    "    \"\"\" Return index into 8*8*11*8 possibilities of from_sq (row*col) to to_sq (row*col).\n",
    "    3 rows are added for underpromotions. \"\"\"\n",
    "    # g5 => row 5, col 7(g) => (4, 6)\n",
    "    # h6 => row 6, col 8(h) => (5, 7) \n",
    "    from_coord = [int(san_move[1:2]) - 1, ord(san_move[0:1]) - 97]\n",
    "    to_coord = [int(san_move[3:4]) - 1, ord(san_move[2:3]) - 97]\n",
    "    if len(san_move) == 5:\n",
    "        if san_move[4:5] == 'n': to_coord[0] += 1\n",
    "        elif san_move[4:5] == 'b': to_coord[0] += 2\n",
    "        elif san_move[4:5] == 'r': to_coord[0] += 3\n",
    "    return np.ravel_multi_index(from_coord + to_coord, (8,8,11,8), order='C')\n",
    "\n",
    "def sans_to_labels(san_moves):\n",
    "    return list(map(san_to_label, san_moves))"
   ]
  },
  {
   "cell_type": "code",
   "execution_count": 8,
   "metadata": {},
   "outputs": [
    {
     "data": {
      "text/plain": [
       "'e3g4'"
      ]
     },
     "execution_count": 8,
     "metadata": {},
     "output_type": "execute_result"
    }
   ],
   "source": [
    "def label_to_san(label):\n",
    "    coords = np.unravel_index(label, (8,8,11,8))\n",
    "    from_sq, to_sq = coords[0:2], coords[2:4]\n",
    "    return coord_to_san(from_sq) + coord_to_san(to_sq)\n",
    "    \n",
    "def coord_to_san(coord):\n",
    "    y, x = coord\n",
    "    promo = ''\n",
    "    if y >= 7:\n",
    "        pt = y - 7\n",
    "        y = 7\n",
    "        if pt == 0: promo = ''\n",
    "        elif pt == 1: promo = 'n'\n",
    "        elif pt == 2: promo = 'b'\n",
    "        elif pt == 3: promo = 'r'\n",
    "    return chr(x+97) + str(y+1) + promo\n",
    "\n",
    "label_to_san(san_to_label('e3g4'))"
   ]
  },
  {
   "cell_type": "code",
   "execution_count": 9,
   "metadata": {
    "collapsed": true
   },
   "outputs": [],
   "source": [
    "def batch_generator_df_bcolz(dframe, bcolz_arr, batch_size, shuffle=True, yielder=lambda x: x):\n",
    "    assert(batch_size % bcolz_arr.chunklen == 0)\n",
    "    chunks_per_batch = batch_size // bcolz_arr.chunklen\n",
    "    init_bounds = bcolz_arr.partitions\n",
    "    if bcolz_arr.leftover_elements > 0:\n",
    "        init_bounds.append((init_bounds[-1][1], len(bcolz_arr)))\n",
    "    while True:\n",
    "        bounds = np.random.permutation(init_bounds) if shuffle else init_bounds\n",
    "        # feats_chunks, scores_chunks = [], []\n",
    "        feats_chunks, move_chunks, score_chunks = [], [], []\n",
    "        def return_batch():\n",
    "            feats = np.concatenate(feats_chunks, axis=0)\n",
    "            moves = np.concatenate(move_chunks, axis=0)\n",
    "            scores = np.concatenate(score_chunks, axis=0)\n",
    "            feats_chunks.clear()\n",
    "            move_chunks.clear()\n",
    "            score_chunks.clear()\n",
    "            return yielder((feats, [scores, moves]))\n",
    "        chunks = 0\n",
    "        for start, stop in bounds:\n",
    "            feats_chunks.append(bcolz_arr[start:stop])\n",
    "            moves = np.array(dframe[start:stop].move)\n",
    "            move_chunks.append(sans_to_labels(moves))\n",
    "            score_chunks.append(np.array(dframe[start:stop].score, dtype='float32'))\n",
    "            chunks += 1\n",
    "            if chunks % chunks_per_batch == 0:\n",
    "                yield return_batch()\n",
    "        if len(feats_chunks) > 0:\n",
    "            yield return_batch()"
   ]
  },
  {
   "cell_type": "code",
   "execution_count": 7,
   "metadata": {
    "collapsed": true
   },
   "outputs": [],
   "source": [
    "from bcolz_array_iterator import BcolzArrayIterator\n",
    "\n",
    "def batch_generator_bcolz(data, batch_size, shuffle=True):\n",
    "    batch_generator_bcolz = BcolzArrayIterator(data, batch_size=batch_size, shuffle=shuffle)\n",
    "    while True:\n",
    "        feats = next(batch_generator_bcolz)\n",
    "        yield feats, feats"
   ]
  },
  {
   "cell_type": "code",
   "execution_count": 8,
   "metadata": {
    "collapsed": true
   },
   "outputs": [],
   "source": [
    "def batch_generator_df(data, batch_size, shuffle=True):\n",
    "    while True:\n",
    "        data_ = data.sample(frac=1) if shuffle else data\n",
    "        for iteration, batch in data_.groupby(np.arange(len(data)) // batch_size):\n",
    "            fens = [f.strip() for f in batch.fen.tolist()]\n",
    "            feats = np.stack([get_feats(Position.from_fen(fen)) for fen in fens])\n",
    "            yield feats, feats"
   ]
  },
  {
   "cell_type": "code",
   "execution_count": 150,
   "metadata": {
    "collapsed": true
   },
   "outputs": [],
   "source": [
    "# model.compile(keras.optimizers.SGD(lr=.01, momentum=.99, nesterov=True), 'mse')"
   ]
  },
  {
   "cell_type": "code",
   "execution_count": 11,
   "metadata": {
    "collapsed": true
   },
   "outputs": [],
   "source": [
    "features = bcolz.open(mode='r', rootdir='/ssd/slonik_data/features_move_scores_sf4_origfen.bc')\n",
    "features_valid = bcolz.open(mode='r', rootdir='/ssd/slonik_data/features_move_scores_sf4_origfen_valid.bc')"
   ]
  },
  {
   "cell_type": "code",
   "execution_count": 12,
   "metadata": {
    "collapsed": true
   },
   "outputs": [],
   "source": [
    "move_scores = pd.read_pickle('/ssd/slonik_data/sf_move_scores_4dep.pkl')"
   ]
  },
  {
   "cell_type": "code",
   "execution_count": 13,
   "metadata": {
    "collapsed": true
   },
   "outputs": [],
   "source": [
    "#move_scores.to_pickle('/ssd/slonik_data/sf_move_scores_4dep.pkl')"
   ]
  },
  {
   "cell_type": "code",
   "execution_count": 14,
   "metadata": {
    "collapsed": true
   },
   "outputs": [],
   "source": [
    "def get_feats_stack(fens):\n",
    "    return np.stack([get_feats(Position.from_fen(f)) for f in fens])"
   ]
  },
  {
   "cell_type": "code",
   "execution_count": 15,
   "metadata": {
    "collapsed": true
   },
   "outputs": [],
   "source": [
    "assert(np.allclose(features_valid[0], get_feats(Position.from_fen(move_scores.iloc[-60000].orig_fen))))\n",
    "assert(np.allclose(features_valid[0:100], get_feats_stack(move_scores.iloc[-60000:-60000+100].orig_fen)))\n",
    "assert(np.allclose(features[0], get_feats(Position.from_fen(move_scores.iloc[0].orig_fen))))\n",
    "assert(np.allclose(features[23470:23570], get_feats_stack(move_scores.iloc[23470:23570].orig_fen)))"
   ]
  },
  {
   "cell_type": "code",
   "execution_count": 16,
   "metadata": {
    "collapsed": true
   },
   "outputs": [],
   "source": [
    "wgts = model.get_weights()"
   ]
  },
  {
   "cell_type": "code",
   "execution_count": 146,
   "metadata": {
    "collapsed": true
   },
   "outputs": [],
   "source": [
    "model.set_weights(wgts)"
   ]
  },
  {
   "cell_type": "code",
   "execution_count": 249,
   "metadata": {
    "collapsed": true
   },
   "outputs": [],
   "source": [
    "model.compile('adam', \n",
    "              loss=['mse', 'sparse_categorical_crossentropy'], \n",
    "#               loss_weights=[1.0/4.0, 1.0])\n",
    "               loss_weights=[1.0, 1.0/50])"
   ]
  },
  {
   "cell_type": "code",
   "execution_count": 250,
   "metadata": {
    "scrolled": true
   },
   "outputs": [
    {
     "name": "stdout",
     "output_type": "stream",
     "text": [
      "Epoch 1/30\n",
      "198/198 [==============================] - 10s 50ms/step - loss: 0.1925 - value_tanh_loss: 0.0572 - pol_softmax_loss: 6.5202 - val_loss: 0.2484 - val_value_tanh_loss: 0.1024 - val_pol_softmax_loss: 7.0578\n",
      "Epoch 2/30\n",
      "198/198 [==============================] - 5s 24ms/step - loss: 0.1677 - value_tanh_loss: 0.0483 - pol_softmax_loss: 5.7270 - val_loss: 0.1905 - val_value_tanh_loss: 0.0617 - val_pol_softmax_loss: 6.1997\n",
      "Epoch 3/30\n",
      "198/198 [==============================] - 5s 24ms/step - loss: 0.1573 - value_tanh_loss: 0.0454 - pol_softmax_loss: 5.3533 - val_loss: 0.1661 - val_value_tanh_loss: 0.0567 - val_pol_softmax_loss: 5.2285\n",
      "Epoch 4/30\n",
      "198/198 [==============================] - 5s 24ms/step - loss: 0.1489 - value_tanh_loss: 0.0424 - pol_softmax_loss: 5.0842 - val_loss: 0.1656 - val_value_tanh_loss: 0.0630 - val_pol_softmax_loss: 4.8927\n",
      "Epoch 5/30\n",
      "198/198 [==============================] - 5s 24ms/step - loss: 0.1398 - value_tanh_loss: 0.0418 - pol_softmax_loss: 4.6606 - val_loss: 0.1482 - val_value_tanh_loss: 0.0485 - val_pol_softmax_loss: 4.7491\n",
      "Epoch 6/30\n",
      "198/198 [==============================] - 5s 25ms/step - loss: 0.1333 - value_tanh_loss: 0.0417 - pol_softmax_loss: 4.3400 - val_loss: 0.1416 - val_value_tanh_loss: 0.0511 - val_pol_softmax_loss: 4.2845\n",
      "Epoch 7/30\n",
      "198/198 [==============================] - 5s 25ms/step - loss: 0.1275 - value_tanh_loss: 0.0399 - pol_softmax_loss: 4.1423 - val_loss: 0.1268 - val_value_tanh_loss: 0.0408 - val_pol_softmax_loss: 4.0646\n",
      "Epoch 8/30\n",
      "198/198 [==============================] - 5s 25ms/step - loss: 0.1215 - value_tanh_loss: 0.0387 - pol_softmax_loss: 3.9030 - val_loss: 0.1215 - val_value_tanh_loss: 0.0391 - val_pol_softmax_loss: 3.8818\n",
      "Epoch 9/30\n",
      "198/198 [==============================] - 5s 24ms/step - loss: 0.1181 - value_tanh_loss: 0.0400 - pol_softmax_loss: 3.6692 - val_loss: 0.1236 - val_value_tanh_loss: 0.0447 - val_pol_softmax_loss: 3.7103\n",
      "Epoch 10/30\n",
      "198/198 [==============================] - 5s 24ms/step - loss: 0.1149 - value_tanh_loss: 0.0385 - pol_softmax_loss: 3.5834 - val_loss: 0.1225 - val_value_tanh_loss: 0.0492 - val_pol_softmax_loss: 3.4332\n",
      "Epoch 11/30\n",
      "198/198 [==============================] - 5s 24ms/step - loss: 0.1120 - value_tanh_loss: 0.0380 - pol_softmax_loss: 3.4625 - val_loss: 0.1191 - val_value_tanh_loss: 0.0467 - val_pol_softmax_loss: 3.3822\n",
      "Epoch 12/30\n",
      "198/198 [==============================] - 5s 24ms/step - loss: 0.1080 - value_tanh_loss: 0.0378 - pol_softmax_loss: 3.2776 - val_loss: 0.1234 - val_value_tanh_loss: 0.0533 - val_pol_softmax_loss: 3.2710\n",
      "Epoch 13/30\n",
      "198/198 [==============================] - 5s 25ms/step - loss: 0.1063 - value_tanh_loss: 0.0367 - pol_softmax_loss: 3.2469 - val_loss: 0.1127 - val_value_tanh_loss: 0.0441 - val_pol_softmax_loss: 3.1999\n",
      "Epoch 14/30\n",
      "198/198 [==============================] - 5s 25ms/step - loss: 0.1045 - value_tanh_loss: 0.0361 - pol_softmax_loss: 3.1868 - val_loss: 0.1095 - val_value_tanh_loss: 0.0426 - val_pol_softmax_loss: 3.1099\n",
      "Epoch 15/30\n",
      "198/198 [==============================] - 5s 25ms/step - loss: 0.1017 - value_tanh_loss: 0.0348 - pol_softmax_loss: 3.1095 - val_loss: 0.1036 - val_value_tanh_loss: 0.0370 - val_pol_softmax_loss: 3.0977\n",
      "Epoch 16/30\n",
      "198/198 [==============================] - 5s 25ms/step - loss: 0.0999 - value_tanh_loss: 0.0348 - pol_softmax_loss: 3.0190 - val_loss: 0.1002 - val_value_tanh_loss: 0.0365 - val_pol_softmax_loss: 2.9503\n",
      "Epoch 17/30\n",
      "198/198 [==============================] - 5s 25ms/step - loss: 0.0994 - value_tanh_loss: 0.0342 - pol_softmax_loss: 3.0278 - val_loss: 0.0985 - val_value_tanh_loss: 0.0363 - val_pol_softmax_loss: 2.8829\n",
      "Epoch 18/30\n",
      "198/198 [==============================] - 5s 24ms/step - loss: 0.0979 - value_tanh_loss: 0.0348 - pol_softmax_loss: 2.9251 - val_loss: 0.1094 - val_value_tanh_loss: 0.0455 - val_pol_softmax_loss: 2.9650\n",
      "Epoch 19/30\n",
      "198/198 [==============================] - 5s 24ms/step - loss: 0.0966 - value_tanh_loss: 0.0338 - pol_softmax_loss: 2.9080 - val_loss: 0.1002 - val_value_tanh_loss: 0.0366 - val_pol_softmax_loss: 2.9496\n",
      "Epoch 20/30\n",
      "198/198 [==============================] - 5s 24ms/step - loss: 0.0976 - value_tanh_loss: 0.0351 - pol_softmax_loss: 2.8989 - val_loss: 0.1008 - val_value_tanh_loss: 0.0388 - val_pol_softmax_loss: 2.8718\n",
      "Epoch 21/30\n",
      "198/198 [==============================] - 5s 25ms/step - loss: 0.0924 - value_tanh_loss: 0.0318 - pol_softmax_loss: 2.8032 - val_loss: 0.0929 - val_value_tanh_loss: 0.0339 - val_pol_softmax_loss: 2.7242\n",
      "Epoch 22/30\n",
      "198/198 [==============================] - 5s 24ms/step - loss: 0.0931 - value_tanh_loss: 0.0332 - pol_softmax_loss: 2.7690 - val_loss: 0.0949 - val_value_tanh_loss: 0.0328 - val_pol_softmax_loss: 2.8793\n",
      "Epoch 23/30\n",
      "198/198 [==============================] - 5s 25ms/step - loss: 0.0916 - value_tanh_loss: 0.0319 - pol_softmax_loss: 2.7589 - val_loss: 0.0898 - val_value_tanh_loss: 0.0325 - val_pol_softmax_loss: 2.6432\n",
      "Epoch 24/30\n",
      "198/198 [==============================] - 5s 24ms/step - loss: 0.0921 - value_tanh_loss: 0.0328 - pol_softmax_loss: 2.7399 - val_loss: 0.0959 - val_value_tanh_loss: 0.0360 - val_pol_softmax_loss: 2.7715\n",
      "Epoch 25/30\n",
      "198/198 [==============================] - 5s 24ms/step - loss: 0.0908 - value_tanh_loss: 0.0325 - pol_softmax_loss: 2.6909 - val_loss: 0.0977 - val_value_tanh_loss: 0.0386 - val_pol_softmax_loss: 2.7301\n",
      "Epoch 26/30\n",
      "198/198 [==============================] - 5s 24ms/step - loss: 0.0913 - value_tanh_loss: 0.0324 - pol_softmax_loss: 2.7237 - val_loss: 0.1073 - val_value_tanh_loss: 0.0504 - val_pol_softmax_loss: 2.6211\n",
      "Epoch 27/30\n",
      "198/198 [==============================] - 5s 24ms/step - loss: 0.0908 - value_tanh_loss: 0.0330 - pol_softmax_loss: 2.6714 - val_loss: 0.0868 - val_value_tanh_loss: 0.0287 - val_pol_softmax_loss: 2.6828\n",
      "Epoch 28/30\n",
      "198/198 [==============================] - 5s 24ms/step - loss: 0.0889 - value_tanh_loss: 0.0316 - pol_softmax_loss: 2.6474 - val_loss: 0.0963 - val_value_tanh_loss: 0.0387 - val_pol_softmax_loss: 2.6556\n",
      "Epoch 29/30\n",
      "198/198 [==============================] - 5s 24ms/step - loss: 0.0893 - value_tanh_loss: 0.0321 - pol_softmax_loss: 2.6397 - val_loss: 0.0986 - val_value_tanh_loss: 0.0427 - val_pol_softmax_loss: 2.5735\n",
      "Epoch 30/30\n",
      "198/198 [==============================] - 5s 24ms/step - loss: 0.0895 - value_tanh_loss: 0.0328 - pol_softmax_loss: 2.6176 - val_loss: 0.0882 - val_value_tanh_loss: 0.0320 - val_pol_softmax_loss: 2.5917\n"
     ]
    },
    {
     "data": {
      "text/plain": [
       "<keras.callbacks.History at 0x7f97781bbbe0>"
      ]
     },
     "execution_count": 250,
     "metadata": {},
     "output_type": "execute_result"
    }
   ],
   "source": [
    "batch_size = 64\n",
    "#nvalid = len(features_sf12_valid)\n",
    "\n",
    "x = features\n",
    "x_valid = features_valid\n",
    "\n",
    "# yielder = lambda f_s: (f_s[0], [f_s[0], f_s[1]]) # (feats, [feats, scores])\n",
    "train_gen = batch_generator_df_bcolz(move_scores[:-60000], x, batch_size)\n",
    "valid_gen = batch_generator_df_bcolz(move_scores[-60000:], x_valid, batch_size, shuffle=False)\n",
    "\n",
    "train_steps = ceil(len(x) / batch_size / 50.0)\n",
    "valid_steps = ceil(len(x_valid) / batch_size / 50.0)\n",
    "\n",
    "lr_plateau = keras.callbacks.ReduceLROnPlateau(monitor='val_loss', factor=0.05, patience=5, verbose=1)\n",
    "# checkpoint_path = '../slonik_data/weights.{epoch:03d}-{val_loss:.6f}.h5'\n",
    "checkpoint_path = '../../slonik_data/weights_best.h5'\n",
    "checkpoint = keras.callbacks.ModelCheckpoint(checkpoint_path, \n",
    "                                             monitor='val_loss', save_best_only=True, save_weights_only=True, period=1)\n",
    "stopping = keras.callbacks.EarlyStopping(monitor='val_loss', min_delta=0, patience=20, mode='auto')\n",
    "\n",
    "# clr = CyclicLR(base_lr=1e-4, max_lr=3.75e-3, step_size=train_steps*4, mode='triangular')\n",
    "\n",
    "# clr = CyclicLR(base_lr=1e-8, max_lr=2e-2, step_size=train_steps*10, mode='triangular')\n",
    "\n",
    "K.set_value(model.optimizer.lr, 2e-4)\n",
    "#K.set_value(model.optimizer.lr, 1e-5)\n",
    "\n",
    "# callbacks = [clr]\n",
    "# callbacks = [clr, checkpoint]\n",
    "callbacks = [checkpoint, stopping, lr_plateau]\n",
    "\n",
    "hist = model.fit_generator(train_gen, train_steps, epochs=30, \n",
    "                          validation_data=valid_gen, validation_steps=valid_steps\n",
    "                          , callbacks=callbacks\n",
    "                   )\n",
    "hist\n",
    "# K.set_value(model.optimizer.lr, 1e-4)\n",
    "# model.fit_generator(train_gen, train_steps, epochs=2, validation_data=valid_gen, validation_steps=valid_steps)"
   ]
  },
  {
   "cell_type": "code",
   "execution_count": 212,
   "metadata": {},
   "outputs": [
    {
     "data": {
      "text/plain": [
       "2.9296877e-12"
      ]
     },
     "execution_count": 212,
     "metadata": {},
     "output_type": "execute_result"
    }
   ],
   "source": [
    "K.get_value(model.optimizer.lr)"
   ]
  },
  {
   "cell_type": "code",
   "execution_count": 163,
   "metadata": {},
   "outputs": [
    {
     "data": {
      "text/plain": [
       "[<matplotlib.lines.Line2D at 0x7f50f6ac7518>]"
      ]
     },
     "execution_count": 163,
     "metadata": {},
     "output_type": "execute_result"
    },
    {
     "data": {
      "image/png": "[encoded data removed]",
      "text/plain": [
       "<matplotlib.figure.Figure at 0x7f50de50e828>"
      ]
     },
     "metadata": {},
     "output_type": "display_data"
    }
   ],
   "source": [
    "plt.plot(clr.history['iterations'], clr.history['lr'])"
   ]
  },
  {
   "cell_type": "code",
   "execution_count": 121,
   "metadata": {},
   "outputs": [
    {
     "data": {
      "text/plain": [
       "dict_keys(['lr', 'iterations', 'batch', 'size', 'loss', 'val_tanh_loss', 'pol_softmax_loss'])"
      ]
     },
     "execution_count": 121,
     "metadata": {},
     "output_type": "execute_result"
    }
   ],
   "source": [
    "clr.history.keys()"
   ]
  },
  {
   "cell_type": "code",
   "execution_count": 164,
   "metadata": {},
   "outputs": [
    {
     "data": {
      "text/plain": [
       "[<matplotlib.lines.Line2D at 0x7f50da5b89e8>]"
      ]
     },
     "execution_count": 164,
     "metadata": {},
     "output_type": "execute_result"
    },
    {
     "data": {
      "image/png": "[encoded data removed]",
      "text/plain": [
       "<matplotlib.figure.Figure at 0x7f50da588dd8>"
      ]
     },
     "metadata": {},
     "output_type": "display_data"
    }
   ],
   "source": [
    "rng = np.s_[::train_steps]\n",
    "plt.plot(clr.history['iterations'][rng], clr.history['loss'][rng])"
   ]
  },
  {
   "cell_type": "code",
   "execution_count": 137,
   "metadata": {},
   "outputs": [
    {
     "data": {
      "text/plain": [
       "dict_keys(['val_loss', 'val_val_tanh_loss', 'val_pol_softmax_loss', 'loss', 'val_tanh_loss', 'pol_softmax_loss'])"
      ]
     },
     "execution_count": 137,
     "metadata": {},
     "output_type": "execute_result"
    }
   ],
   "source": [
    "hist.history.keys()"
   ]
  },
  {
   "cell_type": "code",
   "execution_count": 251,
   "metadata": {},
   "outputs": [
    {
     "data": {
      "image/png": "[encoded data removed]",
      "text/plain": [
       "<matplotlib.figure.Figure at 0x7f97762ce2e8>"
      ]
     },
     "metadata": {},
     "output_type": "display_data"
    },
    {
     "data": {
      "image/png": "[encoded data removed]",
      "text/plain": [
       "<matplotlib.figure.Figure at 0x7f9775c98f60>"
      ]
     },
     "metadata": {},
     "output_type": "display_data"
    },
    {
     "data": {
      "image/png": "[encoded data removed]",
      "text/plain": [
       "<matplotlib.figure.Figure at 0x7f9775db2048>"
      ]
     },
     "metadata": {},
     "output_type": "display_data"
    }
   ],
   "source": [
    "h = hist.history\n",
    "rng = np.s_[::]\n",
    "x = np.arange(len(h['loss']))\n",
    "plt.title('loss')\n",
    "plt.plot(x[rng], h['loss'][rng], 'r', \n",
    "         x[rng], h['val_loss'][rng], 'g'\n",
    "        )\n",
    "plt.show()\n",
    "plt.title('policy loss')\n",
    "plt.plot(x[rng], h['pol_softmax_loss'][rng], 'r', \n",
    "         x[rng], h['val_pol_softmax_loss'][rng], 'g'\n",
    "        )\n",
    "plt.show()\n",
    "plt.title('value loss')\n",
    "plt.plot(x[rng], h['value_tanh_loss'][rng], 'r', \n",
    "         x[rng], h['val_value_tanh_loss'][rng], 'g'\n",
    "        )\n",
    "plt.show()"
   ]
  },
  {
   "cell_type": "markdown",
   "metadata": {},
   "source": [
    "### evaluate models"
   ]
  },
  {
   "cell_type": "code",
   "execution_count": 117,
   "metadata": {},
   "outputs": [
    {
     "data": {
      "text/plain": [
       "0.10860244345474007"
      ]
     },
     "execution_count": 117,
     "metadata": {},
     "output_type": "execute_result"
    }
   ],
   "source": [
    ".032 / np.array(move_scores.score, dtype='float32').std()"
   ]
  },
  {
   "cell_type": "code",
   "execution_count": 17,
   "metadata": {},
   "outputs": [
    {
     "data": {
      "image/png": "[encoded data removed]",
      "text/plain": [
       "<matplotlib.figure.Figure at 0x7f980f65bb38>"
      ]
     },
     "metadata": {},
     "output_type": "display_data"
    }
   ],
   "source": [
    "plt.hist(np.array(move_scores.score, dtype='float32'), bins='auto')  # arguments are passed to np.histogram\n",
    "plt.title(\"Histogram with 'auto' bins\")\n",
    "plt.show()"
   ]
  },
  {
   "cell_type": "code",
   "execution_count": 252,
   "metadata": {},
   "outputs": [
    {
     "name": "stdout",
     "output_type": "stream",
     "text": [
      "['loss', 'value_tanh_loss', 'pol_softmax_loss']\n"
     ]
    },
    {
     "data": {
      "text/plain": [
       "[0.090058952530225111, 0.033633665759364766, 2.6021516637166342]"
      ]
     },
     "execution_count": 252,
     "metadata": {},
     "output_type": "execute_result"
    }
   ],
   "source": [
    "batch_size = 64\n",
    "valid_steps = ceil(len(features_valid) / batch_size)\n",
    "valid_gen = batch_generator_df_bcolz(move_scores[-60000:], features_valid, batch_size, shuffle=False)\n",
    "print(model.metrics_names)\n",
    "model.evaluate_generator(valid_gen, steps=valid_steps)\n",
    "# train_model.metrics_names\n",
    "# K.get_value(train_model.optimizer.lr)\n",
    "# [0.012734119832019011, 0.0044044992691526811, 2.498886107635498]\n",
    "# [0.10248853038946787, 0.048560829406976702, 2.6963851141611737]\n",
    "# [0.087685947628815972, 0.031499455111225448, 2.5938048179626465]"
   ]
  },
  {
   "cell_type": "code",
   "execution_count": 202,
   "metadata": {
    "collapsed": true
   },
   "outputs": [],
   "source": [
    "model.save_weights('../../slonik_data/weights_best_mlp0_value_policy.h5')"
   ]
  },
  {
   "cell_type": "code",
   "execution_count": 210,
   "metadata": {
    "collapsed": true
   },
   "outputs": [],
   "source": [
    "model.load_weights('../../slonik_data/weights_best_mlp0_value_policy.h5')"
   ]
  },
  {
   "cell_type": "code",
   "execution_count": 208,
   "metadata": {
    "collapsed": true
   },
   "outputs": [],
   "source": [
    "model.load_weights('../../slonik_data/weights_best.h5')"
   ]
  },
  {
   "cell_type": "code",
   "execution_count": 253,
   "metadata": {},
   "outputs": [
    {
     "data": {
      "text/plain": [
       "[<matplotlib.lines.Line2D at 0x7f9775cc46a0>]"
      ]
     },
     "execution_count": 253,
     "metadata": {},
     "output_type": "execute_result"
    },
    {
     "data": {
      "image/png": "[encoded data removed]",
      "text/plain": [
       "<matplotlib.figure.Figure at 0x7f9777a9f5c0>"
      ]
     },
     "metadata": {},
     "output_type": "display_data"
    }
   ],
   "source": [
    "rng = slice(220,250)\n",
    "dfrng = slice(rng.start+-60000, rng.stop+-60000)\n",
    "fens = move_scores[dfrng].orig_fen\n",
    "scores = move_scores[dfrng].score\n",
    "# np.allclose(features_sf12_valid[rng], np.array([get_feats(Position.from_fen(f)) for f in fens]))\n",
    "# pprint(list(zip(scores, evaluator.predict(features_sf12_valid[rng]).squeeze())))\n",
    "x = np.arange(len(scores))\n",
    "plt.plot(x, scores, 'r')\n",
    "plt.plot(x, model.predict(features_valid[rng])[0].squeeze(), 'g')"
   ]
  },
  {
   "cell_type": "code",
   "execution_count": 254,
   "metadata": {},
   "outputs": [
    {
     "name": "stdout",
     "output_type": "stream",
     "text": [
      "B to move\n",
      " ·  ·  ·  ·  ·  ·  ·  · \n",
      " ♟  ♟  ·  ·  ·  ·  ·  · \n",
      " ·  ·  ♝  ·  ·  ·  ·  ♟ \n",
      " ♙  ·  ♚  ♟  ·  ·  ♜  · \n",
      " ·  ·  ♟  ·  ·  ♖  ·  · \n",
      " ·  ·  ♞  ·  ·  ♙  ·  · \n",
      " ·  ·  ♙  ·  ·  ♔  ·  ♘ \n",
      " ·  ·  ·  ·  ♖  ·  ·  · \n",
      "\n",
      "c6a4\n"
     ]
    },
    {
     "data": {
      "text/plain": [
       "['g5f5', 'd5d4', 'g5c5', 'c3d1', 'g5g4']"
      ]
     },
     "execution_count": 254,
     "metadata": {},
     "output_type": "execute_result"
    }
   ],
   "source": [
    "n = 155\n",
    "print(Position.from_fen(move_scores.iloc[-60000+n].orig_fen))\n",
    "print(move_scores.iloc[-60000+n].move)\n",
    "preds = model.predict(features_valid[n][None])[1][0]\n",
    "label_to_san(np.argmax(preds))\n",
    "topk = np.argpartition(preds, -5)[-5:]\n",
    "topk_sorted = topk[np.argsort(preds[topk])][::-1]\n",
    "topk_sorted\n",
    "[label_to_san(k) for k in topk_sorted]"
   ]
  },
  {
   "cell_type": "code",
   "execution_count": null,
   "metadata": {
    "collapsed": true
   },
   "outputs": [],
   "source": []
  },
  {
   "cell_type": "code",
   "execution_count": null,
   "metadata": {
    "collapsed": true
   },
   "outputs": [],
   "source": []
  },
  {
   "cell_type": "code",
   "execution_count": null,
   "metadata": {
    "collapsed": true
   },
   "outputs": [],
   "source": []
  }
 ],
 "metadata": {
  "kernelspec": {
   "display_name": "Python 3",
   "language": "python",
   "name": "python3"
  },
  "language_info": {
   "codemirror_mode": {
    "name": "ipython",
    "version": 3
   },
   "file_extension": ".py",
   "mimetype": "text/x-python",
   "name": "python",
   "nbconvert_exporter": "python",
   "pygments_lexer": "ipython3",
   "version": "3.6.3"
  }
 },
 "nbformat": 4,
 "nbformat_minor": 2
}
