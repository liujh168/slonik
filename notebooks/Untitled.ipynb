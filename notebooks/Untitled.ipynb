{
 "cells": [
  {
   "cell_type": "markdown",
   "metadata": {},
   "source": [
    "- [x] Get supervised data from sample SF games\n",
    "- [ ] Experiment with architecture for policy output\n",
    "- [ ] Try to get nn to overfit policy on supervised data\n",
    "- [ ] Combine policy output with value output into one nn\n",
    "- [ ] Add MCTS routine\n",
    "- [ ] Use MCTS-NN for RL"
   ]
  },
  {
   "cell_type": "code",
   "execution_count": 17,
   "metadata": {},
   "outputs": [
    {
     "name": "stdout",
     "output_type": "stream",
     "text": [
      "Initializing Magics\n"
     ]
    }
   ],
   "source": [
    "import sys\n",
    "sys.path.append('..')\n",
    "from position import *"
   ]
  },
  {
   "cell_type": "code",
   "execution_count": 1,
   "metadata": {
    "collapsed": true
   },
   "outputs": [],
   "source": [
    "import chess\n",
    "import chess.pgn\n",
    "import chess.uci\n",
    "import random"
   ]
  },
  {
   "cell_type": "code",
   "execution_count": 51,
   "metadata": {
    "collapsed": true
   },
   "outputs": [],
   "source": [
    "fen = 'rn1qk2r/pppbppPp/3p2p1/8/3P4/8/PPP1PP1P/RNBQKBNR w KQkq - 1 6'"
   ]
  },
  {
   "cell_type": "code",
   "execution_count": 52,
   "metadata": {
    "collapsed": true
   },
   "outputs": [],
   "source": [
    "def make_engine():\n",
    "    engine = chess.uci.popen_engine(STOCKFISH)\n",
    "    info_handler = chess.uci.InfoHandler()\n",
    "    engine.info_handlers.append(info_handler)\n",
    "    return engine"
   ]
  },
  {
   "cell_type": "code",
   "execution_count": 53,
   "metadata": {},
   "outputs": [],
   "source": [
    "STOCKFISH = '/usr/bin/stockfish'\n",
    "DEPTH = 10\n",
    "engine = engine = make_engine()"
   ]
  },
  {
   "cell_type": "code",
   "execution_count": 54,
   "metadata": {
    "collapsed": true
   },
   "outputs": [],
   "source": [
    "engine.ucinewgame()\n",
    "board = chess.Board(fen=fen)\n",
    "engine.position(board)\n",
    "engine.go(depth=DEPTH)\n",
    "info_handler = engine.info_handlers[0]"
   ]
  },
  {
   "cell_type": "code",
   "execution_count": 55,
   "metadata": {},
   "outputs": [
    {
     "name": "stdout",
     "output_type": "stream",
     "text": [
      "W to move\n",
      " ♜  ♞  ·  ♛  ♚  ·  ·  ♜ \n",
      " ♟  ♟  ♟  ♝  ♟  ♟  ♙  ♟ \n",
      " ·  ·  ·  ♟  ·  ·  ♟  · \n",
      " ·  ·  ·  ·  ·  ·  ·  · \n",
      " ·  ·  ·  ♙  ·  ·  ·  · \n",
      " ·  ·  ·  ·  ·  ·  ·  · \n",
      " ♙  ♙  ♙  ·  ♙  ♙  ·  ♙ \n",
      " ♖  ♘  ♗  ♕  ♔  ♗  ♘  ♖ \n",
      "\n"
     ]
    }
   ],
   "source": [
    "print(Position.from_fen(fen))"
   ]
  },
  {
   "cell_type": "code",
   "execution_count": 56,
   "metadata": {},
   "outputs": [
    {
     "data": {
      "text/plain": [
       "{'currline': {},\n",
       " 'depth': 10,\n",
       " 'multipv': 1,\n",
       " 'nodes': 362,\n",
       " 'nps': 181000,\n",
       " 'pv': {1: [Move.from_uci('g7h8q')]},\n",
       " 'refutation': {},\n",
       " 'score': {1: Score(cp=None, mate=1)},\n",
       " 'seldepth': 2,\n",
       " 'tbhits': 0,\n",
       " 'time': 2}"
      ]
     },
     "execution_count": 56,
     "metadata": {},
     "output_type": "execute_result"
    }
   ],
   "source": [
    "info_handler.info"
   ]
  },
  {
   "cell_type": "code",
   "execution_count": null,
   "metadata": {
    "collapsed": true
   },
   "outputs": [],
   "source": [
    "def square_to_ord(san):\n",
    "    "
   ]
  },
  {
   "cell_type": "code",
   "execution_count": 50,
   "metadata": {},
   "outputs": [
    {
     "data": {
      "text/plain": [
       "5632.0"
      ]
     },
     "execution_count": 50,
     "metadata": {},
     "output_type": "execute_result"
    }
   ],
   "source": [
    "(8.*8.*8.*11.)"
   ]
  },
  {
   "cell_type": "code",
   "execution_count": 43,
   "metadata": {},
   "outputs": [
    {
     "data": {
      "text/plain": [
       "1108101562368"
      ]
     },
     "execution_count": 43,
     "metadata": {},
     "output_type": "execute_result"
    }
   ],
   "source": [
    "HUMAN_BOARD['g5'] | HUMAN_BOARD['h6']"
   ]
  },
  {
   "cell_type": "code",
   "execution_count": 25,
   "metadata": {},
   "outputs": [
    {
     "data": {
      "text/plain": [
       "'g5h6'"
      ]
     },
     "execution_count": 25,
     "metadata": {},
     "output_type": "execute_result"
    }
   ],
   "source": [
    "m = info_handler.info['pv'][1][0]\n",
    "m.uci()"
   ]
  },
  {
   "cell_type": "code",
   "execution_count": 27,
   "metadata": {},
   "outputs": [
    {
     "data": {
      "text/plain": [
       "(38, 47)"
      ]
     },
     "execution_count": 27,
     "metadata": {},
     "output_type": "execute_result"
    }
   ],
   "source": [
    "m.from_square, m.to_square"
   ]
  },
  {
   "cell_type": "code",
   "execution_count": 28,
   "metadata": {},
   "outputs": [
    {
     "data": {
      "text/plain": [
       "move.Move"
      ]
     },
     "execution_count": 28,
     "metadata": {},
     "output_type": "execute_result"
    }
   ],
   "source": [
    "Position."
   ]
  }
 ],
 "metadata": {
  "kernelspec": {
   "display_name": "Python 3",
   "language": "python",
   "name": "python3"
  },
  "language_info": {
   "codemirror_mode": {
    "name": "ipython",
    "version": 3
   },
   "file_extension": ".py",
   "mimetype": "text/x-python",
   "name": "python",
   "nbconvert_exporter": "python",
   "pygments_lexer": "ipython3",
   "version": "3.6.3"
  }
 },
 "nbformat": 4,
 "nbformat_minor": 2
}
