{
 "cells": [
  {
   "cell_type": "code",
   "execution_count": 1,
   "metadata": {},
   "outputs": [
    {
     "name": "stderr",
     "output_type": "stream",
     "text": [
      "Using TensorFlow backend.\n"
     ]
    },
    {
     "name": "stdout",
     "output_type": "stream",
     "text": [
      "Initializing Magics\n"
     ]
    }
   ],
   "source": [
    "import keras\n",
    "from keras.models import Model\n",
    "from keras.optimizers import Adam, SGD\n",
    "from keras.regularizers import l2\n",
    "from keras.layers import *\n",
    "import pandas as pd\n",
    "import numpy as np\n",
    "from position import Position\n",
    "import matplotlib.pyplot as plt\n",
    "%matplotlib inline\n",
    "import imp\n",
    "# imp.reload(cnnfeat)\n",
    "from multiprocessing import Queue\n",
    "from multiprocessing import Manager, Process, Pool\n",
    "import os\n",
    "from time import time\n",
    "import pickle\n",
    "import bcolz\n",
    "from tqdm import tqdm "
   ]
  },
  {
   "cell_type": "code",
   "execution_count": 2,
   "metadata": {
    "collapsed": true
   },
   "outputs": [],
   "source": [
    "def bitfield(bitboard):\n",
    "    return np.array([1 if b == '1' else 0 for b in bin(bitboard)[2:].zfill(64)]).reshape((8,8))"
   ]
  },
  {
   "cell_type": "code",
   "execution_count": 3,
   "metadata": {
    "collapsed": true
   },
   "outputs": [],
   "source": [
    "def get_feats(pos):\n",
    "    krights = 0\n",
    "    if preserved_kingside_castle_rights(pos.position_flags, Side.W):\n",
    "        krights |= G1 | F1\n",
    "    if preserved_queenside_castle_rights(pos.position_flags, Side.W):\n",
    "        krights |= C1 | D1\n",
    "    if preserved_kingside_castle_rights(pos.position_flags, Side.B):\n",
    "        krights |= G8 | F8\n",
    "    if preserved_kingside_castle_rights(pos.position_flags, Side.B):\n",
    "        krights |= C8 | D8\n",
    "    krights_plane = bitfield(krights)\n",
    "    stm_plane = np.zeros(64).reshape((8,8)) if pos.side_to_move() == S.W else np.ones(64).reshape((8,8))\n",
    "    wp_plane = bitfield(pos.pieces[Pt.piece(Pt.P, S.W)])\n",
    "    bp_plane = bitfield(pos.pieces[Pt.piece(Pt.P, S.B)])\n",
    "    wn_plane = bitfield(pos.pieces[Pt.piece(Pt.N, S.W)])\n",
    "    bn_plane = bitfield(pos.pieces[Pt.piece(Pt.N, S.B)])\n",
    "    wb_plane = bitfield(pos.pieces[Pt.piece(Pt.B, S.W)])\n",
    "    bb_plane = bitfield(pos.pieces[Pt.piece(Pt.B, S.B)])\n",
    "    wr_plane = bitfield(pos.pieces[Pt.piece(Pt.R, S.W)])\n",
    "    br_plane = bitfield(pos.pieces[Pt.piece(Pt.R, S.B)])\n",
    "    wq_plane = bitfield(pos.pieces[Pt.piece(Pt.Q, S.W)])\n",
    "    bq_plane = bitfield(pos.pieces[Pt.piece(Pt.Q, S.B)])\n",
    "    wk_plane = bitfield(pos.pieces[Pt.piece(Pt.K, S.W)])\n",
    "    bk_plane = bitfield(pos.pieces[Pt.piece(Pt.K, S.B)])\n",
    "    return np.stack([krights_plane, stm_plane, wp_plane, bp_plane, wn_plane, bn_plane, wb_plane, bb_plane,\n",
    "                     wr_plane, br_plane, wq_plane, bq_plane, wk_plane, bk_plane], axis=-1) # 8x8x14"
   ]
  },
  {
   "cell_type": "code",
   "execution_count": 5,
   "metadata": {
    "collapsed": true
   },
   "outputs": [],
   "source": [
    "sf_scores3 = pd.read_pickle('/ssd/slonik_data/sf_scores_3dep.pkl')"
   ]
  },
  {
   "cell_type": "code",
   "execution_count": 17,
   "metadata": {
    "collapsed": true
   },
   "outputs": [],
   "source": [
    "xi = np.random.randint(0, len(sf_scores3), size=10)\n",
    "rows = sf_scores3.loc[xi]\n",
    "fens = rows.fen.tolist()\n",
    "scores = np.array(rows.stockfish_score, dtype='float32')"
   ]
  },
  {
   "cell_type": "code",
   "execution_count": 18,
   "metadata": {
    "collapsed": true
   },
   "outputs": [
    {
     "name": "stdout",
     "output_type": "stream",
     "text": [
      "W to move\n",
      " ·  ·  ·  ♖  ·  ♝  ♞  ♜ \n",
      " ·  ♚  ♟  ·  ·  ·  ♟  · \n",
      " ♟  ♟  ·  ·  ♝  ♟  ·  · \n",
      " ·  ·  ·  ·  ·  ·  ·  ♟ \n",
      " ·  ·  ♟  ·  ♙  ♗  ·  · \n",
      " ·  ·  ♘  ·  ·  ♙  ·  · \n",
      " ♙  ♙  ♙  ·  ·  ·  ♙  ♙ \n",
      " ·  ·  ·  ♖  ·  ·  ♔  · \n",
      "\n",
      "0.111094 \n",
      "\n",
      "W to move\n",
      " ·  ·  ·  ·  ·  ·  ·  · \n",
      " ·  ·  ·  ·  ♚  ·  ·  · \n",
      " ·  ·  ♟  ·  ♜  ·  ·  · \n",
      " ·  ·  ♙  ·  ·  ♟  ·  ♟ \n",
      " ·  ·  ·  ♖  ·  ·  ·  · \n",
      " ·  ·  ·  ·  ·  ·  ♙  · \n",
      " ♞  ·  ·  ·  ·  ♙  ♗  ♙ \n",
      " ·  ·  ·  ·  ·  ♔  ·  · \n",
      "\n",
      "0.0526805 \n",
      "\n",
      "W to move\n",
      " ♜  ·  ♝  ·  ♚  ♝  ♞  ♜ \n",
      " ♟  ♟  ·  ♟  ♟  ♟  ♟  ♟ \n",
      " ·  ·  ·  ·  ·  ·  ·  · \n",
      " ·  ·  ·  ·  ·  ·  ·  · \n",
      " ·  ·  ·  ♞  ♙  ·  ·  · \n",
      " ·  ·  ·  ·  ·  ♙  ·  · \n",
      " ♙  ♙  ♙  ·  ·  ·  ♙  ♙ \n",
      " ♖  ♘  ♗  ·  ♔  ♗  ·  ♖ \n",
      "\n",
      "-0.0218469 \n",
      "\n",
      "B to move\n",
      " ♜  ♞  ♝  ♛  ♚  ·  ♞  ♜ \n",
      " ♟  ♟  ·  ·  ·  ♟  ♟  ♟ \n",
      " ·  ·  ♟  ·  ♟  ·  ·  · \n",
      " ·  ·  ·  ·  ·  ·  ·  · \n",
      " ·  ♝  ♙  ♙  ♘  ·  ·  · \n",
      " ·  ·  ·  ·  ·  ·  ·  · \n",
      " ♙  ♙  ·  ♗  ·  ♙  ♙  ♙ \n",
      " ♖  ·  ·  ♕  ♔  ♗  ♘  ♖ \n",
      "\n",
      "0.0361016 \n",
      "\n",
      "B to move\n",
      " ·  ·  ·  ·  ·  ·  ·  ♚ \n",
      " ·  ♟  ·  ·  ·  ·  ·  ♟ \n",
      " ·  ♜  ·  ♟  ·  ·  ·  ♜ \n",
      " ♟  ·  ·  ♗  ·  ♙  ♟  · \n",
      " ♙  ·  ♙  ·  ♙  ·  ·  · \n",
      " ·  ♙  ·  ♖  ·  ·  ·  · \n",
      " ·  ·  ·  ·  ·  ♙  ♖  ♙ \n",
      " ·  ·  ♝  ·  ·  ·  ·  ♔ \n",
      "\n",
      "0.0596529 \n",
      "\n",
      "W to move\n",
      " ·  ·  ·  ·  ·  ·  ·  · \n",
      " ·  ·  ·  ·  ·  ♟  ·  · \n",
      " ♟  ·  ♛  ·  ·  ·  ♟  · \n",
      " ·  ·  ·  ·  ·  ·  ·  · \n",
      " ♚  ·  ·  ♟  ·  ♙  ♟  ♙ \n",
      " ·  ·  ·  ·  ·  ·  ·  · \n",
      " ♙  ♖  ·  ·  ♕  ·  ·  ♔ \n",
      " ·  ·  ♜  ·  ·  ·  ·  · \n",
      "\n",
      "-0.0295941 \n",
      "\n",
      "W to move\n",
      " ·  ·  ♚  ♜  ·  ·  ·  ♜ \n",
      " ♟  ♟  ·  ·  ♛  ♟  ♟  ♟ \n",
      " ·  ·  ♟  ·  ·  ·  ♞  · \n",
      " ·  ·  ·  ·  ♟  ·  ·  · \n",
      " ·  ·  ♕  ·  ♘  ·  ·  · \n",
      " ·  ♙  ·  ·  ·  ·  ♙  · \n",
      " ♙  ·  ·  ·  ·  ♙  ♗  ♙ \n",
      " ♖  ·  ·  ·  ·  ♖  ♔  · \n",
      "\n",
      "0.0674001 \n",
      "\n",
      "W to move\n",
      " ·  ♛  ·  ·  ♜  ·  ·  · \n",
      " ·  ♟  ·  ·  ♞  ·  ♚  · \n",
      " ♟  ·  ♟  ♜  ♝  ·  ·  ♟ \n",
      " ♙  ·  ♕  ♟  ·  ·  ♟  · \n",
      " ·  ♙  ·  ♙  ·  ·  ·  · \n",
      " ·  ·  ·  ·  ♙  ♘  ·  · \n",
      " ·  ·  ♖  ·  ·  ♙  ♙  ♙ \n",
      " ·  ·  ♖  ·  ·  ·  ♔  · \n",
      "\n",
      "-0.0103812 \n",
      "\n",
      "B to move\n",
      " ·  ·  ·  ·  ·  ·  ·  · \n",
      " ·  ·  ·  ·  ·  ·  ♚  · \n",
      " ·  ·  ·  ♟  ·  ·  ♛  · \n",
      " ·  ·  ·  ·  ♝  ·  ·  · \n",
      " ·  ♙  ·  ·  ·  ♟  ·  · \n",
      " ·  ·  ·  ·  ♜  ♙  ♟  ♙ \n",
      " ·  ·  ♙  ♕  ·  ·  ·  · \n",
      " ·  ·  ·  ·  ·  ♖  ·  ♔ \n",
      "\n",
      "-0.0398203 \n",
      "\n",
      "W to move\n",
      " ♜  ·  ·  ·  ·  ♝  ·  ♜ \n",
      " ♟  ·  ♚  ·  ·  ·  ·  · \n",
      " ·  ♛  ♟  ♟  ·  ♕  ·  · \n",
      " ·  ·  ·  ·  ♟  ·  ·  ♟ \n",
      " ·  ·  ·  ·  ♙  ·  ♝  · \n",
      " ·  ♗  ♘  ·  ·  ·  ·  · \n",
      " ♙  ♙  ♙  ·  ·  ♙  ♙  ♙ \n",
      " ♖  ·  ·  ·  ♔  ·  ·  ♖ \n",
      "\n",
      "0.116827 \n",
      "\n"
     ]
    }
   ],
   "source": [
    "for f,s in zip(fens,scores):\n",
    "    print(Position.from_fen(f))\n",
    "    print(s, \"\\n\")"
   ]
  },
  {
   "cell_type": "code",
   "execution_count": 48,
   "metadata": {
    "collapsed": true
   },
   "outputs": [],
   "source": [
    "fv = bcolz.open(mode='r', rootdir='/ssd/slonik_data/features_valid.bc')"
   ]
  },
  {
   "cell_type": "code",
   "execution_count": 24,
   "metadata": {
    "collapsed": true
   },
   "outputs": [
    {
     "data": {
      "text/plain": [
       "carray((60000, 8, 8, 14), float64)\n",
       "  nbytes := 410.16 MB; cbytes := 26.67 MB; ratio: 15.38\n",
       "  cparams := cparams(clevel=5, shuffle=1, cname='lz4', quantize=0)\n",
       "  chunklen := 1024; chunksize: 7340032; blocksize: 32768\n",
       "  rootdir := '/ssd/slonik_data/features_sf12_origfen_valid.bc'\n",
       "  mode    := 'r'\n",
       "[[[[ 0.  1.  0. ...,  0.  0.  0.]\n",
       "   [ 0.  1.  0. ...,  0.  0.  0.]\n",
       "   [ 0.  1.  0. ...,  0.  0.  0.]\n",
       "   ..., \n",
       "   [ 0.  1.  0. ...,  0.  0.  0.]\n",
       "   [ 0.  1.  0. ...,  0.  0.  1.]\n",
       "   [ 0.  1.  0. ...,  0.  0.  0.]]\n",
       "\n",
       "  [[ 0.  1.  0. ...,  0.  0.  0.]\n",
       "   [ 0.  1.  0. ...,  0.  0.  0.]\n",
       "   [ 0.  1.  0. ...,  0.  0.  0.]\n",
       "   ..., \n",
       "   [ 0.  1.  0. ...,  0.  0.  0.]\n",
       "   [ 0.  1.  0. ...,  0.  0.  0.]\n",
       "   [ 0.  1.  0. ...,  0.  0.  0.]]\n",
       "\n",
       "  [[ 0.  1.  0. ...,  0.  0.  0.]\n",
       "   [ 0.  1.  0. ...,  0.  0.  0.]\n",
       "   [ 0.  1.  0. ...,  0.  0.  0.]\n",
       "   ..., \n",
       "   [ 0.  1.  0. ...,  0.  0.  0.]\n",
       "   [ 0.  1.  0. ...,  0.  0.  0.]\n",
       "   [ 0.  1.  0. ...,  0.  0.  0.]]\n",
       "\n",
       "  ..., \n",
       "  [[ 0.  1.  1. ...,  0.  0.  0.]\n",
       "   [ 0.  1.  0. ...,  0.  0.  0.]\n",
       "   [ 0.  1.  0. ...,  0.  0.  0.]\n",
       "   ..., \n",
       "   [ 0.  1.  0. ...,  0.  0.  0.]\n",
       "   [ 0.  1.  0. ...,  0.  0.  0.]\n",
       "   [ 0.  1.  1. ...,  0.  0.  0.]]\n",
       "\n",
       "  [[ 0.  1.  0. ...,  0.  0.  0.]\n",
       "   [ 0.  1.  0. ...,  0.  0.  0.]\n",
       "   [ 0.  1.  0. ...,  0.  0.  0.]\n",
       "   ..., \n",
       "   [ 0.  1.  0. ...,  0.  0.  0.]\n",
       "   [ 0.  1.  1. ...,  0.  0.  0.]\n",
       "   [ 0.  1.  0. ...,  0.  0.  0.]]\n",
       "\n",
       "  [[ 0.  1.  0. ...,  0.  0.  0.]\n",
       "   [ 0.  1.  0. ...,  0.  0.  0.]\n",
       "   [ 0.  1.  0. ...,  0.  0.  0.]\n",
       "   ..., \n",
       "   [ 0.  1.  0. ...,  0.  0.  0.]\n",
       "   [ 0.  1.  0. ...,  0.  1.  0.]\n",
       "   [ 0.  1.  0. ...,  0.  0.  0.]]]\n",
       "\n",
       "\n",
       " [[[ 0.  1.  0. ...,  0.  0.  0.]\n",
       "   [ 0.  1.  0. ...,  0.  0.  0.]\n",
       "   [ 0.  1.  0. ...,  0.  0.  0.]\n",
       "   ..., \n",
       "   [ 0.  1.  0. ...,  0.  0.  0.]\n",
       "   [ 0.  1.  0. ...,  0.  0.  1.]\n",
       "   [ 0.  1.  0. ...,  0.  0.  0.]]\n",
       "\n",
       "  [[ 0.  1.  0. ...,  0.  0.  0.]\n",
       "   [ 0.  1.  0. ...,  0.  0.  0.]\n",
       "   [ 0.  1.  0. ...,  0.  0.  0.]\n",
       "   ..., \n",
       "   [ 0.  1.  0. ...,  0.  0.  0.]\n",
       "   [ 0.  1.  0. ...,  0.  0.  0.]\n",
       "   [ 0.  1.  0. ...,  0.  0.  0.]]\n",
       "\n",
       "  [[ 0.  1.  0. ...,  0.  0.  0.]\n",
       "   [ 0.  1.  0. ...,  1.  0.  0.]\n",
       "   [ 0.  1.  0. ...,  0.  0.  0.]\n",
       "   ..., \n",
       "   [ 0.  1.  0. ...,  0.  0.  0.]\n",
       "   [ 0.  1.  0. ...,  0.  0.  0.]\n",
       "   [ 0.  1.  0. ...,  0.  0.  0.]]\n",
       "\n",
       "  ..., \n",
       "  [[ 0.  1.  0. ...,  0.  0.  0.]\n",
       "   [ 0.  1.  0. ...,  0.  0.  0.]\n",
       "   [ 0.  1.  0. ...,  0.  0.  0.]\n",
       "   ..., \n",
       "   [ 0.  1.  0. ...,  0.  0.  0.]\n",
       "   [ 0.  1.  0. ...,  0.  0.  0.]\n",
       "   [ 0.  1.  1. ...,  0.  0.  0.]]\n",
       "\n",
       "  [[ 0.  1.  1. ...,  0.  0.  0.]\n",
       "   [ 0.  1.  1. ...,  0.  0.  0.]\n",
       "   [ 0.  1.  1. ...,  0.  0.  0.]\n",
       "   ..., \n",
       "   [ 0.  1.  1. ...,  0.  0.  0.]\n",
       "   [ 0.  1.  1. ...,  0.  0.  0.]\n",
       "   [ 0.  1.  0. ...,  0.  0.  0.]]\n",
       "\n",
       "  [[ 0.  1.  0. ...,  0.  0.  0.]\n",
       "   [ 0.  1.  0. ...,  0.  0.  0.]\n",
       "   [ 0.  1.  0. ...,  0.  0.  0.]\n",
       "   ..., \n",
       "   [ 0.  1.  0. ...,  0.  0.  0.]\n",
       "   [ 0.  1.  0. ...,  0.  1.  0.]\n",
       "   [ 0.  1.  0. ...,  0.  0.  0.]]]\n",
       "\n",
       "\n",
       " [[[ 0.  0.  0. ...,  0.  0.  0.]\n",
       "   [ 0.  0.  0. ...,  0.  0.  0.]\n",
       "   [ 0.  0.  0. ...,  0.  0.  0.]\n",
       "   ..., \n",
       "   [ 0.  0.  0. ...,  0.  0.  0.]\n",
       "   [ 0.  0.  0. ...,  0.  0.  0.]\n",
       "   [ 0.  0.  0. ...,  0.  0.  1.]]\n",
       "\n",
       "  [[ 0.  0.  0. ...,  0.  0.  0.]\n",
       "   [ 0.  0.  0. ...,  0.  0.  0.]\n",
       "   [ 0.  0.  0. ...,  0.  0.  0.]\n",
       "   ..., \n",
       "   [ 0.  0.  0. ...,  0.  0.  0.]\n",
       "   [ 0.  0.  0. ...,  0.  0.  0.]\n",
       "   [ 0.  0.  0. ...,  0.  0.  0.]]\n",
       "\n",
       "  [[ 0.  0.  0. ...,  0.  0.  0.]\n",
       "   [ 0.  0.  0. ...,  0.  0.  0.]\n",
       "   [ 0.  0.  0. ...,  0.  0.  0.]\n",
       "   ..., \n",
       "   [ 0.  0.  0. ...,  0.  0.  0.]\n",
       "   [ 0.  0.  0. ...,  0.  0.  0.]\n",
       "   [ 0.  0.  0. ...,  0.  0.  0.]]\n",
       "\n",
       "  ..., \n",
       "  [[ 0.  0.  0. ...,  0.  0.  0.]\n",
       "   [ 0.  0.  0. ...,  0.  0.  0.]\n",
       "   [ 0.  0.  0. ...,  0.  0.  0.]\n",
       "   ..., \n",
       "   [ 0.  0.  0. ...,  0.  0.  0.]\n",
       "   [ 0.  0.  0. ...,  0.  0.  0.]\n",
       "   [ 0.  0.  0. ...,  0.  0.  0.]]\n",
       "\n",
       "  [[ 0.  0.  1. ...,  0.  0.  0.]\n",
       "   [ 0.  0.  1. ...,  0.  0.  0.]\n",
       "   [ 0.  0.  1. ...,  0.  0.  0.]\n",
       "   ..., \n",
       "   [ 0.  0.  0. ...,  0.  0.  0.]\n",
       "   [ 0.  0.  1. ...,  0.  0.  0.]\n",
       "   [ 0.  0.  1. ...,  0.  0.  0.]]\n",
       "\n",
       "  [[ 0.  0.  0. ...,  0.  0.  0.]\n",
       "   [ 0.  0.  0. ...,  0.  0.  0.]\n",
       "   [ 0.  0.  0. ...,  0.  0.  0.]\n",
       "   ..., \n",
       "   [ 0.  0.  0. ...,  0.  0.  0.]\n",
       "   [ 0.  0.  0. ...,  0.  1.  0.]\n",
       "   [ 0.  0.  0. ...,  0.  0.  0.]]]\n",
       "\n",
       "\n",
       " ..., \n",
       " [[[ 0.  1.  0. ...,  0.  0.  0.]\n",
       "   [ 0.  1.  0. ...,  0.  0.  0.]\n",
       "   [ 1.  1.  0. ...,  0.  0.  0.]\n",
       "   ..., \n",
       "   [ 1.  1.  0. ...,  0.  0.  0.]\n",
       "   [ 1.  1.  0. ...,  0.  0.  0.]\n",
       "   [ 0.  1.  0. ...,  0.  0.  0.]]\n",
       "\n",
       "  [[ 0.  1.  0. ...,  0.  0.  0.]\n",
       "   [ 0.  1.  0. ...,  0.  0.  0.]\n",
       "   [ 0.  1.  0. ...,  0.  0.  0.]\n",
       "   ..., \n",
       "   [ 0.  1.  0. ...,  0.  0.  0.]\n",
       "   [ 0.  1.  0. ...,  0.  0.  0.]\n",
       "   [ 0.  1.  0. ...,  0.  0.  0.]]\n",
       "\n",
       "  [[ 0.  1.  0. ...,  0.  0.  0.]\n",
       "   [ 0.  1.  0. ...,  0.  0.  0.]\n",
       "   [ 0.  1.  0. ...,  0.  0.  0.]\n",
       "   ..., \n",
       "   [ 0.  1.  0. ...,  0.  0.  0.]\n",
       "   [ 0.  1.  0. ...,  0.  0.  0.]\n",
       "   [ 0.  1.  0. ...,  0.  0.  0.]]\n",
       "\n",
       "  ..., \n",
       "  [[ 0.  1.  0. ...,  0.  0.  0.]\n",
       "   [ 0.  1.  0. ...,  0.  0.  0.]\n",
       "   [ 0.  1.  0. ...,  0.  0.  0.]\n",
       "   ..., \n",
       "   [ 0.  1.  0. ...,  0.  0.  0.]\n",
       "   [ 0.  1.  0. ...,  0.  0.  0.]\n",
       "   [ 0.  1.  0. ...,  0.  0.  0.]]\n",
       "\n",
       "  [[ 0.  1.  0. ...,  0.  0.  0.]\n",
       "   [ 0.  1.  1. ...,  0.  0.  0.]\n",
       "   [ 0.  1.  0. ...,  0.  0.  0.]\n",
       "   ..., \n",
       "   [ 0.  1.  1. ...,  0.  0.  0.]\n",
       "   [ 0.  1.  1. ...,  0.  0.  0.]\n",
       "   [ 0.  1.  1. ...,  0.  0.  0.]]\n",
       "\n",
       "  [[ 0.  1.  0. ...,  0.  0.  0.]\n",
       "   [ 0.  1.  0. ...,  0.  0.  0.]\n",
       "   [ 1.  1.  0. ...,  0.  0.  0.]\n",
       "   ..., \n",
       "   [ 1.  1.  0. ...,  0.  0.  0.]\n",
       "   [ 1.  1.  0. ...,  0.  0.  0.]\n",
       "   [ 0.  1.  0. ...,  0.  0.  0.]]]\n",
       "\n",
       "\n",
       " [[[ 0.  0.  0. ...,  0.  0.  0.]\n",
       "   [ 0.  0.  0. ...,  0.  0.  0.]\n",
       "   [ 0.  0.  0. ...,  0.  0.  1.]\n",
       "   ..., \n",
       "   [ 0.  0.  0. ...,  0.  0.  0.]\n",
       "   [ 0.  0.  0. ...,  0.  0.  0.]\n",
       "   [ 0.  0.  0. ...,  0.  0.  0.]]\n",
       "\n",
       "  [[ 0.  0.  0. ...,  0.  0.  0.]\n",
       "   [ 0.  0.  0. ...,  0.  0.  0.]\n",
       "   [ 0.  0.  0. ...,  0.  0.  0.]\n",
       "   ..., \n",
       "   [ 0.  0.  0. ...,  0.  0.  0.]\n",
       "   [ 0.  0.  0. ...,  0.  0.  0.]\n",
       "   [ 0.  0.  0. ...,  0.  0.  0.]]\n",
       "\n",
       "  [[ 0.  0.  0. ...,  0.  0.  0.]\n",
       "   [ 0.  0.  0. ...,  0.  0.  0.]\n",
       "   [ 0.  0.  0. ...,  0.  0.  0.]\n",
       "   ..., \n",
       "   [ 0.  0.  0. ...,  0.  0.  0.]\n",
       "   [ 0.  0.  0. ...,  0.  0.  0.]\n",
       "   [ 0.  0.  0. ...,  0.  0.  0.]]\n",
       "\n",
       "  ..., \n",
       "  [[ 0.  0.  0. ...,  0.  0.  0.]\n",
       "   [ 0.  0.  0. ...,  0.  0.  0.]\n",
       "   [ 0.  0.  0. ...,  0.  0.  0.]\n",
       "   ..., \n",
       "   [ 0.  0.  0. ...,  0.  0.  0.]\n",
       "   [ 0.  0.  0. ...,  0.  0.  0.]\n",
       "   [ 0.  0.  0. ...,  0.  0.  0.]]\n",
       "\n",
       "  [[ 0.  0.  0. ...,  0.  0.  0.]\n",
       "   [ 0.  0.  0. ...,  0.  0.  0.]\n",
       "   [ 0.  0.  0. ...,  0.  0.  0.]\n",
       "   ..., \n",
       "   [ 0.  0.  1. ...,  0.  0.  0.]\n",
       "   [ 0.  0.  1. ...,  0.  0.  0.]\n",
       "   [ 0.  0.  1. ...,  0.  0.  0.]]\n",
       "\n",
       "  [[ 0.  0.  0. ...,  0.  0.  0.]\n",
       "   [ 0.  0.  0. ...,  0.  0.  0.]\n",
       "   [ 0.  0.  0. ...,  0.  0.  0.]\n",
       "   ..., \n",
       "   [ 0.  0.  0. ...,  0.  0.  0.]\n",
       "   [ 0.  0.  0. ...,  0.  1.  0.]\n",
       "   [ 0.  0.  0. ...,  0.  0.  0.]]]\n",
       "\n",
       "\n",
       " [[[ 0.  0.  0. ...,  0.  0.  0.]\n",
       "   [ 0.  0.  0. ...,  0.  0.  0.]\n",
       "   [ 1.  0.  0. ...,  0.  0.  0.]\n",
       "   ..., \n",
       "   [ 1.  0.  0. ...,  0.  0.  0.]\n",
       "   [ 1.  0.  0. ...,  0.  0.  0.]\n",
       "   [ 0.  0.  0. ...,  0.  0.  0.]]\n",
       "\n",
       "  [[ 0.  0.  0. ...,  0.  0.  0.]\n",
       "   [ 0.  0.  0. ...,  0.  0.  0.]\n",
       "   [ 0.  0.  0. ...,  0.  0.  0.]\n",
       "   ..., \n",
       "   [ 0.  0.  0. ...,  0.  0.  0.]\n",
       "   [ 0.  0.  0. ...,  0.  0.  0.]\n",
       "   [ 0.  0.  0. ...,  0.  0.  0.]]\n",
       "\n",
       "  [[ 0.  0.  0. ...,  0.  0.  0.]\n",
       "   [ 0.  0.  0. ...,  0.  0.  0.]\n",
       "   [ 0.  0.  0. ...,  0.  0.  0.]\n",
       "   ..., \n",
       "   [ 0.  0.  0. ...,  0.  0.  0.]\n",
       "   [ 0.  0.  0. ...,  0.  0.  0.]\n",
       "   [ 0.  0.  0. ...,  0.  0.  0.]]\n",
       "\n",
       "  ..., \n",
       "  [[ 0.  0.  0. ...,  0.  0.  0.]\n",
       "   [ 0.  0.  0. ...,  0.  0.  0.]\n",
       "   [ 0.  0.  0. ...,  0.  0.  0.]\n",
       "   ..., \n",
       "   [ 0.  0.  0. ...,  0.  0.  0.]\n",
       "   [ 0.  0.  1. ...,  0.  0.  0.]\n",
       "   [ 0.  0.  0. ...,  0.  0.  0.]]\n",
       "\n",
       "  [[ 0.  0.  1. ...,  0.  0.  0.]\n",
       "   [ 0.  0.  1. ...,  0.  0.  0.]\n",
       "   [ 0.  0.  0. ...,  0.  0.  0.]\n",
       "   ..., \n",
       "   [ 0.  0.  1. ...,  0.  0.  0.]\n",
       "   [ 0.  0.  0. ...,  0.  0.  0.]\n",
       "   [ 0.  0.  1. ...,  0.  0.  0.]]\n",
       "\n",
       "  [[ 0.  0.  0. ...,  0.  0.  0.]\n",
       "   [ 0.  0.  0. ...,  0.  0.  0.]\n",
       "   [ 1.  0.  0. ...,  0.  0.  0.]\n",
       "   ..., \n",
       "   [ 1.  0.  0. ...,  0.  0.  0.]\n",
       "   [ 1.  0.  0. ...,  0.  0.  0.]\n",
       "   [ 0.  0.  0. ...,  0.  0.  0.]]]]"
      ]
     },
     "execution_count": 24,
     "metadata": {},
     "output_type": "execute_result"
    }
   ],
   "source": [
    "bcolz.open(mode='r', rootdir='/ssd/slonik_data/features_sf12_origfen_valid.bc')"
   ]
  },
  {
   "cell_type": "code",
   "execution_count": 45,
   "metadata": {
    "collapsed": true
   },
   "outputs": [],
   "source": [
    "from cnnfeat import get_feats"
   ]
  },
  {
   "cell_type": "code",
   "execution_count": 94,
   "metadata": {},
   "outputs": [
    {
     "data": {
      "text/plain": [
       "True"
      ]
     },
     "execution_count": 94,
     "metadata": {},
     "output_type": "execute_result"
    }
   ],
   "source": [
    "np.allclose(get_feats(Position.from_fen(positions.iloc[5].fen)), pos_feats[5])"
   ]
  },
  {
   "cell_type": "code",
   "execution_count": 52,
   "metadata": {
    "collapsed": true
   },
   "outputs": [],
   "source": [
    "positions = pd.read_pickle('/ssd/slonik_data/positions.pkl')"
   ]
  },
  {
   "cell_type": "code",
   "execution_count": 53,
   "metadata": {},
   "outputs": [
    {
     "data": {
      "text/plain": [
       "700759"
      ]
     },
     "execution_count": 53,
     "metadata": {},
     "output_type": "execute_result"
    }
   ],
   "source": [
    "len(positions)"
   ]
  },
  {
   "cell_type": "code",
   "execution_count": 10,
   "metadata": {
    "collapsed": true
   },
   "outputs": [],
   "source": [
    "features_sf3_valid = bcolz.open(mode='r', rootdir='/ssd/slonik_data/features_sf3_valid.bc')"
   ]
  },
  {
   "cell_type": "code",
   "execution_count": 58,
   "metadata": {},
   "outputs": [
    {
     "data": {
      "text/plain": [
       "(235705, 235705)"
      ]
     },
     "execution_count": 58,
     "metadata": {},
     "output_type": "execute_result"
    }
   ],
   "source": [
    "len(pos_sf3_feats) - len(positions), len(sf_scores3) - 60000"
   ]
  },
  {
   "cell_type": "code",
   "execution_count": 11,
   "metadata": {},
   "outputs": [],
   "source": [
    "blen = features_sf3_valid.chunklen\n",
    "dtype = features_sf3_valid.dtype\n",
    "nb_items = len(features_sf3_valid)//10\n",
    "itr = bcolz.iterblocks(features_sf3_valid, blen=blen, start=0, stop=nb_items)\n",
    "feats = bcolz.carray(np.empty((0,8,8,14)), mode='w', chunklen=1024, rootdir='/ssd/slonik_data/features_sf3_valid_sample.bc')\n",
    "for i in itr:\n",
    "    feats.append(i)\n",
    "feats.flush()"
   ]
  },
  {
   "cell_type": "code",
   "execution_count": 14,
   "metadata": {
    "collapsed": true
   },
   "outputs": [],
   "source": [
    "from cnnfeat import *"
   ]
  }
 ],
 "metadata": {
  "kernelspec": {
   "display_name": "Python 3",
   "language": "python",
   "name": "python3"
  },
  "language_info": {
   "codemirror_mode": {
    "name": "ipython",
    "version": 3
   },
   "file_extension": ".py",
   "mimetype": "text/x-python",
   "name": "python",
   "nbconvert_exporter": "python",
   "pygments_lexer": "ipython3",
   "version": "3.6.3"
  }
 },
 "nbformat": 4,
 "nbformat_minor": 2
}
