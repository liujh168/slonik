{
 "cells": [
  {
   "cell_type": "code",
   "execution_count": 5,
   "metadata": {
    "collapsed": true
   },
   "outputs": [],
   "source": [
    "import chess\n",
    "import chess.pgn\n",
    "import chess.uci\n",
    "import random"
   ]
  },
  {
   "cell_type": "code",
   "execution_count": 6,
   "metadata": {
    "collapsed": true
   },
   "outputs": [],
   "source": [
    "import pandas as pd\n",
    "import numpy as np"
   ]
  },
  {
   "cell_type": "code",
   "execution_count": 7,
   "metadata": {
    "collapsed": true
   },
   "outputs": [],
   "source": [
    "STOCKFISH = '/usr/bin/stockfish'\n",
    "DEPTH = 4"
   ]
  },
  {
   "cell_type": "code",
   "execution_count": 10,
   "metadata": {
    "collapsed": true
   },
   "outputs": [],
   "source": [
    "def make_score(engine, i):\n",
    "    fen = positions.iloc[i].fen.strip()\n",
    "    engine.ucinewgame()\n",
    "    board = chess.Board(fen=fen)\n",
    "    move = random.choice(list(board.legal_moves))\n",
    "    board.push(move)\n",
    "    fen = board.fen()\n",
    "    orig_fen = fen\n",
    "    engine.position(board)\n",
    "    engine.go(depth=DEPTH)\n",
    "    \n",
    "    info_handler = engine.info_handlers[0]\n",
    "    score = info_handler.info[\"score\"][1].cp\n",
    "    if score is None:\n",
    "        if info_handler.info[\"score\"][1].mate != 0:\n",
    "            return None\n",
    "        if info_handler.info[\"score\"][1].mate > 0:\n",
    "            score = 5000\n",
    "        else:\n",
    "            score = -5000\n",
    "\n",
    "    wtm = board.turn\n",
    "    if not wtm: score *= -1\n",
    "\n",
    "    pv = info_handler.info[\"pv\"]\n",
    "    if not pv.get(1): return None\n",
    "    for move in pv[1]:\n",
    "        board.push(move)\n",
    "    fen = board.fen()\n",
    "    \n",
    "    pv = info_handler.info['pv']\n",
    "    if not pv.get(1): return None\n",
    "    best_move = pv[1][0].uci()\n",
    "    \n",
    "    return orig_fen, fen, score, best_move"
   ]
  },
  {
   "cell_type": "code",
   "execution_count": 11,
   "metadata": {
    "collapsed": true
   },
   "outputs": [],
   "source": [
    "def make_engine():\n",
    "    engine = chess.uci.popen_engine(STOCKFISH)\n",
    "    info_handler = chess.uci.InfoHandler()\n",
    "    engine.info_handlers.append(info_handler)\n",
    "    return engine"
   ]
  },
  {
   "cell_type": "code",
   "execution_count": 14,
   "metadata": {
    "collapsed": true
   },
   "outputs": [
    {
     "name": "stderr",
     "output_type": "stream",
     "text": [
      "  3%|▎         | 1/29 [00:49<23:10, 49.68s/it]"
     ]
    },
    {
     "name": "stdout",
     "output_type": "stream",
     "text": [
      "10 workers 24682 results 49.67884159088135 s\n"
     ]
    },
    {
     "name": "stderr",
     "output_type": "stream",
     "text": [
      "\r",
      "  7%|▋         | 2/29 [01:38<22:10, 49.27s/it]"
     ]
    },
    {
     "name": "stdout",
     "output_type": "stream",
     "text": [
      "10 workers 24628 results 98.54144859313965 s\n"
     ]
    },
    {
     "name": "stderr",
     "output_type": "stream",
     "text": [
      "\r",
      " 10%|█         | 3/29 [02:27<21:17, 49.13s/it]"
     ]
    },
    {
     "name": "stdout",
     "output_type": "stream",
     "text": [
      "10 workers 24589 results 147.38112711906433 s\n"
     ]
    },
    {
     "name": "stderr",
     "output_type": "stream",
     "text": [
      "\r",
      " 14%|█▍        | 4/29 [03:16<20:25, 49.04s/it]"
     ]
    },
    {
     "name": "stdout",
     "output_type": "stream",
     "text": [
      "10 workers 24648 results 196.150865316391 s\n"
     ]
    },
    {
     "name": "stderr",
     "output_type": "stream",
     "text": [
      "\r",
      " 17%|█▋        | 5/29 [04:05<19:37, 49.06s/it]"
     ]
    },
    {
     "name": "stdout",
     "output_type": "stream",
     "text": [
      "10 workers 24663 results 245.30317854881287 s\n"
     ]
    },
    {
     "name": "stderr",
     "output_type": "stream",
     "text": [
      "\r",
      " 21%|██        | 6/29 [04:54<18:48, 49.07s/it]"
     ]
    },
    {
     "name": "stdout",
     "output_type": "stream",
     "text": [
      "10 workers 24628 results 294.441041469574 s\n"
     ]
    },
    {
     "name": "stderr",
     "output_type": "stream",
     "text": [
      "\r",
      " 24%|██▍       | 7/29 [05:43<17:59, 49.06s/it]"
     ]
    },
    {
     "name": "stdout",
     "output_type": "stream",
     "text": [
      "10 workers 24587 results 343.4224076271057 s\n"
     ]
    },
    {
     "name": "stderr",
     "output_type": "stream",
     "text": [
      "\r",
      " 28%|██▊       | 8/29 [06:33<17:11, 49.13s/it]"
     ]
    },
    {
     "name": "stdout",
     "output_type": "stream",
     "text": [
      "10 workers 24678 results 393.0188219547272 s\n"
     ]
    },
    {
     "name": "stderr",
     "output_type": "stream",
     "text": [
      "\r",
      " 31%|███       | 9/29 [07:22<16:22, 49.15s/it]"
     ]
    },
    {
     "name": "stdout",
     "output_type": "stream",
     "text": [
      "10 workers 24617 results 442.32089495658875 s\n"
     ]
    },
    {
     "name": "stderr",
     "output_type": "stream",
     "text": [
      "\r",
      " 34%|███▍      | 10/29 [08:11<15:33, 49.14s/it]"
     ]
    },
    {
     "name": "stdout",
     "output_type": "stream",
     "text": [
      "10 workers 24577 results 491.3953468799591 s\n"
     ]
    },
    {
     "name": "stderr",
     "output_type": "stream",
     "text": [
      "\r",
      " 38%|███▊      | 11/29 [09:01<14:46, 49.22s/it]"
     ]
    },
    {
     "name": "stdout",
     "output_type": "stream",
     "text": [
      "10 workers 24631 results 541.4520366191864 s\n"
     ]
    },
    {
     "name": "stderr",
     "output_type": "stream",
     "text": [
      "\r",
      " 41%|████▏     | 12/29 [09:50<13:56, 49.23s/it]"
     ]
    },
    {
     "name": "stdout",
     "output_type": "stream",
     "text": [
      "10 workers 24661 results 590.7531995773315 s\n"
     ]
    },
    {
     "name": "stderr",
     "output_type": "stream",
     "text": [
      "\r",
      " 45%|████▍     | 13/29 [10:40<13:08, 49.27s/it]"
     ]
    },
    {
     "name": "stdout",
     "output_type": "stream",
     "text": [
      "10 workers 24633 results 640.556467294693 s\n"
     ]
    },
    {
     "name": "stderr",
     "output_type": "stream",
     "text": [
      "\r",
      " 48%|████▊     | 14/29 [11:30<12:19, 49.32s/it]"
     ]
    },
    {
     "name": "stdout",
     "output_type": "stream",
     "text": [
      "10 workers 24584 results 690.4338276386261 s\n"
     ]
    },
    {
     "name": "stderr",
     "output_type": "stream",
     "text": [
      "\r",
      " 52%|█████▏    | 15/29 [12:20<11:31, 49.38s/it]"
     ]
    },
    {
     "name": "stdout",
     "output_type": "stream",
     "text": [
      "10 workers 24653 results 740.7300307750702 s\n"
     ]
    },
    {
     "name": "stderr",
     "output_type": "stream",
     "text": [
      "\r",
      " 55%|█████▌    | 16/29 [13:10<10:42, 49.42s/it]"
     ]
    },
    {
     "name": "stdout",
     "output_type": "stream",
     "text": [
      "10 workers 24657 results 790.7349305152893 s\n"
     ]
    },
    {
     "name": "stderr",
     "output_type": "stream",
     "text": [
      "\r",
      " 59%|█████▊    | 17/29 [14:01<09:53, 49.47s/it]"
     ]
    },
    {
     "name": "stdout",
     "output_type": "stream",
     "text": [
      "10 workers 24603 results 841.0171196460724 s\n"
     ]
    },
    {
     "name": "stderr",
     "output_type": "stream",
     "text": [
      "\r",
      " 62%|██████▏   | 18/29 [14:51<09:04, 49.51s/it]"
     ]
    },
    {
     "name": "stdout",
     "output_type": "stream",
     "text": [
      "10 workers 24637 results 891.249255657196 s\n"
     ]
    },
    {
     "name": "stderr",
     "output_type": "stream",
     "text": [
      "\r",
      " 66%|██████▌   | 19/29 [15:40<08:15, 49.52s/it]"
     ]
    },
    {
     "name": "stdout",
     "output_type": "stream",
     "text": [
      "10 workers 24641 results 940.8573467731476 s\n"
     ]
    },
    {
     "name": "stderr",
     "output_type": "stream",
     "text": [
      "\r",
      " 69%|██████▉   | 20/29 [16:30<07:25, 49.54s/it]"
     ]
    },
    {
     "name": "stdout",
     "output_type": "stream",
     "text": [
      "10 workers 24628 results 990.7907886505127 s\n"
     ]
    },
    {
     "name": "stderr",
     "output_type": "stream",
     "text": [
      "\r",
      " 72%|███████▏  | 21/29 [17:22<06:37, 49.66s/it]"
     ]
    },
    {
     "name": "stdout",
     "output_type": "stream",
     "text": [
      "10 workers 24589 results 1042.7604048252106 s\n"
     ]
    },
    {
     "name": "stderr",
     "output_type": "stream",
     "text": [
      "\r",
      " 76%|███████▌  | 22/29 [18:14<05:48, 49.76s/it]"
     ]
    },
    {
     "name": "stdout",
     "output_type": "stream",
     "text": [
      "10 workers 24645 results 1094.7462038993835 s\n"
     ]
    },
    {
     "name": "stderr",
     "output_type": "stream",
     "text": [
      "\r",
      " 79%|███████▉  | 23/29 [19:06<04:59, 49.86s/it]"
     ]
    },
    {
     "name": "stdout",
     "output_type": "stream",
     "text": [
      "10 workers 24663 results 1146.74103140831 s\n"
     ]
    },
    {
     "name": "stderr",
     "output_type": "stream",
     "text": [
      "\r",
      " 83%|████████▎ | 24/29 [19:58<04:09, 49.94s/it]"
     ]
    },
    {
     "name": "stdout",
     "output_type": "stream",
     "text": [
      "10 workers 24612 results 1198.521256685257 s\n"
     ]
    },
    {
     "name": "stderr",
     "output_type": "stream",
     "text": [
      "\r",
      " 86%|████████▌ | 25/29 [20:49<03:19, 50.00s/it]"
     ]
    },
    {
     "name": "stdout",
     "output_type": "stream",
     "text": [
      "10 workers 24674 results 1249.8991208076477 s\n"
     ]
    },
    {
     "name": "stderr",
     "output_type": "stream",
     "text": [
      "\r",
      " 90%|████████▉ | 26/29 [21:42<02:30, 50.10s/it]"
     ]
    },
    {
     "name": "stdout",
     "output_type": "stream",
     "text": [
      "10 workers 24649 results 1302.519760608673 s\n"
     ]
    },
    {
     "name": "stderr",
     "output_type": "stream",
     "text": [
      "\r",
      " 93%|█████████▎| 27/29 [22:34<01:40, 50.18s/it]"
     ]
    },
    {
     "name": "stdout",
     "output_type": "stream",
     "text": [
      "10 workers 24644 results 1354.8160281181335 s\n"
     ]
    },
    {
     "name": "stderr",
     "output_type": "stream",
     "text": [
      "\r",
      " 97%|█████████▋| 28/29 [23:27<00:50, 50.25s/it]"
     ]
    },
    {
     "name": "stdout",
     "output_type": "stream",
     "text": [
      "10 workers 24589 results 1407.124933719635 s\n"
     ]
    },
    {
     "name": "stderr",
     "output_type": "stream",
     "text": [
      "\r",
      "100%|██████████| 29/29 [23:29<00:00, 48.61s/it]"
     ]
    },
    {
     "name": "stdout",
     "output_type": "stream",
     "text": [
      "10 workers 745 results 1409.8157935142517 s\n"
     ]
    },
    {
     "name": "stderr",
     "output_type": "stream",
     "text": [
      "\n"
     ]
    }
   ],
   "source": [
    "from multiprocessing import Queue\n",
    "from multiprocessing import Manager, Process\n",
    "from time import time\n",
    "from tqdm import tqdm\n",
    "import os\n",
    "\n",
    "#features_test_speed = bcolz.carray(np.empty((0,8,8,14)), rootdir='../slonik_data/features_test_speed.bc', chunklen=1024, mode='w')\n",
    "\n",
    "n = 1\n",
    "step = 25000\n",
    "\n",
    "# for num_workers in range(10,16):\n",
    "columns = ('orig_fen', 'fen', 'score', 'move')\n",
    "try:\n",
    "    data = pd.read_pickle('/ssd/slonik_data/sf_move_scores_4dep.pkl')\n",
    "except FileNotFoundError:\n",
    "    data = pd.DataFrame(columns=columns)\n",
    "\n",
    "positions = pd.read_pickle('/ssd/slonik_data/positions.pkl')\n",
    "   \n",
    "now = time()\n",
    "\n",
    "def save(temp_data, data):\n",
    "    temp_df = pd.DataFrame(temp_data, columns=columns)\n",
    "    data = pd.concat([data, temp_df], ignore_index=True)\n",
    "    data.to_pickle('/ssd/slonik_data/sf_move_scores_4dep.pkl')\n",
    "    return data\n",
    "\n",
    "def do_work(proc_num, work, output):\n",
    "    engine = make_engine()\n",
    "    while True:\n",
    "        i = work.get()\n",
    "        if i is None: \n",
    "            return\n",
    "        res = make_score(engine, i)\n",
    "        output.put(res)\n",
    "\n",
    "for s in tqdm(range(1, len(positions), step)):\n",
    "    num_workers = 10\n",
    "    manager = Manager()\n",
    "    work = manager.Queue(num_workers)\n",
    "    output = Queue()\n",
    "    pool = []\n",
    "    for i in range(num_workers):\n",
    "        p = Process(target=do_work, args=(i, work, output))\n",
    "        p.start()\n",
    "        pool.append(p)\n",
    "\n",
    "    end = min(s + step, len(positions))\n",
    "    num_fen = end - s\n",
    "    for i in range(s, end):\n",
    "        work.put(i)\n",
    "\n",
    "    results = []\n",
    "    for i in range(num_fen):\n",
    "        res = output.get()\n",
    "        if res is not None:\n",
    "            results.append(res)\n",
    "\n",
    "    for i in range(num_workers): \n",
    "        work.put(None)\n",
    "\n",
    "    for p in pool:\n",
    "        p.join()\n",
    "        \n",
    "    data = save(results, data)\n",
    "\n",
    "    print(num_workers, \"workers\", len(results), \"results\", (time() - now), 's')"
   ]
  },
  {
   "cell_type": "code",
   "execution_count": 15,
   "metadata": {
    "collapsed": true
   },
   "outputs": [],
   "source": [
    "# sf_scores12 = data\n",
    "sf_move_scores4 = pd.read_pickle('/ssd/slonik_data/sf_move_scores_4dep.pkl')\n",
    "s = np.array(sf_move_scores4.score,dtype='int32')\n",
    "sf_move_scores4.score = 2 * ((s-s.min()) / (s.max()-s.min())) - 1"
   ]
  },
  {
   "cell_type": "code",
   "execution_count": 23,
   "metadata": {
    "collapsed": true
   },
   "outputs": [],
   "source": [
    "sf_move_scores4.to_pickle('/ssd/slonik_data/sf_scores_12dep.pkl')"
   ]
  }
 ],
 "metadata": {
  "kernelspec": {
   "display_name": "Python 3",
   "language": "python",
   "name": "python3"
  },
  "language_info": {
   "codemirror_mode": {
    "name": "ipython",
    "version": 3
   },
   "file_extension": ".py",
   "mimetype": "text/x-python",
   "name": "python",
   "nbconvert_exporter": "python",
   "pygments_lexer": "ipython3",
   "version": "3.6.3"
  }
 },
 "nbformat": 4,
 "nbformat_minor": 2
}
