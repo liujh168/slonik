{
 "cells": [
  {
   "cell_type": "code",
   "execution_count": null,
   "metadata": {
    "collapsed": true
   },
   "outputs": [],
   "source": [
    "import chess\n",
    "import chess.pgn\n",
    "import chess.uci\n",
    "import random"
   ]
  },
  {
   "cell_type": "code",
   "execution_count": null,
   "metadata": {
    "collapsed": true
   },
   "outputs": [],
   "source": [
    "def make_score(engine, i):\n",
    "    fen = positions.iloc[i].fen.strip()\n",
    "    engine.ucinewgame()\n",
    "    board = chess.Board(fen=fen)\n",
    "    move = random.choice(list(board.legal_moves))\n",
    "    board.push(move)\n",
    "    fen = board.fen()\n",
    "    orig_fen = fen\n",
    "    engine.position(board)\n",
    "    engine.go(depth=DEPTH)\n",
    "    \n",
    "    info_handler = engine.info_handlers[0]\n",
    "    score = info_handler.info[\"score\"][1].cp\n",
    "    if score is None:\n",
    "        if info_handler.info[\"score\"][1].mate != 0:\n",
    "            return None\n",
    "        if info_handler.info[\"score\"][1].mate > 0:\n",
    "            score = 5000\n",
    "        else:\n",
    "            score = -5000\n",
    "\n",
    "    wtm = board.turn\n",
    "    if not wtm: score *= -1\n",
    "\n",
    "    pv = info_handler.info[\"pv\"]\n",
    "    if not pv.get(1): return None\n",
    "    for move in pv[1]:\n",
    "        board.push(move)\n",
    "    fen = board.fen()\n",
    "    return orig_fen, fen, score"
   ]
  },
  {
   "cell_type": "code",
   "execution_count": null,
   "metadata": {
    "collapsed": true
   },
   "outputs": [],
   "source": [
    "def make_engine():\n",
    "    engine = chess.uci.popen_engine(STOCKFISH)\n",
    "    info_handler = chess.uci.InfoHandler()\n",
    "    engine.info_handlers.append(info_handler)\n",
    "    return engine"
   ]
  },
  {
   "cell_type": "code",
   "execution_count": null,
   "metadata": {
    "collapsed": true
   },
   "outputs": [],
   "source": [
    "from multiprocessing import Queue\n",
    "from multiprocessing import Manager, Process\n",
    "import os\n",
    "\n",
    "#features_test_speed = bcolz.carray(np.empty((0,8,8,14)), rootdir='../slonik_data/features_test_speed.bc', chunklen=1024, mode='w')\n",
    "\n",
    "n = 1\n",
    "step = 25000\n",
    "\n",
    "# for num_workers in range(10,16):\n",
    "data = pd.read_pickle('/ssd/slonik_data/sf_scores_12dep.pkl')\n",
    "positions = pd.read_pickle('/ssd/slonik_data/positions.pkl')\n",
    "   \n",
    "now = time()\n",
    "\n",
    "def save(temp_data, data):\n",
    "    temp_df = pd.DataFrame(temp_data, columns=('orig_fen', 'fen', 'score'))\n",
    "    data = pd.concat([data, temp_df], ignore_index=True)\n",
    "    data.to_pickle('/ssd/slonik_data/sf_scores_12dep.pkl')\n",
    "    return data\n",
    "\n",
    "def do_work(proc_num, work, output):\n",
    "    engine = make_engine()\n",
    "    while True:\n",
    "        i = work.get()\n",
    "        if i is None: \n",
    "            return\n",
    "        res = make_score(engine, i)\n",
    "        output.put(res)\n",
    "\n",
    "for s in tqdm(range(380001, len(positions), step)):\n",
    "    num_workers = 10\n",
    "    manager = Manager()\n",
    "    work = manager.Queue(num_workers)\n",
    "    output = Queue()\n",
    "    pool = []\n",
    "    for i in range(num_workers):\n",
    "        p = Process(target=do_work, args=(i, work, output))\n",
    "        p.start()\n",
    "        pool.append(p)\n",
    "\n",
    "    end = min(s + step, len(positions))\n",
    "    num_fen = end - s\n",
    "    for i in range(s, end):\n",
    "        work.put(i)\n",
    "\n",
    "    results = []\n",
    "    for i in range(num_fen):\n",
    "        res = output.get()\n",
    "        if res is not None:\n",
    "            results.append(res)\n",
    "\n",
    "    for i in range(num_workers): \n",
    "        work.put(None)\n",
    "\n",
    "    for p in pool:\n",
    "        p.join()\n",
    "        \n",
    "    data = save(results, data)\n",
    "\n",
    "    print(num_workers, \"workers\", len(results), \"results\", (time() - now), 's')"
   ]
  },
  {
   "cell_type": "code",
   "execution_count": null,
   "metadata": {
    "collapsed": true
   },
   "outputs": [],
   "source": [
    "# sf_scores12 = data\n",
    "sf_scores12 = pd.read_pickle('/ssd/slonik_data/sf_scores_12dep.pkl')\n",
    "s = np.array(sf_scores12.score,dtype='int32')\n",
    "sf_scores12.score = 2 * ((s-s.min()) / (s.max()-s.min())) - 1"
   ]
  },
  {
   "cell_type": "code",
   "execution_count": null,
   "metadata": {
    "collapsed": true
   },
   "outputs": [],
   "source": [
    "sf_scores12.to_pickle('/ssd/slonik_data/sf_scores_12dep.pkl')"
   ]
  }
 ],
 "metadata": {
  "kernelspec": {
   "display_name": "Python 3",
   "language": "python",
   "name": "python3"
  },
  "language_info": {
   "codemirror_mode": {
    "name": "ipython",
    "version": 3
   },
   "file_extension": ".py",
   "mimetype": "text/x-python",
   "name": "python",
   "nbconvert_exporter": "python",
   "pygments_lexer": "ipython3",
   "version": "3.6.3"
  }
 },
 "nbformat": 4,
 "nbformat_minor": 2
}
